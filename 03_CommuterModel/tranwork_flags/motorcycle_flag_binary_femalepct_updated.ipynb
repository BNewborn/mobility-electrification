{
 "cells": [
  {
   "cell_type": "code",
   "execution_count": 1,
   "id": "5b47426f",
   "metadata": {},
   "outputs": [],
   "source": [
    "import pandas as pd\n",
    "import random\n",
    "\n",
    "ipums_df = pd.read_csv(\"../ipums_data/disaggregated_cleaned_ipums_data.csv\",index_col=0)"
   ]
  },
  {
   "cell_type": "code",
   "execution_count": 2,
   "id": "35844eae",
   "metadata": {},
   "outputs": [
    {
     "data": {
      "text/plain": [
       "'\\n    Motorcycle inputs\\n    Hard Caps:\\n    max_age - maximum age of drivers. Research from Kaiser Permanente and retirement age indicates 75 is a realistic cut-off\\n    max_distance - max distance traveled by drivers, avg motorcycle tank only holds 150 miles\\n    min_income - minimum income of drivers. Current cutoff is set at the NY poverty line\\n    cognitive_diff - if the individual has cognitive difficulties, they would not have a drivers license\\n    ambulatory_diff - if the individual has walking difficulties, they would not have a drivers license\\n    ind_living_diff - if the individual has difficulties taking care of themselves, they would not have a drivers license\\n    selfcare_diff - if the individual has difficulties taking care of themselves, they would not have a drivers license\\n    vision_diff - if the individual has vision difficulties, they would not have a drivers license\\n\\n    Changable inputs:\\n    male_pct & female_pct - how many, of each sex, will drive a car of eligible riders? 0-100 value\\n    age_dist - to be determined how we can use age distributions to determine ridership. \\n    **According to Motorcycle Industry Council Survey, women now make up 19 percent of motorcycle owners. \\n    Since the article is published in 2018, the estimated female motorcyclists might increase. So,20% might be \\n    an ideal estimated percentage for all age groups:https://www.kirshhelmets.com/wp-content/uploads/2020/03/Women-Numbers-Climbs.pdf\\n    USATODAY has defined the same:https://www.usatoday.com/story/money/2018/11/30/number-women-motorcycle-riders-u-s-grows-nearly-20-percent/2156000002/\\n        Ex) 35 year olds may be 2x more likely to ride than a 50 year old\\n        \\n    output:\\n        series (0,1) indicating whether each line is an eligible driver or not\\n    '"
      ]
     },
     "execution_count": 2,
     "metadata": {},
     "output_type": "execute_result"
    }
   ],
   "source": [
    "'''\n",
    "    Motorcycle inputs\n",
    "    Hard Caps:\n",
    "    max_age - maximum age of drivers. Research from Kaiser Permanente and retirement age indicates 75 is a realistic cut-off\n",
    "    max_distance - max distance traveled by drivers, avg motorcycle tank only holds 150 miles\n",
    "    min_income - minimum income of drivers. Current cutoff is set at the NY poverty line\n",
    "    cognitive_diff - if the individual has cognitive difficulties, they would not have a drivers license\n",
    "    ambulatory_diff - if the individual has walking difficulties, they would not have a drivers license\n",
    "    ind_living_diff - if the individual has difficulties taking care of themselves, they would not have a drivers license\n",
    "    selfcare_diff - if the individual has difficulties taking care of themselves, they would not have a drivers license\n",
    "    vision_diff - if the individual has vision difficulties, they would not have a drivers license\n",
    "\n",
    "    Changable inputs:\n",
    "    male_pct & female_pct - how many, of each sex, will drive a car of eligible riders? 0-100 value\n",
    "    age_dist - to be determined how we can use age distributions to determine ridership. \n",
    "    **According to Motorcycle Industry Council Survey, women now make up 19 percent of motorcycle owners. \n",
    "    Since the article is published in 2018, the estimated female motorcyclists might increase. So,20% might be \n",
    "    an ideal estimated percentage for all age groups:https://www.kirshhelmets.com/wp-content/uploads/2020/03/Women-Numbers-Climbs.pdf\n",
    "    USATODAY has defined the same:https://www.usatoday.com/story/money/2018/11/30/number-women-motorcycle-riders-u-s-grows-nearly-20-percent/2156000002/\n",
    "        Ex) 35 year olds may be 2x more likely to ride than a 50 year old\n",
    "        \n",
    "    output:\n",
    "        series (0,1) indicating whether each line is an eligible driver or not\n",
    "    '''"
   ]
  },
  {
   "cell_type": "code",
   "execution_count": 3,
   "id": "759698d7",
   "metadata": {},
   "outputs": [],
   "source": [
    "def motorcycle_flag_binary(max_age,max_distance,min_income,male_pct,female_pct,age_dist):\n",
    "    age_hardcap = ipums_df['AGE'] <= max_age\n",
    "    dist_hardcap = ipums_df['DISTANCE_KM'] <= max_distance\n",
    "    income_hardcap = ipums_df['TOTAL_PERSONAL_INCOME'] >= 32626 #poverty line in NY 2019\n",
    "    cog_diff_hardcap = ipums_df['COGNITIVE_DIFFICULTY'] <= 0\n",
    "    amb_diff_hardcap = ipums_df['AMBULATORY_DIFFICULTY'] <= 0\n",
    "    ind_living_diff_hardcap = ipums_df['IND_LIVING_DIFFICULTY'] <= 0\n",
    "    selfcare_diff_hardcap = ipums_df['SELFCARE_DIFFICULTY'] <= 0\n",
    "    vision_diff_hardcap = ipums_df['VISION_DIFFICULTY'] <= 0\n",
    "    \n",
    "    \n",
    "    ### Gender - \n",
    "    male_sex_flag = ipums_df['SEX'].apply(lambda x: True if random.random() <= male_pct/100 and x=='M' else False)\n",
    "    female_sex_flag = ipums_df['SEX'].apply(lambda x: True if random.random() <= female_pct/100 and x=='F' else False)\n",
    "    sex_flag = male_sex_flag|female_sex_flag\n",
    "\n",
    "    \n",
    "    ### Age - TBD if we use an age distribution or buckets\n",
    "    final_series = age_hardcap&dist_hardcap&income_hardcap&cog_diff_hardcap&amb_diff_hardcap&ind_living_diff_hardcap&selfcare_diff_hardcap&vision_diff_hardcap&sex_flag\n",
    "    \n",
    "    \n",
    "\n",
    "    \n",
    "    return final_series.astype(int)"
   ]
  },
  {
   "cell_type": "code",
   "execution_count": 4,
   "id": "e569dd3a",
   "metadata": {},
   "outputs": [],
   "source": [
    "ipums_df['FLAG_MOTORCYCLE']=motorcycle_flag_binary(max_age=70\n",
    "                                       ,max_distance = 300\n",
    "                                       ,min_income = 32626\n",
    "                                       ,male_pct = 100\n",
    "                                       ,female_pct = 20\n",
    "                                       ,age_dist = None\n",
    "                                        )"
   ]
  },
  {
   "cell_type": "code",
   "execution_count": 5,
   "id": "da873ad9",
   "metadata": {},
   "outputs": [
    {
     "data": {
      "text/html": [
       "<div>\n",
       "<style scoped>\n",
       "    .dataframe tbody tr th:only-of-type {\n",
       "        vertical-align: middle;\n",
       "    }\n",
       "\n",
       "    .dataframe tbody tr th {\n",
       "        vertical-align: top;\n",
       "    }\n",
       "\n",
       "    .dataframe thead th {\n",
       "        text-align: right;\n",
       "    }\n",
       "</style>\n",
       "<table border=\"1\" class=\"dataframe\">\n",
       "  <thead>\n",
       "    <tr style=\"text-align: right;\">\n",
       "      <th></th>\n",
       "      <th>PERWT</th>\n",
       "    </tr>\n",
       "    <tr>\n",
       "      <th>FLAG_MOTORCYCLE</th>\n",
       "      <th></th>\n",
       "    </tr>\n",
       "  </thead>\n",
       "  <tbody>\n",
       "    <tr>\n",
       "      <th>0</th>\n",
       "      <td>3000269.0</td>\n",
       "    </tr>\n",
       "    <tr>\n",
       "      <th>1</th>\n",
       "      <td>2566460.0</td>\n",
       "    </tr>\n",
       "  </tbody>\n",
       "</table>\n",
       "</div>"
      ],
      "text/plain": [
       "                     PERWT\n",
       "FLAG_MOTORCYCLE           \n",
       "0                3000269.0\n",
       "1                2566460.0"
      ]
     },
     "execution_count": 5,
     "metadata": {},
     "output_type": "execute_result"
    }
   ],
   "source": [
    "ipums_df.groupby(by=['FLAG_MOTORCYCLE']).agg({\"PERWT\":\"sum\"})"
   ]
  },
  {
   "cell_type": "code",
   "execution_count": null,
   "id": "25027ee4",
   "metadata": {},
   "outputs": [],
   "source": []
  }
 ],
 "metadata": {
  "kernelspec": {
   "display_name": "Python 3",
   "language": "python",
   "name": "python3"
  },
  "language_info": {
   "codemirror_mode": {
    "name": "ipython",
    "version": 3
   },
   "file_extension": ".py",
   "mimetype": "text/x-python",
   "name": "python",
   "nbconvert_exporter": "python",
   "pygments_lexer": "ipython3",
   "version": "3.8.8"
  }
 },
 "nbformat": 4,
 "nbformat_minor": 5
}
