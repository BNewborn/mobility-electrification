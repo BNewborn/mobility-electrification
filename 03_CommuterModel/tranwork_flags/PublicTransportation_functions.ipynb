{
 "cells": [
  {
   "cell_type": "code",
   "execution_count": 1,
   "id": "c2d257cd-73b9-4a1f-a0ee-4684184d07c7",
   "metadata": {},
   "outputs": [],
   "source": [
    "'''\n",
    "in this script there are four functions\n",
    "eBuses_flag_binary\n",
    "subway_flag_binary\n",
    "commuterRail_flag_binary\n",
    "ferry_flag_binary\n",
    "JZ - April 20, 2022\n",
    "'''\n",
    "import pandas as pd\n",
    "import numpy as np"
   ]
  },
  {
   "cell_type": "code",
   "execution_count": 2,
   "id": "896e312e-4100-4bd8-8614-0850ea8ead65",
   "metadata": {},
   "outputs": [],
   "source": [
    "def eBuses_flag_binary(region,TimePeriods,affordability,fixgaps):\n",
    "    '''\n",
    "    inputs\n",
    "    Hard Caps:\n",
    "        region (list): Areas (PUMAs) accessible by Buses\n",
    "        schedule (list): Time Periods of Buses\n",
    "        \n",
    "    Changable inputs:\n",
    "        affordability (0-100): Commuting costs as % of income\n",
    "        fixgaps (True/False): Whether to fix gaps with current data\n",
    "        \n",
    "    output:\n",
    "        series (0,1) indicating whether each line is an eligible eBuses commuter or not\n",
    "    '''\n",
    "\n",
    "    region_hardcap = ipums['unique_id'].isin(region)\n",
    "    schedule_hardcap = ipums['ARRIVES_AT_WORK_HOUR'].isin(TimePeriods) ## -> arrive time or?\n",
    "    \n",
    "    affordability_changable = ipums['TOTAL_PERSONAL_INCOME']>=60*12*100/int(affordability)\n",
    "    \n",
    "    if fixgaps == True:\n",
    "        fixgaps_changable = ipums['MODE_TRANSP_TO_WORK_HBDMATCH']=='Bus'\n",
    "        final_series = region_hardcap & schedule_hardcap & affordability_changable | fixgaps_changable\n",
    "    elif fixgaps == False:\n",
    "        final_series = region_hardcap & schedule_hardcap & affordability_changable\n",
    "    \n",
    "    return final_series.astype(int)"
   ]
  },
  {
   "cell_type": "code",
   "execution_count": 3,
   "id": "499975d3-7d16-4be2-adb3-c0d9ea71b46d",
   "metadata": {},
   "outputs": [],
   "source": [
    "def subway_flag_binary(region,TimePeriods,affordability,fixgaps):\n",
    "    '''\n",
    "    inputs\n",
    "    Hard Caps:\n",
    "        region (list): Areas (PUMAs) accessible by subway\n",
    "        schedule (list): Time Periods of subway\n",
    "        \n",
    "    Changable inputs:\n",
    "        affordability (0-100): Commuting costs as % of income\n",
    "        fixgaps (True/False): Whether to fix gaps with current data\n",
    "        \n",
    "    output:\n",
    "        series (0,1) indicating whether each line is an eligible subway commuter or not\n",
    "    '''\n",
    "        \n",
    "    region_hardcap = ipums['unique_id'].isin(region)\n",
    "    schedule_hardcap = ipums['ARRIVES_AT_WORK_HOUR'].isin(TimePeriods) ## -> arrive time or?\n",
    "    \n",
    "    affordability_changable = ipums['TOTAL_PERSONAL_INCOME']>=120*12*100/int(affordability)\n",
    "    \n",
    "    if fixgaps == True:\n",
    "        fixgaps_changable = ipums['MODE_TRANSP_TO_WORK_HBDMATCH']=='Subway'\n",
    "        final_series = region_hardcap & schedule_hardcap & affordability_changable | fixgaps_changable\n",
    "    elif fixgaps == False:\n",
    "        final_series = region_hardcap & schedule_hardcap & affordability_changable\n",
    "    \n",
    "    return final_series.astype(int)"
   ]
  },
  {
   "cell_type": "code",
   "execution_count": 4,
   "id": "8e36ad98-3ba5-4166-a1ec-3c80b1e59219",
   "metadata": {},
   "outputs": [],
   "source": [
    "def commuterRail_flag_binary(region,TimePeriods,affordability,fixgaps):\n",
    "    '''\n",
    "    inputs\n",
    "    Hard Caps:\n",
    "        region (list): Areas (PUMAs) accessible by Commuter Rail\n",
    "        schedule (list): Time Periods of Commuter Rail\n",
    "        \n",
    "    Changable inputs:\n",
    "        affordability (0-100): Commuting costs as % of income\n",
    "        fixgaps (True/False): Whether to fix gaps with current data\n",
    "        \n",
    "    output:\n",
    "        series (0,1) indicating whether each line is an eligible Commuter Rail commuter or not\n",
    "    '''\n",
    "        \n",
    "    region_hardcap = ipums['unique_id'].isin(region)\n",
    "    schedule_hardcap = ipums['ARRIVES_AT_WORK_HOUR'].isin(TimePeriods) ## -> arrive time or?\n",
    "    \n",
    "    affordability_changable = ipums['TOTAL_PERSONAL_INCOME']>=150*12*100/int(affordability)\n",
    "    \n",
    "    if fixgaps == True:\n",
    "        fixgaps_changable = ipums['MODE_TRANSP_TO_WORK_HBDMATCH']=='CommuterRail'\n",
    "        final_series = region_hardcap & schedule_hardcap & affordability_changable | fixgaps_changable\n",
    "    elif fixgaps == False:\n",
    "        final_series = region_hardcap & schedule_hardcap & affordability_changable\n",
    "    \n",
    "    return final_series.astype(int)"
   ]
  },
  {
   "cell_type": "code",
   "execution_count": 5,
   "id": "15b9165c-e52d-4e1d-a6e2-ff8141f87cc3",
   "metadata": {},
   "outputs": [],
   "source": [
    "def ferry_flag_binary(region,TimePeriods,affordability,fixgaps):\n",
    "    '''\n",
    "    inputs\n",
    "    Hard Caps:\n",
    "        region (list): Areas (PUMAs) accessible by ferry\n",
    "        schedule (list): Time Periods of ferry\n",
    "        \n",
    "    Changable inputs:\n",
    "        affordability (0-100): Commuting costs as % of income\n",
    "        fixgaps (True/False): Whether to fix gaps with current data\n",
    "        \n",
    "    output:\n",
    "        series (0,1) indicating whether each line is an eligible ferry commuter or not\n",
    "    '''\n",
    "        \n",
    "    region_hardcap = ipums['unique_id'].isin(region)\n",
    "    schedule_hardcap = ipums['ARRIVES_AT_WORK_HOUR'].isin(TimePeriods) ## -> arrive time or?\n",
    "    \n",
    "    affordability_changable = ipums['TOTAL_PERSONAL_INCOME']>=180*12*100/int(affordability)\n",
    "    \n",
    "    if fixgaps == True:\n",
    "        fixgaps_changable = ipums['MODE_TRANSP_TO_WORK_HBDMATCH']=='Ferry'\n",
    "        final_series = region_hardcap & schedule_hardcap & affordability_changable | fixgaps_changable\n",
    "    elif fixgaps == False:\n",
    "        final_series = region_hardcap & schedule_hardcap & affordability_changable\n",
    "    \n",
    "    return final_series.astype(int)"
   ]
  },
  {
   "cell_type": "code",
   "execution_count": null,
   "id": "a83b5d7f-5374-4eeb-a8f8-23096ea631af",
   "metadata": {},
   "outputs": [],
   "source": []
  },
  {
   "cell_type": "code",
   "execution_count": null,
   "id": "1ac83fbe-f8c3-4e07-96b6-bd995a3a0a90",
   "metadata": {},
   "outputs": [],
   "source": []
  },
  {
   "cell_type": "markdown",
   "id": "ec13c19a-5a00-4363-9023-f9d5704eb9d2",
   "metadata": {},
   "source": [
    "### Data"
   ]
  },
  {
   "cell_type": "code",
   "execution_count": 6,
   "id": "e1c5c863-5892-4827-b343-1c88f90fe2ff",
   "metadata": {},
   "outputs": [],
   "source": [
    "ipums = pd.read_csv(\"../ipums_data/disaggregated_cleaned_ipums_data.csv\",index_col=0)\n",
    "ipums = ipums[ipums['YEAR']==2019].reset_index(drop=True)\n",
    "### create an unique id for each puma\n",
    "ipums['HOME_STATEFIP'] = ipums['HOME_STATEFIP'].apply(lambda x:'{:0>2d}'.format(x))\n",
    "ipums['HOME_PUMA'] = ipums['HOME_PUMA'].apply(lambda x:'{:0>5d}'.format(x))\n",
    "ipums['unique_id'] = ipums['HOME_STATEFIP'].astype(str) + ipums['HOME_PUMA'].astype(str)"
   ]
  },
  {
   "cell_type": "markdown",
   "id": "dee9e2f7-0424-4949-938d-61d5e0ead1fd",
   "metadata": {
    "tags": []
   },
   "source": [
    "#### Calculating the accessibility of public transportation"
   ]
  },
  {
   "cell_type": "code",
   "execution_count": 7,
   "id": "c1ca023d-50e1-4a42-ba6d-171243bbcb2d",
   "metadata": {},
   "outputs": [],
   "source": [
    "ipums_puma_mode = ipums.groupby(by=['unique_id','MODE_TRANSP_TO_WORK_HBDMATCH']).agg({\"PERWT\":\"sum\"}).reset_index()\n",
    "ipums_puma_mode = ipums_puma_mode.pivot_table(values='PERWT',index=['unique_id'],columns='MODE_TRANSP_TO_WORK_HBDMATCH').reset_index()\n",
    "ipums_puma_mode.columns.name = ''\n",
    "### perctange of each transmode of all commuters in the unique puma\n",
    "res = ipums_puma_mode.set_index(['unique_id'])\n",
    "res = res.div(res.sum(axis=1), axis=0).reset_index()\n",
    "# res[['Bus','Subway','CommuterRail','Ferry']].describe([.01,.1,.2,.3,.4,.5,.6,.7,.8,.9,.99])"
   ]
  },
  {
   "cell_type": "code",
   "execution_count": 8,
   "id": "581b6dc2-84a0-4cf5-b6b0-43bdc2ba881f",
   "metadata": {},
   "outputs": [],
   "source": [
    "### set a threshold: if the percentage of bus is larger than 0.2, then this area is bus-friendly\n",
    "PT_region = res[['unique_id']].copy(deep=True)\n",
    "PT_region['Bus'] = res['Bus'].apply(lambda x: True if x>=0.128702 else False)\n",
    "PT_region['Subway'] = res['Subway'].apply(lambda x: True if x>=0.211732 else False)\n",
    "PT_region['CommuterRail'] = res['CommuterRail'].apply(lambda x: True if x>=0.322561 else False)\n",
    "PT_region['Ferry'] = res['Ferry'].apply(lambda x: True if x>=0.032586 else False)"
   ]
  },
  {
   "cell_type": "markdown",
   "id": "588a65dc-b503-4806-b82b-3b8f198c051d",
   "metadata": {},
   "source": [
    "### Test"
   ]
  },
  {
   "cell_type": "code",
   "execution_count": 9,
   "id": "d21ef97d-178b-4410-a809-13d1d8e1aaf0",
   "metadata": {},
   "outputs": [],
   "source": [
    "region_Bus = PT_region[PT_region['Bus']==True]['unique_id'].to_list()\n",
    "region_Subway = PT_region[PT_region['Subway']==True]['unique_id'].to_list()\n",
    "region_CommuterRail = PT_region[PT_region['CommuterRail']==True]['unique_id'].to_list()\n",
    "region_Ferry = PT_region[PT_region['Ferry']==True]['unique_id'].to_list()\n",
    "\n",
    "time_Bus = list(range(6,22))\n",
    "time_Subway = list(range(0,24))\n",
    "time_CommuterRail = list(range(6,22))\n",
    "time_Ferry = list(range(7,21))"
   ]
  },
  {
   "cell_type": "code",
   "execution_count": 10,
   "id": "8d14f1e2-0969-49c4-a271-4d659b1e1325",
   "metadata": {},
   "outputs": [],
   "source": [
    "########################    \n",
    "#### How to Run ########\n",
    "########################\n",
    "ipums['FLAG_EBUSES'] = eBuses_flag_binary(region=region_Bus,\n",
    "                                          TimePeriods=time_Bus,\n",
    "                                          affordability=20,\n",
    "                                          fixgaps=False)\n",
    "\n",
    "ipums['FLAG_SUBWAY'] = subway_flag_binary(region=region_Subway,\n",
    "                                          TimePeriods=time_Subway,\n",
    "                                          affordability=20,\n",
    "                                          fixgaps=False)\n",
    "\n",
    "ipums['FLAG_COMMUTERRAIL'] = commuterRail_flag_binary(region=region_CommuterRail,\n",
    "                                                      TimePeriods=time_CommuterRail,\n",
    "                                                      affordability=20,\n",
    "                                                      fixgaps=False)\n",
    "\n",
    "ipums['FLAG_FERRY'] = ferry_flag_binary(region=region_Ferry,\n",
    "                                               TimePeriods=time_Ferry,\n",
    "                                               affordability=20,\n",
    "                                               fixgaps=False)"
   ]
  },
  {
   "cell_type": "code",
   "execution_count": 11,
   "id": "9ead3c84-2259-47a8-a376-df3dc68dbf57",
   "metadata": {},
   "outputs": [
    {
     "data": {
      "text/html": [
       "<div>\n",
       "<style scoped>\n",
       "    .dataframe tbody tr th:only-of-type {\n",
       "        vertical-align: middle;\n",
       "    }\n",
       "\n",
       "    .dataframe tbody tr th {\n",
       "        vertical-align: top;\n",
       "    }\n",
       "\n",
       "    .dataframe thead th {\n",
       "        text-align: right;\n",
       "    }\n",
       "</style>\n",
       "<table border=\"1\" class=\"dataframe\">\n",
       "  <thead>\n",
       "    <tr style=\"text-align: right;\">\n",
       "      <th></th>\n",
       "      <th>PERWT</th>\n",
       "    </tr>\n",
       "    <tr>\n",
       "      <th>FLAG_SUBWAY</th>\n",
       "      <th></th>\n",
       "    </tr>\n",
       "  </thead>\n",
       "  <tbody>\n",
       "    <tr>\n",
       "      <th>0</th>\n",
       "      <td>704376.0</td>\n",
       "    </tr>\n",
       "    <tr>\n",
       "      <th>1</th>\n",
       "      <td>2089879.0</td>\n",
       "    </tr>\n",
       "  </tbody>\n",
       "</table>\n",
       "</div>"
      ],
      "text/plain": [
       "                 PERWT\n",
       "FLAG_SUBWAY           \n",
       "0             704376.0\n",
       "1            2089879.0"
      ]
     },
     "execution_count": 11,
     "metadata": {},
     "output_type": "execute_result"
    }
   ],
   "source": [
    "######################    \n",
    "###### CHECKS ########\n",
    "######################\n",
    "ipums.groupby(by=['FLAG_SUBWAY']).agg({\"PERWT\":\"sum\"})"
   ]
  },
  {
   "cell_type": "code",
   "execution_count": 12,
   "id": "766c3d5f-2ebe-40ee-a275-fbf959d4ece0",
   "metadata": {},
   "outputs": [
    {
     "data": {
      "text/html": [
       "<div>\n",
       "<style scoped>\n",
       "    .dataframe tbody tr th:only-of-type {\n",
       "        vertical-align: middle;\n",
       "    }\n",
       "\n",
       "    .dataframe tbody tr th {\n",
       "        vertical-align: top;\n",
       "    }\n",
       "\n",
       "    .dataframe thead th {\n",
       "        text-align: right;\n",
       "    }\n",
       "</style>\n",
       "<table border=\"1\" class=\"dataframe\">\n",
       "  <thead>\n",
       "    <tr style=\"text-align: right;\">\n",
       "      <th></th>\n",
       "      <th>0</th>\n",
       "    </tr>\n",
       "  </thead>\n",
       "  <tbody>\n",
       "    <tr>\n",
       "      <th>PERWT</th>\n",
       "      <td>2794255.0</td>\n",
       "    </tr>\n",
       "    <tr>\n",
       "      <th>FLAG_EBUSES</th>\n",
       "      <td>496876.0</td>\n",
       "    </tr>\n",
       "    <tr>\n",
       "      <th>FLAG_SUBWAY</th>\n",
       "      <td>2089879.0</td>\n",
       "    </tr>\n",
       "    <tr>\n",
       "      <th>FLAG_COMMUTERRAIL</th>\n",
       "      <td>377697.0</td>\n",
       "    </tr>\n",
       "    <tr>\n",
       "      <th>FLAG_FERRY</th>\n",
       "      <td>212503.0</td>\n",
       "    </tr>\n",
       "  </tbody>\n",
       "</table>\n",
       "</div>"
      ],
      "text/plain": [
       "                           0\n",
       "PERWT              2794255.0\n",
       "FLAG_EBUSES         496876.0\n",
       "FLAG_SUBWAY        2089879.0\n",
       "FLAG_COMMUTERRAIL   377697.0\n",
       "FLAG_FERRY          212503.0"
      ]
     },
     "execution_count": 12,
     "metadata": {},
     "output_type": "execute_result"
    }
   ],
   "source": [
    "check_df = ipums[['PERWT','FLAG_EBUSES','FLAG_SUBWAY','FLAG_COMMUTERRAIL','FLAG_FERRY']].copy(deep=True)\n",
    "check_df['FLAG_EBUSES'] = check_df['FLAG_EBUSES']*check_df['PERWT']\n",
    "check_df['FLAG_SUBWAY'] = check_df['FLAG_SUBWAY']*check_df['PERWT']\n",
    "check_df['FLAG_COMMUTERRAIL'] = check_df['FLAG_COMMUTERRAIL']*check_df['PERWT']\n",
    "check_df['FLAG_FERRY'] = check_df['FLAG_FERRY']*check_df['PERWT']\n",
    "pd.DataFrame(check_df.sum())"
   ]
  },
  {
   "cell_type": "code",
   "execution_count": 13,
   "id": "4070cc6c-3741-4e38-b692-1960af88936a",
   "metadata": {},
   "outputs": [
    {
     "data": {
      "text/html": [
       "<div>\n",
       "<style scoped>\n",
       "    .dataframe tbody tr th:only-of-type {\n",
       "        vertical-align: middle;\n",
       "    }\n",
       "\n",
       "    .dataframe tbody tr th {\n",
       "        vertical-align: top;\n",
       "    }\n",
       "\n",
       "    .dataframe thead th {\n",
       "        text-align: right;\n",
       "    }\n",
       "</style>\n",
       "<table border=\"1\" class=\"dataframe\">\n",
       "  <thead>\n",
       "    <tr style=\"text-align: right;\">\n",
       "      <th></th>\n",
       "      <th>PERWT</th>\n",
       "    </tr>\n",
       "    <tr>\n",
       "      <th>MODE_TRANSP_TO_WORK_HBDMATCH</th>\n",
       "      <th></th>\n",
       "    </tr>\n",
       "  </thead>\n",
       "  <tbody>\n",
       "    <tr>\n",
       "      <th>AutoOccupants</th>\n",
       "      <td>364405.0</td>\n",
       "    </tr>\n",
       "    <tr>\n",
       "      <th>Bicycle</th>\n",
       "      <td>30747.0</td>\n",
       "    </tr>\n",
       "    <tr>\n",
       "      <th>Bus</th>\n",
       "      <td>307292.0</td>\n",
       "    </tr>\n",
       "    <tr>\n",
       "      <th>CommuterRail</th>\n",
       "      <td>341180.0</td>\n",
       "    </tr>\n",
       "    <tr>\n",
       "      <th>Ferry</th>\n",
       "      <td>27937.0</td>\n",
       "    </tr>\n",
       "    <tr>\n",
       "      <th>Other</th>\n",
       "      <td>12303.0</td>\n",
       "    </tr>\n",
       "    <tr>\n",
       "      <th>Subway</th>\n",
       "      <td>1425330.0</td>\n",
       "    </tr>\n",
       "    <tr>\n",
       "      <th>WFH</th>\n",
       "      <td>70151.0</td>\n",
       "    </tr>\n",
       "    <tr>\n",
       "      <th>Walk</th>\n",
       "      <td>214910.0</td>\n",
       "    </tr>\n",
       "  </tbody>\n",
       "</table>\n",
       "</div>"
      ],
      "text/plain": [
       "                                  PERWT\n",
       "MODE_TRANSP_TO_WORK_HBDMATCH           \n",
       "AutoOccupants                  364405.0\n",
       "Bicycle                         30747.0\n",
       "Bus                            307292.0\n",
       "CommuterRail                   341180.0\n",
       "Ferry                           27937.0\n",
       "Other                           12303.0\n",
       "Subway                        1425330.0\n",
       "WFH                             70151.0\n",
       "Walk                           214910.0"
      ]
     },
     "execution_count": 13,
     "metadata": {},
     "output_type": "execute_result"
    }
   ],
   "source": [
    "ipums.groupby(by=['MODE_TRANSP_TO_WORK_HBDMATCH']).agg({\"PERWT\":\"sum\"})"
   ]
  },
  {
   "cell_type": "code",
   "execution_count": null,
   "id": "e763a3cc-1e1c-4a3f-b7f1-5c6d5cb14704",
   "metadata": {},
   "outputs": [],
   "source": []
  }
 ],
 "metadata": {
  "kernelspec": {
   "display_name": "ads",
   "language": "python",
   "name": "ads"
  },
  "language_info": {
   "codemirror_mode": {
    "name": "ipython",
    "version": 3
   },
   "file_extension": ".py",
   "mimetype": "text/x-python",
   "name": "python",
   "nbconvert_exporter": "python",
   "pygments_lexer": "ipython3",
   "version": "3.7.11"
  }
 },
 "nbformat": 4,
 "nbformat_minor": 5
}
