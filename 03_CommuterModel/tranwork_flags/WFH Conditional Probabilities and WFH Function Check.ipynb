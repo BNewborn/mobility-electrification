{
 "cells": [
  {
   "cell_type": "code",
   "execution_count": 1,
   "id": "9e979baf",
   "metadata": {
    "ExecuteTime": {
     "end_time": "2022-05-01T12:36:09.029825Z",
     "start_time": "2022-05-01T12:36:09.028029Z"
    }
   },
   "outputs": [],
   "source": [
    "import pandas as pd\n",
    "import numpy as np\n",
    "import random"
   ]
  },
  {
   "cell_type": "code",
   "execution_count": 2,
   "id": "c8ad55bf",
   "metadata": {
    "ExecuteTime": {
     "end_time": "2022-05-01T12:36:09.032693Z",
     "start_time": "2022-05-01T12:36:09.030587Z"
    }
   },
   "outputs": [],
   "source": [
    "### First, using raw 2020 Pulse survey data, get conditional probabilities by income and education bucket"
   ]
  },
  {
   "cell_type": "markdown",
   "id": "7ad2454b",
   "metadata": {},
   "source": [
    "Survey files downloaded from here: https://www.census.gov/programs-surveys/household-pulse-survey/datasets.html\n",
    "\n",
    "These are the variables in the survey we care about\n",
    "\n",
    "EEDUC  \n",
    "1) Less than high school  \n",
    "2) Some high school  \n",
    "3) High school graduate or equivalent (for example GED)  \n",
    "4) Some college, but degree not received or is in progress  \n",
    "5) Associate’s degree (for example AA, AS)  \n",
    "6) Bachelor's degree (for example BA, BS, AB)  \n",
    "7) Graduate degree (for example master's, professional, doctorate)  \n",
    "\n",
    "\n",
    "TW_START   \n",
    "1) Yes, at least one adult substituted some or all of their typical in-person work for telework  \n",
    "2) No, no adults substituted their typical in-person work for telework  \n",
    "3) No, there has been no change in telework  \n",
    "-99) Question seen but category not selected  \n",
    "-88) Missing / Did not report   \n",
    "\n",
    "\n",
    "INCOME  \n",
    "1) Less than 25,000  \n",
    "2) 25,000 - 34,999  \n",
    "3) 35,000 - 49,999  \n",
    "4) 50,000 - 74,999  \n",
    "5) 75,000 - 99,999  \n",
    "6) 100,000 - 149,999  \n",
    "7) 150,000 - 199,999  \n",
    "8) 200,000 and above  \n",
    "-99) Question seen but category not selected  \n",
    "-88) Missing / Did not report  "
   ]
  },
  {
   "cell_type": "code",
   "execution_count": 3,
   "id": "3838383f",
   "metadata": {
    "ExecuteTime": {
     "end_time": "2022-05-01T12:36:10.001396Z",
     "start_time": "2022-05-01T12:36:09.034301Z"
    }
   },
   "outputs": [
    {
     "name": "stdout",
     "output_type": "stream",
     "text": [
      "Overall Weights Summed:  249170916\n",
      "Dropped because of nulls/non-answers:  85569014\n",
      "Weights Remaining:  163601902\n"
     ]
    },
    {
     "data": {
      "text/html": [
       "<div>\n",
       "<style scoped>\n",
       "    .dataframe tbody tr th:only-of-type {\n",
       "        vertical-align: middle;\n",
       "    }\n",
       "\n",
       "    .dataframe tbody tr th {\n",
       "        vertical-align: top;\n",
       "    }\n",
       "\n",
       "    .dataframe thead th {\n",
       "        text-align: right;\n",
       "    }\n",
       "</style>\n",
       "<table border=\"1\" class=\"dataframe\">\n",
       "  <thead>\n",
       "    <tr style=\"text-align: right;\">\n",
       "      <th></th>\n",
       "      <th>INC_TAG</th>\n",
       "      <th>EDUC_TAG</th>\n",
       "      <th>WFH_TAG</th>\n",
       "      <th>PROB WFH | INC * EDUC</th>\n",
       "    </tr>\n",
       "  </thead>\n",
       "  <tbody>\n",
       "    <tr>\n",
       "      <th>1</th>\n",
       "      <td>0) 0-25K</td>\n",
       "      <td>0</td>\n",
       "      <td>1</td>\n",
       "      <td>0.124650</td>\n",
       "    </tr>\n",
       "    <tr>\n",
       "      <th>3</th>\n",
       "      <td>0) 0-25K</td>\n",
       "      <td>1</td>\n",
       "      <td>1</td>\n",
       "      <td>0.429435</td>\n",
       "    </tr>\n",
       "    <tr>\n",
       "      <th>5</th>\n",
       "      <td>1) 25-35K</td>\n",
       "      <td>0</td>\n",
       "      <td>1</td>\n",
       "      <td>0.137290</td>\n",
       "    </tr>\n",
       "    <tr>\n",
       "      <th>7</th>\n",
       "      <td>1) 25-35K</td>\n",
       "      <td>1</td>\n",
       "      <td>1</td>\n",
       "      <td>0.362040</td>\n",
       "    </tr>\n",
       "    <tr>\n",
       "      <th>9</th>\n",
       "      <td>2) 35-50K</td>\n",
       "      <td>0</td>\n",
       "      <td>1</td>\n",
       "      <td>0.184655</td>\n",
       "    </tr>\n",
       "    <tr>\n",
       "      <th>11</th>\n",
       "      <td>2) 35-50K</td>\n",
       "      <td>1</td>\n",
       "      <td>1</td>\n",
       "      <td>0.486698</td>\n",
       "    </tr>\n",
       "    <tr>\n",
       "      <th>13</th>\n",
       "      <td>3) 50-75K</td>\n",
       "      <td>0</td>\n",
       "      <td>1</td>\n",
       "      <td>0.282278</td>\n",
       "    </tr>\n",
       "    <tr>\n",
       "      <th>15</th>\n",
       "      <td>3) 50-75K</td>\n",
       "      <td>1</td>\n",
       "      <td>1</td>\n",
       "      <td>0.532137</td>\n",
       "    </tr>\n",
       "    <tr>\n",
       "      <th>17</th>\n",
       "      <td>4) 75-100K</td>\n",
       "      <td>0</td>\n",
       "      <td>1</td>\n",
       "      <td>0.374457</td>\n",
       "    </tr>\n",
       "    <tr>\n",
       "      <th>19</th>\n",
       "      <td>4) 75-100K</td>\n",
       "      <td>1</td>\n",
       "      <td>1</td>\n",
       "      <td>0.595087</td>\n",
       "    </tr>\n",
       "    <tr>\n",
       "      <th>21</th>\n",
       "      <td>5) 100-150K</td>\n",
       "      <td>0</td>\n",
       "      <td>1</td>\n",
       "      <td>0.481374</td>\n",
       "    </tr>\n",
       "    <tr>\n",
       "      <th>23</th>\n",
       "      <td>5) 100-150K</td>\n",
       "      <td>1</td>\n",
       "      <td>1</td>\n",
       "      <td>0.701378</td>\n",
       "    </tr>\n",
       "    <tr>\n",
       "      <th>25</th>\n",
       "      <td>6) 150-200K</td>\n",
       "      <td>0</td>\n",
       "      <td>1</td>\n",
       "      <td>0.598690</td>\n",
       "    </tr>\n",
       "    <tr>\n",
       "      <th>27</th>\n",
       "      <td>6) 150-200K</td>\n",
       "      <td>1</td>\n",
       "      <td>1</td>\n",
       "      <td>0.739899</td>\n",
       "    </tr>\n",
       "    <tr>\n",
       "      <th>29</th>\n",
       "      <td>7) 200K+</td>\n",
       "      <td>0</td>\n",
       "      <td>1</td>\n",
       "      <td>0.622112</td>\n",
       "    </tr>\n",
       "    <tr>\n",
       "      <th>31</th>\n",
       "      <td>7) 200K+</td>\n",
       "      <td>1</td>\n",
       "      <td>1</td>\n",
       "      <td>0.771351</td>\n",
       "    </tr>\n",
       "  </tbody>\n",
       "</table>\n",
       "</div>"
      ],
      "text/plain": [
       "        INC_TAG  EDUC_TAG  WFH_TAG  PROB WFH | INC * EDUC\n",
       "1      0) 0-25K         0        1               0.124650\n",
       "3      0) 0-25K         1        1               0.429435\n",
       "5     1) 25-35K         0        1               0.137290\n",
       "7     1) 25-35K         1        1               0.362040\n",
       "9     2) 35-50K         0        1               0.184655\n",
       "11    2) 35-50K         1        1               0.486698\n",
       "13    3) 50-75K         0        1               0.282278\n",
       "15    3) 50-75K         1        1               0.532137\n",
       "17   4) 75-100K         0        1               0.374457\n",
       "19   4) 75-100K         1        1               0.595087\n",
       "21  5) 100-150K         0        1               0.481374\n",
       "23  5) 100-150K         1        1               0.701378\n",
       "25  6) 150-200K         0        1               0.598690\n",
       "27  6) 150-200K         1        1               0.739899\n",
       "29     7) 200K+         0        1               0.622112\n",
       "31     7) 200K+         1        1               0.771351"
      ]
     },
     "execution_count": 3,
     "metadata": {},
     "output_type": "execute_result"
    }
   ],
   "source": [
    "cols_use = [\"PWEIGHT\",\"TW_START\",\"INCOME\",\"EEDUC\"]\n",
    "pulse_df = pd.read_csv(\"pulse2021_week22_survey.csv\")[cols_use]\n",
    "### Label income, education, wfh\n",
    "\n",
    "def pulse_income_prob_label(inp_income):\n",
    "        if inp_income == 8:\n",
    "            return '7) 200K+'\n",
    "        elif inp_income == 7:\n",
    "            return '6) 150-200K'\n",
    "        elif inp_income == 6:\n",
    "            return '5) 100-150K'\n",
    "        elif inp_income == 5:\n",
    "            return '4) 75-100K'\n",
    "        elif inp_income == 4:\n",
    "            return '3) 50-75K'\n",
    "        elif inp_income ==3:\n",
    "            return '2) 35-50K'\n",
    "        elif inp_income ==2:\n",
    "            return '1) 25-35K'\n",
    "        elif inp_income ==1:\n",
    "            return '0) 0-25K'\n",
    "        else:\n",
    "            return \"no income - drop\"\n",
    "        \n",
    "def pulse_educ_label(inp_educ):\n",
    "    if inp_educ in [6,7]:\n",
    "        return 1\n",
    "    elif inp_educ in [1,2,3,4,5]:\n",
    "        return 0\n",
    "    else:\n",
    "        return -99\n",
    "    \n",
    "        \n",
    "def pulse_wfh_label(inp_wfh):\n",
    "    if inp_wfh in [1]:\n",
    "        return 1\n",
    "    elif inp_wfh in [2,3]:\n",
    "        return 0\n",
    "    else:\n",
    "        return -99\n",
    "    \n",
    "\n",
    "pulse_df['INC_TAG'] = pulse_df[\"INCOME\"].apply(pulse_income_prob_label)\n",
    "pulse_df['EDUC_TAG'] = pulse_df[\"EEDUC\"].apply(pulse_educ_label)\n",
    "pulse_df['WFH_TAG'] = pulse_df[\"TW_START\"].apply(pulse_wfh_label)\n",
    "\n",
    "print(\"Overall Weights Summed: \",round(pulse_df[\"PWEIGHT\"].sum()))\n",
    "print(\"Dropped because of nulls/non-answers: \",round(pulse_df[(pulse_df['INC_TAG'].str.contains(\"drop\"))|(pulse_df['EDUC_TAG']=='99')|(pulse_df['WFH_TAG']==-99)][\"PWEIGHT\"].sum()))\n",
    "\n",
    "pulse_df = pulse_df[~(pulse_df['INC_TAG'].str.contains(\"drop\"))&~(pulse_df['EDUC_TAG']=='99')&~(pulse_df['WFH_TAG']==-99)].copy()\n",
    "print(f\"Weights Remaining: \",round(pulse_df[\"PWEIGHT\"].sum()))\n",
    "\n",
    "\n",
    "# Get the number of people who wfh by each income and education tag\n",
    "cross_cts = pulse_df.groupby(by=[\"INC_TAG\",\"EDUC_TAG\",'WFH_TAG']).agg({\"PWEIGHT\":\"sum\"}).reset_index()\n",
    "tots = cross_cts.groupby(by=[\"INC_TAG\",\"EDUC_TAG\"]).agg({\"PWEIGHT\":\"sum\"})\n",
    "tots.rename({\"PWEIGHT\":\"total\"},axis=1,inplace=True)\n",
    "# get the conditional probabilty of WFH given each INC and EDUC\n",
    "cross_cts=cross_cts.merge(right=tots,left_on=[\"INC_TAG\",\"EDUC_TAG\"],right_index=True)\n",
    "cross_cts[\"PROB WFH | INC * EDUC\"] = cross_cts[\"PWEIGHT\"]/cross_cts[\"total\"]\n",
    "# only save WFH probability - we dont need the inverse\n",
    "cross_cts_save = cross_cts[cross_cts['WFH_TAG']==1]\n",
    "\n",
    "cross_cts_save[['INC_TAG',\"EDUC_TAG\",\"WFH_TAG\",\"PROB WFH | INC * EDUC\"]]"
   ]
  },
  {
   "cell_type": "code",
   "execution_count": 4,
   "id": "c085124d",
   "metadata": {
    "ExecuteTime": {
     "end_time": "2022-05-01T12:36:10.010838Z",
     "start_time": "2022-05-01T12:36:10.003073Z"
    }
   },
   "outputs": [],
   "source": [
    "cross_cts_save[['INC_TAG',\"EDUC_TAG\",\"WFH_TAG\",\"PROB WFH | INC * EDUC\"]].to_csv(\"wfh_conditional_probs.csv\")"
   ]
  },
  {
   "cell_type": "code",
   "execution_count": 5,
   "id": "2c921e91",
   "metadata": {
    "ExecuteTime": {
     "end_time": "2022-05-01T12:36:10.162574Z",
     "start_time": "2022-05-01T12:36:10.013326Z"
    }
   },
   "outputs": [],
   "source": [
    "### Read in ipums data\n",
    "ipums_df = pd.read_csv(\"../ipums_data/disaggregated_cleaned_ipums_data.csv\",index_col=0)\n",
    "ipums_df = ipums_df[ipums_df['YEAR']==2019].reset_index(drop=True) #2019 only"
   ]
  },
  {
   "cell_type": "code",
   "execution_count": 6,
   "id": "f8e68135",
   "metadata": {
    "ExecuteTime": {
     "end_time": "2022-05-01T12:36:10.171994Z",
     "start_time": "2022-05-01T12:36:10.163393Z"
    }
   },
   "outputs": [
    {
     "name": "stdout",
     "output_type": "stream",
     "text": [
      "23978\n"
     ]
    },
    {
     "data": {
      "text/html": [
       "<div>\n",
       "<style scoped>\n",
       "    .dataframe tbody tr th:only-of-type {\n",
       "        vertical-align: middle;\n",
       "    }\n",
       "\n",
       "    .dataframe tbody tr th {\n",
       "        vertical-align: top;\n",
       "    }\n",
       "\n",
       "    .dataframe thead th {\n",
       "        text-align: right;\n",
       "    }\n",
       "</style>\n",
       "<table border=\"1\" class=\"dataframe\">\n",
       "  <thead>\n",
       "    <tr style=\"text-align: right;\">\n",
       "      <th></th>\n",
       "      <th>YEAR</th>\n",
       "      <th>PERWT</th>\n",
       "      <th>HOME_STATEFIP</th>\n",
       "      <th>HOME_PUMA</th>\n",
       "      <th>PUMA_NAME</th>\n",
       "      <th>SEX</th>\n",
       "      <th>AGE</th>\n",
       "      <th>HRS_WK_DAILY</th>\n",
       "      <th>TOTAL_PERSONAL_INCOME</th>\n",
       "      <th>MODE_TRANSP_TO_WORK</th>\n",
       "      <th>...</th>\n",
       "      <th>PUMAKEY_HOME</th>\n",
       "      <th>PUMAKEY_WORK</th>\n",
       "      <th>DISTANCE_KM</th>\n",
       "      <th>COGNITIVE_DIFFICULTY</th>\n",
       "      <th>AMBULATORY_DIFFICULTY</th>\n",
       "      <th>IND_LIVING_DIFFICULTY</th>\n",
       "      <th>SELFCARE_DIFFICULTY</th>\n",
       "      <th>VISION_OR_HEARING_DIFFICULTY</th>\n",
       "      <th>VISION_DIFFICULTY</th>\n",
       "      <th>HEARING_DIFFICULTY</th>\n",
       "    </tr>\n",
       "  </thead>\n",
       "  <tbody>\n",
       "    <tr>\n",
       "      <th>0</th>\n",
       "      <td>2019</td>\n",
       "      <td>23.0</td>\n",
       "      <td>9</td>\n",
       "      <td>500</td>\n",
       "      <td>Litchfield County</td>\n",
       "      <td>F</td>\n",
       "      <td>46</td>\n",
       "      <td>7.4</td>\n",
       "      <td>3800</td>\n",
       "      <td>Auto, truck, or van</td>\n",
       "      <td>...</td>\n",
       "      <td>09_00500</td>\n",
       "      <td>36_03800</td>\n",
       "      <td>170.50491</td>\n",
       "      <td>0</td>\n",
       "      <td>0</td>\n",
       "      <td>0</td>\n",
       "      <td>0</td>\n",
       "      <td>0</td>\n",
       "      <td>0</td>\n",
       "      <td>0</td>\n",
       "    </tr>\n",
       "  </tbody>\n",
       "</table>\n",
       "<p>1 rows × 31 columns</p>\n",
       "</div>"
      ],
      "text/plain": [
       "   YEAR  PERWT  HOME_STATEFIP  HOME_PUMA          PUMA_NAME SEX  AGE  \\\n",
       "0  2019   23.0              9        500  Litchfield County   F   46   \n",
       "\n",
       "   HRS_WK_DAILY  TOTAL_PERSONAL_INCOME  MODE_TRANSP_TO_WORK  ... PUMAKEY_HOME  \\\n",
       "0           7.4                   3800  Auto, truck, or van  ...     09_00500   \n",
       "\n",
       "  PUMAKEY_WORK DISTANCE_KM COGNITIVE_DIFFICULTY  AMBULATORY_DIFFICULTY  \\\n",
       "0     36_03800   170.50491                    0                      0   \n",
       "\n",
       "   IND_LIVING_DIFFICULTY SELFCARE_DIFFICULTY  VISION_OR_HEARING_DIFFICULTY  \\\n",
       "0                      0                   0                             0   \n",
       "\n",
       "  VISION_DIFFICULTY HEARING_DIFFICULTY  \n",
       "0                 0                  0  \n",
       "\n",
       "[1 rows x 31 columns]"
      ]
     },
     "execution_count": 6,
     "metadata": {},
     "output_type": "execute_result"
    }
   ],
   "source": [
    "print(len(ipums_df))\n",
    "ipums_df.head(1)"
   ]
  },
  {
   "cell_type": "code",
   "execution_count": 7,
   "id": "2c8553a2",
   "metadata": {
    "ExecuteTime": {
     "end_time": "2022-05-01T12:36:10.175469Z",
     "start_time": "2022-05-01T12:36:10.172753Z"
    }
   },
   "outputs": [],
   "source": [
    "### Tag income and education data according to the ways the Pulse survey groups answers\n",
    "\n",
    "def income_prob_label(inp_income):\n",
    "        if inp_income >= 200000:\n",
    "            return '7) 200K+'\n",
    "        elif inp_income >= 150000:\n",
    "            return '6) 150-200K'\n",
    "        elif inp_income >= 100000:\n",
    "            return '5) 100-150K'\n",
    "        elif inp_income >= 75000:\n",
    "            return '4) 75-100K'\n",
    "        elif inp_income >= 50000:\n",
    "            return '3) 50-75K'\n",
    "        elif inp_income >= 35000:\n",
    "            return '2) 35-50K'\n",
    "        elif inp_income >= 25000:\n",
    "            return '1) 25-35K'\n",
    "        else:\n",
    "            return '0) 0-25K'\n",
    "        \n",
    "def educ_label(inp_educ):\n",
    "    if inp_educ in ['College_4Year','College_5PlusYears']:\n",
    "        return 1\n",
    "    else:\n",
    "        return 0"
   ]
  },
  {
   "cell_type": "code",
   "execution_count": 8,
   "id": "17c68ce0",
   "metadata": {
    "ExecuteTime": {
     "end_time": "2022-05-01T12:36:10.191841Z",
     "start_time": "2022-05-01T12:36:10.176202Z"
    }
   },
   "outputs": [
    {
     "data": {
      "text/plain": [
       "(3) 50-75K      4247\n",
       " 0) 0-25K       3691\n",
       " 5) 100-150K    3634\n",
       " 7) 200K+       3357\n",
       " 4) 75-100K     3006\n",
       " 2) 35-50K      2509\n",
       " 1) 25-35K      1825\n",
       " 6) 150-200K    1709\n",
       " Name: INC_TAG, dtype: int64,\n",
       " 1    15622\n",
       " 0     8356\n",
       " Name: EDUC_TAG, dtype: int64)"
      ]
     },
     "execution_count": 8,
     "metadata": {},
     "output_type": "execute_result"
    }
   ],
   "source": [
    "ipums_df['INC_TAG'] = ipums_df[\"TOTAL_PERSONAL_INCOME\"].apply(income_prob_label)\n",
    "ipums_df['EDUC_TAG'] = ipums_df[\"EDUC_LABEL\"].apply(educ_label)\n",
    "ipums_df['INC_TAG'].value_counts(),ipums_df['EDUC_TAG'].value_counts()"
   ]
  },
  {
   "cell_type": "code",
   "execution_count": 9,
   "id": "f63a6719",
   "metadata": {
    "ExecuteTime": {
     "end_time": "2022-05-01T12:36:10.199976Z",
     "start_time": "2022-05-01T12:36:10.193661Z"
    }
   },
   "outputs": [
    {
     "name": "stdout",
     "output_type": "stream",
     "text": [
      "INC_TAG                   object\n",
      "EDUC_TAG                   int64\n",
      "PROB WFH | INC * EDUC    float64\n",
      "dtype: object\n"
     ]
    },
    {
     "data": {
      "text/html": [
       "<div>\n",
       "<style scoped>\n",
       "    .dataframe tbody tr th:only-of-type {\n",
       "        vertical-align: middle;\n",
       "    }\n",
       "\n",
       "    .dataframe tbody tr th {\n",
       "        vertical-align: top;\n",
       "    }\n",
       "\n",
       "    .dataframe thead th {\n",
       "        text-align: right;\n",
       "    }\n",
       "</style>\n",
       "<table border=\"1\" class=\"dataframe\">\n",
       "  <thead>\n",
       "    <tr style=\"text-align: right;\">\n",
       "      <th></th>\n",
       "      <th>INC_TAG</th>\n",
       "      <th>EDUC_TAG</th>\n",
       "      <th>PROB WFH | INC * EDUC</th>\n",
       "    </tr>\n",
       "  </thead>\n",
       "  <tbody>\n",
       "    <tr>\n",
       "      <th>1</th>\n",
       "      <td>0) 0-25K</td>\n",
       "      <td>0</td>\n",
       "      <td>0.124650</td>\n",
       "    </tr>\n",
       "    <tr>\n",
       "      <th>3</th>\n",
       "      <td>0) 0-25K</td>\n",
       "      <td>1</td>\n",
       "      <td>0.429435</td>\n",
       "    </tr>\n",
       "    <tr>\n",
       "      <th>5</th>\n",
       "      <td>1) 25-35K</td>\n",
       "      <td>0</td>\n",
       "      <td>0.137290</td>\n",
       "    </tr>\n",
       "    <tr>\n",
       "      <th>7</th>\n",
       "      <td>1) 25-35K</td>\n",
       "      <td>1</td>\n",
       "      <td>0.362040</td>\n",
       "    </tr>\n",
       "    <tr>\n",
       "      <th>9</th>\n",
       "      <td>2) 35-50K</td>\n",
       "      <td>0</td>\n",
       "      <td>0.184655</td>\n",
       "    </tr>\n",
       "  </tbody>\n",
       "</table>\n",
       "</div>"
      ],
      "text/plain": [
       "     INC_TAG  EDUC_TAG  PROB WFH | INC * EDUC\n",
       "1   0) 0-25K         0               0.124650\n",
       "3   0) 0-25K         1               0.429435\n",
       "5  1) 25-35K         0               0.137290\n",
       "7  1) 25-35K         1               0.362040\n",
       "9  2) 35-50K         0               0.184655"
      ]
     },
     "execution_count": 9,
     "metadata": {},
     "output_type": "execute_result"
    }
   ],
   "source": [
    "### Read in WFH conditional probabilities from above work\n",
    "\n",
    "wfh_probs = pd.read_csv(\"wfh_conditional_probs.csv\",index_col=0).drop(\"WFH_TAG\",axis=1)\n",
    "print(wfh_probs.dtypes)\n",
    "wfh_probs.head(5)\n"
   ]
  },
  {
   "cell_type": "code",
   "execution_count": 10,
   "id": "3065044f",
   "metadata": {
    "ExecuteTime": {
     "end_time": "2022-05-01T12:36:10.206732Z",
     "start_time": "2022-05-01T12:36:10.203036Z"
    }
   },
   "outputs": [],
   "source": [
    "### WFH function here:\n",
    "\n",
    "def wfh_flag_binary(wfh_dampener):\n",
    "    '''  \n",
    "    Changable inputs:\n",
    "    wfh_dampener: decimal 0-1\n",
    "        if 1, then just use probs as is.\n",
    "        if <1, multiply probabilities by dampener to reduce WFH population\n",
    "        if 0, nobody will WFH\n",
    "    \n",
    "    WFH taken as a conditional prob of income and education from Census Household Pulse Survey results last year\n",
    "    \n",
    "    output:\n",
    "        series (0,1) indicating whether each line is a likely WFH candidate\n",
    "    '''   \n",
    "    \n",
    "    if wfh_dampener < 0 or wfh_dampener > 1:\n",
    "        return \"Not a valid dampener\"\n",
    "    \n",
    "    \n",
    "    industries_cannot_wfh = [\"Educational Services, and Health Care and Social Assistance\"\\\n",
    "                            ,\"Arts, Entertainment, and Recreation, and Accommodation and Food Services\"\\\n",
    "                            ,\"Retail Trade\", \"Construction\"\\\n",
    "                            ,\"Other Services, Except Public Administration\"\\\n",
    "                            ,\"Transportation and Warehousing, and Utilities\",\"Manufacturing\"\\\n",
    "                            ,\"Agriculture, Forestry, Fishing, and Hunting, and Mining\"]\n",
    "    \n",
    "\n",
    "    \n",
    "    industry_binary = ipums_df[\"IND_CAT\"].apply(lambda x: 0 if x in industries_cannot_wfh else 1)\n",
    "    wfh_probabilities = ipums_df.merge(right=wfh_probs,on=[\"INC_TAG\",\"EDUC_TAG\"])[\"PROB WFH | INC * EDUC\"]\n",
    "    wfh_binary = wfh_probabilities.apply(lambda x: 1 if random.random() <= x*wfh_dampener else 0)\n",
    "    \n",
    "    wfh_overall_binary = industry_binary&wfh_binary\n",
    "    \n",
    "    return wfh_overall_binary\n",
    "    \n",
    "    "
   ]
  },
  {
   "cell_type": "code",
   "execution_count": 11,
   "id": "452f436f",
   "metadata": {
    "ExecuteTime": {
     "end_time": "2022-05-01T12:36:10.247509Z",
     "start_time": "2022-05-01T12:36:10.207593Z"
    }
   },
   "outputs": [
    {
     "data": {
      "text/html": [
       "<div>\n",
       "<style scoped>\n",
       "    .dataframe tbody tr th:only-of-type {\n",
       "        vertical-align: middle;\n",
       "    }\n",
       "\n",
       "    .dataframe tbody tr th {\n",
       "        vertical-align: top;\n",
       "    }\n",
       "\n",
       "    .dataframe thead th {\n",
       "        text-align: right;\n",
       "    }\n",
       "</style>\n",
       "<table border=\"1\" class=\"dataframe\">\n",
       "  <thead>\n",
       "    <tr style=\"text-align: right;\">\n",
       "      <th></th>\n",
       "      <th></th>\n",
       "      <th>PERWT</th>\n",
       "    </tr>\n",
       "    <tr>\n",
       "      <th>YEAR</th>\n",
       "      <th>FLAG_WFH</th>\n",
       "      <th></th>\n",
       "    </tr>\n",
       "  </thead>\n",
       "  <tbody>\n",
       "    <tr>\n",
       "      <th rowspan=\"2\" valign=\"top\">2019</th>\n",
       "      <th>0</th>\n",
       "      <td>0.748386</td>\n",
       "    </tr>\n",
       "    <tr>\n",
       "      <th>1</th>\n",
       "      <td>0.251614</td>\n",
       "    </tr>\n",
       "  </tbody>\n",
       "</table>\n",
       "</div>"
      ],
      "text/plain": [
       "                  PERWT\n",
       "YEAR FLAG_WFH          \n",
       "2019 0         0.748386\n",
       "     1         0.251614"
      ]
     },
     "execution_count": 11,
     "metadata": {},
     "output_type": "execute_result"
    }
   ],
   "source": [
    "ipums_df[\"FLAG_WFH\"]=wfh_flag_binary(wfh_dampener=1)\n",
    "ipums_df.groupby(by=['YEAR','FLAG_WFH'],dropna=False).agg({\"PERWT\":\"sum\"})/ipums_df.PERWT.sum()"
   ]
  },
  {
   "cell_type": "code",
   "execution_count": 12,
   "id": "26c74526",
   "metadata": {
    "ExecuteTime": {
     "end_time": "2022-05-01T12:36:10.271901Z",
     "start_time": "2022-05-01T12:36:10.248520Z"
    }
   },
   "outputs": [
    {
     "data": {
      "text/plain": [
       "3    4247\n",
       "0    3691\n",
       "5    3634\n",
       "7    3357\n",
       "4    3006\n",
       "2    2509\n",
       "1    1825\n",
       "6    1709\n",
       "Name: INC_TAG_VAL, dtype: int64"
      ]
     },
     "execution_count": 12,
     "metadata": {},
     "output_type": "execute_result"
    }
   ],
   "source": [
    "check_df = ipums_df.copy() #just to make checks simpler\n",
    "check_df[\"INC_TAG_VAL\"] = check_df[\"INC_TAG\"].apply(lambda x: int(x.split(\")\")[0]))\n",
    "check_df[\"INC_TAG_VAL\"].value_counts()"
   ]
  },
  {
   "cell_type": "code",
   "execution_count": 13,
   "id": "c29fbf4e",
   "metadata": {
    "ExecuteTime": {
     "end_time": "2022-05-01T12:36:10.754050Z",
     "start_time": "2022-05-01T12:36:10.272838Z"
    }
   },
   "outputs": [
    {
     "data": {
      "image/png": "[encoded data removed]",
      "text/plain": [
       "<Figure size 432x288 with 1 Axes>"
      ]
     },
     "metadata": {
      "needs_background": "light"
     },
     "output_type": "display_data"
    },
    {
     "data": {
      "image/png": "[encoded data removed]",
      "text/plain": [
       "<Figure size 432x288 with 1 Axes>"
      ]
     },
     "metadata": {
      "needs_background": "light"
     },
     "output_type": "display_data"
    },
    {
     "data": {
      "image/png": "[encoded data removed]",
      "text/plain": [
       "<Figure size 432x288 with 1 Axes>"
      ]
     },
     "metadata": {
      "needs_background": "light"
     },
     "output_type": "display_data"
    },
    {
     "data": {
      "text/plain": [
       "''"
      ]
     },
     "execution_count": 13,
     "metadata": {},
     "output_type": "execute_result"
    },
    {
     "data": {
      "image/png": "[encoded data removed]",
      "text/plain": [
       "<Figure size 432x288 with 1 Axes>"
      ]
     },
     "metadata": {
      "needs_background": "light"
     },
     "output_type": "display_data"
    }
   ],
   "source": [
    "check_df[[\"INC_TAG_VAL\",\"EDUC_TAG\",\"FLAG_WFH\",\"PERWT\"]]\n",
    "check_gb = check_df.groupby(by=[\"INC_TAG_VAL\",\"EDUC_TAG\",\"FLAG_WFH\"]).agg({\"PERWT\":\"sum\"}).reset_index()\n",
    "\n",
    "totals = check_gb.groupby(by=[\"INC_TAG_VAL\",\"EDUC_TAG\"]).agg({\"PERWT\":\"sum\"}).reset_index()\n",
    "totals.rename({\"PERWT\":\"TOTAL\"},axis=1,inplace=True)\n",
    "check_gb = check_gb.merge(right=totals,on=[\"INC_TAG_VAL\",\"EDUC_TAG\"])\n",
    "check_gb[\"WFH_PCT\"] = check_gb[\"PERWT\"]/check_gb[\"TOTAL\"]\n",
    "\n",
    "wfh_plot_df = check_gb[check_gb['FLAG_WFH']==1]\n",
    "plt.title(\"Number of people working from home by income bucket\")\n",
    "sns.barplot(data=wfh_plot_df,x='INC_TAG_VAL',y='PERWT',ci=None)\n",
    "plt.show();\n",
    "\n",
    "plt.title(\"Pct of people working from home by income  bucket\")\n",
    "sns.barplot(data=wfh_plot_df,x='INC_TAG_VAL',y='WFH_PCT')\n",
    "plt.show();\n",
    "\n",
    "plt.title(\"Number of people working from home by education bucket\")\n",
    "sns.barplot(data=wfh_plot_df,x='EDUC_TAG',y='PERWT')\n",
    "plt.show()\n",
    "\n",
    "plt.title(\"Pct of people working from home by education  bucket\")\n",
    "sns.barplot(data=wfh_plot_df,x='EDUC_TAG',y='WFH_PCT')\n",
    ";"
   ]
  },
  {
   "cell_type": "code",
   "execution_count": 14,
   "id": "cdea0c9c",
   "metadata": {
    "ExecuteTime": {
     "end_time": "2022-05-01T12:36:11.526658Z",
     "start_time": "2022-05-01T12:36:10.754929Z"
    }
   },
   "outputs": [
    {
     "name": "stdout",
     "output_type": "stream",
     "text": [
      "Dampener: 0.0 - total WFH IDs 0.0\n",
      "Dampener: 0.1 - total WFH IDs 75104.0\n",
      "Dampener: 0.2 - total WFH IDs 142223.0\n",
      "Dampener: 0.3 - total WFH IDs 217137.0\n",
      "Dampener: 0.4 - total WFH IDs 281141.0\n",
      "Dampener: 0.5 - total WFH IDs 349413.0\n",
      "Dampener: 0.6 - total WFH IDs 422931.0\n",
      "Dampener: 0.7 - total WFH IDs 493155.0\n",
      "Dampener: 0.8 - total WFH IDs 578598.0\n",
      "Dampener: 0.9 - total WFH IDs 643168.0\n",
      "Dampener: 1.0 - total WFH IDs 727756.0\n"
     ]
    },
    {
     "data": {
      "image/png": "[encoded data removed]",
      "text/plain": [
       "<Figure size 432x288 with 1 Axes>"
      ]
     },
     "metadata": {
      "needs_background": "light"
     },
     "output_type": "display_data"
    }
   ],
   "source": [
    "### Dampener Check\n",
    "val_list = list()\n",
    "\n",
    "for dampener in np.arange(0,1.01,.1):\n",
    "#     print(dampener)\n",
    "    dampener_check_df = ipums_df.copy()\n",
    "    dampener_check_df[\"FLAG_WFH\"]=wfh_flag_binary(wfh_dampener=dampener)\n",
    "    dampener_check_df[\"INC_TAG_VAL\"] = dampener_check_df[\"INC_TAG\"].apply(lambda x: int(x.split(\")\")[0]))\n",
    "    \n",
    "    dampener_gb = dampener_check_df.groupby(by=[\"INC_TAG_VAL\",\"EDUC_TAG\",\"FLAG_WFH\"]).agg({\"PERWT\":\"sum\"}).reset_index()\n",
    "\n",
    "    totals = dampener_gb.groupby(by=[\"INC_TAG_VAL\",\"EDUC_TAG\"]).agg({\"PERWT\":\"sum\"}).reset_index()\n",
    "    totals.rename({\"PERWT\":\"TOTAL\"},axis=1,inplace=True)\n",
    "    dampener_gb = dampener_gb.merge(right=totals,on=[\"INC_TAG_VAL\",\"EDUC_TAG\"])\n",
    "    dampener_gb[\"WFH_PCT\"] = dampener_gb[\"PERWT\"]/dampener_gb[\"TOTAL\"]\n",
    "    \n",
    "    wfh_plot_df = dampener_gb[dampener_gb['FLAG_WFH']==1]\n",
    "    val_list.append((dampener,wfh_plot_df))\n",
    "    \n",
    "fig,ax=plt.subplots()    \n",
    "ax.set_title(\"Pct of people working from home by income  bucket, dampener check\")\n",
    "for val, df in val_list:\n",
    "    sns.lineplot(data=df,x='INC_TAG_VAL',y='WFH_PCT',label=round(val,1),ax=ax,ci=None)\n",
    "#     print(df[\"WFH_PCT\"].describe())\n",
    "    print(f\"Dampener: {round(val,1)} - total WFH IDs\",df[\"PERWT\"].sum())\n",
    "    \n",
    "    "
   ]
  },
  {
   "cell_type": "code",
   "execution_count": null,
   "id": "c12bb451",
   "metadata": {},
   "outputs": [],
   "source": []
  },
  {
   "cell_type": "code",
   "execution_count": null,
   "id": "666a13e9",
   "metadata": {},
   "outputs": [],
   "source": []
  },
  {
   "cell_type": "code",
   "execution_count": null,
   "id": "3c775831",
   "metadata": {},
   "outputs": [],
   "source": []
  }
 ],
 "metadata": {
  "kernelspec": {
   "display_name": "Python 3 (ipykernel)",
   "language": "python",
   "name": "python3"
  },
  "language_info": {
   "codemirror_mode": {
    "name": "ipython",
    "version": 3
   },
   "file_extension": ".py",
   "mimetype": "text/x-python",
   "name": "python",
   "nbconvert_exporter": "python",
   "pygments_lexer": "ipython3",
   "version": "3.9.7"
  }
 },
 "nbformat": 4,
 "nbformat_minor": 5
}
