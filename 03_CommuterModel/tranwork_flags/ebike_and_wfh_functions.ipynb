{
 "cells": [
  {
   "cell_type": "markdown",
   "id": "9b262264",
   "metadata": {
    "ExecuteTime": {
     "end_time": "2022-04-25T23:18:04.453475Z",
     "start_time": "2022-04-25T23:18:04.433502Z"
    }
   },
   "source": [
    "in this script there are two functions\n",
    "\n",
    "ebike_flag_binary\n",
    "wfh_flag_binary\n",
    "\n",
    "Last updated: Brian - May 1, 2022\n",
    "\n",
    "WFH function work done in [wfh conditional probabilities and wfh function check notebook](./WFH%20Conditional%20Probabilities%20and%20WFH%20Function%20Check.ipynb)"
   ]
  },
  {
   "cell_type": "code",
   "execution_count": 27,
   "id": "2c921e91",
   "metadata": {
    "ExecuteTime": {
     "end_time": "2022-05-01T12:39:01.250057Z",
     "start_time": "2022-05-01T12:39:01.040202Z"
    }
   },
   "outputs": [],
   "source": [
    "import pandas as pd\n",
    "import random\n",
    "\n",
    "ipums_df = pd.read_csv(\"../ipums_data/disaggregated_cleaned_ipums_data.csv\",index_col=0)"
   ]
  },
  {
   "cell_type": "code",
   "execution_count": 28,
   "id": "b3f2696f",
   "metadata": {
    "ExecuteTime": {
     "end_time": "2022-05-01T12:39:01.330149Z",
     "start_time": "2022-05-01T12:39:01.251289Z"
    }
   },
   "outputs": [],
   "source": [
    "bike_friendly_origins = ipums_df[(ipums_df['PUMA_NAME'].str.contains(\"NYC-Brook\"))|\n",
    "        (ipums_df['PUMA_NAME'].str.contains(\"NYC-Queen\"))|\n",
    "        (ipums_df['PUMA_NAME'].str.contains(\"NYC-Bronx\"))|\n",
    "        (ipums_df['PUMA_NAME'].str.contains(\"NYC-Manh\"))|\n",
    "        (ipums_df['PUMA_NAME'].str.contains(\"Bergen\"))]['PUMA_NAME'].unique()"
   ]
  },
  {
   "cell_type": "code",
   "execution_count": 29,
   "id": "5449c969",
   "metadata": {
    "ExecuteTime": {
     "end_time": "2022-05-01T12:39:01.334427Z",
     "start_time": "2022-05-01T12:39:01.330920Z"
    }
   },
   "outputs": [],
   "source": [
    "def ebike_flag_binary(max_age,max_distance,bike_friendly_origins,male_pct,female_pct,age_dist):\n",
    "    '''\n",
    "    inputs\n",
    "    Hard Caps:\n",
    "    max_age - maximum age of e-bikers. Early research indicates 70 is a realistic cut-off\n",
    "    max_distance - maximum distance traveled by e-bikers. 15 miles (24 KM) to start.\n",
    "    bike_friendly_origins - what origin points have bike infrastructure leading into Manhattan?\n",
    "        ** Bronx, Queens, Brooklyn, Northern NJ\n",
    "        \n",
    "\n",
    "    Changable inputs:\n",
    "    male_pct & female_pct - how many, of each sex, will ride an e-bike of eligible riders? 0-100 value\n",
    "    age_dist - to be determined how we can use age distributions to determine ridership. \n",
    "        Ex) 35 year olds may be 2x more likely to ride than a 50 year old\n",
    "        \n",
    "    output:\n",
    "        series (0,1) indicating whether each line is an eligible e-bike rider or not\n",
    "    '''\n",
    "    \n",
    "    \n",
    "    age_hardcap = ipums_df['AGE']<=max_age\n",
    "    dist_hardcap = ipums_df['DISTANCE_KM']<=max_distance\n",
    "    bike_infra_locs = ipums_df['PUMA_NAME'].isin(bike_friendly_origins)\n",
    "    \n",
    "    ### Gender - \n",
    "    male_sex_flag = ipums_df['SEX'].apply(lambda x: True if random.random() <= male_pct/100 and x=='M' else False)\n",
    "    female_sex_flag = ipums_df['SEX'].apply(lambda x: True if random.random() <= female_pct/100 and x=='F' else False)\n",
    "    sex_flag = male_sex_flag|female_sex_flag\n",
    "\n",
    "    \n",
    "    ### Age - TBD if we use an age distribution or buckets\n",
    "    final_series = age_hardcap&dist_hardcap&bike_infra_locs&sex_flag\n",
    "    \n",
    "    return final_series.astype(int)\n",
    "    \n",
    "    \n",
    "    \n",
    "  "
   ]
  },
  {
   "cell_type": "code",
   "execution_count": 35,
   "id": "3065044f",
   "metadata": {
    "ExecuteTime": {
     "end_time": "2022-05-01T12:40:19.030308Z",
     "start_time": "2022-05-01T12:40:18.993909Z"
    }
   },
   "outputs": [],
   "source": [
    "wfh_probs = pd.read_csv(\"wfh_conditional_probs.csv\",index_col=0).drop(\"WFH_TAG\",axis=1)\n",
    "def wfh_flag_binary(wfh_dampener):\n",
    "    '''  \n",
    "    Changable inputs:\n",
    "    wfh_dampener: decimal 0-1\n",
    "        if 1, then just use probs as is.\n",
    "        if <1, multiply probabilities by dampener to reduce WFH population\n",
    "        if 0, nobody will WFH\n",
    "    \n",
    "    WFH taken as a conditional prob of income and education from Census Household Pulse Survey results last year\n",
    "    \n",
    "    output:\n",
    "        series (0,1) indicating whether each line is a likely WFH candidate\n",
    "    '''   \n",
    "    \n",
    "    if wfh_dampener < 0 or wfh_dampener > 1:\n",
    "        return \"Not a valid dampener\"\n",
    "    \n",
    "    def income_prob_label(inp_income):\n",
    "        if inp_income >= 200000:\n",
    "            return '7) 200K+'\n",
    "        elif inp_income >= 150000:\n",
    "            return '6) 150-200K'\n",
    "        elif inp_income >= 100000:\n",
    "            return '5) 100-150K'\n",
    "        elif inp_income >= 75000:\n",
    "            return '4) 75-100K'\n",
    "        elif inp_income >= 50000:\n",
    "            return '3) 50-75K'\n",
    "        elif inp_income >= 35000:\n",
    "            return '2) 35-50K'\n",
    "        elif inp_income >= 25000:\n",
    "            return '1) 25-35K'\n",
    "        else:\n",
    "            return '0) 0-25K'\n",
    "        \n",
    "    def educ_label(inp_educ):\n",
    "        if inp_educ in ['College_4Year','College_5PlusYears']:\n",
    "            return 1\n",
    "        else:\n",
    "            return 0\n",
    "        \n",
    "    ipums_df['INC_TAG'] = ipums_df[\"TOTAL_PERSONAL_INCOME\"].apply(income_prob_label)\n",
    "    ipums_df['EDUC_TAG'] = ipums_df[\"EDUC_LABEL\"].apply(educ_label)\n",
    "    \n",
    "    \n",
    "    industries_cannot_wfh = [\"Educational Services, and Health Care and Social Assistance\"\\\n",
    "                            ,\"Arts, Entertainment, and Recreation, and Accommodation and Food Services\"\\\n",
    "                            ,\"Retail Trade\", \"Construction\"\\\n",
    "                            ,\"Other Services, Except Public Administration\"\\\n",
    "                            ,\"Transportation and Warehousing, and Utilities\",\"Manufacturing\"\\\n",
    "                            ,\"Agriculture, Forestry, Fishing, and Hunting, and Mining\"]\n",
    "    \n",
    "\n",
    "    \n",
    "    industry_binary = ipums_df[\"IND_CAT\"].apply(lambda x: 0 if x in industries_cannot_wfh else 1)\n",
    "    wfh_probabilities = ipums_df.merge(right=wfh_probs,on=[\"INC_TAG\",\"EDUC_TAG\"])[\"PROB WFH | INC * EDUC\"]\n",
    "    wfh_binary = wfh_probabilities.apply(lambda x: 1 if random.random() <= x*wfh_dampener else 0)\n",
    "    \n",
    "    wfh_overall_binary = industry_binary&wfh_binary\n",
    "    \n",
    "    return wfh_overall_binary"
   ]
  },
  {
   "cell_type": "code",
   "execution_count": 36,
   "id": "5555ca1b",
   "metadata": {
    "ExecuteTime": {
     "end_time": "2022-05-01T12:40:19.971759Z",
     "start_time": "2022-05-01T12:40:19.802951Z"
    }
   },
   "outputs": [],
   "source": [
    "    \n",
    "########################    \n",
    "#### How to Run ########\n",
    "########################\n",
    "ipums_df['FLAG_EBIKE']=ebike_flag_binary(max_age=70\n",
    "                                        ,max_distance = 24\n",
    "                                        ,male_pct = 100\n",
    "                                        ,female_pct = 100\n",
    "                                        ,age_dist = None\n",
    "                                        ,bike_friendly_origins=bike_friendly_origins\n",
    "                                        )\n",
    "\n",
    "ipums_df[\"FLAG_WFH\"]=wfh_flag_binary(wfh_dampener=1) #dampener just to reduce probabilties overall. Keep at 1 for most runs"
   ]
  },
  {
   "cell_type": "code",
   "execution_count": 37,
   "id": "b7894a52",
   "metadata": {
    "ExecuteTime": {
     "end_time": "2022-05-01T12:40:23.010924Z",
     "start_time": "2022-05-01T12:40:22.935857Z"
    }
   },
   "outputs": [
    {
     "data": {
      "text/html": [
       "<div>\n",
       "<style scoped>\n",
       "    .dataframe tbody tr th:only-of-type {\n",
       "        vertical-align: middle;\n",
       "    }\n",
       "\n",
       "    .dataframe tbody tr th {\n",
       "        vertical-align: top;\n",
       "    }\n",
       "\n",
       "    .dataframe thead th {\n",
       "        text-align: right;\n",
       "    }\n",
       "</style>\n",
       "<table border=\"1\" class=\"dataframe\">\n",
       "  <thead>\n",
       "    <tr style=\"text-align: right;\">\n",
       "      <th></th>\n",
       "      <th></th>\n",
       "      <th>PERWT</th>\n",
       "    </tr>\n",
       "    <tr>\n",
       "      <th>YEAR</th>\n",
       "      <th>FLAG_EBIKE</th>\n",
       "      <th></th>\n",
       "    </tr>\n",
       "  </thead>\n",
       "  <tbody>\n",
       "    <tr>\n",
       "      <th rowspan=\"2\" valign=\"top\">2019</th>\n",
       "      <th>0</th>\n",
       "      <td>982351.0</td>\n",
       "    </tr>\n",
       "    <tr>\n",
       "      <th>1</th>\n",
       "      <td>1818979.0</td>\n",
       "    </tr>\n",
       "  </tbody>\n",
       "</table>\n",
       "</div>"
      ],
      "text/plain": [
       "                     PERWT\n",
       "YEAR FLAG_EBIKE           \n",
       "2019 0            982351.0\n",
       "     1           1818979.0"
      ]
     },
     "execution_count": 37,
     "metadata": {},
     "output_type": "execute_result"
    }
   ],
   "source": [
    "######################    \n",
    "###### CHECKS ########\n",
    "######################\n",
    "\n",
    "check_df = ipums_df[ipums_df['YEAR']==2019].copy() #just to make checks simpler\n",
    "### population by ebike flag\n",
    "check_df.groupby(by=['YEAR','FLAG_EBIKE']).agg({\"PERWT\":\"sum\"})"
   ]
  },
  {
   "cell_type": "code",
   "execution_count": 38,
   "id": "41e40a3a",
   "metadata": {
    "ExecuteTime": {
     "end_time": "2022-05-01T12:40:24.914784Z",
     "start_time": "2022-05-01T12:40:24.891883Z"
    }
   },
   "outputs": [
    {
     "data": {
      "text/html": [
       "<div>\n",
       "<style scoped>\n",
       "    .dataframe tbody tr th:only-of-type {\n",
       "        vertical-align: middle;\n",
       "    }\n",
       "\n",
       "    .dataframe tbody tr th {\n",
       "        vertical-align: top;\n",
       "    }\n",
       "\n",
       "    .dataframe thead th {\n",
       "        text-align: right;\n",
       "    }\n",
       "</style>\n",
       "<table border=\"1\" class=\"dataframe\">\n",
       "  <thead>\n",
       "    <tr style=\"text-align: right;\">\n",
       "      <th></th>\n",
       "      <th></th>\n",
       "      <th>PERWT</th>\n",
       "    </tr>\n",
       "    <tr>\n",
       "      <th>YEAR</th>\n",
       "      <th>FLAG_WFH</th>\n",
       "      <th></th>\n",
       "    </tr>\n",
       "  </thead>\n",
       "  <tbody>\n",
       "    <tr>\n",
       "      <th rowspan=\"2\" valign=\"top\">2019</th>\n",
       "      <th>0</th>\n",
       "      <td>2122387.0</td>\n",
       "    </tr>\n",
       "    <tr>\n",
       "      <th>1</th>\n",
       "      <td>678943.0</td>\n",
       "    </tr>\n",
       "  </tbody>\n",
       "</table>\n",
       "</div>"
      ],
      "text/plain": [
       "                   PERWT\n",
       "YEAR FLAG_WFH           \n",
       "2019 0         2122387.0\n",
       "     1          678943.0"
      ]
     },
     "execution_count": 38,
     "metadata": {},
     "output_type": "execute_result"
    }
   ],
   "source": [
    "### population by wfh flag\n",
    "check_df.groupby(by=['YEAR','FLAG_WFH']).agg({\"PERWT\":\"sum\"})"
   ]
  },
  {
   "cell_type": "code",
   "execution_count": 39,
   "id": "3cee79a5",
   "metadata": {
    "ExecuteTime": {
     "end_time": "2022-05-01T12:40:28.797464Z",
     "start_time": "2022-05-01T12:40:28.752303Z"
    }
   },
   "outputs": [
    {
     "data": {
      "text/html": [
       "<div>\n",
       "<style scoped>\n",
       "    .dataframe tbody tr th:only-of-type {\n",
       "        vertical-align: middle;\n",
       "    }\n",
       "\n",
       "    .dataframe tbody tr th {\n",
       "        vertical-align: top;\n",
       "    }\n",
       "\n",
       "    .dataframe thead th {\n",
       "        text-align: right;\n",
       "    }\n",
       "</style>\n",
       "<table border=\"1\" class=\"dataframe\">\n",
       "  <thead>\n",
       "    <tr style=\"text-align: right;\">\n",
       "      <th>FLAG_WFH</th>\n",
       "      <th>0</th>\n",
       "      <th>1</th>\n",
       "    </tr>\n",
       "    <tr>\n",
       "      <th>EDUC_LABEL</th>\n",
       "      <th></th>\n",
       "      <th></th>\n",
       "    </tr>\n",
       "  </thead>\n",
       "  <tbody>\n",
       "    <tr>\n",
       "      <th>College_1Year</th>\n",
       "      <td>203085.0</td>\n",
       "      <td>53317.0</td>\n",
       "    </tr>\n",
       "    <tr>\n",
       "      <th>College_2Year</th>\n",
       "      <td>118632.0</td>\n",
       "      <td>30394.0</td>\n",
       "    </tr>\n",
       "    <tr>\n",
       "      <th>College_4Year</th>\n",
       "      <td>714684.0</td>\n",
       "      <td>299741.0</td>\n",
       "    </tr>\n",
       "    <tr>\n",
       "      <th>College_5PlusYears</th>\n",
       "      <td>504730.0</td>\n",
       "      <td>187152.0</td>\n",
       "    </tr>\n",
       "    <tr>\n",
       "      <th>Grade0_4</th>\n",
       "      <td>6198.0</td>\n",
       "      <td>1349.0</td>\n",
       "    </tr>\n",
       "    <tr>\n",
       "      <th>Grade10</th>\n",
       "      <td>18843.0</td>\n",
       "      <td>2433.0</td>\n",
       "    </tr>\n",
       "    <tr>\n",
       "      <th>Grade11</th>\n",
       "      <td>26618.0</td>\n",
       "      <td>2880.0</td>\n",
       "    </tr>\n",
       "    <tr>\n",
       "      <th>Grade9</th>\n",
       "      <td>18730.0</td>\n",
       "      <td>2603.0</td>\n",
       "    </tr>\n",
       "    <tr>\n",
       "      <th>Grades12</th>\n",
       "      <td>444347.0</td>\n",
       "      <td>91362.0</td>\n",
       "    </tr>\n",
       "    <tr>\n",
       "      <th>Grades5_8</th>\n",
       "      <td>41818.0</td>\n",
       "      <td>5036.0</td>\n",
       "    </tr>\n",
       "    <tr>\n",
       "      <th>N/A_NoSchool</th>\n",
       "      <td>24702.0</td>\n",
       "      <td>2676.0</td>\n",
       "    </tr>\n",
       "  </tbody>\n",
       "</table>\n",
       "</div>"
      ],
      "text/plain": [
       "FLAG_WFH                   0         1\n",
       "EDUC_LABEL                            \n",
       "College_1Year       203085.0   53317.0\n",
       "College_2Year       118632.0   30394.0\n",
       "College_4Year       714684.0  299741.0\n",
       "College_5PlusYears  504730.0  187152.0\n",
       "Grade0_4              6198.0    1349.0\n",
       "Grade10              18843.0    2433.0\n",
       "Grade11              26618.0    2880.0\n",
       "Grade9               18730.0    2603.0\n",
       "Grades12            444347.0   91362.0\n",
       "Grades5_8            41818.0    5036.0\n",
       "N/A_NoSchool         24702.0    2676.0"
      ]
     },
     "execution_count": 39,
     "metadata": {},
     "output_type": "execute_result"
    }
   ],
   "source": [
    "### education by wfh flag\n",
    "wfh_by_edu = check_df.groupby(['YEAR',\"FLAG_WFH\",'EDUC_LABEL']).agg({\"PERWT\":\"sum\"}).reset_index()\\\n",
    ".pivot_table(index='EDUC_LABEL',columns='FLAG_WFH',values='PERWT')\n",
    "wfh_by_edu.divide(wfh_by_edu.sum(axis=1),axis=0)\n",
    "wfh_by_edu"
   ]
  },
  {
   "cell_type": "code",
   "execution_count": 40,
   "id": "5cbec077",
   "metadata": {
    "ExecuteTime": {
     "end_time": "2022-05-01T12:40:30.267285Z",
     "start_time": "2022-05-01T12:40:30.233553Z"
    }
   },
   "outputs": [
    {
     "data": {
      "text/plain": [
       "('pcts overall',\n",
       " FLAG_WFH           0         1\n",
       " FLAG_EBIKE                    \n",
       " 0           0.257673  0.093000\n",
       " 1           0.499963  0.149364,\n",
       " '----------------------------------------------------------------------------------------------------',\n",
       " 'gross counts',\n",
       " FLAG_WFH            0         1\n",
       " FLAG_EBIKE                     \n",
       " 0            721826.0  260525.0\n",
       " 1           1400561.0  418418.0)"
      ]
     },
     "execution_count": 40,
     "metadata": {},
     "output_type": "execute_result"
    }
   ],
   "source": [
    "### cross-tabs of the 2 flags\n",
    "ct = check_df.groupby(['YEAR',\"FLAG_WFH\",'FLAG_EBIKE']).agg({\"PERWT\":\"sum\"})\\\n",
    ".reset_index().pivot_table(index='FLAG_EBIKE',columns='FLAG_WFH',values='PERWT')\n",
    "\n",
    "\"pcts overall\",ct / ct.sum().sum(),\"--\"*50,'gross counts', ct"
   ]
  },
  {
   "cell_type": "code",
   "execution_count": null,
   "id": "666a13e9",
   "metadata": {},
   "outputs": [],
   "source": []
  },
  {
   "cell_type": "code",
   "execution_count": null,
   "id": "3c775831",
   "metadata": {},
   "outputs": [],
   "source": []
  }
 ],
 "metadata": {
  "kernelspec": {
   "display_name": "Python 3 (ipykernel)",
   "language": "python",
   "name": "python3"
  },
  "language_info": {
   "codemirror_mode": {
    "name": "ipython",
    "version": 3
   },
   "file_extension": ".py",
   "mimetype": "text/x-python",
   "name": "python",
   "nbconvert_exporter": "python",
   "pygments_lexer": "ipython3",
   "version": "3.9.7"
  }
 },
 "nbformat": 4,
 "nbformat_minor": 5
}
