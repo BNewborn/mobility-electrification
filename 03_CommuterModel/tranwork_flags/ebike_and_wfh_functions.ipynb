{
 "cells": [
  {
   "cell_type": "code",
   "execution_count": 1,
   "id": "04895482",
   "metadata": {
    "ExecuteTime": {
     "end_time": "2022-04-24T21:37:10.978192Z",
     "start_time": "2022-04-24T21:37:10.971124Z"
    }
   },
   "outputs": [
    {
     "data": {
      "text/plain": [
       "'\\nin this script there are two functions\\n\\nebike_flag_binary\\nwfh_flag_binary\\n\\nBrian - April 24, 2022\\n\\n'"
      ]
     },
     "execution_count": 1,
     "metadata": {},
     "output_type": "execute_result"
    }
   ],
   "source": [
    "'''\n",
    "in this script there are two functions\n",
    "\n",
    "ebike_flag_binary\n",
    "wfh_flag_binary\n",
    "\n",
    "Brian - April 24, 2022\n",
    "\n",
    "'''"
   ]
  },
  {
   "cell_type": "code",
   "execution_count": 2,
   "id": "2c921e91",
   "metadata": {
    "ExecuteTime": {
     "end_time": "2022-04-24T21:37:11.948425Z",
     "start_time": "2022-04-24T21:37:10.979215Z"
    }
   },
   "outputs": [],
   "source": [
    "import pandas as pd\n",
    "import random\n",
    "\n",
    "ipums_df = pd.read_csv(\"../ipums_data/disaggregated_cleaned_ipums_data.csv\",index_col=0)"
   ]
  },
  {
   "cell_type": "code",
   "execution_count": 3,
   "id": "b3f2696f",
   "metadata": {
    "ExecuteTime": {
     "end_time": "2022-04-24T21:37:12.061024Z",
     "start_time": "2022-04-24T21:37:11.949966Z"
    }
   },
   "outputs": [],
   "source": [
    "bike_friendly_origins = ipums_df[(ipums_df['PUMA_NAME'].str.contains(\"NYC-Brook\"))|\n",
    "        (ipums_df['PUMA_NAME'].str.contains(\"NYC-Queen\"))|\n",
    "        (ipums_df['PUMA_NAME'].str.contains(\"NYC-Bronx\"))|\n",
    "        (ipums_df['PUMA_NAME'].str.contains(\"NYC-Manh\"))|\n",
    "        (ipums_df['PUMA_NAME'].str.contains(\"Bergen\"))]['PUMA_NAME'].unique()"
   ]
  },
  {
   "cell_type": "code",
   "execution_count": 4,
   "id": "5449c969",
   "metadata": {
    "ExecuteTime": {
     "end_time": "2022-04-24T21:37:12.065067Z",
     "start_time": "2022-04-24T21:37:12.061817Z"
    }
   },
   "outputs": [],
   "source": [
    "def ebike_flag_binary(max_age,max_distance,bike_friendly_origins,male_pct,female_pct,age_dist):\n",
    "    '''\n",
    "    inputs\n",
    "    Hard Caps:\n",
    "    max_age - maximum age of e-bikers. Early research indicates 70 is a realistic cut-off\n",
    "    max_distance - maximum distance traveled by e-bikers. 15 miles (24 KM) to start.\n",
    "    bike_friendly_origins - what origin points have bike infrastructure leading into Manhattan?\n",
    "        ** Bronx, Queens, Brooklyn, Northern NJ\n",
    "        \n",
    "\n",
    "    Changable inputs:\n",
    "    male_pct & female_pct - how many, of each sex, will ride an e-bike of eligible riders? 0-100 value\n",
    "    age_dist - to be determined how we can use age distributions to determine ridership. \n",
    "        Ex) 35 year olds may be 2x more likely to ride than a 50 year old\n",
    "        \n",
    "    output:\n",
    "        series (0,1) indicating whether each line is an eligible e-bike rider or not\n",
    "    '''\n",
    "    \n",
    "    \n",
    "    age_hardcap = ipums_df['AGE']<=max_age\n",
    "    dist_hardcap = ipums_df['DISTANCE_KM_TOCBD']<=max_distance\n",
    "    bike_infra_locs = ipums_df['PUMA_NAME'].isin(bike_friendly_origins)\n",
    "    \n",
    "    ### Gender - \n",
    "    male_sex_flag = ipums_df['SEX'].apply(lambda x: True if random.random() <= male_pct/100 and x=='M' else False)\n",
    "    female_sex_flag = ipums_df['SEX'].apply(lambda x: True if random.random() <= female_pct/100 and x=='F' else False)\n",
    "    sex_flag = male_sex_flag|female_sex_flag\n",
    "\n",
    "    \n",
    "    ### Age - TBD if we use an age distribution or buckets\n",
    "    final_series = age_hardcap&dist_hardcap&bike_infra_locs&sex_flag\n",
    "    \n",
    "    return final_series.astype(int)\n",
    "    \n",
    "    \n",
    "    \n",
    "  "
   ]
  },
  {
   "cell_type": "code",
   "execution_count": 5,
   "id": "3065044f",
   "metadata": {
    "ExecuteTime": {
     "end_time": "2022-04-24T21:37:12.070105Z",
     "start_time": "2022-04-24T21:37:12.065966Z"
    }
   },
   "outputs": [],
   "source": [
    "def wfh_flag_binary(overall_wfh_pct):\n",
    "    '''  \n",
    "    Changable inputs:\n",
    "    overall_wfh_pct - NOT USING CURRENTLY - using demographic-based percentages\n",
    "    \n",
    "    Given that most of these stats were taken from when everybody had to WFH\n",
    "    We can take the future assumed overall wfh pct and multiply it by that to get the presumed \n",
    "    future WFH demographic distribution\n",
    "    \n",
    "        \n",
    "    output:\n",
    "        series (0,1) indicating whether each line is a likely WFH candidate\n",
    "    '''   \n",
    "    \n",
    "    if overall_wfh_pct < 0 or overall_wfh_pct > 1:\n",
    "        return \"Not a valid overall wfh pct\"\n",
    "    \n",
    "    education_prob = ipums_df['EDUC_LABEL'].apply(lambda x: .61 if x in ['College_4Year','College_5PlusYears'] \n",
    "                                                      else .19) #* overall_wfh_pct \n",
    "    #Those with a bachelor’s degree or higher were more than three times \n",
    "    # as likely as those with a high school education \n",
    "    # or GED only to have an adult in their household substitute in-person work for telework (Figure 2)\n",
    "    # 61.7% compared to 19.1%.\n",
    "    #https://www.census.gov/library/stories/2021/03/working-from-home-during-the-pandemic.html \n",
    "    \n",
    "    def income_prob_tagger(inp_income):\n",
    "        if inp_income >= 200000:\n",
    "            return .73\n",
    "        elif inp_income >= 150000:\n",
    "            return .675\n",
    "        elif inp_income >= 100000:\n",
    "            return .575\n",
    "        elif inp_income >= 75000:\n",
    "            return .441\n",
    "        elif inp_income >= 50000:\n",
    "            return .321\n",
    "        elif inp_income >= 35000:\n",
    "            return .231\n",
    "        elif inp_income >= 25000:\n",
    "            return .175\n",
    "        else:\n",
    "            return .127\n",
    "    \n",
    "    income_prob = ipums_df['TOTAL_PERSONAL_INCOME'].apply(income_prob_tagger) #* overall_wfh_pct \n",
    "\n",
    "    #https://www.census.gov/content/dam/Census/library/stories/2021/03/working-from-home-during-the-pandemic-figure-1.jpg\n",
    "    # 200k+ : 73%\n",
    "    # 150k-199,999 : 67.5%\n",
    "    # 100k-149,999 : 57.5%\n",
    "    # 75k-99,999 : 44.1%\n",
    "    # 50k-74,999 : 32.1%\n",
    "    # 35k-49,999 : 23.1%\n",
    "    # 25k-34,999 : 17.5%\n",
    "    # <=25K : 12.7%  \n",
    "    \n",
    "    education_binary = education_prob.apply(lambda x: 1 if random.random() <= x else 0) \n",
    "    income_binary = income_prob.apply(lambda x: 1 if random.random() <= x else 0)\n",
    "#     wfh_overall_binary = income_prob.apply(lambda x: 1 if random.random() <= overall_wfh_pct else 0)\n",
    "       \n",
    "    final_series = education_binary&income_binary\n",
    "    \n",
    "    return final_series.astype(int)\n",
    "    \n",
    "    "
   ]
  },
  {
   "cell_type": "code",
   "execution_count": 6,
   "id": "5555ca1b",
   "metadata": {
    "ExecuteTime": {
     "end_time": "2022-04-24T21:37:12.165439Z",
     "start_time": "2022-04-24T21:37:12.070893Z"
    }
   },
   "outputs": [],
   "source": [
    "    \n",
    "########################    \n",
    "#### How to Run ########\n",
    "########################\n",
    "ipums_df['FLAG_EBIKE']=ebike_flag_binary(max_age=70\n",
    "                                        ,max_distance = 24\n",
    "                                        ,male_pct = 100\n",
    "                                        ,female_pct = 100\n",
    "                                        ,age_dist = None\n",
    "                                        ,bike_friendly_origins=bike_friendly_origins\n",
    "                                        )\n",
    "\n",
    "ipums_df[\"FLAG_WFH\"]=wfh_flag_binary(overall_wfh_pct=0.2) #no longer using overall pct - just demographics"
   ]
  },
  {
   "cell_type": "code",
   "execution_count": 7,
   "id": "b7894a52",
   "metadata": {
    "ExecuteTime": {
     "end_time": "2022-04-24T21:37:12.183917Z",
     "start_time": "2022-04-24T21:37:12.166279Z"
    }
   },
   "outputs": [
    {
     "data": {
      "text/html": [
       "<div>\n",
       "<style scoped>\n",
       "    .dataframe tbody tr th:only-of-type {\n",
       "        vertical-align: middle;\n",
       "    }\n",
       "\n",
       "    .dataframe tbody tr th {\n",
       "        vertical-align: top;\n",
       "    }\n",
       "\n",
       "    .dataframe thead th {\n",
       "        text-align: right;\n",
       "    }\n",
       "</style>\n",
       "<table border=\"1\" class=\"dataframe\">\n",
       "  <thead>\n",
       "    <tr style=\"text-align: right;\">\n",
       "      <th></th>\n",
       "      <th></th>\n",
       "      <th>PERWT</th>\n",
       "    </tr>\n",
       "    <tr>\n",
       "      <th>YEAR</th>\n",
       "      <th>FLAG_EBIKE</th>\n",
       "      <th></th>\n",
       "    </tr>\n",
       "  </thead>\n",
       "  <tbody>\n",
       "    <tr>\n",
       "      <th rowspan=\"2\" valign=\"top\">2019</th>\n",
       "      <th>0</th>\n",
       "      <td>905095.0</td>\n",
       "    </tr>\n",
       "    <tr>\n",
       "      <th>1</th>\n",
       "      <td>1889160.0</td>\n",
       "    </tr>\n",
       "  </tbody>\n",
       "</table>\n",
       "</div>"
      ],
      "text/plain": [
       "                     PERWT\n",
       "YEAR FLAG_EBIKE           \n",
       "2019 0            905095.0\n",
       "     1           1889160.0"
      ]
     },
     "execution_count": 7,
     "metadata": {},
     "output_type": "execute_result"
    }
   ],
   "source": [
    "######################    \n",
    "###### CHECKS ########\n",
    "######################\n",
    "\n",
    "check_df = ipums_df[ipums_df['YEAR']==2019].copy() #just to make checks simpler\n",
    "### population by ebike flag\n",
    "check_df.groupby(by=['YEAR','FLAG_EBIKE']).agg({\"PERWT\":\"sum\"})"
   ]
  },
  {
   "cell_type": "code",
   "execution_count": 8,
   "id": "41e40a3a",
   "metadata": {
    "ExecuteTime": {
     "end_time": "2022-04-24T21:37:12.190261Z",
     "start_time": "2022-04-24T21:37:12.184736Z"
    }
   },
   "outputs": [
    {
     "data": {
      "text/html": [
       "<div>\n",
       "<style scoped>\n",
       "    .dataframe tbody tr th:only-of-type {\n",
       "        vertical-align: middle;\n",
       "    }\n",
       "\n",
       "    .dataframe tbody tr th {\n",
       "        vertical-align: top;\n",
       "    }\n",
       "\n",
       "    .dataframe thead th {\n",
       "        text-align: right;\n",
       "    }\n",
       "</style>\n",
       "<table border=\"1\" class=\"dataframe\">\n",
       "  <thead>\n",
       "    <tr style=\"text-align: right;\">\n",
       "      <th></th>\n",
       "      <th></th>\n",
       "      <th>PERWT</th>\n",
       "    </tr>\n",
       "    <tr>\n",
       "      <th>YEAR</th>\n",
       "      <th>FLAG_WFH</th>\n",
       "      <th></th>\n",
       "    </tr>\n",
       "  </thead>\n",
       "  <tbody>\n",
       "    <tr>\n",
       "      <th rowspan=\"2\" valign=\"top\">2019</th>\n",
       "      <th>0</th>\n",
       "      <td>2264206.0</td>\n",
       "    </tr>\n",
       "    <tr>\n",
       "      <th>1</th>\n",
       "      <td>530049.0</td>\n",
       "    </tr>\n",
       "  </tbody>\n",
       "</table>\n",
       "</div>"
      ],
      "text/plain": [
       "                   PERWT\n",
       "YEAR FLAG_WFH           \n",
       "2019 0         2264206.0\n",
       "     1          530049.0"
      ]
     },
     "execution_count": 8,
     "metadata": {},
     "output_type": "execute_result"
    }
   ],
   "source": [
    "### population by wfh flag\n",
    "check_df.groupby(by=['YEAR','FLAG_WFH']).agg({\"PERWT\":\"sum\"})"
   ]
  },
  {
   "cell_type": "code",
   "execution_count": 9,
   "id": "3cee79a5",
   "metadata": {
    "ExecuteTime": {
     "end_time": "2022-04-24T21:37:12.213154Z",
     "start_time": "2022-04-24T21:37:12.192515Z"
    }
   },
   "outputs": [
    {
     "data": {
      "text/html": [
       "<div>\n",
       "<style scoped>\n",
       "    .dataframe tbody tr th:only-of-type {\n",
       "        vertical-align: middle;\n",
       "    }\n",
       "\n",
       "    .dataframe tbody tr th {\n",
       "        vertical-align: top;\n",
       "    }\n",
       "\n",
       "    .dataframe thead th {\n",
       "        text-align: right;\n",
       "    }\n",
       "</style>\n",
       "<table border=\"1\" class=\"dataframe\">\n",
       "  <thead>\n",
       "    <tr style=\"text-align: right;\">\n",
       "      <th>FLAG_WFH</th>\n",
       "      <th>0</th>\n",
       "      <th>1</th>\n",
       "    </tr>\n",
       "    <tr>\n",
       "      <th>EDUC_LABEL</th>\n",
       "      <th></th>\n",
       "      <th></th>\n",
       "    </tr>\n",
       "  </thead>\n",
       "  <tbody>\n",
       "    <tr>\n",
       "      <th>College_1Year</th>\n",
       "      <td>240459.0</td>\n",
       "      <td>15748.0</td>\n",
       "    </tr>\n",
       "    <tr>\n",
       "      <th>College_2Year</th>\n",
       "      <td>140010.0</td>\n",
       "      <td>8972.0</td>\n",
       "    </tr>\n",
       "    <tr>\n",
       "      <th>College_4Year</th>\n",
       "      <td>747255.0</td>\n",
       "      <td>262669.0</td>\n",
       "    </tr>\n",
       "    <tr>\n",
       "      <th>College_5PlusYears</th>\n",
       "      <td>475825.0</td>\n",
       "      <td>214659.0</td>\n",
       "    </tr>\n",
       "    <tr>\n",
       "      <th>Grade0_4</th>\n",
       "      <td>7547.0</td>\n",
       "      <td>NaN</td>\n",
       "    </tr>\n",
       "    <tr>\n",
       "      <th>Grade10</th>\n",
       "      <td>19939.0</td>\n",
       "      <td>1337.0</td>\n",
       "    </tr>\n",
       "    <tr>\n",
       "      <th>Grade11</th>\n",
       "      <td>28779.0</td>\n",
       "      <td>719.0</td>\n",
       "    </tr>\n",
       "    <tr>\n",
       "      <th>Grade9</th>\n",
       "      <td>20800.0</td>\n",
       "      <td>533.0</td>\n",
       "    </tr>\n",
       "    <tr>\n",
       "      <th>Grades12</th>\n",
       "      <td>511952.0</td>\n",
       "      <td>22820.0</td>\n",
       "    </tr>\n",
       "    <tr>\n",
       "      <th>Grades5_8</th>\n",
       "      <td>44760.0</td>\n",
       "      <td>2094.0</td>\n",
       "    </tr>\n",
       "    <tr>\n",
       "      <th>N/A_NoSchool</th>\n",
       "      <td>26880.0</td>\n",
       "      <td>498.0</td>\n",
       "    </tr>\n",
       "  </tbody>\n",
       "</table>\n",
       "</div>"
      ],
      "text/plain": [
       "FLAG_WFH                   0         1\n",
       "EDUC_LABEL                            \n",
       "College_1Year       240459.0   15748.0\n",
       "College_2Year       140010.0    8972.0\n",
       "College_4Year       747255.0  262669.0\n",
       "College_5PlusYears  475825.0  214659.0\n",
       "Grade0_4              7547.0       NaN\n",
       "Grade10              19939.0    1337.0\n",
       "Grade11              28779.0     719.0\n",
       "Grade9               20800.0     533.0\n",
       "Grades12            511952.0   22820.0\n",
       "Grades5_8            44760.0    2094.0\n",
       "N/A_NoSchool         26880.0     498.0"
      ]
     },
     "execution_count": 9,
     "metadata": {},
     "output_type": "execute_result"
    }
   ],
   "source": [
    "### education by wfh flag\n",
    "wfh_by_edu = check_df.groupby(['YEAR',\"FLAG_WFH\",'EDUC_LABEL']).agg({\"PERWT\":\"sum\"}).reset_index()\\\n",
    ".pivot_table(index='EDUC_LABEL',columns='FLAG_WFH',values='PERWT')\n",
    "wfh_by_edu.divide(wfh_by_edu.sum(axis=1),axis=0)\n",
    "wfh_by_edu"
   ]
  },
  {
   "cell_type": "code",
   "execution_count": 17,
   "id": "5cbec077",
   "metadata": {
    "ExecuteTime": {
     "end_time": "2022-04-24T21:38:06.598233Z",
     "start_time": "2022-04-24T21:38:06.565508Z"
    }
   },
   "outputs": [
    {
     "data": {
      "text/plain": [
       "('pcts overall',\n",
       " FLAG_WFH           0         1\n",
       " FLAG_EBIKE                    \n",
       " 0           0.254177  0.069736\n",
       " 1           0.556131  0.119956,\n",
       " '----------------------------------------------------------------------------------------------------',\n",
       " 'gross counts',\n",
       " FLAG_WFH            0         1\n",
       " FLAG_EBIKE                     \n",
       " 0            710234.0  194861.0\n",
       " 1           1553972.0  335188.0)"
      ]
     },
     "execution_count": 17,
     "metadata": {},
     "output_type": "execute_result"
    }
   ],
   "source": [
    "### cross-tabs of the 2 flags\n",
    "ct = check_df.groupby(['YEAR',\"FLAG_WFH\",'FLAG_EBIKE']).agg({\"PERWT\":\"sum\"})\\\n",
    ".reset_index().pivot_table(index='FLAG_EBIKE',columns='FLAG_WFH',values='PERWT')\n",
    "\n",
    "\"pcts overall\",ct / ct.sum().sum(),\"--\"*50,'gross counts', ct"
   ]
  },
  {
   "cell_type": "code",
   "execution_count": null,
   "id": "666a13e9",
   "metadata": {},
   "outputs": [],
   "source": []
  }
 ],
 "metadata": {
  "kernelspec": {
   "display_name": "Python 3 (ipykernel)",
   "language": "python",
   "name": "python3"
  },
  "language_info": {
   "codemirror_mode": {
    "name": "ipython",
    "version": 3
   },
   "file_extension": ".py",
   "mimetype": "text/x-python",
   "name": "python",
   "nbconvert_exporter": "python",
   "pygments_lexer": "ipython3",
   "version": "3.9.7"
  }
 },
 "nbformat": 4,
 "nbformat_minor": 5
}
