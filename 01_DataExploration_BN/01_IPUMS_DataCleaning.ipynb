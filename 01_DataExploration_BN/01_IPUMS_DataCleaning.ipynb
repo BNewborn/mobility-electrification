{
 "cells": [
  {
   "cell_type": "code",
   "execution_count": 1,
   "id": "346e6051",
   "metadata": {
    "ExecuteTime": {
     "end_time": "2022-03-05T19:18:59.520413Z",
     "start_time": "2022-03-05T19:18:59.509303Z"
    }
   },
   "outputs": [
    {
     "name": "stdout",
     "output_type": "stream",
     "text": [
      "\n",
      "import pandas as pd\n",
      "import seaborn as sns\n",
      "from matplotlib import pyplot as plt\n",
      "import numpy as np\n",
      "import os\n",
      "\n",
      "import re\n",
      "import time \n",
      "\n",
      "from pprint import pprint\n",
      "\n",
      "\n"
     ]
    }
   ],
   "source": [
    "print(packages_import_statement); pd.set_option(\"max_columns\",0)"
   ]
  },
  {
   "cell_type": "markdown",
   "id": "5a2297fc",
   "metadata": {},
   "source": [
    "Data pulled from [IPUMS](https://usa.ipums.org/usa/index.shtml). Screenshot of our extract screen \n",
    "\n",
    "![ipums screenshot](images/ipums_data_pull.png)"
   ]
  },
  {
   "cell_type": "code",
   "execution_count": null,
   "id": "5d5868f5",
   "metadata": {
    "ExecuteTime": {
     "end_time": "2022-03-05T00:19:40.244918Z",
     "start_time": "2022-03-05T00:19:40.241377Z"
    }
   },
   "outputs": [],
   "source": []
  },
  {
   "cell_type": "code",
   "execution_count": 2,
   "id": "ddcedf91",
   "metadata": {
    "ExecuteTime": {
     "end_time": "2022-03-05T19:19:00.434851Z",
     "start_time": "2022-03-05T19:18:59.524482Z"
    },
    "scrolled": true
   },
   "outputs": [
    {
     "name": "stdout",
     "output_type": "stream",
     "text": [
      "(289250, 34)\n"
     ]
    },
    {
     "data": {
      "text/html": [
       "<div>\n",
       "<style scoped>\n",
       "    .dataframe tbody tr th:only-of-type {\n",
       "        vertical-align: middle;\n",
       "    }\n",
       "\n",
       "    .dataframe tbody tr th {\n",
       "        vertical-align: top;\n",
       "    }\n",
       "\n",
       "    .dataframe thead th {\n",
       "        text-align: right;\n",
       "    }\n",
       "</style>\n",
       "<table border=\"1\" class=\"dataframe\">\n",
       "  <thead>\n",
       "    <tr style=\"text-align: right;\">\n",
       "      <th></th>\n",
       "      <th>YEAR</th>\n",
       "      <th>SAMPLE</th>\n",
       "      <th>SERIAL</th>\n",
       "      <th>CBSERIAL</th>\n",
       "      <th>HHWT</th>\n",
       "      <th>CLUSTER</th>\n",
       "      <th>REGION</th>\n",
       "      <th>STATEFIP</th>\n",
       "      <th>COUNTYFIP</th>\n",
       "      <th>DENSITY</th>\n",
       "      <th>CITY</th>\n",
       "      <th>PUMA</th>\n",
       "      <th>STRATA</th>\n",
       "      <th>GQ</th>\n",
       "      <th>PERNUM</th>\n",
       "      <th>PERWT</th>\n",
       "      <th>EMPSTAT</th>\n",
       "      <th>EMPSTATD</th>\n",
       "      <th>WKSWORK2</th>\n",
       "      <th>UHRSWORK</th>\n",
       "      <th>POVERTY</th>\n",
       "      <th>DIFFREM</th>\n",
       "      <th>DIFFPHYS</th>\n",
       "      <th>DIFFSENS</th>\n",
       "      <th>DIFFEYE</th>\n",
       "      <th>PWSTATE2</th>\n",
       "      <th>PWCOUNTY</th>\n",
       "      <th>PWPUMA00</th>\n",
       "      <th>TRANWORK</th>\n",
       "      <th>CARPOOL</th>\n",
       "      <th>RIDERS</th>\n",
       "      <th>TRANTIME</th>\n",
       "      <th>DEPARTS</th>\n",
       "      <th>ARRIVES</th>\n",
       "    </tr>\n",
       "  </thead>\n",
       "  <tbody>\n",
       "    <tr>\n",
       "      <th>0</th>\n",
       "      <td>2017</td>\n",
       "      <td>201701</td>\n",
       "      <td>241934</td>\n",
       "      <td>2017000002252</td>\n",
       "      <td>55.0</td>\n",
       "      <td>2017002419341</td>\n",
       "      <td>11</td>\n",
       "      <td>9</td>\n",
       "      <td>5</td>\n",
       "      <td>415.4</td>\n",
       "      <td>0</td>\n",
       "      <td>500</td>\n",
       "      <td>50009</td>\n",
       "      <td>1</td>\n",
       "      <td>1</td>\n",
       "      <td>55.0</td>\n",
       "      <td>1</td>\n",
       "      <td>10</td>\n",
       "      <td>5</td>\n",
       "      <td>40</td>\n",
       "      <td>158</td>\n",
       "      <td>1</td>\n",
       "      <td>1</td>\n",
       "      <td>1</td>\n",
       "      <td>1</td>\n",
       "      <td>36</td>\n",
       "      <td>0</td>\n",
       "      <td>3100</td>\n",
       "      <td>10</td>\n",
       "      <td>1</td>\n",
       "      <td>1</td>\n",
       "      <td>90</td>\n",
       "      <td>702</td>\n",
       "      <td>834</td>\n",
       "    </tr>\n",
       "    <tr>\n",
       "      <th>1</th>\n",
       "      <td>2017</td>\n",
       "      <td>201701</td>\n",
       "      <td>241939</td>\n",
       "      <td>2017000002881</td>\n",
       "      <td>75.0</td>\n",
       "      <td>2017002419391</td>\n",
       "      <td>11</td>\n",
       "      <td>9</td>\n",
       "      <td>1</td>\n",
       "      <td>1433.9</td>\n",
       "      <td>0</td>\n",
       "      <td>100</td>\n",
       "      <td>10009</td>\n",
       "      <td>1</td>\n",
       "      <td>1</td>\n",
       "      <td>75.0</td>\n",
       "      <td>1</td>\n",
       "      <td>10</td>\n",
       "      <td>6</td>\n",
       "      <td>55</td>\n",
       "      <td>501</td>\n",
       "      <td>1</td>\n",
       "      <td>1</td>\n",
       "      <td>1</td>\n",
       "      <td>1</td>\n",
       "      <td>36</td>\n",
       "      <td>27</td>\n",
       "      <td>2800</td>\n",
       "      <td>10</td>\n",
       "      <td>1</td>\n",
       "      <td>1</td>\n",
       "      <td>60</td>\n",
       "      <td>732</td>\n",
       "      <td>834</td>\n",
       "    </tr>\n",
       "  </tbody>\n",
       "</table>\n",
       "</div>"
      ],
      "text/plain": [
       "   YEAR  SAMPLE  SERIAL       CBSERIAL  ...  RIDERS  TRANTIME  DEPARTS  ARRIVES\n",
       "0  2017  201701  241934  2017000002252  ...       1        90      702      834\n",
       "1  2017  201701  241939  2017000002881  ...       1        60      732      834\n",
       "\n",
       "[2 rows x 34 columns]"
      ]
     },
     "execution_count": 2,
     "metadata": {},
     "output_type": "execute_result"
    }
   ],
   "source": [
    "dtypes_use={\"SAMPLE\":int,\"PUMA\":str,\"PWPUMA00\":str}\n",
    "\n",
    "# Read in raw IPUMS csv from download\n",
    "df = pd.read_csv(\"./ipums_data/ipums_data_v4.csv\",dtype=dtypes_use)\n",
    "print(df.shape)\n",
    "df.head(2)"
   ]
  },
  {
   "cell_type": "code",
   "execution_count": 3,
   "id": "dbda56bb",
   "metadata": {
    "ExecuteTime": {
     "end_time": "2022-03-05T19:19:00.844465Z",
     "start_time": "2022-03-05T19:19:00.438505Z"
    }
   },
   "outputs": [],
   "source": [
    "### Cleaning Steps - weightt columns need to be divided by 100\n",
    "df['HHWT_CLEANED'] = df['HHWT'].astype(float)/100\n",
    "df['PERWT_CLEANED'] = df['PERWT'].astype(float)/100\n",
    "\n",
    "### Create departs and arrives hour values - minutes are too granular\n",
    "df[\"DEPARTS_HOUR\"] = df[\"DEPARTS\"]//100\n",
    "df[\"ARRIVES_HOUR\"] = df[\"ARRIVES\"]//100"
   ]
  },
  {
   "cell_type": "code",
   "execution_count": 4,
   "id": "20b6f24e",
   "metadata": {
    "ExecuteTime": {
     "end_time": "2022-03-05T19:19:01.114380Z",
     "start_time": "2022-03-05T19:19:00.847799Z"
    }
   },
   "outputs": [],
   "source": [
    "## Want to filter on place of work = Manhattan\n",
    "## Has to be used at both state and PWPuma level - PWPUMA is state dependent.\n",
    "## Even though we've filtered for PWSTATE2 in ipums, this is just us being extra cautious\n",
    "works_in_ny = df['PWSTATE2']==36\n",
    "works_in_manhattan = df[\"PWPUMA00\"]==\"3800\"\n",
    "\n",
    "df = df[works_in_ny&works_in_manhattan]"
   ]
  },
  {
   "cell_type": "code",
   "execution_count": 5,
   "id": "4fa7745e",
   "metadata": {
    "ExecuteTime": {
     "end_time": "2022-03-05T19:19:01.176882Z",
     "start_time": "2022-03-05T19:19:01.120116Z"
    }
   },
   "outputs": [],
   "source": [
    "## Columns we will aggregate on for the main table\n",
    "agg_columns = ['SAMPLE','STATEFIP','COUNTYFIP','PUMA'\\\n",
    "               ,'PWPUMA00','TRANWORK','DEPARTS_HOUR'\\\n",
    "               ,'ARRIVES_HOUR']\n",
    "\n",
    "## Create year by year copies for separate files\n",
    "df_17 = df[df['SAMPLE']==201701].copy()\n",
    "df_18 = df[df['SAMPLE']==201801].copy()\n",
    "df_19 = df[df['SAMPLE']==201901].copy()"
   ]
  },
  {
   "cell_type": "code",
   "execution_count": 6,
   "id": "dba0a7d5",
   "metadata": {
    "ExecuteTime": {
     "end_time": "2022-03-05T19:19:01.244424Z",
     "start_time": "2022-03-05T19:19:01.179218Z"
    }
   },
   "outputs": [
    {
     "data": {
      "text/html": [
       "<div>\n",
       "<style scoped>\n",
       "    .dataframe tbody tr th:only-of-type {\n",
       "        vertical-align: middle;\n",
       "    }\n",
       "\n",
       "    .dataframe tbody tr th {\n",
       "        vertical-align: top;\n",
       "    }\n",
       "\n",
       "    .dataframe thead th {\n",
       "        text-align: right;\n",
       "    }\n",
       "</style>\n",
       "<table border=\"1\" class=\"dataframe\">\n",
       "  <thead>\n",
       "    <tr style=\"text-align: right;\">\n",
       "      <th></th>\n",
       "      <th>SAMPLE</th>\n",
       "      <th>STATEFIP</th>\n",
       "      <th>COUNTYFIP</th>\n",
       "      <th>PUMA</th>\n",
       "      <th>PWPUMA00</th>\n",
       "      <th>TRANWORK</th>\n",
       "      <th>DEPARTS_HOUR</th>\n",
       "      <th>ARRIVES_HOUR</th>\n",
       "      <th>EST_PERSONS</th>\n",
       "    </tr>\n",
       "  </thead>\n",
       "  <tbody>\n",
       "    <tr>\n",
       "      <th>0</th>\n",
       "      <td>201701</td>\n",
       "      <td>9</td>\n",
       "      <td>1</td>\n",
       "      <td>100</td>\n",
       "      <td>3800</td>\n",
       "      <td>10</td>\n",
       "      <td>5</td>\n",
       "      <td>5</td>\n",
       "      <td>1.10</td>\n",
       "    </tr>\n",
       "    <tr>\n",
       "      <th>1</th>\n",
       "      <td>201701</td>\n",
       "      <td>9</td>\n",
       "      <td>1</td>\n",
       "      <td>100</td>\n",
       "      <td>3800</td>\n",
       "      <td>10</td>\n",
       "      <td>5</td>\n",
       "      <td>7</td>\n",
       "      <td>1.14</td>\n",
       "    </tr>\n",
       "    <tr>\n",
       "      <th>2</th>\n",
       "      <td>201701</td>\n",
       "      <td>9</td>\n",
       "      <td>1</td>\n",
       "      <td>100</td>\n",
       "      <td>3800</td>\n",
       "      <td>10</td>\n",
       "      <td>6</td>\n",
       "      <td>8</td>\n",
       "      <td>2.56</td>\n",
       "    </tr>\n",
       "    <tr>\n",
       "      <th>3</th>\n",
       "      <td>201701</td>\n",
       "      <td>9</td>\n",
       "      <td>1</td>\n",
       "      <td>100</td>\n",
       "      <td>3800</td>\n",
       "      <td>10</td>\n",
       "      <td>7</td>\n",
       "      <td>7</td>\n",
       "      <td>1.23</td>\n",
       "    </tr>\n",
       "    <tr>\n",
       "      <th>4</th>\n",
       "      <td>201701</td>\n",
       "      <td>9</td>\n",
       "      <td>1</td>\n",
       "      <td>100</td>\n",
       "      <td>3800</td>\n",
       "      <td>10</td>\n",
       "      <td>7</td>\n",
       "      <td>9</td>\n",
       "      <td>0.42</td>\n",
       "    </tr>\n",
       "  </tbody>\n",
       "</table>\n",
       "</div>"
      ],
      "text/plain": [
       "   SAMPLE  STATEFIP  COUNTYFIP  ... DEPARTS_HOUR ARRIVES_HOUR  EST_PERSONS\n",
       "0  201701         9          1  ...            5            5         1.10\n",
       "1  201701         9          1  ...            5            7         1.14\n",
       "2  201701         9          1  ...            6            8         2.56\n",
       "3  201701         9          1  ...            7            7         1.23\n",
       "4  201701         9          1  ...            7            9         0.42\n",
       "\n",
       "[5 rows x 9 columns]"
      ]
     },
     "execution_count": 6,
     "metadata": {},
     "output_type": "execute_result"
    }
   ],
   "source": [
    "df.groupby(by=agg_columns).agg({\"PERWT_CLEANED\":\"sum\"})\\\n",
    ".rename({\"PERWT_CLEANED\":\"EST_PERSONS\"},axis=1).reset_index().head(5)"
   ]
  },
  {
   "cell_type": "code",
   "execution_count": 7,
   "id": "5289e288",
   "metadata": {
    "ExecuteTime": {
     "end_time": "2022-03-05T19:19:01.482418Z",
     "start_time": "2022-03-05T19:19:01.250728Z"
    }
   },
   "outputs": [],
   "source": [
    "### Group by agg columns and sum up PERWT_CLEANED\n",
    "### Save resulting data as travel_data csvs\n",
    "df.groupby(by=agg_columns).agg({\"PERWT_CLEANED\":\"sum\"})\\\n",
    ".rename({\"PERWT_CLEANED\":\"EST_PERSONS\"},axis=1).reset_index()\\\n",
    ".to_csv(\"./ipums_data/ipums_nyc_commute_travel_data.csv\")\n",
    "\n",
    "df_17.groupby(by=agg_columns).agg({\"PERWT_CLEANED\":\"sum\"})\\\n",
    ".rename({\"PERWT_CLEANED\":\"EST_PERSONS\"},axis=1).reset_index()\\\n",
    ".to_csv(\"./ipums_data/ipums_nyc_commute_travel_data_2017.csv\")\n",
    "\n",
    "df_18.groupby(by=agg_columns).agg({\"PERWT_CLEANED\":\"sum\"})\\\n",
    ".rename({\"PERWT_CLEANED\":\"EST_PERSONS\"},axis=1).reset_index()\\\n",
    ".to_csv(\"./ipums_data/ipums_nyc_commute_travel_data_2018.csv\")\n",
    "\n",
    "df_19.groupby(by=agg_columns).agg({\"PERWT_CLEANED\":\"sum\"})\\\n",
    ".rename({\"PERWT_CLEANED\":\"EST_PERSONS\"},axis=1).reset_index()\\\n",
    ".to_csv(\"./ipums_data/ipums_nyc_commute_travel_data_2019.csv\")"
   ]
  },
  {
   "cell_type": "code",
   "execution_count": 8,
   "id": "9964a6a9",
   "metadata": {
    "ExecuteTime": {
     "end_time": "2022-03-05T19:19:01.633351Z",
     "start_time": "2022-03-05T19:19:01.486355Z"
    }
   },
   "outputs": [],
   "source": [
    "### Get health information by commuting pattern + place of origin\n",
    "health_columns = [\"DIFFREM\",\"DIFFPHYS\",\"DIFFSENS\",\"DIFFEYE\"]\n",
    "agg_columns_health = ['SAMPLE','STATEFIP','COUNTYFIP','PUMA'\\\n",
    "                      ,'PWPUMA00','TRANWORK']+health_columns\n",
    "\n",
    "### Save resulting data as health_commute_data csvs\n",
    "df.groupby(by=agg_columns_health).agg({\"PERWT_CLEANED\":\"sum\"})\\\n",
    ".rename({\"PERWT_CLEANED\":\"EST_PERSONS\"},axis=1).reset_index()\\\n",
    ".to_csv(\"./ipums_data/ipums_nyc_health_commute_data.csv\")\n",
    "\n",
    "df_17.groupby(by=agg_columns_health).agg({\"PERWT_CLEANED\":\"sum\"})\\\n",
    ".rename({\"PERWT_CLEANED\":\"EST_PERSONS\"},axis=1).reset_index()\\\n",
    ".to_csv(\"./ipums_data/ipums_nyc_health_commute_data_2017.csv\")\n",
    "\n",
    "df_18.groupby(by=agg_columns_health).agg({\"PERWT_CLEANED\":\"sum\"})\\\n",
    ".rename({\"PERWT_CLEANED\":\"EST_PERSONS\"},axis=1).reset_index()\\\n",
    ".to_csv(\"./ipums_data/ipums_nyc_health_commute_data_2018.csv\")\n",
    "\n",
    "df_19.groupby(by=agg_columns_health).agg({\"PERWT_CLEANED\":\"sum\"})\\\n",
    ".rename({\"PERWT_CLEANED\":\"EST_PERSONS\"},axis=1).reset_index()\\\n",
    ".to_csv(\"./ipums_data/ipums_nyc_health_commute_data_2019.csv\")"
   ]
  },
  {
   "cell_type": "code",
   "execution_count": 9,
   "id": "5d0a16a3",
   "metadata": {
    "ExecuteTime": {
     "end_time": "2022-03-05T19:19:01.688278Z",
     "start_time": "2022-03-05T19:19:01.637910Z"
    }
   },
   "outputs": [
    {
     "data": {
      "text/html": [
       "<div>\n",
       "<style scoped>\n",
       "    .dataframe tbody tr th:only-of-type {\n",
       "        vertical-align: middle;\n",
       "    }\n",
       "\n",
       "    .dataframe tbody tr th {\n",
       "        vertical-align: top;\n",
       "    }\n",
       "\n",
       "    .dataframe thead th {\n",
       "        text-align: right;\n",
       "    }\n",
       "</style>\n",
       "<table border=\"1\" class=\"dataframe\">\n",
       "  <thead>\n",
       "    <tr style=\"text-align: right;\">\n",
       "      <th></th>\n",
       "      <th>SAMPLE</th>\n",
       "      <th>STATEFIP</th>\n",
       "      <th>COUNTYFIP</th>\n",
       "      <th>PUMA</th>\n",
       "      <th>PWPUMA00</th>\n",
       "      <th>TRANWORK</th>\n",
       "      <th>DIFFREM</th>\n",
       "      <th>DIFFPHYS</th>\n",
       "      <th>DIFFSENS</th>\n",
       "      <th>DIFFEYE</th>\n",
       "      <th>EST_PERSONS</th>\n",
       "    </tr>\n",
       "  </thead>\n",
       "  <tbody>\n",
       "    <tr>\n",
       "      <th>0</th>\n",
       "      <td>201701</td>\n",
       "      <td>9</td>\n",
       "      <td>1</td>\n",
       "      <td>100</td>\n",
       "      <td>3800</td>\n",
       "      <td>10</td>\n",
       "      <td>1</td>\n",
       "      <td>1</td>\n",
       "      <td>1</td>\n",
       "      <td>1</td>\n",
       "      <td>7.89</td>\n",
       "    </tr>\n",
       "    <tr>\n",
       "      <th>1</th>\n",
       "      <td>201701</td>\n",
       "      <td>9</td>\n",
       "      <td>1</td>\n",
       "      <td>100</td>\n",
       "      <td>3800</td>\n",
       "      <td>32</td>\n",
       "      <td>1</td>\n",
       "      <td>1</td>\n",
       "      <td>1</td>\n",
       "      <td>1</td>\n",
       "      <td>0.63</td>\n",
       "    </tr>\n",
       "    <tr>\n",
       "      <th>2</th>\n",
       "      <td>201701</td>\n",
       "      <td>9</td>\n",
       "      <td>1</td>\n",
       "      <td>100</td>\n",
       "      <td>3800</td>\n",
       "      <td>32</td>\n",
       "      <td>1</td>\n",
       "      <td>2</td>\n",
       "      <td>1</td>\n",
       "      <td>1</td>\n",
       "      <td>0.97</td>\n",
       "    </tr>\n",
       "    <tr>\n",
       "      <th>3</th>\n",
       "      <td>201701</td>\n",
       "      <td>9</td>\n",
       "      <td>1</td>\n",
       "      <td>100</td>\n",
       "      <td>3800</td>\n",
       "      <td>36</td>\n",
       "      <td>1</td>\n",
       "      <td>1</td>\n",
       "      <td>1</td>\n",
       "      <td>1</td>\n",
       "      <td>1.06</td>\n",
       "    </tr>\n",
       "    <tr>\n",
       "      <th>4</th>\n",
       "      <td>201701</td>\n",
       "      <td>9</td>\n",
       "      <td>1</td>\n",
       "      <td>100</td>\n",
       "      <td>3800</td>\n",
       "      <td>37</td>\n",
       "      <td>1</td>\n",
       "      <td>1</td>\n",
       "      <td>1</td>\n",
       "      <td>1</td>\n",
       "      <td>19.04</td>\n",
       "    </tr>\n",
       "  </tbody>\n",
       "</table>\n",
       "</div>"
      ],
      "text/plain": [
       "   SAMPLE  STATEFIP  COUNTYFIP PUMA  ... DIFFPHYS  DIFFSENS  DIFFEYE  EST_PERSONS\n",
       "0  201701         9          1  100  ...        1         1        1         7.89\n",
       "1  201701         9          1  100  ...        1         1        1         0.63\n",
       "2  201701         9          1  100  ...        2         1        1         0.97\n",
       "3  201701         9          1  100  ...        1         1        1         1.06\n",
       "4  201701         9          1  100  ...        1         1        1        19.04\n",
       "\n",
       "[5 rows x 11 columns]"
      ]
     },
     "execution_count": 9,
     "metadata": {},
     "output_type": "execute_result"
    }
   ],
   "source": [
    "df.groupby(by=agg_columns_health).agg({\"PERWT_CLEANED\":\"sum\"})\\\n",
    ".rename({\"PERWT_CLEANED\":\"EST_PERSONS\"},axis=1).reset_index().head(5)"
   ]
  },
  {
   "cell_type": "code",
   "execution_count": 10,
   "id": "4f2d6fc0",
   "metadata": {
    "ExecuteTime": {
     "end_time": "2022-03-05T19:19:01.703981Z",
     "start_time": "2022-03-05T19:19:01.692225Z"
    }
   },
   "outputs": [],
   "source": [
    "##### Create TranWork reference table - values taken from codebook\n",
    "tranwork_key = [(0,\"N/A\")\n",
    " ,(10,\"Auto, truck, or van\")\n",
    " ,(11,\"Auto\")\n",
    " ,(12,\"Driver\")\n",
    " ,(13,\"Passenger\")\n",
    " ,(14,\"Truck\")\n",
    " ,(15,\"Van\")\n",
    " ,(20,\"Motorcycle\")\n",
    " ,(31,\"Bus\")\n",
    " ,(32,\"Bus or trolley bus\")\n",
    " ,(33,\"Bus or streetcar\")\n",
    " ,(34,\"Light rail, streetcar, or trolley (Carro público in PR)\")\n",
    " ,(35,\"Streetcar or trolley car (publico in Puerto Rico, 2000)\")\n",
    " ,(36,\"Subway or elevated\")\n",
    " ,(37,\"Long-distance train or commuter train\")\n",
    " ,(38,\"Taxicab\")\n",
    " ,(39,\"Ferryboat\")\n",
    " ,(50,\"Bicycle\")\n",
    " ,(60,\"Walked only\")\n",
    " ,(70,\"Other\")\n",
    " ,(80,\"Worked at home\")\n",
    " ]\n",
    "pd.DataFrame(tranwork_key,columns=['TRANWORK',\"TRANWORK_DESC\"])\\\n",
    ".to_csv(\"./ipums_data/ipums_tranwork_reference.csv\")\n",
    "    "
   ]
  },
  {
   "cell_type": "code",
   "execution_count": 11,
   "id": "470b8b97",
   "metadata": {
    "ExecuteTime": {
     "end_time": "2022-03-05T19:19:01.900076Z",
     "start_time": "2022-03-05T19:19:01.706684Z"
    }
   },
   "outputs": [],
   "source": [
    "##### Create geography table - raw table from here\n",
    "# https://www.census.gov/geographies/reference-files/2019/demo/popest/2019-fips.html\n",
    "geo_df = pd.read_csv(\"./ipums_data/census_data_geocodes_us_2019.csv\",skiprows=4)\n",
    "geo_df.rename({\"Summary Level\":\"SUMMARY_LEVEL\",\"State Code (FIPS)\":\"STATEFIP\"\\\n",
    "              ,\"County Code (FIPS)\":\"COUNTYFIP\"\\\n",
    "               ,\"County Subdivision Code (FIPS)\":\"COUNTY_SUBDIV_FIP\"\\\n",
    "              ,\"Place Code (FIPS)\":\"PLACE_FIP\"\n",
    "              ,\"Consolidtated City Code (FIPS)\":\"CONSOL_CITY_FIP\"\\\n",
    "              ,\"Area Name (including legal/statistical area description)\":\"AREA_NAME\"},axis=1,inplace=True)\n",
    "geo_df.to_csv(\"./ipums_data/geocodes_us_2019_clean.csv\")"
   ]
  },
  {
   "cell_type": "code",
   "execution_count": 12,
   "id": "cb7c3140",
   "metadata": {
    "ExecuteTime": {
     "end_time": "2022-03-05T19:19:01.923593Z",
     "start_time": "2022-03-05T19:19:01.902654Z"
    }
   },
   "outputs": [
    {
     "data": {
      "text/html": [
       "<div>\n",
       "<style scoped>\n",
       "    .dataframe tbody tr th:only-of-type {\n",
       "        vertical-align: middle;\n",
       "    }\n",
       "\n",
       "    .dataframe tbody tr th {\n",
       "        vertical-align: top;\n",
       "    }\n",
       "\n",
       "    .dataframe thead th {\n",
       "        text-align: right;\n",
       "    }\n",
       "</style>\n",
       "<table border=\"1\" class=\"dataframe\">\n",
       "  <thead>\n",
       "    <tr style=\"text-align: right;\">\n",
       "      <th></th>\n",
       "      <th>SUMMARY_LEVEL</th>\n",
       "      <th>STATEFIP</th>\n",
       "      <th>COUNTYFIP</th>\n",
       "      <th>COUNTY_SUBDIV_FIP</th>\n",
       "      <th>PLACE_FIP</th>\n",
       "      <th>CONSOL_CITY_FIP</th>\n",
       "      <th>AREA_NAME</th>\n",
       "    </tr>\n",
       "  </thead>\n",
       "  <tbody>\n",
       "    <tr>\n",
       "      <th>0</th>\n",
       "      <td>10</td>\n",
       "      <td>0</td>\n",
       "      <td>0</td>\n",
       "      <td>0</td>\n",
       "      <td>0</td>\n",
       "      <td>0</td>\n",
       "      <td>United States</td>\n",
       "    </tr>\n",
       "    <tr>\n",
       "      <th>1</th>\n",
       "      <td>40</td>\n",
       "      <td>1</td>\n",
       "      <td>0</td>\n",
       "      <td>0</td>\n",
       "      <td>0</td>\n",
       "      <td>0</td>\n",
       "      <td>Alabama</td>\n",
       "    </tr>\n",
       "    <tr>\n",
       "      <th>2</th>\n",
       "      <td>50</td>\n",
       "      <td>1</td>\n",
       "      <td>1</td>\n",
       "      <td>0</td>\n",
       "      <td>0</td>\n",
       "      <td>0</td>\n",
       "      <td>Autauga County</td>\n",
       "    </tr>\n",
       "    <tr>\n",
       "      <th>3</th>\n",
       "      <td>50</td>\n",
       "      <td>1</td>\n",
       "      <td>3</td>\n",
       "      <td>0</td>\n",
       "      <td>0</td>\n",
       "      <td>0</td>\n",
       "      <td>Baldwin County</td>\n",
       "    </tr>\n",
       "    <tr>\n",
       "      <th>4</th>\n",
       "      <td>50</td>\n",
       "      <td>1</td>\n",
       "      <td>5</td>\n",
       "      <td>0</td>\n",
       "      <td>0</td>\n",
       "      <td>0</td>\n",
       "      <td>Barbour County</td>\n",
       "    </tr>\n",
       "  </tbody>\n",
       "</table>\n",
       "</div>"
      ],
      "text/plain": [
       "   SUMMARY_LEVEL  STATEFIP  ...  CONSOL_CITY_FIP       AREA_NAME\n",
       "0             10         0  ...                0   United States\n",
       "1             40         1  ...                0         Alabama\n",
       "2             50         1  ...                0  Autauga County\n",
       "3             50         1  ...                0  Baldwin County\n",
       "4             50         1  ...                0  Barbour County\n",
       "\n",
       "[5 rows x 7 columns]"
      ]
     },
     "execution_count": 12,
     "metadata": {},
     "output_type": "execute_result"
    }
   ],
   "source": [
    "geo_df.head(5)"
   ]
  },
  {
   "cell_type": "code",
   "execution_count": 13,
   "id": "f1bef3f7",
   "metadata": {
    "ExecuteTime": {
     "end_time": "2022-03-05T19:19:01.964337Z",
     "start_time": "2022-03-05T19:19:01.931848Z"
    }
   },
   "outputs": [],
   "source": [
    "##### Create PUMA name table - raw table from \n",
    "# https://www2.census.gov/geo/docs/reference/puma/2010_PUMA_Names.txt\n",
    "puma_df = pd.read_csv(\"./ipums_data/census_puma_names_2019.txt\")\n",
    "puma_df.rename({\"STATEFP\":\"STATEFIP\",\"PUMA5CE\":\"PUMA\",\"PUMA NAME\":\"PUMA_NAME\"},axis=1,inplace=True)\n",
    "puma_df.to_csv(\"./ipums_data/pumanames_us_2019_clean.csv\")"
   ]
  },
  {
   "cell_type": "code",
   "execution_count": 14,
   "id": "6424d1ef",
   "metadata": {
    "ExecuteTime": {
     "end_time": "2022-03-05T19:19:01.994649Z",
     "start_time": "2022-03-05T19:19:01.975185Z"
    }
   },
   "outputs": [
    {
     "data": {
      "text/html": [
       "<div>\n",
       "<style scoped>\n",
       "    .dataframe tbody tr th:only-of-type {\n",
       "        vertical-align: middle;\n",
       "    }\n",
       "\n",
       "    .dataframe tbody tr th {\n",
       "        vertical-align: top;\n",
       "    }\n",
       "\n",
       "    .dataframe thead th {\n",
       "        text-align: right;\n",
       "    }\n",
       "</style>\n",
       "<table border=\"1\" class=\"dataframe\">\n",
       "  <thead>\n",
       "    <tr style=\"text-align: right;\">\n",
       "      <th></th>\n",
       "      <th>STATEFIP</th>\n",
       "      <th>PUMA</th>\n",
       "      <th>PUMA_NAME</th>\n",
       "    </tr>\n",
       "  </thead>\n",
       "  <tbody>\n",
       "    <tr>\n",
       "      <th>0</th>\n",
       "      <td>1</td>\n",
       "      <td>100</td>\n",
       "      <td>Lauderdale, Colbert, Franklin &amp; Marion (Northe...</td>\n",
       "    </tr>\n",
       "    <tr>\n",
       "      <th>1</th>\n",
       "      <td>1</td>\n",
       "      <td>200</td>\n",
       "      <td>Limestone &amp; Madison (Outer) Counties--Huntsvil...</td>\n",
       "    </tr>\n",
       "    <tr>\n",
       "      <th>2</th>\n",
       "      <td>1</td>\n",
       "      <td>301</td>\n",
       "      <td>Huntsville (North) &amp; Madison (East) Cities</td>\n",
       "    </tr>\n",
       "    <tr>\n",
       "      <th>3</th>\n",
       "      <td>1</td>\n",
       "      <td>302</td>\n",
       "      <td>Huntsville City (Central &amp; South)</td>\n",
       "    </tr>\n",
       "    <tr>\n",
       "      <th>4</th>\n",
       "      <td>1</td>\n",
       "      <td>400</td>\n",
       "      <td>DeKalb &amp; Jackson Counties</td>\n",
       "    </tr>\n",
       "  </tbody>\n",
       "</table>\n",
       "</div>"
      ],
      "text/plain": [
       "   STATEFIP  PUMA                                          PUMA_NAME\n",
       "0         1   100  Lauderdale, Colbert, Franklin & Marion (Northe...\n",
       "1         1   200  Limestone & Madison (Outer) Counties--Huntsvil...\n",
       "2         1   301         Huntsville (North) & Madison (East) Cities\n",
       "3         1   302                  Huntsville City (Central & South)\n",
       "4         1   400                          DeKalb & Jackson Counties"
      ]
     },
     "execution_count": 14,
     "metadata": {},
     "output_type": "execute_result"
    }
   ],
   "source": [
    "puma_df.head(5)"
   ]
  },
  {
   "cell_type": "code",
   "execution_count": null,
   "id": "03708352",
   "metadata": {},
   "outputs": [],
   "source": []
  }
 ],
 "metadata": {
  "kernelspec": {
   "display_name": "Python 3",
   "language": "python",
   "name": "python3"
  },
  "language_info": {
   "codemirror_mode": {
    "name": "ipython",
    "version": 3
   },
   "file_extension": ".py",
   "mimetype": "text/x-python",
   "name": "python",
   "nbconvert_exporter": "python",
   "pygments_lexer": "ipython3",
   "version": "3.7.6"
  }
 },
 "nbformat": 4,
 "nbformat_minor": 5
}
