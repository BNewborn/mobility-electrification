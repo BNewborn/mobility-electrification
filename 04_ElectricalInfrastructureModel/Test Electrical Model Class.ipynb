{
 "cells": [
  {
   "cell_type": "code",
   "execution_count": 1,
   "id": "b2465ba3",
   "metadata": {
    "ExecuteTime": {
     "end_time": "2022-06-03T00:14:38.156565Z",
     "start_time": "2022-06-03T00:14:38.154810Z"
    }
   },
   "outputs": [],
   "source": [
    "import pandas as pd"
   ]
  },
  {
   "cell_type": "code",
   "execution_count": 2,
   "id": "71c502c0",
   "metadata": {
    "ExecuteTime": {
     "end_time": "2022-06-03T00:14:38.175981Z",
     "start_time": "2022-06-03T00:14:38.157532Z"
    }
   },
   "outputs": [],
   "source": [
    "## Run this in jupyter so any changes you make to the class will appear just by re-importing\n",
    "## instead of having to re-start the kernel\n",
    "%load_ext autoreload\n",
    "%autoreload 2"
   ]
  },
  {
   "cell_type": "code",
   "execution_count": 3,
   "id": "fd4857eb",
   "metadata": {
    "ExecuteTime": {
     "end_time": "2022-06-03T00:14:38.192103Z",
     "start_time": "2022-06-03T00:14:38.177598Z"
    }
   },
   "outputs": [],
   "source": [
    "from electrical_model import ElectricModel"
   ]
  },
  {
   "cell_type": "code",
   "execution_count": 4,
   "id": "bd9e6dce",
   "metadata": {
    "ExecuteTime": {
     "end_time": "2022-06-03T00:14:38.303641Z",
     "start_time": "2022-06-03T00:14:38.193092Z"
    }
   },
   "outputs": [
    {
     "data": {
      "text/plain": [
       "<electrical_model.ElectricModel at 0x7f7ef0f7faf0>"
      ]
     },
     "execution_count": 4,
     "metadata": {},
     "output_type": "execute_result"
    }
   ],
   "source": [
    "### read in commuter_df. feed that and the ev file location to class\n",
    "commuter_df = pd.read_csv(\"./samples/assignment_00_random.csv\",index_col=0)\n",
    "em_1 = ElectricModel(commuter_df,ev_reference_table_loc=\"EV_reference_table.csv\")\n",
    "em_1"
   ]
  },
  {
   "cell_type": "code",
   "execution_count": 5,
   "id": "6397b246",
   "metadata": {
    "ExecuteTime": {
     "end_time": "2022-06-03T00:14:38.318604Z",
     "start_time": "2022-06-03T00:14:38.304423Z"
    }
   },
   "outputs": [
    {
     "name": "stdout",
     "output_type": "stream",
     "text": [
      "(23978, 43)\n"
     ]
    }
   ],
   "source": [
    "print(em_1.commuter_df.shape)"
   ]
  },
  {
   "cell_type": "code",
   "execution_count": 6,
   "id": "8c207a48",
   "metadata": {
    "ExecuteTime": {
     "end_time": "2022-06-03T00:14:38.342854Z",
     "start_time": "2022-06-03T00:14:38.319329Z"
    }
   },
   "outputs": [
    {
     "name": "stdout",
     "output_type": "stream",
     "text": [
      "ev reference table read in. subway floor and commuter rail floor extracted from table\n",
      "Subway floor kwh: 55240 || Commuter Rail floor kwh: 9147\n"
     ]
    },
    {
     "data": {
      "text/html": [
       "<div>\n",
       "<style scoped>\n",
       "    .dataframe tbody tr th:only-of-type {\n",
       "        vertical-align: middle;\n",
       "    }\n",
       "\n",
       "    .dataframe tbody tr th {\n",
       "        vertical-align: top;\n",
       "    }\n",
       "\n",
       "    .dataframe thead th {\n",
       "        text-align: right;\n",
       "    }\n",
       "</style>\n",
       "<table border=\"1\" class=\"dataframe\">\n",
       "  <thead>\n",
       "    <tr style=\"text-align: right;\">\n",
       "      <th></th>\n",
       "      <th>TransMode</th>\n",
       "      <th>ChargingPower_kW</th>\n",
       "      <th>HoursToFullyRecharge_hr</th>\n",
       "      <th>Floor_kWh</th>\n",
       "      <th>Multiplier</th>\n",
       "      <th>MultiplierUnit</th>\n",
       "      <th>excludingfromMNY</th>\n",
       "      <th>NumberOfEV</th>\n",
       "      <th>TotalEnergyPerEV</th>\n",
       "      <th>HourEnergyPerEV</th>\n",
       "      <th>Energy</th>\n",
       "    </tr>\n",
       "  </thead>\n",
       "  <tbody>\n",
       "    <tr>\n",
       "      <th>0</th>\n",
       "      <td>AutoOccupants</td>\n",
       "      <td>12.0</td>\n",
       "      <td>7.0</td>\n",
       "      <td>NaN</td>\n",
       "      <td>0.2134</td>\n",
       "      <td>kwh/km</td>\n",
       "      <td>Live outside of MNY &amp; Owner</td>\n",
       "      <td>PERWT</td>\n",
       "      <td>DISTANCE_KM*Multiplier*2</td>\n",
       "      <td>no delay + related to charging time</td>\n",
       "      <td>In</td>\n",
       "    </tr>\n",
       "    <tr>\n",
       "      <th>1</th>\n",
       "      <td>Bus</td>\n",
       "      <td>163.0</td>\n",
       "      <td>3.0</td>\n",
       "      <td>NaN</td>\n",
       "      <td>1.7610</td>\n",
       "      <td>kwh/km</td>\n",
       "      <td>Live outside of MNY</td>\n",
       "      <td>PERWT/20</td>\n",
       "      <td>DISTANCE_KM*Multiplier</td>\n",
       "      <td>6 hr delay + related to charging time</td>\n",
       "      <td>In+Out</td>\n",
       "    </tr>\n",
       "  </tbody>\n",
       "</table>\n",
       "</div>"
      ],
      "text/plain": [
       "       TransMode  ChargingPower_kW  HoursToFullyRecharge_hr  Floor_kWh  \\\n",
       "0  AutoOccupants              12.0                      7.0        NaN   \n",
       "1            Bus             163.0                      3.0        NaN   \n",
       "\n",
       "   Multiplier MultiplierUnit             excludingfromMNY NumberOfEV  \\\n",
       "0      0.2134         kwh/km  Live outside of MNY & Owner      PERWT   \n",
       "1      1.7610         kwh/km          Live outside of MNY   PERWT/20   \n",
       "\n",
       "           TotalEnergyPerEV                        HourEnergyPerEV  Energy  \n",
       "0  DISTANCE_KM*Multiplier*2    no delay + related to charging time      In  \n",
       "1    DISTANCE_KM*Multiplier  6 hr delay + related to charging time  In+Out  "
      ]
     },
     "execution_count": 6,
     "metadata": {},
     "output_type": "execute_result"
    }
   ],
   "source": [
    "### read_electric_info_in reads ev_ref_table and creates floor variables\n",
    "em_1.read_electric_info_in()\n",
    "print(f\"Subway floor kwh: {em_1.subway_floor} || Commuter Rail floor kwh: {em_1.commuterRail_floor}\")\n",
    "em_1.ev_reference_table.head(2)"
   ]
  },
  {
   "cell_type": "code",
   "execution_count": 7,
   "id": "9592cbd2",
   "metadata": {
    "ExecuteTime": {
     "end_time": "2022-06-03T00:14:38.396206Z",
     "start_time": "2022-06-03T00:14:38.343766Z"
    }
   },
   "outputs": [
    {
     "name": "stdout",
     "output_type": "stream",
     "text": [
      "(18870, 46)\n"
     ]
    }
   ],
   "source": [
    "## clean_commuter_df:\n",
    "    # creates the MNY_RES column\n",
    "    # renames the Rand Assignment to TransMode (if necessary)\n",
    "    # Creates leave_work_hour column\n",
    "    # Filters out reverse commuters\n",
    "    # runs excludingfromMNY function\n",
    "\n",
    "em_1.clean_commuter_df()\n",
    "print(em_1.commuter_df.shape)"
   ]
  },
  {
   "cell_type": "code",
   "execution_count": 8,
   "id": "7dd96e9c",
   "metadata": {
    "ExecuteTime": {
     "end_time": "2022-06-03T00:14:38.419235Z",
     "start_time": "2022-06-03T00:14:38.397125Z"
    }
   },
   "outputs": [
    {
     "data": {
      "text/html": [
       "<div>\n",
       "<style scoped>\n",
       "    .dataframe tbody tr th:only-of-type {\n",
       "        vertical-align: middle;\n",
       "    }\n",
       "\n",
       "    .dataframe tbody tr th {\n",
       "        vertical-align: top;\n",
       "    }\n",
       "\n",
       "    .dataframe thead th {\n",
       "        text-align: right;\n",
       "    }\n",
       "</style>\n",
       "<table border=\"1\" class=\"dataframe\">\n",
       "  <thead>\n",
       "    <tr style=\"text-align: right;\">\n",
       "      <th></th>\n",
       "      <th>HOUR</th>\n",
       "      <th>TransMode</th>\n",
       "      <th>DISTANCE_KM</th>\n",
       "      <th>PERWT</th>\n",
       "      <th>FLOW_DIR</th>\n",
       "    </tr>\n",
       "  </thead>\n",
       "  <tbody>\n",
       "    <tr>\n",
       "      <th>0</th>\n",
       "      <td>9</td>\n",
       "      <td>No option</td>\n",
       "      <td>170.50491</td>\n",
       "      <td>23.0</td>\n",
       "      <td>IN</td>\n",
       "    </tr>\n",
       "    <tr>\n",
       "      <th>1</th>\n",
       "      <td>8</td>\n",
       "      <td>Motorcycle</td>\n",
       "      <td>170.50491</td>\n",
       "      <td>48.0</td>\n",
       "      <td>IN</td>\n",
       "    </tr>\n",
       "    <tr>\n",
       "      <th>2</th>\n",
       "      <td>8</td>\n",
       "      <td>Motorcycle</td>\n",
       "      <td>170.50491</td>\n",
       "      <td>54.0</td>\n",
       "      <td>IN</td>\n",
       "    </tr>\n",
       "    <tr>\n",
       "      <th>3</th>\n",
       "      <td>14</td>\n",
       "      <td>No option</td>\n",
       "      <td>170.50491</td>\n",
       "      <td>29.0</td>\n",
       "      <td>IN</td>\n",
       "    </tr>\n",
       "    <tr>\n",
       "      <th>4</th>\n",
       "      <td>9</td>\n",
       "      <td>Motorcycle</td>\n",
       "      <td>170.50491</td>\n",
       "      <td>33.0</td>\n",
       "      <td>IN</td>\n",
       "    </tr>\n",
       "  </tbody>\n",
       "</table>\n",
       "</div>"
      ],
      "text/plain": [
       "   HOUR   TransMode  DISTANCE_KM  PERWT FLOW_DIR\n",
       "0     9   No option    170.50491   23.0       IN\n",
       "1     8  Motorcycle    170.50491   48.0       IN\n",
       "2     8  Motorcycle    170.50491   54.0       IN\n",
       "3    14   No option    170.50491   29.0       IN\n",
       "4     9  Motorcycle    170.50491   33.0       IN"
      ]
     },
     "execution_count": 8,
     "metadata": {},
     "output_type": "execute_result"
    }
   ],
   "source": [
    "em_1.create_in_out_flow_dfs()\n",
    "em_1.flow_df.head(5)"
   ]
  },
  {
   "cell_type": "code",
   "execution_count": 9,
   "id": "8d2f8e07",
   "metadata": {
    "ExecuteTime": {
     "end_time": "2022-06-03T00:14:50.674614Z",
     "start_time": "2022-06-03T00:14:38.421407Z"
    }
   },
   "outputs": [],
   "source": [
    "# aggregate_data() runs HourEnergyByMode wrapper function\n",
    "em_1.aggregate_data()"
   ]
  },
  {
   "cell_type": "code",
   "execution_count": 10,
   "id": "b235da5e",
   "metadata": {
    "ExecuteTime": {
     "end_time": "2022-06-03T00:14:50.693883Z",
     "start_time": "2022-06-03T00:14:50.675439Z"
    }
   },
   "outputs": [
    {
     "data": {
      "text/html": [
       "<div>\n",
       "<style scoped>\n",
       "    .dataframe tbody tr th:only-of-type {\n",
       "        vertical-align: middle;\n",
       "    }\n",
       "\n",
       "    .dataframe tbody tr th {\n",
       "        vertical-align: top;\n",
       "    }\n",
       "\n",
       "    .dataframe thead th {\n",
       "        text-align: right;\n",
       "    }\n",
       "</style>\n",
       "<table border=\"1\" class=\"dataframe\">\n",
       "  <thead>\n",
       "    <tr style=\"text-align: right;\">\n",
       "      <th></th>\n",
       "      <th>Charge_Hour</th>\n",
       "      <th>TransMode</th>\n",
       "      <th>FLOW_DIR</th>\n",
       "      <th>Energy</th>\n",
       "    </tr>\n",
       "  </thead>\n",
       "  <tbody>\n",
       "    <tr>\n",
       "      <th>0</th>\n",
       "      <td>0</td>\n",
       "      <td>AutoOccupants</td>\n",
       "      <td>IN</td>\n",
       "      <td>90.988519</td>\n",
       "    </tr>\n",
       "    <tr>\n",
       "      <th>1</th>\n",
       "      <td>0</td>\n",
       "      <td>Bicycle</td>\n",
       "      <td>IN</td>\n",
       "      <td>5367.594135</td>\n",
       "    </tr>\n",
       "    <tr>\n",
       "      <th>2</th>\n",
       "      <td>0</td>\n",
       "      <td>Bus</td>\n",
       "      <td>IN</td>\n",
       "      <td>628.909793</td>\n",
       "    </tr>\n",
       "    <tr>\n",
       "      <th>3</th>\n",
       "      <td>0</td>\n",
       "      <td>Bus</td>\n",
       "      <td>OUT</td>\n",
       "      <td>8186.082715</td>\n",
       "    </tr>\n",
       "    <tr>\n",
       "      <th>4</th>\n",
       "      <td>0</td>\n",
       "      <td>CommuterRail</td>\n",
       "      <td>OUT</td>\n",
       "      <td>9642.600000</td>\n",
       "    </tr>\n",
       "    <tr>\n",
       "      <th>...</th>\n",
       "      <td>...</td>\n",
       "      <td>...</td>\n",
       "      <td>...</td>\n",
       "      <td>...</td>\n",
       "    </tr>\n",
       "    <tr>\n",
       "      <th>431</th>\n",
       "      <td>23</td>\n",
       "      <td>CommuterRail</td>\n",
       "      <td>ALL</td>\n",
       "      <td>19145.760000</td>\n",
       "    </tr>\n",
       "    <tr>\n",
       "      <th>432</th>\n",
       "      <td>23</td>\n",
       "      <td>Ferry</td>\n",
       "      <td>ALL</td>\n",
       "      <td>56.600000</td>\n",
       "    </tr>\n",
       "    <tr>\n",
       "      <th>433</th>\n",
       "      <td>23</td>\n",
       "      <td>Motorcycle</td>\n",
       "      <td>ALL</td>\n",
       "      <td>12594.462129</td>\n",
       "    </tr>\n",
       "    <tr>\n",
       "      <th>434</th>\n",
       "      <td>23</td>\n",
       "      <td>Subway</td>\n",
       "      <td>ALL</td>\n",
       "      <td>115838.782000</td>\n",
       "    </tr>\n",
       "    <tr>\n",
       "      <th>435</th>\n",
       "      <td>23</td>\n",
       "      <td>Taxicab</td>\n",
       "      <td>ALL</td>\n",
       "      <td>152675.046824</td>\n",
       "    </tr>\n",
       "  </tbody>\n",
       "</table>\n",
       "<p>436 rows × 4 columns</p>\n",
       "</div>"
      ],
      "text/plain": [
       "     Charge_Hour      TransMode FLOW_DIR         Energy\n",
       "0              0  AutoOccupants       IN      90.988519\n",
       "1              0        Bicycle       IN    5367.594135\n",
       "2              0            Bus       IN     628.909793\n",
       "3              0            Bus      OUT    8186.082715\n",
       "4              0   CommuterRail      OUT    9642.600000\n",
       "..           ...            ...      ...            ...\n",
       "431           23   CommuterRail      ALL   19145.760000\n",
       "432           23          Ferry      ALL      56.600000\n",
       "433           23     Motorcycle      ALL   12594.462129\n",
       "434           23         Subway      ALL  115838.782000\n",
       "435           23        Taxicab      ALL  152675.046824\n",
       "\n",
       "[436 rows x 4 columns]"
      ]
     },
     "execution_count": 10,
     "metadata": {},
     "output_type": "execute_result"
    }
   ],
   "source": [
    "em_1.df_aggregate\n",
    "\n",
    "### this looks almost identical to the previous notebook's df_agg\n",
    "### slight differences could be due to the random function \n",
    "    # filtering different bicycle and escooter home owners"
   ]
  },
  {
   "cell_type": "code",
   "execution_count": 11,
   "id": "735b66f2",
   "metadata": {
    "ExecuteTime": {
     "end_time": "2022-06-03T00:14:50.711163Z",
     "start_time": "2022-06-03T00:14:50.694897Z"
    }
   },
   "outputs": [
    {
     "name": "stdout",
     "output_type": "stream",
     "text": [
      "['AutoOccupants', 'Bicycle', 'Bus', 'CommuterRail', 'Escooter', 'Ferry', 'Motorcycle', 'Subway', 'Taxicab']\n",
      "Categories (9, object): ['AutoOccupants' < 'Bus' < 'Ferry' < 'Escooter' ... 'Motorcycle' < 'Taxicab' < 'Subway' < 'CommuterRail']\n",
      "\n",
      "['IN' 'OUT' 'ALL']\n"
     ]
    }
   ],
   "source": [
    "#### Checks from Jingrong's notebook\n",
    "print(em_1.df_aggregate.TransMode.unique())\n",
    "print()\n",
    "print(em_1.df_aggregate.FLOW_DIR.unique())"
   ]
  },
  {
   "cell_type": "code",
   "execution_count": 12,
   "id": "cca0ef8a",
   "metadata": {
    "ExecuteTime": {
     "end_time": "2022-06-03T00:14:50.726239Z",
     "start_time": "2022-06-03T00:14:50.712023Z"
    }
   },
   "outputs": [],
   "source": [
    "## ToDo:\n",
    "# Create visualization methods \n",
    "# Create diagnostic methods that can spit out certain values on demand\n",
    "# Create input for electrical capacity parameters (once Robert gives us info)"
   ]
  }
 ],
 "metadata": {
  "kernelspec": {
   "display_name": "Python 3 (ipykernel)",
   "language": "python",
   "name": "python3"
  },
  "language_info": {
   "codemirror_mode": {
    "name": "ipython",
    "version": 3
   },
   "file_extension": ".py",
   "mimetype": "text/x-python",
   "name": "python",
   "nbconvert_exporter": "python",
   "pygments_lexer": "ipython3",
   "version": "3.9.7"
  }
 },
 "nbformat": 4,
 "nbformat_minor": 5
}
