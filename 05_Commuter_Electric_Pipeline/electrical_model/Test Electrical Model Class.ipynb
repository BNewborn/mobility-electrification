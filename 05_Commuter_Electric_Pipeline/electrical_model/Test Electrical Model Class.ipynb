{
 "cells": [
  {
   "cell_type": "code",
   "execution_count": null,
   "id": "71c502c0",
   "metadata": {
    "ExecuteTime": {
     "start_time": "2022-06-10T00:16:17.288Z"
    }
   },
   "outputs": [],
   "source": [
    "## Run this in jupyter so any changes you make to the class will appear just by re-importing\n",
    "## instead of having to re-start the kernel\n",
    "%load_ext autoreload\n",
    "%autoreload 2"
   ]
  },
  {
   "cell_type": "code",
   "execution_count": null,
   "id": "b2465ba3",
   "metadata": {
    "ExecuteTime": {
     "start_time": "2022-06-10T00:16:17.290Z"
    }
   },
   "outputs": [],
   "source": [
    "import pandas as pd"
   ]
  },
  {
   "cell_type": "code",
   "execution_count": null,
   "id": "fd4857eb",
   "metadata": {
    "ExecuteTime": {
     "start_time": "2022-06-10T00:16:17.291Z"
    }
   },
   "outputs": [],
   "source": [
    "from electrical_model import ElectricModel"
   ]
  },
  {
   "cell_type": "code",
   "execution_count": null,
   "id": "bd9e6dce",
   "metadata": {
    "ExecuteTime": {
     "start_time": "2022-06-10T00:16:17.292Z"
    }
   },
   "outputs": [],
   "source": [
    "### read in commuter_df. feed that and the ev file location to class\n",
    "commuter_df = pd.read_csv(\"./samples/assignment_00_random.csv\",index_col=0)\n",
    "em_1 = ElectricModel(commuter_df,ev_reference_table_loc=\"EV_reference_table.csv\"\\\n",
    "                    ,PEV_delay_hr=3,bus_ferry_cab_delay=6)\n",
    "em_1"
   ]
  },
  {
   "cell_type": "code",
   "execution_count": null,
   "id": "6397b246",
   "metadata": {
    "ExecuteTime": {
     "start_time": "2022-06-10T00:16:17.293Z"
    }
   },
   "outputs": [],
   "source": [
    "print(em_1.commuter_df.shape)"
   ]
  },
  {
   "cell_type": "code",
   "execution_count": null,
   "id": "8c207a48",
   "metadata": {
    "ExecuteTime": {
     "start_time": "2022-06-10T00:16:17.294Z"
    }
   },
   "outputs": [],
   "source": [
    "### read_electric_info_in reads ev_ref_table and creates floor variables\n",
    "em_1.read_electric_info_in()\n",
    "print(f\"Subway floor kwh: {em_1.subway_floor} || Commuter Rail floor kwh: {em_1.commuterRail_floor}\")\n",
    "em_1.ev_reference_table.head(2)"
   ]
  },
  {
   "cell_type": "code",
   "execution_count": null,
   "id": "9592cbd2",
   "metadata": {
    "ExecuteTime": {
     "start_time": "2022-06-10T00:16:17.295Z"
    }
   },
   "outputs": [],
   "source": [
    "## clean_commuter_df:\n",
    "    # creates the MNY_RES column\n",
    "    # renames the Rand Assignment to TransMode (if necessary)\n",
    "    # Creates leave_work_hour column\n",
    "    # Filters out reverse commuters\n",
    "    # runs excludingfromMNY function\n",
    "\n",
    "em_1.clean_commuter_df()\n",
    "print(em_1.commuter_df.shape)"
   ]
  },
  {
   "cell_type": "code",
   "execution_count": null,
   "id": "c5b1bf57",
   "metadata": {
    "ExecuteTime": {
     "start_time": "2022-06-10T00:16:17.296Z"
    }
   },
   "outputs": [],
   "source": [
    "commuter_df.head(5)"
   ]
  },
  {
   "cell_type": "code",
   "execution_count": null,
   "id": "7dd96e9c",
   "metadata": {
    "ExecuteTime": {
     "start_time": "2022-06-10T00:16:17.297Z"
    }
   },
   "outputs": [],
   "source": [
    "em_1.create_in_out_flow_dfs()\n",
    "em_1.flow_df.head(5)"
   ]
  },
  {
   "cell_type": "code",
   "execution_count": null,
   "id": "8d2f8e07",
   "metadata": {
    "ExecuteTime": {
     "start_time": "2022-06-10T00:16:17.299Z"
    }
   },
   "outputs": [],
   "source": [
    "# aggregate_data() runs HourEnergyByMode wrapper function\n",
    "em_1.aggregate_data()"
   ]
  },
  {
   "cell_type": "code",
   "execution_count": null,
   "id": "4ec174bd",
   "metadata": {},
   "outputs": [],
   "source": []
  },
  {
   "cell_type": "code",
   "execution_count": null,
   "id": "b235da5e",
   "metadata": {
    "ExecuteTime": {
     "start_time": "2022-06-10T00:16:17.300Z"
    }
   },
   "outputs": [],
   "source": [
    "em_1.df_aggregate\n",
    "\n",
    "### this looks almost identical to the previous notebook's df_agg\n",
    "### slight differences could be due to the random function \n",
    "    # filtering different bicycle and escooter home owners"
   ]
  },
  {
   "cell_type": "code",
   "execution_count": null,
   "id": "735b66f2",
   "metadata": {
    "ExecuteTime": {
     "start_time": "2022-06-10T00:16:17.301Z"
    }
   },
   "outputs": [],
   "source": [
    "#### Checks from Jingrong's notebook\n",
    "print(em_1.df_aggregate.TransMode.unique())\n",
    "print()\n",
    "print(em_1.df_aggregate.FLOW_DIR.unique())"
   ]
  },
  {
   "cell_type": "code",
   "execution_count": null,
   "id": "e1f087c8",
   "metadata": {
    "ExecuteTime": {
     "start_time": "2022-06-10T00:16:17.302Z"
    }
   },
   "outputs": [],
   "source": [
    "em_1.df_aggregate.groupby(by=[\"PEV_DELAY\"]).agg({\"Energy\":\"sum\"}).reset_index() \n",
    "### should be the same"
   ]
  },
  {
   "cell_type": "code",
   "execution_count": null,
   "id": "cca0ef8a",
   "metadata": {
    "ExecuteTime": {
     "start_time": "2022-06-10T00:16:17.303Z"
    }
   },
   "outputs": [],
   "source": [
    "## ToDo:\n",
    "# Create visualization methods \n",
    "# Create diagnostic methods that can spit out certain values on demand\n",
    "# Create input for electrical capacity parameters (once Robert gives us info)"
   ]
  }
 ],
 "metadata": {
  "kernelspec": {
   "display_name": "Python 3 (ipykernel)",
   "language": "python",
   "name": "python3"
  },
  "language_info": {
   "codemirror_mode": {
    "name": "ipython",
    "version": 3
   },
   "file_extension": ".py",
   "mimetype": "text/x-python",
   "name": "python",
   "nbconvert_exporter": "python",
   "pygments_lexer": "ipython3",
   "version": "3.9.7"
  }
 },
 "nbformat": 4,
 "nbformat_minor": 5
}
