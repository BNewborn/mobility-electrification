{
 "cells": [
  {
   "cell_type": "code",
   "execution_count": 1,
   "id": "71c502c0",
   "metadata": {
    "ExecuteTime": {
     "end_time": "2022-06-05T16:58:47.805842Z",
     "start_time": "2022-06-05T16:58:47.788840Z"
    }
   },
   "outputs": [],
   "source": [
    "## Run this in jupyter so any changes you make to the class will appear just by re-importing\n",
    "## instead of having to re-start the kernel\n",
    "%load_ext autoreload\n",
    "%autoreload 2"
   ]
  },
  {
   "cell_type": "code",
   "execution_count": 2,
   "id": "b2465ba3",
   "metadata": {
    "ExecuteTime": {
     "end_time": "2022-06-05T16:58:47.821359Z",
     "start_time": "2022-06-05T16:58:47.806788Z"
    }
   },
   "outputs": [],
   "source": [
    "import pandas as pd"
   ]
  },
  {
   "cell_type": "code",
   "execution_count": 3,
   "id": "fd4857eb",
   "metadata": {
    "ExecuteTime": {
     "end_time": "2022-06-05T16:58:47.837325Z",
     "start_time": "2022-06-05T16:58:47.822762Z"
    }
   },
   "outputs": [],
   "source": [
    "from electrical_model import ElectricModel"
   ]
  },
  {
   "cell_type": "code",
   "execution_count": 4,
   "id": "bd9e6dce",
   "metadata": {
    "ExecuteTime": {
     "end_time": "2022-06-05T16:58:47.959534Z",
     "start_time": "2022-06-05T16:58:47.838340Z"
    }
   },
   "outputs": [
    {
     "data": {
      "text/plain": [
       "<electrical_model.ElectricModel at 0x7fab2810bc70>"
      ]
     },
     "execution_count": 4,
     "metadata": {},
     "output_type": "execute_result"
    }
   ],
   "source": [
    "### read in commuter_df. feed that and the ev file location to class\n",
    "commuter_df = pd.read_csv(\"./samples/assignment_00_random.csv\",index_col=0)\n",
    "em_1 = ElectricModel(commuter_df,ev_reference_table_loc=\"EV_reference_table.csv\"\\\n",
    "                    ,PEV_delay_hr=3,bus_ferry_cab_delay=6)\n",
    "em_1"
   ]
  },
  {
   "cell_type": "code",
   "execution_count": 5,
   "id": "6397b246",
   "metadata": {
    "ExecuteTime": {
     "end_time": "2022-06-05T16:58:47.974090Z",
     "start_time": "2022-06-05T16:58:47.960394Z"
    }
   },
   "outputs": [
    {
     "name": "stdout",
     "output_type": "stream",
     "text": [
      "(23978, 43)\n"
     ]
    }
   ],
   "source": [
    "print(em_1.commuter_df.shape)"
   ]
  },
  {
   "cell_type": "code",
   "execution_count": 6,
   "id": "8c207a48",
   "metadata": {
    "ExecuteTime": {
     "end_time": "2022-06-05T16:58:47.997441Z",
     "start_time": "2022-06-05T16:58:47.974887Z"
    }
   },
   "outputs": [
    {
     "name": "stdout",
     "output_type": "stream",
     "text": [
      "ev reference table read in. subway floor and commuter rail floor extracted from table\n",
      "Subway floor kwh: 55240 || Commuter Rail floor kwh: 9147\n"
     ]
    },
    {
     "data": {
      "text/html": [
       "<div>\n",
       "<style scoped>\n",
       "    .dataframe tbody tr th:only-of-type {\n",
       "        vertical-align: middle;\n",
       "    }\n",
       "\n",
       "    .dataframe tbody tr th {\n",
       "        vertical-align: top;\n",
       "    }\n",
       "\n",
       "    .dataframe thead th {\n",
       "        text-align: right;\n",
       "    }\n",
       "</style>\n",
       "<table border=\"1\" class=\"dataframe\">\n",
       "  <thead>\n",
       "    <tr style=\"text-align: right;\">\n",
       "      <th></th>\n",
       "      <th>TransMode</th>\n",
       "      <th>ChargingPower_kW</th>\n",
       "      <th>HoursToFullyRecharge_hr</th>\n",
       "      <th>Floor_kWh</th>\n",
       "      <th>Multiplier</th>\n",
       "      <th>MultiplierUnit</th>\n",
       "      <th>excludingfromMNY</th>\n",
       "      <th>NumberOfEV</th>\n",
       "      <th>TotalEnergyPerEV</th>\n",
       "      <th>HourEnergyPerEV</th>\n",
       "      <th>Energy</th>\n",
       "    </tr>\n",
       "  </thead>\n",
       "  <tbody>\n",
       "    <tr>\n",
       "      <th>0</th>\n",
       "      <td>AutoOccupants</td>\n",
       "      <td>12.0</td>\n",
       "      <td>7.0</td>\n",
       "      <td>NaN</td>\n",
       "      <td>0.2134</td>\n",
       "      <td>kwh/km</td>\n",
       "      <td>Live outside of MNY &amp; Owner</td>\n",
       "      <td>PERWT</td>\n",
       "      <td>DISTANCE_KM*Multiplier*2</td>\n",
       "      <td>no delay + related to charging time</td>\n",
       "      <td>In</td>\n",
       "    </tr>\n",
       "    <tr>\n",
       "      <th>1</th>\n",
       "      <td>Bus</td>\n",
       "      <td>163.0</td>\n",
       "      <td>3.0</td>\n",
       "      <td>NaN</td>\n",
       "      <td>1.7610</td>\n",
       "      <td>kwh/km</td>\n",
       "      <td>Live outside of MNY</td>\n",
       "      <td>PERWT/20</td>\n",
       "      <td>DISTANCE_KM*Multiplier</td>\n",
       "      <td>6 hr delay + related to charging time</td>\n",
       "      <td>In+Out</td>\n",
       "    </tr>\n",
       "  </tbody>\n",
       "</table>\n",
       "</div>"
      ],
      "text/plain": [
       "       TransMode  ChargingPower_kW  HoursToFullyRecharge_hr  Floor_kWh  \\\n",
       "0  AutoOccupants              12.0                      7.0        NaN   \n",
       "1            Bus             163.0                      3.0        NaN   \n",
       "\n",
       "   Multiplier MultiplierUnit             excludingfromMNY NumberOfEV  \\\n",
       "0      0.2134         kwh/km  Live outside of MNY & Owner      PERWT   \n",
       "1      1.7610         kwh/km          Live outside of MNY   PERWT/20   \n",
       "\n",
       "           TotalEnergyPerEV                        HourEnergyPerEV  Energy  \n",
       "0  DISTANCE_KM*Multiplier*2    no delay + related to charging time      In  \n",
       "1    DISTANCE_KM*Multiplier  6 hr delay + related to charging time  In+Out  "
      ]
     },
     "execution_count": 6,
     "metadata": {},
     "output_type": "execute_result"
    }
   ],
   "source": [
    "### read_electric_info_in reads ev_ref_table and creates floor variables\n",
    "em_1.read_electric_info_in()\n",
    "print(f\"Subway floor kwh: {em_1.subway_floor} || Commuter Rail floor kwh: {em_1.commuterRail_floor}\")\n",
    "em_1.ev_reference_table.head(2)"
   ]
  },
  {
   "cell_type": "code",
   "execution_count": 7,
   "id": "9592cbd2",
   "metadata": {
    "ExecuteTime": {
     "end_time": "2022-06-05T16:58:48.050899Z",
     "start_time": "2022-06-05T16:58:47.998399Z"
    }
   },
   "outputs": [
    {
     "name": "stdout",
     "output_type": "stream",
     "text": [
      "(18898, 46)\n"
     ]
    }
   ],
   "source": [
    "## clean_commuter_df:\n",
    "    # creates the MNY_RES column\n",
    "    # renames the Rand Assignment to TransMode (if necessary)\n",
    "    # Creates leave_work_hour column\n",
    "    # Filters out reverse commuters\n",
    "    # runs excludingfromMNY function\n",
    "\n",
    "em_1.clean_commuter_df()\n",
    "print(em_1.commuter_df.shape)"
   ]
  },
  {
   "cell_type": "code",
   "execution_count": 8,
   "id": "c5b1bf57",
   "metadata": {
    "ExecuteTime": {
     "end_time": "2022-06-05T16:58:48.073038Z",
     "start_time": "2022-06-05T16:58:48.051720Z"
    }
   },
   "outputs": [
    {
     "data": {
      "text/html": [
       "<div>\n",
       "<style scoped>\n",
       "    .dataframe tbody tr th:only-of-type {\n",
       "        vertical-align: middle;\n",
       "    }\n",
       "\n",
       "    .dataframe tbody tr th {\n",
       "        vertical-align: top;\n",
       "    }\n",
       "\n",
       "    .dataframe thead th {\n",
       "        text-align: right;\n",
       "    }\n",
       "</style>\n",
       "<table border=\"1\" class=\"dataframe\">\n",
       "  <thead>\n",
       "    <tr style=\"text-align: right;\">\n",
       "      <th></th>\n",
       "      <th>YEAR</th>\n",
       "      <th>PERWT</th>\n",
       "      <th>HOME_STATEFIP</th>\n",
       "      <th>HOME_PUMA</th>\n",
       "      <th>PUMA_NAME</th>\n",
       "      <th>SEX</th>\n",
       "      <th>AGE</th>\n",
       "      <th>HRS_WK_DAILY</th>\n",
       "      <th>TOTAL_PERSONAL_INCOME</th>\n",
       "      <th>MODE_TRANSP_TO_WORK</th>\n",
       "      <th>...</th>\n",
       "      <th>FLAG_EBUSES</th>\n",
       "      <th>FLAG_SUBWAY</th>\n",
       "      <th>FLAG_COMMUTERRAIL</th>\n",
       "      <th>FLAG_FERRY</th>\n",
       "      <th>FLAG_ESCOOTER</th>\n",
       "      <th>FLAG_WALK</th>\n",
       "      <th>FLAG_EBIKE</th>\n",
       "      <th>FLAG_WFH</th>\n",
       "      <th>Rand Assignment</th>\n",
       "      <th>MNY_RES</th>\n",
       "    </tr>\n",
       "  </thead>\n",
       "  <tbody>\n",
       "    <tr>\n",
       "      <th>0</th>\n",
       "      <td>2019</td>\n",
       "      <td>23.0</td>\n",
       "      <td>9</td>\n",
       "      <td>500</td>\n",
       "      <td>Litchfield County</td>\n",
       "      <td>F</td>\n",
       "      <td>46</td>\n",
       "      <td>7.4</td>\n",
       "      <td>3800</td>\n",
       "      <td>Auto, truck, or van</td>\n",
       "      <td>...</td>\n",
       "      <td>0</td>\n",
       "      <td>0</td>\n",
       "      <td>0</td>\n",
       "      <td>0</td>\n",
       "      <td>0</td>\n",
       "      <td>0</td>\n",
       "      <td>0</td>\n",
       "      <td>0</td>\n",
       "      <td>No option</td>\n",
       "      <td>0</td>\n",
       "    </tr>\n",
       "    <tr>\n",
       "      <th>1</th>\n",
       "      <td>2019</td>\n",
       "      <td>48.0</td>\n",
       "      <td>9</td>\n",
       "      <td>500</td>\n",
       "      <td>Litchfield County</td>\n",
       "      <td>M</td>\n",
       "      <td>51</td>\n",
       "      <td>11.0</td>\n",
       "      <td>488000</td>\n",
       "      <td>Auto, truck, or van</td>\n",
       "      <td>...</td>\n",
       "      <td>0</td>\n",
       "      <td>0</td>\n",
       "      <td>0</td>\n",
       "      <td>0</td>\n",
       "      <td>0</td>\n",
       "      <td>0</td>\n",
       "      <td>0</td>\n",
       "      <td>0</td>\n",
       "      <td>Motorcycle</td>\n",
       "      <td>0</td>\n",
       "    </tr>\n",
       "    <tr>\n",
       "      <th>2</th>\n",
       "      <td>2019</td>\n",
       "      <td>54.0</td>\n",
       "      <td>9</td>\n",
       "      <td>500</td>\n",
       "      <td>Litchfield County</td>\n",
       "      <td>F</td>\n",
       "      <td>44</td>\n",
       "      <td>11.0</td>\n",
       "      <td>438000</td>\n",
       "      <td>Auto, truck, or van</td>\n",
       "      <td>...</td>\n",
       "      <td>0</td>\n",
       "      <td>0</td>\n",
       "      <td>0</td>\n",
       "      <td>0</td>\n",
       "      <td>0</td>\n",
       "      <td>0</td>\n",
       "      <td>0</td>\n",
       "      <td>0</td>\n",
       "      <td>Motorcycle</td>\n",
       "      <td>0</td>\n",
       "    </tr>\n",
       "    <tr>\n",
       "      <th>3</th>\n",
       "      <td>2019</td>\n",
       "      <td>29.0</td>\n",
       "      <td>9</td>\n",
       "      <td>500</td>\n",
       "      <td>Litchfield County</td>\n",
       "      <td>M</td>\n",
       "      <td>28</td>\n",
       "      <td>10.0</td>\n",
       "      <td>20000</td>\n",
       "      <td>Auto, truck, or van</td>\n",
       "      <td>...</td>\n",
       "      <td>0</td>\n",
       "      <td>0</td>\n",
       "      <td>0</td>\n",
       "      <td>0</td>\n",
       "      <td>0</td>\n",
       "      <td>0</td>\n",
       "      <td>0</td>\n",
       "      <td>0</td>\n",
       "      <td>No option</td>\n",
       "      <td>0</td>\n",
       "    </tr>\n",
       "    <tr>\n",
       "      <th>4</th>\n",
       "      <td>2019</td>\n",
       "      <td>33.0</td>\n",
       "      <td>9</td>\n",
       "      <td>500</td>\n",
       "      <td>Litchfield County</td>\n",
       "      <td>M</td>\n",
       "      <td>66</td>\n",
       "      <td>12.0</td>\n",
       "      <td>727000</td>\n",
       "      <td>Auto, truck, or van</td>\n",
       "      <td>...</td>\n",
       "      <td>0</td>\n",
       "      <td>0</td>\n",
       "      <td>0</td>\n",
       "      <td>0</td>\n",
       "      <td>0</td>\n",
       "      <td>0</td>\n",
       "      <td>0</td>\n",
       "      <td>0</td>\n",
       "      <td>Motorcycle</td>\n",
       "      <td>0</td>\n",
       "    </tr>\n",
       "  </tbody>\n",
       "</table>\n",
       "<p>5 rows × 44 columns</p>\n",
       "</div>"
      ],
      "text/plain": [
       "   YEAR  PERWT  HOME_STATEFIP  HOME_PUMA          PUMA_NAME SEX  AGE  \\\n",
       "0  2019   23.0              9        500  Litchfield County   F   46   \n",
       "1  2019   48.0              9        500  Litchfield County   M   51   \n",
       "2  2019   54.0              9        500  Litchfield County   F   44   \n",
       "3  2019   29.0              9        500  Litchfield County   M   28   \n",
       "4  2019   33.0              9        500  Litchfield County   M   66   \n",
       "\n",
       "   HRS_WK_DAILY  TOTAL_PERSONAL_INCOME  MODE_TRANSP_TO_WORK  ... FLAG_EBUSES  \\\n",
       "0           7.4                   3800  Auto, truck, or van  ...           0   \n",
       "1          11.0                 488000  Auto, truck, or van  ...           0   \n",
       "2          11.0                 438000  Auto, truck, or van  ...           0   \n",
       "3          10.0                  20000  Auto, truck, or van  ...           0   \n",
       "4          12.0                 727000  Auto, truck, or van  ...           0   \n",
       "\n",
       "  FLAG_SUBWAY FLAG_COMMUTERRAIL FLAG_FERRY  FLAG_ESCOOTER  FLAG_WALK  \\\n",
       "0           0                 0          0              0          0   \n",
       "1           0                 0          0              0          0   \n",
       "2           0                 0          0              0          0   \n",
       "3           0                 0          0              0          0   \n",
       "4           0                 0          0              0          0   \n",
       "\n",
       "  FLAG_EBIKE  FLAG_WFH Rand Assignment MNY_RES  \n",
       "0          0         0       No option       0  \n",
       "1          0         0      Motorcycle       0  \n",
       "2          0         0      Motorcycle       0  \n",
       "3          0         0       No option       0  \n",
       "4          0         0      Motorcycle       0  \n",
       "\n",
       "[5 rows x 44 columns]"
      ]
     },
     "execution_count": 8,
     "metadata": {},
     "output_type": "execute_result"
    }
   ],
   "source": [
    "commuter_df.head(5)"
   ]
  },
  {
   "cell_type": "code",
   "execution_count": 9,
   "id": "7dd96e9c",
   "metadata": {
    "ExecuteTime": {
     "end_time": "2022-06-05T16:58:48.098464Z",
     "start_time": "2022-06-05T16:58:48.075184Z"
    }
   },
   "outputs": [
    {
     "data": {
      "text/html": [
       "<div>\n",
       "<style scoped>\n",
       "    .dataframe tbody tr th:only-of-type {\n",
       "        vertical-align: middle;\n",
       "    }\n",
       "\n",
       "    .dataframe tbody tr th {\n",
       "        vertical-align: top;\n",
       "    }\n",
       "\n",
       "    .dataframe thead th {\n",
       "        text-align: right;\n",
       "    }\n",
       "</style>\n",
       "<table border=\"1\" class=\"dataframe\">\n",
       "  <thead>\n",
       "    <tr style=\"text-align: right;\">\n",
       "      <th></th>\n",
       "      <th>HOUR</th>\n",
       "      <th>HRS_WK_DAILY</th>\n",
       "      <th>TransMode</th>\n",
       "      <th>DISTANCE_KM</th>\n",
       "      <th>PERWT</th>\n",
       "      <th>FLOW_DIR</th>\n",
       "    </tr>\n",
       "  </thead>\n",
       "  <tbody>\n",
       "    <tr>\n",
       "      <th>0</th>\n",
       "      <td>9</td>\n",
       "      <td>8</td>\n",
       "      <td>No option</td>\n",
       "      <td>170.50491</td>\n",
       "      <td>23.0</td>\n",
       "      <td>IN</td>\n",
       "    </tr>\n",
       "    <tr>\n",
       "      <th>1</th>\n",
       "      <td>8</td>\n",
       "      <td>11</td>\n",
       "      <td>Motorcycle</td>\n",
       "      <td>170.50491</td>\n",
       "      <td>48.0</td>\n",
       "      <td>IN</td>\n",
       "    </tr>\n",
       "    <tr>\n",
       "      <th>2</th>\n",
       "      <td>8</td>\n",
       "      <td>11</td>\n",
       "      <td>Motorcycle</td>\n",
       "      <td>170.50491</td>\n",
       "      <td>54.0</td>\n",
       "      <td>IN</td>\n",
       "    </tr>\n",
       "    <tr>\n",
       "      <th>3</th>\n",
       "      <td>14</td>\n",
       "      <td>10</td>\n",
       "      <td>No option</td>\n",
       "      <td>170.50491</td>\n",
       "      <td>29.0</td>\n",
       "      <td>IN</td>\n",
       "    </tr>\n",
       "    <tr>\n",
       "      <th>4</th>\n",
       "      <td>9</td>\n",
       "      <td>12</td>\n",
       "      <td>Motorcycle</td>\n",
       "      <td>170.50491</td>\n",
       "      <td>33.0</td>\n",
       "      <td>IN</td>\n",
       "    </tr>\n",
       "  </tbody>\n",
       "</table>\n",
       "</div>"
      ],
      "text/plain": [
       "   HOUR  HRS_WK_DAILY   TransMode  DISTANCE_KM  PERWT FLOW_DIR\n",
       "0     9             8   No option    170.50491   23.0       IN\n",
       "1     8            11  Motorcycle    170.50491   48.0       IN\n",
       "2     8            11  Motorcycle    170.50491   54.0       IN\n",
       "3    14            10   No option    170.50491   29.0       IN\n",
       "4     9            12  Motorcycle    170.50491   33.0       IN"
      ]
     },
     "execution_count": 9,
     "metadata": {},
     "output_type": "execute_result"
    }
   ],
   "source": [
    "em_1.create_in_out_flow_dfs()\n",
    "em_1.flow_df.head(5)"
   ]
  },
  {
   "cell_type": "code",
   "execution_count": 10,
   "id": "8d2f8e07",
   "metadata": {
    "ExecuteTime": {
     "end_time": "2022-06-05T16:59:15.086439Z",
     "start_time": "2022-06-05T16:58:48.099386Z"
    }
   },
   "outputs": [],
   "source": [
    "# aggregate_data() runs HourEnergyByMode wrapper function\n",
    "em_1.aggregate_data()"
   ]
  },
  {
   "cell_type": "code",
   "execution_count": null,
   "id": "4ec174bd",
   "metadata": {},
   "outputs": [],
   "source": []
  },
  {
   "cell_type": "code",
   "execution_count": 11,
   "id": "b235da5e",
   "metadata": {
    "ExecuteTime": {
     "end_time": "2022-06-05T16:59:15.105715Z",
     "start_time": "2022-06-05T16:59:15.087397Z"
    }
   },
   "outputs": [
    {
     "data": {
      "text/html": [
       "<div>\n",
       "<style scoped>\n",
       "    .dataframe tbody tr th:only-of-type {\n",
       "        vertical-align: middle;\n",
       "    }\n",
       "\n",
       "    .dataframe tbody tr th {\n",
       "        vertical-align: top;\n",
       "    }\n",
       "\n",
       "    .dataframe thead th {\n",
       "        text-align: right;\n",
       "    }\n",
       "</style>\n",
       "<table border=\"1\" class=\"dataframe\">\n",
       "  <thead>\n",
       "    <tr style=\"text-align: right;\">\n",
       "      <th></th>\n",
       "      <th>Charge_Hour</th>\n",
       "      <th>TransMode</th>\n",
       "      <th>PEV_DELAY</th>\n",
       "      <th>FLOW_DIR</th>\n",
       "      <th>Energy</th>\n",
       "    </tr>\n",
       "  </thead>\n",
       "  <tbody>\n",
       "    <tr>\n",
       "      <th>0</th>\n",
       "      <td>0</td>\n",
       "      <td>AutoOccupants</td>\n",
       "      <td>Earliest</td>\n",
       "      <td>IN</td>\n",
       "      <td>90.988519</td>\n",
       "    </tr>\n",
       "    <tr>\n",
       "      <th>1</th>\n",
       "      <td>0</td>\n",
       "      <td>AutoOccupants</td>\n",
       "      <td>Random</td>\n",
       "      <td>IN</td>\n",
       "      <td>156.702450</td>\n",
       "    </tr>\n",
       "    <tr>\n",
       "      <th>2</th>\n",
       "      <td>0</td>\n",
       "      <td>Bicycle</td>\n",
       "      <td>Custom</td>\n",
       "      <td>IN</td>\n",
       "      <td>1508.385451</td>\n",
       "    </tr>\n",
       "    <tr>\n",
       "      <th>3</th>\n",
       "      <td>0</td>\n",
       "      <td>Bicycle</td>\n",
       "      <td>Earliest</td>\n",
       "      <td>IN</td>\n",
       "      <td>5393.925523</td>\n",
       "    </tr>\n",
       "    <tr>\n",
       "      <th>4</th>\n",
       "      <td>0</td>\n",
       "      <td>Bicycle</td>\n",
       "      <td>Latest</td>\n",
       "      <td>IN</td>\n",
       "      <td>2660.603086</td>\n",
       "    </tr>\n",
       "    <tr>\n",
       "      <th>...</th>\n",
       "      <td>...</td>\n",
       "      <td>...</td>\n",
       "      <td>...</td>\n",
       "      <td>...</td>\n",
       "      <td>...</td>\n",
       "    </tr>\n",
       "    <tr>\n",
       "      <th>1255</th>\n",
       "      <td>23</td>\n",
       "      <td>Escooter</td>\n",
       "      <td>NaN</td>\n",
       "      <td>ALL</td>\n",
       "      <td>150.346712</td>\n",
       "    </tr>\n",
       "    <tr>\n",
       "      <th>1256</th>\n",
       "      <td>23</td>\n",
       "      <td>Ferry</td>\n",
       "      <td>NaN</td>\n",
       "      <td>ALL</td>\n",
       "      <td>226.400000</td>\n",
       "    </tr>\n",
       "    <tr>\n",
       "      <th>1257</th>\n",
       "      <td>23</td>\n",
       "      <td>Motorcycle</td>\n",
       "      <td>NaN</td>\n",
       "      <td>ALL</td>\n",
       "      <td>64027.583455</td>\n",
       "    </tr>\n",
       "    <tr>\n",
       "      <th>1258</th>\n",
       "      <td>23</td>\n",
       "      <td>Subway</td>\n",
       "      <td>NaN</td>\n",
       "      <td>ALL</td>\n",
       "      <td>463355.128000</td>\n",
       "    </tr>\n",
       "    <tr>\n",
       "      <th>1259</th>\n",
       "      <td>23</td>\n",
       "      <td>Taxicab</td>\n",
       "      <td>NaN</td>\n",
       "      <td>ALL</td>\n",
       "      <td>610700.187294</td>\n",
       "    </tr>\n",
       "  </tbody>\n",
       "</table>\n",
       "<p>1260 rows × 5 columns</p>\n",
       "</div>"
      ],
      "text/plain": [
       "      Charge_Hour      TransMode PEV_DELAY FLOW_DIR         Energy\n",
       "0               0  AutoOccupants  Earliest       IN      90.988519\n",
       "1               0  AutoOccupants    Random       IN     156.702450\n",
       "2               0        Bicycle    Custom       IN    1508.385451\n",
       "3               0        Bicycle  Earliest       IN    5393.925523\n",
       "4               0        Bicycle    Latest       IN    2660.603086\n",
       "...           ...            ...       ...      ...            ...\n",
       "1255           23       Escooter       NaN      ALL     150.346712\n",
       "1256           23          Ferry       NaN      ALL     226.400000\n",
       "1257           23     Motorcycle       NaN      ALL   64027.583455\n",
       "1258           23         Subway       NaN      ALL  463355.128000\n",
       "1259           23        Taxicab       NaN      ALL  610700.187294\n",
       "\n",
       "[1260 rows x 5 columns]"
      ]
     },
     "execution_count": 11,
     "metadata": {},
     "output_type": "execute_result"
    }
   ],
   "source": [
    "em_1.df_aggregate\n",
    "\n",
    "### this looks almost identical to the previous notebook's df_agg\n",
    "### slight differences could be due to the random function \n",
    "    # filtering different bicycle and escooter home owners"
   ]
  },
  {
   "cell_type": "code",
   "execution_count": 12,
   "id": "735b66f2",
   "metadata": {
    "ExecuteTime": {
     "end_time": "2022-06-05T16:59:15.122270Z",
     "start_time": "2022-06-05T16:59:15.106607Z"
    }
   },
   "outputs": [
    {
     "name": "stdout",
     "output_type": "stream",
     "text": [
      "['AutoOccupants', 'Bicycle', 'Bus', 'CommuterRail', 'Escooter', 'Ferry', 'Motorcycle', 'Subway', 'Taxicab']\n",
      "Categories (9, object): ['AutoOccupants' < 'Bus' < 'Ferry' < 'Escooter' ... 'Motorcycle' < 'Taxicab' < 'Subway' < 'CommuterRail']\n",
      "\n",
      "['IN' 'OUT' 'ALL']\n"
     ]
    }
   ],
   "source": [
    "#### Checks from Jingrong's notebook\n",
    "print(em_1.df_aggregate.TransMode.unique())\n",
    "print()\n",
    "print(em_1.df_aggregate.FLOW_DIR.unique())"
   ]
  },
  {
   "cell_type": "code",
   "execution_count": 13,
   "id": "e1f087c8",
   "metadata": {
    "ExecuteTime": {
     "end_time": "2022-06-05T16:59:15.140908Z",
     "start_time": "2022-06-05T16:59:15.123197Z"
    }
   },
   "outputs": [
    {
     "data": {
      "text/html": [
       "<div>\n",
       "<style scoped>\n",
       "    .dataframe tbody tr th:only-of-type {\n",
       "        vertical-align: middle;\n",
       "    }\n",
       "\n",
       "    .dataframe tbody tr th {\n",
       "        vertical-align: top;\n",
       "    }\n",
       "\n",
       "    .dataframe thead th {\n",
       "        text-align: right;\n",
       "    }\n",
       "</style>\n",
       "<table border=\"1\" class=\"dataframe\">\n",
       "  <thead>\n",
       "    <tr style=\"text-align: right;\">\n",
       "      <th></th>\n",
       "      <th>PEV_DELAY</th>\n",
       "      <th>Energy</th>\n",
       "    </tr>\n",
       "  </thead>\n",
       "  <tbody>\n",
       "    <tr>\n",
       "      <th>0</th>\n",
       "      <td>Custom</td>\n",
       "      <td>1.005985e+07</td>\n",
       "    </tr>\n",
       "    <tr>\n",
       "      <th>1</th>\n",
       "      <td>Earliest</td>\n",
       "      <td>1.005985e+07</td>\n",
       "    </tr>\n",
       "    <tr>\n",
       "      <th>2</th>\n",
       "      <td>Latest</td>\n",
       "      <td>1.005985e+07</td>\n",
       "    </tr>\n",
       "    <tr>\n",
       "      <th>3</th>\n",
       "      <td>Random</td>\n",
       "      <td>1.005985e+07</td>\n",
       "    </tr>\n",
       "  </tbody>\n",
       "</table>\n",
       "</div>"
      ],
      "text/plain": [
       "  PEV_DELAY        Energy\n",
       "0    Custom  1.005985e+07\n",
       "1  Earliest  1.005985e+07\n",
       "2    Latest  1.005985e+07\n",
       "3    Random  1.005985e+07"
      ]
     },
     "execution_count": 13,
     "metadata": {},
     "output_type": "execute_result"
    }
   ],
   "source": [
    "em_1.df_aggregate.groupby(by=[\"PEV_DELAY\"]).agg({\"Energy\":\"sum\"}).reset_index() \n",
    "### should be the same"
   ]
  },
  {
   "cell_type": "code",
   "execution_count": 14,
   "id": "cca0ef8a",
   "metadata": {
    "ExecuteTime": {
     "end_time": "2022-06-05T16:59:15.155657Z",
     "start_time": "2022-06-05T16:59:15.141910Z"
    }
   },
   "outputs": [],
   "source": [
    "## ToDo:\n",
    "# Create visualization methods \n",
    "# Create diagnostic methods that can spit out certain values on demand\n",
    "# Create input for electrical capacity parameters (once Robert gives us info)"
   ]
  }
 ],
 "metadata": {
  "kernelspec": {
   "display_name": "Python 3 (ipykernel)",
   "language": "python",
   "name": "python3"
  },
  "language_info": {
   "codemirror_mode": {
    "name": "ipython",
    "version": 3
   },
   "file_extension": ".py",
   "mimetype": "text/x-python",
   "name": "python",
   "nbconvert_exporter": "python",
   "pygments_lexer": "ipython3",
   "version": "3.9.7"
  }
 },
 "nbformat": 4,
 "nbformat_minor": 5
}
