{
 "cells": [
  {
   "cell_type": "code",
   "execution_count": 1,
   "id": "83dd34c1",
   "metadata": {
    "ExecuteTime": {
     "end_time": "2022-08-15T10:22:23.341789Z",
     "start_time": "2022-08-15T10:22:23.207770Z"
    }
   },
   "outputs": [],
   "source": [
    "%load_ext autoreload\n",
    "\n",
    "%autoreload 2\n"
   ]
  },
  {
   "cell_type": "code",
   "execution_count": 2,
   "id": "e868bbc8",
   "metadata": {
    "ExecuteTime": {
     "end_time": "2022-08-15T10:22:23.362329Z",
     "start_time": "2022-08-15T10:22:23.343725Z"
    }
   },
   "outputs": [],
   "source": [
    "import numpy\n",
    "import pandas as pd\n",
    "import seaborn as sns\n",
    "import random\n",
    "import math\n",
    "import os\n",
    "\n",
    "from IPython import display\n",
    "\n",
    "pd.set_option('display.max_columns', None)\n",
    "\n",
    "### Import model objects from their unique directories - easier to organize\n",
    "\n",
    "from commuter_model.commuter_model_NJ import CommuterModel\n",
    "from electrical_model.electrical_model import ElectricModel"
   ]
  },
  {
   "cell_type": "code",
   "execution_count": 3,
   "id": "17e1738c",
   "metadata": {
    "ExecuteTime": {
     "end_time": "2022-08-15T10:22:23.665656Z",
     "start_time": "2022-08-15T10:22:23.363576Z"
    }
   },
   "outputs": [],
   "source": [
    "# load ipums data to local variable (ipums_df_19)\n",
    "ipums_df_19 = pd.read_csv(\"commuter_model/disaggregated_cleaned_ipums_data.csv\",index_col=0)\n",
    "ipums_df_19 = ipums_df_19[ipums_df_19['YEAR']==2019].reset_index(drop=True).copy()"
   ]
  },
  {
   "cell_type": "markdown",
   "id": "41d77e30",
   "metadata": {},
   "source": [
    "### Iterations \n",
    "|WFH Status|Commuter Mode|Save Directory Name|Commuter Model Object| Assignment Method | \n",
    "|----|-----|-----|-----|-----|\n",
    "|None|Micro Heavy|NoWFH_Micro|commuter_model_nowfh_micro|weighted|\n",
    "|None|Transit Heavy|NoWFH_Transit|commuter_model_nowfh_transit|weighted|\n",
    "|None|Mix|NoWFH_Mix|commuter_model_nowfh_mix|random|\n",
    "|None|Car Heavy|NoWFH_Mix|commuter_model_nowfh_car|weighted|\n",
    "|Medium|Micro Heavy|MidWFH_Micro|commuter_model_midwfh_micro|weighted|\n",
    "|Medium|Transit Heavy|MidWFH_Transit|commuter_model_midwfh_transit|weighted|\n",
    "|Medium|Mix|MidWFH_Mix|commuter_model_midwfh_mix|random|\n",
    "|Medium|Car Heavy|NoWFH_Mix|commuter_model_midwfh_car|weighted|\n",
    "|High|Micro Heavy|HighWFH_Micro|commuter_model_highwfh_micro|weighted|\n",
    "|High|Transit Heavy|HighWFH_Transit|commuter_model_highwfh_transit|weighted|\n",
    "|High|Mix|HighWFH_Mix|commuter_model_highwfh_mix|random|\n",
    "|High|Car Heavy|NoWFH_Mix|commuter_model_highwfh_car|weighted|"
   ]
  },
  {
   "cell_type": "code",
   "execution_count": 4,
   "id": "4a6a8073",
   "metadata": {
    "ExecuteTime": {
     "end_time": "2022-08-15T10:22:24.392359Z",
     "start_time": "2022-08-15T10:22:23.666789Z"
    }
   },
   "outputs": [],
   "source": [
    "commuter_model_midwfh_micro = CommuterModel(ipums_df=ipums_df_19.copy())"
   ]
  },
  {
   "cell_type": "markdown",
   "id": "3a1d9258",
   "metadata": {
    "ExecuteTime": {
     "end_time": "2022-06-18T17:59:14.624688Z",
     "start_time": "2022-06-18T17:59:13.897761Z"
    }
   },
   "source": [
    "## Medium WFH\n",
    "commuter_model_midwfh_micro  \n",
    "commuter_model_midwfh_transit  \n",
    "commuter_model_midwfh_mix  \n",
    "commuter_model_midwfh_car"
   ]
  },
  {
   "cell_type": "code",
   "execution_count": 5,
   "id": "df1b01da",
   "metadata": {
    "ExecuteTime": {
     "end_time": "2022-08-15T10:22:31.380824Z",
     "start_time": "2022-08-15T10:22:30.189252Z"
    }
   },
   "outputs": [],
   "source": [
    "### ---------------------------------------------------------------------- ### \n",
    "## Micro Heavy ## ******** ## ******** ## ******** ## ******** ## ******** \n",
    "### ---------------------------------------------------------------------- ### \n",
    "## Auto\n",
    "commuter_model_midwfh_micro.ipums_df['FLAG_AUTO'] = commuter_model_midwfh_micro.auto_flag_binary(\n",
    "                                        max_age=70\n",
    "                                       ,min_distance = 5\n",
    "                                       ,min_income = 32626\n",
    "                                       ,male_pct = 15\n",
    "                                       ,female_pct = 15\n",
    "                                       ,age_dist = None\n",
    "                                       )\n",
    "## Motorcycle\n",
    "commuter_model_midwfh_micro.ipums_df['FLAG_MOTORCYCLE'] = commuter_model_midwfh_micro.motorcycle_flag_binary(\n",
    "                                        max_age=35\n",
    "                                       ,max_distance = 300\n",
    "                                       ,min_income = 50000\n",
    "                                       ,male_pct = 5\n",
    "                                       ,female_pct = 1\n",
    "                                       ,age_dist = None\n",
    "                                        )\n",
    "## Taxicab\n",
    "commuter_model_midwfh_micro.ipums_df['FLAG_TAXICAB'] = commuter_model_midwfh_micro.taxicab_flag_binary(\n",
    "                                        max_distance = 15\n",
    "                                       ,min_income = 32626\n",
    "                                       ,male_pct = 5\n",
    "                                       ,female_pct = 2\n",
    "                                       ,age_dist = None\n",
    "                                        )\n",
    "## Bus\n",
    "commuter_model_midwfh_micro.ipums_df['FLAG_EBUSES'] = commuter_model_midwfh_micro.bus_flag_binary(\n",
    "                                        home_region=commuter_model_midwfh_micro.puma_home_Bus\n",
    "                                        ,work_region=commuter_model_midwfh_micro.puma_work_Bus\n",
    "                                        ,schedule=commuter_model_midwfh_micro.time_Bus\n",
    "                                        ,affordability=50\n",
    "                                        ,fixgaps=False\n",
    "                                         )\n",
    "## Subway\n",
    "commuter_model_midwfh_micro.ipums_df['FLAG_SUBWAY'] = commuter_model_midwfh_micro.subway_flag_binary(\n",
    "                                            home_region=commuter_model_midwfh_micro.puma_home_Subway\n",
    "                                            ,work_region=commuter_model_midwfh_micro.puma_work_Subway\n",
    "                                            ,schedule=commuter_model_midwfh_micro.time_Subway\n",
    "                                            ,affordability=50\n",
    "                                            ,fixgaps=False\n",
    "                                            )\n",
    "## Commuter Rail\n",
    "commuter_model_midwfh_micro.ipums_df['FLAG_COMMUTERRAIL'] = commuter_model_midwfh_micro.commuterRail_flag_binary(\n",
    "                                             home_region=commuter_model_midwfh_micro.puma_home_CommuterRail\n",
    "                                            ,work_region=commuter_model_midwfh_micro.puma_work_CommuterRail\n",
    "                                            ,schedule=commuter_model_midwfh_micro.time_CommuterRail\n",
    "                                            ,affordability=50\n",
    "                                            ,fixgaps=False\n",
    "                                            )\n",
    "## Ferry\n",
    "commuter_model_midwfh_micro.ipums_df['FLAG_FERRY'] = commuter_model_midwfh_micro.ferry_flag_binary(\n",
    "                                            home_region=commuter_model_midwfh_micro.puma_home_Ferry\n",
    "                                           ,work_region=commuter_model_midwfh_micro.puma_work_Ferry\n",
    "                                           ,schedule=commuter_model_midwfh_micro.time_Ferry\n",
    "                                           ,affordability=50\n",
    "                                           ,fixgaps=False\n",
    "                                          )\n",
    "\n",
    "## E-Scooter\n",
    "commuter_model_midwfh_micro.ipums_df['FLAG_ESCOOTER'] = commuter_model_midwfh_micro.escooter_flag_binary(\n",
    "                                            max_age=60\n",
    "                                            ,max_distance=15\n",
    "                                            ,scooter_friendly_origins=commuter_model_midwfh_micro.bike_friendly_origins\n",
    "                                            ,male_pct=100\n",
    "                                            ,female_pct=100\n",
    "                                            )\n",
    "\n",
    "\n",
    "## Walking\n",
    "commuter_model_midwfh_micro.ipums_df['FLAG_WALK'] = commuter_model_midwfh_micro.walking_flag_binary(\n",
    "                                            max_age=100\n",
    "                                            ,max_distance=2\n",
    "                                            ,male_pct=100\n",
    "                                            ,female_pct=100\n",
    "                                            )\n",
    "\n",
    "## E-Bike\n",
    "commuter_model_midwfh_micro.ipums_df['FLAG_EBIKE']=commuter_model_midwfh_micro.ebike_flag_binary(\n",
    "                                        max_age=100\n",
    "                                        ,max_distance = 24\n",
    "                                        ,male_pct = 100\n",
    "                                        ,female_pct = 100\n",
    "                                        ,age_dist = None\n",
    "                                        ,bike_friendly_origins=commuter_model_midwfh_micro.bike_friendly_origins\n",
    "                                        )\n",
    "\n",
    "\n",
    "## Medium Work From Home\n",
    "commuter_model_midwfh_micro.ipums_df[\"FLAG_WFH\"] = commuter_model_midwfh_micro\\\n",
    "                                                    .wfh_flag_binary(wfh_dampener = 0.5)\n",
    "\n",
    "                                                                                 \n",
    "### Assign transit mode with weights -- micro heavy now with mid WFH\n",
    "# but with a little transit\n",
    "WEIGHTS = (0 #Auto\n",
    "            ,0 #Motorcycle\n",
    "            ,0 #Taxi\n",
    "            ,5 #EBus\n",
    "            ,5 #Subway\n",
    "            ,5 #CommuterRail\n",
    "            ,5 #Ferry\n",
    "            ,15 #EScooter\n",
    "            ,40 #Walk\n",
    "            ,25 #EBike\n",
    "            ,20 #WFH\n",
    "          )\n",
    "\n",
    "commuter_model_midwfh_micro.ipums_df['First_Assignment'] = commuter_model_midwfh_micro.WeightedAssignNoOption(\n",
    "                                                                commuter_model_midwfh_micro.ipums_df['FLAG_AUTO'], \n",
    "                                                                commuter_model_midwfh_micro.ipums_df['FLAG_MOTORCYCLE'],\n",
    "                                                                commuter_model_midwfh_micro.ipums_df['FLAG_TAXICAB'], \n",
    "                                                                commuter_model_midwfh_micro.ipums_df['FLAG_EBUSES'],\n",
    "                                                                commuter_model_midwfh_micro.ipums_df['FLAG_SUBWAY'], \n",
    "                                                                commuter_model_midwfh_micro.ipums_df['FLAG_COMMUTERRAIL'],\n",
    "                                                                commuter_model_midwfh_micro.ipums_df['FLAG_FERRY'], \n",
    "                                                                commuter_model_midwfh_micro.ipums_df['FLAG_ESCOOTER'],\n",
    "                                                                commuter_model_midwfh_micro.ipums_df['FLAG_WALK'], \n",
    "                                                                commuter_model_midwfh_micro.ipums_df['FLAG_EBIKE'],\n",
    "                                                                commuter_model_midwfh_micro.ipums_df['FLAG_WFH'],\n",
    "                                                                WEIGHTS=WEIGHTS)\n",
    "\n",
    "commuter_model_midwfh_micro.ipums_df['TransMode'] = commuter_model_midwfh_micro.RandAssignChosenOption(\n",
    "                                                                commuter_model_midwfh_micro.ipums_df['First_Assignment'], \n",
    "                                                                commuter_model_midwfh_micro.ipums_df['MODE_TRANSP_TO_WORK_HBDMATCH'],\n",
    "                                                                \"Current\")"
   ]
  },
  {
   "cell_type": "code",
   "execution_count": null,
   "id": "46a4d369",
   "metadata": {
    "ExecuteTime": {
     "end_time": "2022-08-15T10:22:33.697839Z",
     "start_time": "2022-08-15T10:22:33.678911Z"
    }
   },
   "outputs": [],
   "source": []
  },
  {
   "cell_type": "markdown",
   "id": "9300bf27",
   "metadata": {},
   "source": [
    "## Electric Model"
   ]
  },
  {
   "cell_type": "code",
   "execution_count": 6,
   "id": "2f40453a",
   "metadata": {
    "ExecuteTime": {
     "end_time": "2022-07-15T01:00:59.024093Z",
     "start_time": "2022-07-15T01:00:59.005842Z"
    }
   },
   "outputs": [],
   "source": [
    "# # ---- # ---- # ---- # ---- # ---- # ---- #\n",
    "\n",
    "# electric_model_midwfh_micro = ElectricModel(commuter_model_midwfh_micro.ipums_df\n",
    "#                      ,ev_reference_table_loc=\"electrical_model/EV_reference_table.csv\"\\\n",
    "#                     ,PEV_delay_hr=3\n",
    "#                      ,bus_ferry_cab_delay=6\n",
    "#                     ,model_name = 'electric_model_midwfh_micro')\n"
   ]
  },
  {
   "cell_type": "code",
   "execution_count": 7,
   "id": "ff65844b",
   "metadata": {
    "ExecuteTime": {
     "end_time": "2022-07-15T01:06:46.501188Z",
     "start_time": "2022-07-15T01:00:59.025440Z"
    }
   },
   "outputs": [],
   "source": [
    "# ct= 0 \n",
    "# for e_m in [electric_model_midwfh_micro]:\n",
    "#     ct+=1\n",
    "    \n",
    "#     ## Run methods in order to read in, clean, and aggregate data\n",
    "#     e_m.read_electric_info_in()\n",
    "\n",
    "#     e_m.clean_commuter_df()\n",
    "\n",
    "#     e_m.create_in_out_flow_dfs()\n",
    "\n",
    "#     e_m.aggregate_data()\n",
    "#     print(f\"electric model done for em {ct}: {e_m.model_name}\")"
   ]
  },
  {
   "cell_type": "code",
   "execution_count": 8,
   "id": "b1f482ab",
   "metadata": {
    "ExecuteTime": {
     "end_time": "2022-07-15T01:08:46.787749Z",
     "start_time": "2022-07-15T01:08:46.742091Z"
    }
   },
   "outputs": [],
   "source": [
    "# save_loc_models = \"../06_Dashboard_Visualization/electric_model_outputs_WFHTransitCombos_V3/MidWFH_Micro_NJ\"\n",
    "# commuter_model_midwfh_micro.ipums_df.to_pickle(f\"{save_loc_models}/commuter_model_ipums_df.pkl\")\n",
    "# electric_model_midwfh_micro.df_aggregate.to_pickle(f\"{save_loc_models}/electric_model_df_aggregate.pkl\")"
   ]
  },
  {
   "cell_type": "code",
   "execution_count": 14,
   "id": "f675da23",
   "metadata": {
    "ExecuteTime": {
     "end_time": "2022-07-15T01:09:18.960828Z",
     "start_time": "2022-07-15T01:09:18.720186Z"
    }
   },
   "outputs": [
    {
     "data": {
      "text/html": [
       "<div>\n",
       "<style scoped>\n",
       "    .dataframe tbody tr th:only-of-type {\n",
       "        vertical-align: middle;\n",
       "    }\n",
       "\n",
       "    .dataframe tbody tr th {\n",
       "        vertical-align: top;\n",
       "    }\n",
       "\n",
       "    .dataframe thead th {\n",
       "        text-align: right;\n",
       "    }\n",
       "</style>\n",
       "<table border=\"1\" class=\"dataframe\">\n",
       "  <thead>\n",
       "    <tr style=\"text-align: right;\">\n",
       "      <th></th>\n",
       "      <th>TransMode</th>\n",
       "      <th>PERWT</th>\n",
       "    </tr>\n",
       "  </thead>\n",
       "  <tbody>\n",
       "    <tr>\n",
       "      <th>0</th>\n",
       "      <td>AutoOccupants</td>\n",
       "      <td>49382.0</td>\n",
       "    </tr>\n",
       "    <tr>\n",
       "      <th>1</th>\n",
       "      <td>Bicycle</td>\n",
       "      <td>1054381.0</td>\n",
       "    </tr>\n",
       "    <tr>\n",
       "      <th>2</th>\n",
       "      <td>Bus</td>\n",
       "      <td>339030.0</td>\n",
       "    </tr>\n",
       "    <tr>\n",
       "      <th>3</th>\n",
       "      <td>CommuterRail</td>\n",
       "      <td>362290.0</td>\n",
       "    </tr>\n",
       "    <tr>\n",
       "      <th>4</th>\n",
       "      <td>Escooter</td>\n",
       "      <td>346384.0</td>\n",
       "    </tr>\n",
       "    <tr>\n",
       "      <th>5</th>\n",
       "      <td>Ferry</td>\n",
       "      <td>46508.0</td>\n",
       "    </tr>\n",
       "    <tr>\n",
       "      <th>6</th>\n",
       "      <td>Other</td>\n",
       "      <td>2098.0</td>\n",
       "    </tr>\n",
       "    <tr>\n",
       "      <th>7</th>\n",
       "      <td>Subway</td>\n",
       "      <td>343577.0</td>\n",
       "    </tr>\n",
       "    <tr>\n",
       "      <th>8</th>\n",
       "      <td>WFH</td>\n",
       "      <td>172205.0</td>\n",
       "    </tr>\n",
       "    <tr>\n",
       "      <th>9</th>\n",
       "      <td>Walk</td>\n",
       "      <td>85475.0</td>\n",
       "    </tr>\n",
       "  </tbody>\n",
       "</table>\n",
       "</div>"
      ],
      "text/plain": [
       "       TransMode      PERWT\n",
       "0  AutoOccupants    49382.0\n",
       "1        Bicycle  1054381.0\n",
       "2            Bus   339030.0\n",
       "3   CommuterRail   362290.0\n",
       "4       Escooter   346384.0\n",
       "5          Ferry    46508.0\n",
       "6          Other     2098.0\n",
       "7         Subway   343577.0\n",
       "8            WFH   172205.0\n",
       "9           Walk    85475.0"
      ]
     },
     "execution_count": 14,
     "metadata": {},
     "output_type": "execute_result"
    }
   ],
   "source": [
    "commuter_model_midwfh_micro.ipums_df.groupby(by=['TransMode']).agg({\"PERWT\":\"sum\"}).reset_index()"
   ]
  },
  {
   "cell_type": "code",
   "execution_count": null,
   "id": "d4d31e0f",
   "metadata": {},
   "outputs": [],
   "source": []
  }
 ],
 "metadata": {
  "kernelspec": {
   "display_name": "Python 3 (ipykernel)",
   "language": "python",
   "name": "python3"
  },
  "language_info": {
   "codemirror_mode": {
    "name": "ipython",
    "version": 3
   },
   "file_extension": ".py",
   "mimetype": "text/x-python",
   "name": "python",
   "nbconvert_exporter": "python",
   "pygments_lexer": "ipython3",
   "version": "3.9.7"
  }
 },
 "nbformat": 4,
 "nbformat_minor": 5
}
