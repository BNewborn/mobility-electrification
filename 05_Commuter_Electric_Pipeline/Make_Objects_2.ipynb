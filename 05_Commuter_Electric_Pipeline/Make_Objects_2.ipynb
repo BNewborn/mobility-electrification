{
 "cells": [
  {
   "cell_type": "code",
   "execution_count": 2,
   "id": "e868bbc8",
   "metadata": {
    "ExecuteTime": {
     "end_time": "2022-06-12T14:14:43.019542Z",
     "start_time": "2022-06-12T14:14:43.015808Z"
    }
   },
   "outputs": [],
   "source": [
    "import numpy\n",
    "import pandas as pd\n",
    "import seaborn as sns\n",
    "import random\n",
    "import math\n",
    "import os\n",
    "\n",
    "from IPython import display\n",
    "\n",
    "pd.set_option('display.max_columns', None)\n",
    "\n",
    "### Import model objects from their unique directories - easier to organize\n",
    "\n",
    "from commuter_model.commuter_model import CommuterModel\n",
    "from electrical_model.electrical_model import ElectricModel"
   ]
  },
  {
   "cell_type": "code",
   "execution_count": 2,
   "id": "17e1738c",
   "metadata": {
    "ExecuteTime": {
     "end_time": "2022-06-12T14:14:43.159707Z",
     "start_time": "2022-06-12T14:14:43.020379Z"
    }
   },
   "outputs": [],
   "source": [
    "# load ipums data to local variable (ipums_df_19)\n",
    "ipums_df_19 = pd.read_csv(\"commuter_model/disaggregated_cleaned_ipums_data.csv\",index_col=0)\n",
    "ipums_df_19 = ipums_df_19[ipums_df_19['YEAR']==2019].reset_index(drop=True).copy()\n",
    "\n"
   ]
  },
  {
   "cell_type": "code",
   "execution_count": 3,
   "id": "4a6a8073",
   "metadata": {
    "ExecuteTime": {
     "end_time": "2022-06-12T14:14:43.304844Z",
     "start_time": "2022-06-12T14:14:43.161179Z"
    }
   },
   "outputs": [],
   "source": [
    "commuter_model_alltransit = CommuterModel(ipums_df=ipums_df_19.copy())\n",
    "commuter_model_allmicro = CommuterModel(ipums_df=ipums_df_19.copy())\n",
    "commuter_model_mix = CommuterModel(ipums_df=ipums_df_19.copy())"
   ]
  },
  {
   "cell_type": "code",
   "execution_count": 4,
   "id": "df5188eb",
   "metadata": {
    "ExecuteTime": {
     "end_time": "2022-06-12T14:14:44.347835Z",
     "start_time": "2022-06-12T14:14:43.305798Z"
    }
   },
   "outputs": [],
   "source": [
    "### Zeroing out non-transit\n",
    "commuter_model_alltransit.ipums_df['FLAG_AUTO'] = 0\n",
    "commuter_model_alltransit.ipums_df['FLAG_ESCOOTER'] = 0\n",
    "commuter_model_alltransit.ipums_df['FLAG_WALK'] = 0\n",
    "commuter_model_alltransit.ipums_df['FLAG_EBIKE']= 0\n",
    "commuter_model_alltransit.ipums_df['FLAG_MOTORCYCLE']= 0\n",
    "commuter_model_alltransit.ipums_df['FLAG_TAXICAB']= 0\n",
    "\n",
    "# print(commuter_model_alltransit.ipums_df[['FLAG_AUTO',\"FLAG_ESCOOTER\",\"FLAG_WALK\",\"FLAG_EBIKE\"]].sum())\n",
    "\n",
    "#### Transit\n",
    "### Bus\n",
    "commuter_model_alltransit.ipums_df['FLAG_EBUSES'] = commuter_model_alltransit.bus_flag_binary(\n",
    "                                        home_region=commuter_model_alltransit.puma_home_Bus\n",
    "                                        ,work_region=commuter_model_alltransit.puma_work_Bus\n",
    "                                        ,schedule=commuter_model_alltransit.time_Bus\n",
    "                                        ,affordability=100\n",
    "                                        ,fixgaps=False\n",
    "                                         )\n",
    "\n",
    "## Subway\n",
    "commuter_model_alltransit.ipums_df['FLAG_SUBWAY'] = commuter_model_alltransit.subway_flag_binary(\n",
    "                                            home_region=commuter_model_alltransit.puma_home_Subway\n",
    "                                            ,work_region=commuter_model_alltransit.puma_work_Subway\n",
    "                                            ,schedule=commuter_model_alltransit.time_Subway\n",
    "                                            ,affordability=100\n",
    "                                            ,fixgaps=False\n",
    "                                            )\n",
    "\n",
    "\n",
    "## Commuter Rail\n",
    "commuter_model_alltransit.ipums_df['FLAG_COMMUTERRAIL'] = commuter_model_alltransit.commuterRail_flag_binary(\n",
    "                                             home_region=commuter_model_alltransit.puma_home_CommuterRail\n",
    "                                            ,work_region=commuter_model_alltransit.puma_work_CommuterRail\n",
    "                                            ,schedule=commuter_model_alltransit.time_CommuterRail\n",
    "                                            ,affordability=100\n",
    "                                            ,fixgaps=False\n",
    "                                            )\n",
    "\n",
    "## Ferry\n",
    "commuter_model_alltransit.ipums_df['FLAG_FERRY'] = commuter_model_alltransit.ferry_flag_binary(\n",
    "                                            home_region=commuter_model_alltransit.puma_home_Ferry\n",
    "                                           ,work_region=commuter_model_alltransit.puma_work_Ferry\n",
    "                                           ,schedule=commuter_model_alltransit.time_Ferry\n",
    "                                           ,affordability=100\n",
    "                                           ,fixgaps=False\n",
    "                                          )\n",
    "## Work From Home\n",
    "commuter_model_alltransit.ipums_df[\"FLAG_WFH\"] = commuter_model_alltransit.wfh_flag_binary(\n",
    "                                            wfh_dampener=1\n",
    "                                                )\n",
    "\n",
    "# print(commuter_model_alltransit.ipums_df[flag_cols].sum())\n",
    "\n",
    "\n",
    "commuter_model_alltransit.ipums_df['First_Assignment'] = commuter_model_alltransit.RandAssignNoOption(\n",
    "                                                                commuter_model_alltransit.ipums_df['FLAG_AUTO'], \n",
    "                                                                commuter_model_alltransit.ipums_df['FLAG_MOTORCYCLE'],\n",
    "                                                                commuter_model_alltransit.ipums_df['FLAG_TAXICAB'], \n",
    "                                                                commuter_model_alltransit.ipums_df['FLAG_EBUSES'],\n",
    "                                                                commuter_model_alltransit.ipums_df['FLAG_SUBWAY'], \n",
    "                                                                commuter_model_alltransit.ipums_df['FLAG_COMMUTERRAIL'],\n",
    "                                                                commuter_model_alltransit.ipums_df['FLAG_FERRY'], \n",
    "                                                                commuter_model_alltransit.ipums_df['FLAG_ESCOOTER'],\n",
    "                                                                commuter_model_alltransit.ipums_df['FLAG_WALK'], \n",
    "                                                                commuter_model_alltransit.ipums_df['FLAG_EBIKE'],\n",
    "                                                                commuter_model_alltransit.ipums_df['FLAG_WFH'])\n",
    "commuter_model_alltransit.ipums_df['TransMode'] = commuter_model_alltransit.RandAssignChosenOption(\n",
    "                                                                commuter_model_alltransit.ipums_df['First_Assignment'], \n",
    "                                                                commuter_model_alltransit.ipums_df['MODE_TRANSP_TO_WORK_HBDMATCH'],\n",
    "                                                                \"Current\")"
   ]
  },
  {
   "cell_type": "code",
   "execution_count": 5,
   "id": "6d0a6a43",
   "metadata": {
    "ExecuteTime": {
     "end_time": "2022-06-12T14:14:44.350835Z",
     "start_time": "2022-06-12T14:14:44.348776Z"
    }
   },
   "outputs": [],
   "source": [
    "flag_cols = [x for x in commuter_model_alltransit.ipums_df if \"FLAG\" in x]\n"
   ]
  },
  {
   "cell_type": "code",
   "execution_count": 6,
   "id": "d5ea51b1",
   "metadata": {
    "ExecuteTime": {
     "end_time": "2022-06-12T14:14:44.359421Z",
     "start_time": "2022-06-12T14:14:44.351498Z"
    }
   },
   "outputs": [
    {
     "data": {
      "text/plain": [
       "FLAG_AUTO                0\n",
       "FLAG_ESCOOTER            0\n",
       "FLAG_WALK                0\n",
       "FLAG_EBIKE               0\n",
       "FLAG_MOTORCYCLE          0\n",
       "FLAG_TAXICAB             0\n",
       "FLAG_EBUSES          13958\n",
       "FLAG_SUBWAY          17010\n",
       "FLAG_COMMUTERRAIL     7484\n",
       "FLAG_FERRY            2516\n",
       "FLAG_WFH              6509\n",
       "dtype: int64"
      ]
     },
     "execution_count": 6,
     "metadata": {},
     "output_type": "execute_result"
    }
   ],
   "source": [
    "commuter_model_alltransit.ipums_df[flag_cols].sum()"
   ]
  },
  {
   "cell_type": "code",
   "execution_count": 7,
   "id": "ab4702fd",
   "metadata": {
    "ExecuteTime": {
     "end_time": "2022-06-12T14:14:44.364441Z",
     "start_time": "2022-06-12T14:14:44.360226Z"
    }
   },
   "outputs": [
    {
     "data": {
      "text/plain": [
       "Subway          9053\n",
       "Bus             6108\n",
       "CommuterRail    3879\n",
       "WFH             2748\n",
       "No option       1281\n",
       "Ferry            909\n",
       "Name: First_Assignment, dtype: int64"
      ]
     },
     "execution_count": 7,
     "metadata": {},
     "output_type": "execute_result"
    }
   ],
   "source": [
    "commuter_model_alltransit.ipums_df[\"First_Assignment\"].value_counts()"
   ]
  },
  {
   "cell_type": "code",
   "execution_count": 8,
   "id": "64fd071c",
   "metadata": {
    "ExecuteTime": {
     "end_time": "2022-06-12T14:14:44.369710Z",
     "start_time": "2022-06-12T14:14:44.365372Z"
    }
   },
   "outputs": [
    {
     "data": {
      "text/plain": [
       "Subway           9251\n",
       "Bus              6344\n",
       "CommuterRail     4157\n",
       "WFH              2753\n",
       "Ferry             944\n",
       "AutoOccupants     467\n",
       "Walk               40\n",
       "Other              16\n",
       "Bicycle             6\n",
       "Name: TransMode, dtype: int64"
      ]
     },
     "execution_count": 8,
     "metadata": {},
     "output_type": "execute_result"
    }
   ],
   "source": [
    "commuter_model_alltransit.ipums_df[\"TransMode\"].value_counts()"
   ]
  },
  {
   "cell_type": "code",
   "execution_count": 9,
   "id": "5ea12471",
   "metadata": {
    "ExecuteTime": {
     "end_time": "2022-06-12T14:14:44.376808Z",
     "start_time": "2022-06-12T14:14:44.372869Z"
    }
   },
   "outputs": [
    {
     "data": {
      "text/plain": [
       "FLAG_AUTO                0\n",
       "FLAG_ESCOOTER            0\n",
       "FLAG_WALK                0\n",
       "FLAG_EBIKE               0\n",
       "FLAG_MOTORCYCLE          0\n",
       "FLAG_TAXICAB             0\n",
       "FLAG_EBUSES          13958\n",
       "FLAG_SUBWAY          17010\n",
       "FLAG_COMMUTERRAIL     7484\n",
       "FLAG_FERRY            2516\n",
       "FLAG_WFH              6509\n",
       "dtype: int64"
      ]
     },
     "execution_count": 9,
     "metadata": {},
     "output_type": "execute_result"
    }
   ],
   "source": [
    "commuter_model_alltransit.ipums_df[flag_cols].sum()"
   ]
  },
  {
   "cell_type": "code",
   "execution_count": null,
   "id": "fb382991",
   "metadata": {},
   "outputs": [],
   "source": []
  },
  {
   "cell_type": "code",
   "execution_count": 10,
   "id": "ed43c358",
   "metadata": {
    "ExecuteTime": {
     "end_time": "2022-06-12T14:14:45.413108Z",
     "start_time": "2022-06-12T14:14:44.377764Z"
    }
   },
   "outputs": [],
   "source": [
    "#### All Micro-Mobility\n",
    "commuter_model_allmicro.ipums_df['FLAG_AUTO'] = 0\n",
    "## Motorcycle\n",
    "commuter_model_allmicro.ipums_df['FLAG_MOTORCYCLE'] = 0\n",
    "## Taxicab\n",
    "commuter_model_allmicro.ipums_df['FLAG_TAXICAB'] = 0\n",
    "## Bus\n",
    "commuter_model_allmicro.ipums_df['FLAG_EBUSES'] = 0\n",
    "## Subway\n",
    "commuter_model_allmicro.ipums_df['FLAG_SUBWAY'] = 0\n",
    "## Commuter Rail\n",
    "commuter_model_allmicro.ipums_df['FLAG_COMMUTERRAIL'] = 0\n",
    "## Ferry\n",
    "commuter_model_allmicro.ipums_df['FLAG_FERRY'] = 0\n",
    "\n",
    "\n",
    "## E-Scooter - bump up distance\n",
    "commuter_model_allmicro.ipums_df['FLAG_ESCOOTER'] = commuter_model_allmicro.escooter_flag_binary(\n",
    "                                            max_age=60\n",
    "                                            ,max_distance=15\n",
    "                                            ,scooter_friendly_origins=commuter_model_allmicro.bike_friendly_origins\n",
    "                                            ,male_pct=100\n",
    "                                            ,female_pct=100\n",
    "                                            )\n",
    "\n",
    "\n",
    "## Walking\n",
    "commuter_model_allmicro.ipums_df['FLAG_WALK'] = commuter_model_allmicro.walking_flag_binary(\n",
    "                                            max_age=100\n",
    "                                            ,max_distance=2\n",
    "                                            ,male_pct=100\n",
    "                                            ,female_pct=100\n",
    "                                            )\n",
    "\n",
    "## E-Bike\n",
    "commuter_model_allmicro.ipums_df['FLAG_EBIKE']=commuter_model_allmicro.ebike_flag_binary(\n",
    "                                        max_age=70\n",
    "                                        ,max_distance = 24\n",
    "                                        ,male_pct = 100\n",
    "                                        ,female_pct = 100\n",
    "                                        ,age_dist = None\n",
    "                                        ,bike_friendly_origins=commuter_model_allmicro.bike_friendly_origins\n",
    "                                        )\n",
    "\n",
    "\n",
    "## Work From Home\n",
    "commuter_model_allmicro.ipums_df[\"FLAG_WFH\"] = commuter_model_allmicro.wfh_flag_binary(\n",
    "                                            wfh_dampener=1\n",
    "                                                )\n",
    "\n",
    "commuter_model_allmicro.ipums_df['First_Assignment'] = commuter_model_allmicro.RandAssignNoOption(\n",
    "                                                                commuter_model_allmicro.ipums_df['FLAG_AUTO'], \n",
    "                                                                commuter_model_allmicro.ipums_df['FLAG_MOTORCYCLE'],\n",
    "                                                                commuter_model_allmicro.ipums_df['FLAG_TAXICAB'], \n",
    "                                                                commuter_model_allmicro.ipums_df['FLAG_EBUSES'],\n",
    "                                                                commuter_model_allmicro.ipums_df['FLAG_SUBWAY'], \n",
    "                                                                commuter_model_allmicro.ipums_df['FLAG_COMMUTERRAIL'],\n",
    "                                                                commuter_model_allmicro.ipums_df['FLAG_FERRY'], \n",
    "                                                                commuter_model_allmicro.ipums_df['FLAG_ESCOOTER'],\n",
    "                                                                commuter_model_allmicro.ipums_df['FLAG_WALK'], \n",
    "                                                                commuter_model_allmicro.ipums_df['FLAG_EBIKE'],\n",
    "                                                                commuter_model_allmicro.ipums_df['FLAG_WFH'])\n",
    "commuter_model_allmicro.ipums_df['TransMode'] = commuter_model_allmicro.RandAssignChosenOption(\n",
    "                                                                commuter_model_allmicro.ipums_df['First_Assignment'], \n",
    "                                                                commuter_model_allmicro.ipums_df['MODE_TRANSP_TO_WORK_HBDMATCH'],\n",
    "                                                                \"Current\")"
   ]
  },
  {
   "cell_type": "code",
   "execution_count": 11,
   "id": "19e8093d",
   "metadata": {
    "ExecuteTime": {
     "end_time": "2022-06-12T14:14:45.420709Z",
     "start_time": "2022-06-12T14:14:45.413863Z"
    }
   },
   "outputs": [
    {
     "data": {
      "text/plain": [
       "FLAG_AUTO                0\n",
       "FLAG_ESCOOTER         8649\n",
       "FLAG_WALK             1082\n",
       "FLAG_EBIKE           14140\n",
       "FLAG_MOTORCYCLE          0\n",
       "FLAG_TAXICAB             0\n",
       "FLAG_EBUSES              0\n",
       "FLAG_SUBWAY              0\n",
       "FLAG_COMMUTERRAIL        0\n",
       "FLAG_FERRY               0\n",
       "FLAG_WFH              6595\n",
       "dtype: int64"
      ]
     },
     "execution_count": 11,
     "metadata": {},
     "output_type": "execute_result"
    }
   ],
   "source": [
    "commuter_model_allmicro.ipums_df[flag_cols].sum()"
   ]
  },
  {
   "cell_type": "code",
   "execution_count": 12,
   "id": "303a322f",
   "metadata": {
    "ExecuteTime": {
     "end_time": "2022-06-12T14:14:45.425219Z",
     "start_time": "2022-06-12T14:14:45.421480Z"
    }
   },
   "outputs": [
    {
     "data": {
      "text/plain": [
       "Bicycle      8553\n",
       "No option    6778\n",
       "WFH          4410\n",
       "Escooter     3850\n",
       "Walk          387\n",
       "Name: First_Assignment, dtype: int64"
      ]
     },
     "execution_count": 12,
     "metadata": {},
     "output_type": "execute_result"
    }
   ],
   "source": [
    "commuter_model_allmicro.ipums_df[\"First_Assignment\"].value_counts(dropna=False)"
   ]
  },
  {
   "cell_type": "code",
   "execution_count": 13,
   "id": "b212f2c5",
   "metadata": {
    "ExecuteTime": {
     "end_time": "2022-06-12T14:14:45.429917Z",
     "start_time": "2022-06-12T14:14:45.425948Z"
    }
   },
   "outputs": [
    {
     "data": {
      "text/plain": [
       "Bicycle          8572\n",
       "WFH              4437\n",
       "Escooter         3850\n",
       "AutoOccupants    1785\n",
       "Subway           1769\n",
       "CommuterRail     1649\n",
       "Bus              1216\n",
       "Walk              485\n",
       "Ferry             183\n",
       "Other              32\n",
       "Name: TransMode, dtype: int64"
      ]
     },
     "execution_count": 13,
     "metadata": {},
     "output_type": "execute_result"
    }
   ],
   "source": [
    "commuter_model_allmicro.ipums_df[\"TransMode\"].value_counts()"
   ]
  },
  {
   "cell_type": "code",
   "execution_count": 14,
   "id": "ce5784d8",
   "metadata": {
    "ExecuteTime": {
     "end_time": "2022-06-12T14:14:46.536193Z",
     "start_time": "2022-06-12T14:14:45.430759Z"
    }
   },
   "outputs": [],
   "source": [
    "#### Standard\n",
    "\n",
    "commuter_model_mix.ipums_df['FLAG_AUTO'] = commuter_model_mix.auto_flag_binary(\n",
    "                                        max_age=70\n",
    "                                       ,min_distance = 2\n",
    "                                       ,min_income = 32626\n",
    "                                       ,male_pct = 15\n",
    "                                       ,female_pct = 15\n",
    "                                       ,age_dist = None\n",
    "                                       )\n",
    "## Motorcycle\n",
    "commuter_model_mix.ipums_df['FLAG_MOTORCYCLE'] = commuter_model_mix.motorcycle_flag_binary(\n",
    "                                        max_age=35\n",
    "                                       ,max_distance = 300\n",
    "                                       ,min_income = 50000\n",
    "                                       ,male_pct = 1\n",
    "                                       ,female_pct = 0\n",
    "                                       ,age_dist = None\n",
    "                                        )\n",
    "\n",
    "\n",
    "## Taxicab\n",
    "commuter_model_mix.ipums_df['FLAG_TAXICAB'] = commuter_model_mix.taxicab_flag_binary(\n",
    "                                        max_distance = 15\n",
    "                                       ,min_income = 32626\n",
    "                                       ,male_pct = 5\n",
    "                                       ,female_pct = 2\n",
    "                                       ,age_dist = None\n",
    "                                        )\n",
    "\n",
    "## Bus\n",
    "commuter_model_mix.ipums_df['FLAG_EBUSES'] = commuter_model_mix.bus_flag_binary(\n",
    "                                        home_region=commuter_model_mix.puma_home_Bus\n",
    "                                        ,work_region=commuter_model_mix.puma_work_Bus\n",
    "                                        ,schedule=commuter_model_mix.time_Bus\n",
    "                                        ,affordability=50\n",
    "                                        ,fixgaps=False\n",
    "                                         )\n",
    "\n",
    "\n",
    "## Subway\n",
    "commuter_model_mix.ipums_df['FLAG_SUBWAY'] = commuter_model_mix.subway_flag_binary(\n",
    "                                            home_region=commuter_model_mix.puma_home_Subway\n",
    "                                            ,work_region=commuter_model_mix.puma_work_Subway\n",
    "                                            ,schedule=commuter_model_mix.time_Subway\n",
    "                                            ,affordability=100\n",
    "                                            ,fixgaps=False\n",
    "                                            )\n",
    "\n",
    "\n",
    "\n",
    "## Commuter Rail\n",
    "commuter_model_mix.ipums_df['FLAG_COMMUTERRAIL'] = commuter_model_mix.commuterRail_flag_binary(\n",
    "                                             home_region=commuter_model_mix.puma_home_CommuterRail\n",
    "                                            ,work_region=commuter_model_mix.puma_work_CommuterRail\n",
    "                                            ,schedule=commuter_model_mix.time_CommuterRail\n",
    "                                            ,affordability=100\n",
    "                                            ,fixgaps=False\n",
    "                                            )\n",
    "\n",
    "## Ferry\n",
    "commuter_model_mix.ipums_df['FLAG_FERRY'] = commuter_model_mix.ferry_flag_binary(\n",
    "                                            home_region=commuter_model_mix.puma_home_Ferry\n",
    "                                           ,work_region=commuter_model_mix.puma_work_Ferry\n",
    "                                           ,schedule=commuter_model_mix.time_Ferry\n",
    "                                           ,affordability=100\n",
    "                                           ,fixgaps=False\n",
    "                                          )\n",
    "\n",
    "\n",
    "\n",
    "## E-Scooter\n",
    "commuter_model_mix.ipums_df['FLAG_ESCOOTER'] = commuter_model_mix.escooter_flag_binary(\n",
    "                                            max_age=60\n",
    "                                            ,max_distance=4\n",
    "                                            ,scooter_friendly_origins=commuter_model_mix.bike_friendly_origins\n",
    "                                            ,male_pct=25\n",
    "                                            ,female_pct=25\n",
    "                                            )\n",
    "\n",
    "\n",
    "## Walking\n",
    "commuter_model_mix.ipums_df['FLAG_WALK'] = commuter_model_mix.walking_flag_binary(\n",
    "                                            max_age=100\n",
    "                                            ,max_distance=2\n",
    "                                            ,male_pct=100\n",
    "                                            ,female_pct=100\n",
    "                                            )\n",
    "\n",
    "## E-Bike\n",
    "commuter_model_mix.ipums_df['FLAG_EBIKE']=commuter_model_mix.ebike_flag_binary(\n",
    "                                        max_age=70\n",
    "                                        ,max_distance = 35\n",
    "                                        ,male_pct = 50\n",
    "                                        ,female_pct = 40\n",
    "                                        ,age_dist = None\n",
    "                                        ,bike_friendly_origins=commuter_model_mix.bike_friendly_origins\n",
    "                                        )\n",
    "\n",
    "\n",
    "## Work From Home\n",
    "commuter_model_mix.ipums_df[\"FLAG_WFH\"] = commuter_model_mix.wfh_flag_binary(\n",
    "                                            wfh_dampener=.5\n",
    "                                                )\n",
    "\n",
    "\n",
    "commuter_model_mix.ipums_df['First_Assignment'] = commuter_model_mix.RandAssignNoOption(\n",
    "                                                                commuter_model_mix.ipums_df['FLAG_AUTO'], \n",
    "                                                                commuter_model_mix.ipums_df['FLAG_MOTORCYCLE'],\n",
    "                                                                commuter_model_mix.ipums_df['FLAG_TAXICAB'], \n",
    "                                                                commuter_model_mix.ipums_df['FLAG_EBUSES'],\n",
    "                                                                commuter_model_mix.ipums_df['FLAG_SUBWAY'], \n",
    "                                                                commuter_model_mix.ipums_df['FLAG_COMMUTERRAIL'],\n",
    "                                                                commuter_model_mix.ipums_df['FLAG_FERRY'], \n",
    "                                                                commuter_model_mix.ipums_df['FLAG_ESCOOTER'],\n",
    "                                                                commuter_model_mix.ipums_df['FLAG_WALK'], \n",
    "                                                                commuter_model_mix.ipums_df['FLAG_EBIKE'],\n",
    "                                                                commuter_model_mix.ipums_df['FLAG_WFH'])\n",
    "commuter_model_mix.ipums_df['TransMode'] = commuter_model_mix.RandAssignChosenOption(\n",
    "                                                                commuter_model_mix.ipums_df['First_Assignment'], \n",
    "                                                                commuter_model_mix.ipums_df['MODE_TRANSP_TO_WORK_HBDMATCH'],\n",
    "                                                                \"Current\")"
   ]
  },
  {
   "cell_type": "code",
   "execution_count": 15,
   "id": "ca915b6e",
   "metadata": {
    "ExecuteTime": {
     "end_time": "2022-06-12T14:14:46.543628Z",
     "start_time": "2022-06-12T14:14:46.536999Z"
    }
   },
   "outputs": [
    {
     "data": {
      "text/plain": [
       "FLAG_AUTO             1675\n",
       "FLAG_ESCOOTER          238\n",
       "FLAG_WALK             1082\n",
       "FLAG_EBIKE            7273\n",
       "FLAG_MOTORCYCLE         30\n",
       "FLAG_TAXICAB           285\n",
       "FLAG_EBUSES          13866\n",
       "FLAG_SUBWAY          17010\n",
       "FLAG_COMMUTERRAIL     7484\n",
       "FLAG_FERRY            2516\n",
       "FLAG_WFH              3379\n",
       "dtype: int64"
      ]
     },
     "execution_count": 15,
     "metadata": {},
     "output_type": "execute_result"
    }
   ],
   "source": [
    "commuter_model_mix.ipums_df[flag_cols].sum()"
   ]
  },
  {
   "cell_type": "code",
   "execution_count": 16,
   "id": "d44abdf3",
   "metadata": {
    "ExecuteTime": {
     "end_time": "2022-06-12T14:14:46.549473Z",
     "start_time": "2022-06-12T14:14:46.544431Z"
    }
   },
   "outputs": [
    {
     "data": {
      "text/plain": [
       "Subway           7630\n",
       "Bus              5376\n",
       "CommuterRail     3877\n",
       "Bicycle          2585\n",
       "WFH              1281\n",
       "No option        1197\n",
       "Ferry             877\n",
       "AutoOccupants     691\n",
       "Walk              320\n",
       "Taxicab            74\n",
       "Escooter           59\n",
       "Motorcycle         11\n",
       "Name: First_Assignment, dtype: int64"
      ]
     },
     "execution_count": 16,
     "metadata": {},
     "output_type": "execute_result"
    }
   ],
   "source": [
    "commuter_model_mix.ipums_df[\"First_Assignment\"].value_counts()"
   ]
  },
  {
   "cell_type": "code",
   "execution_count": 17,
   "id": "0e25522c",
   "metadata": {
    "ExecuteTime": {
     "end_time": "2022-06-12T14:14:46.554882Z",
     "start_time": "2022-06-12T14:14:46.550636Z"
    }
   },
   "outputs": [
    {
     "data": {
      "text/plain": [
       "Subway           7795\n",
       "Bus              5574\n",
       "CommuterRail     4208\n",
       "Bicycle          2589\n",
       "WFH              1284\n",
       "AutoOccupants    1109\n",
       "Ferry             904\n",
       "Walk              353\n",
       "Taxicab            74\n",
       "Escooter           59\n",
       "Other              18\n",
       "Motorcycle         11\n",
       "Name: TransMode, dtype: int64"
      ]
     },
     "execution_count": 17,
     "metadata": {},
     "output_type": "execute_result"
    }
   ],
   "source": [
    "commuter_model_mix.ipums_df[\"TransMode\"].value_counts()"
   ]
  },
  {
   "cell_type": "code",
   "execution_count": 18,
   "id": "01f390e2",
   "metadata": {
    "ExecuteTime": {
     "end_time": "2022-06-12T14:14:46.569965Z",
     "start_time": "2022-06-12T14:14:46.556025Z"
    }
   },
   "outputs": [
    {
     "data": {
      "text/html": [
       "<div>\n",
       "<style scoped>\n",
       "    .dataframe tbody tr th:only-of-type {\n",
       "        vertical-align: middle;\n",
       "    }\n",
       "\n",
       "    .dataframe tbody tr th {\n",
       "        vertical-align: top;\n",
       "    }\n",
       "\n",
       "    .dataframe thead th {\n",
       "        text-align: right;\n",
       "    }\n",
       "</style>\n",
       "<table border=\"1\" class=\"dataframe\">\n",
       "  <thead>\n",
       "    <tr style=\"text-align: right;\">\n",
       "      <th></th>\n",
       "      <th>First_Assignment_x</th>\n",
       "      <th>First_Assignment_y</th>\n",
       "      <th>First_Assignment</th>\n",
       "    </tr>\n",
       "  </thead>\n",
       "  <tbody>\n",
       "    <tr>\n",
       "      <th>AutoOccupants</th>\n",
       "      <td>NaN</td>\n",
       "      <td>NaN</td>\n",
       "      <td>691</td>\n",
       "    </tr>\n",
       "    <tr>\n",
       "      <th>Bicycle</th>\n",
       "      <td>8553.0</td>\n",
       "      <td>NaN</td>\n",
       "      <td>2585</td>\n",
       "    </tr>\n",
       "    <tr>\n",
       "      <th>Bus</th>\n",
       "      <td>NaN</td>\n",
       "      <td>6108.0</td>\n",
       "      <td>5376</td>\n",
       "    </tr>\n",
       "    <tr>\n",
       "      <th>CommuterRail</th>\n",
       "      <td>NaN</td>\n",
       "      <td>3879.0</td>\n",
       "      <td>3877</td>\n",
       "    </tr>\n",
       "    <tr>\n",
       "      <th>Escooter</th>\n",
       "      <td>3850.0</td>\n",
       "      <td>NaN</td>\n",
       "      <td>59</td>\n",
       "    </tr>\n",
       "    <tr>\n",
       "      <th>Ferry</th>\n",
       "      <td>NaN</td>\n",
       "      <td>909.0</td>\n",
       "      <td>877</td>\n",
       "    </tr>\n",
       "    <tr>\n",
       "      <th>Motorcycle</th>\n",
       "      <td>NaN</td>\n",
       "      <td>NaN</td>\n",
       "      <td>11</td>\n",
       "    </tr>\n",
       "    <tr>\n",
       "      <th>No option</th>\n",
       "      <td>6778.0</td>\n",
       "      <td>1281.0</td>\n",
       "      <td>1197</td>\n",
       "    </tr>\n",
       "    <tr>\n",
       "      <th>Subway</th>\n",
       "      <td>NaN</td>\n",
       "      <td>9053.0</td>\n",
       "      <td>7630</td>\n",
       "    </tr>\n",
       "    <tr>\n",
       "      <th>Taxicab</th>\n",
       "      <td>NaN</td>\n",
       "      <td>NaN</td>\n",
       "      <td>74</td>\n",
       "    </tr>\n",
       "    <tr>\n",
       "      <th>WFH</th>\n",
       "      <td>4410.0</td>\n",
       "      <td>2748.0</td>\n",
       "      <td>1281</td>\n",
       "    </tr>\n",
       "    <tr>\n",
       "      <th>Walk</th>\n",
       "      <td>387.0</td>\n",
       "      <td>NaN</td>\n",
       "      <td>320</td>\n",
       "    </tr>\n",
       "  </tbody>\n",
       "</table>\n",
       "</div>"
      ],
      "text/plain": [
       "               First_Assignment_x  First_Assignment_y  First_Assignment\n",
       "AutoOccupants                 NaN                 NaN               691\n",
       "Bicycle                    8553.0                 NaN              2585\n",
       "Bus                           NaN              6108.0              5376\n",
       "CommuterRail                  NaN              3879.0              3877\n",
       "Escooter                   3850.0                 NaN                59\n",
       "Ferry                         NaN               909.0               877\n",
       "Motorcycle                    NaN                 NaN                11\n",
       "No option                  6778.0              1281.0              1197\n",
       "Subway                        NaN              9053.0              7630\n",
       "Taxicab                       NaN                 NaN                74\n",
       "WFH                        4410.0              2748.0              1281\n",
       "Walk                        387.0                 NaN               320"
      ]
     },
     "execution_count": 18,
     "metadata": {},
     "output_type": "execute_result"
    }
   ],
   "source": [
    "#### Compare Counts of Flags\n",
    "# commuter_model_alltransit.ipums_df['FLAG_AUTO'].sum()\n",
    "ct_1 = commuter_model_allmicro.ipums_df['First_Assignment'].value_counts()\n",
    "\n",
    "# commuter_model_alltransit.ipums_df['FLAG_AUTO'].sum()\n",
    "ct_2 = commuter_model_alltransit.ipums_df['First_Assignment'].value_counts()\n",
    "\n",
    "# commuter_model_mix.ipums_df['FLAG_AUTO'].sum()\n",
    "ct_3 =commuter_model_mix.ipums_df['First_Assignment'].value_counts()\n",
    "\n",
    "pd.merge(left=ct_1,right=ct_2,left_index=True,right_index=True,how='outer')\\\n",
    ".merge(right=ct_3,left_index=True,right_index=True,how='outer')"
   ]
  },
  {
   "cell_type": "code",
   "execution_count": null,
   "id": "87abe22c",
   "metadata": {},
   "outputs": [],
   "source": []
  },
  {
   "cell_type": "code",
   "execution_count": null,
   "id": "8df7a00f",
   "metadata": {},
   "outputs": [],
   "source": []
  },
  {
   "cell_type": "code",
   "execution_count": null,
   "id": "d89fa68b",
   "metadata": {},
   "outputs": [],
   "source": []
  },
  {
   "cell_type": "code",
   "execution_count": 19,
   "id": "4d9b516f",
   "metadata": {
    "ExecuteTime": {
     "end_time": "2022-06-12T14:14:46.578960Z",
     "start_time": "2022-06-12T14:14:46.571050Z"
    }
   },
   "outputs": [
    {
     "data": {
      "text/plain": [
       "Subway          9053\n",
       "Bus             6108\n",
       "CommuterRail    3879\n",
       "WFH             2748\n",
       "No option       1281\n",
       "Ferry            909\n",
       "Name: First_Assignment, dtype: int64"
      ]
     },
     "execution_count": 19,
     "metadata": {},
     "output_type": "execute_result"
    }
   ],
   "source": [
    "commuter_model_alltransit.ipums_df.groupby(by=[\"YEAR\"])[flag_cols].sum()\n",
    "commuter_model_alltransit.ipums_df['First_Assignment'].value_counts()"
   ]
  },
  {
   "cell_type": "code",
   "execution_count": 20,
   "id": "9b822ce8",
   "metadata": {
    "ExecuteTime": {
     "end_time": "2022-06-12T14:15:00.137637Z",
     "start_time": "2022-06-12T14:15:00.101327Z"
    }
   },
   "outputs": [
    {
     "data": {
      "text/html": [
       "<div>\n",
       "<style scoped>\n",
       "    .dataframe tbody tr th:only-of-type {\n",
       "        vertical-align: middle;\n",
       "    }\n",
       "\n",
       "    .dataframe tbody tr th {\n",
       "        vertical-align: top;\n",
       "    }\n",
       "\n",
       "    .dataframe thead th {\n",
       "        text-align: right;\n",
       "    }\n",
       "</style>\n",
       "<table border=\"1\" class=\"dataframe\">\n",
       "  <thead>\n",
       "    <tr style=\"text-align: right;\">\n",
       "      <th></th>\n",
       "      <th>all_transit_count</th>\n",
       "      <th>all_micro_count</th>\n",
       "      <th>mix_count</th>\n",
       "    </tr>\n",
       "  </thead>\n",
       "  <tbody>\n",
       "    <tr>\n",
       "      <th>AutoOccupants</th>\n",
       "      <td>48356.0</td>\n",
       "      <td>187565.0</td>\n",
       "      <td>111241.0</td>\n",
       "    </tr>\n",
       "    <tr>\n",
       "      <th>Bicycle</th>\n",
       "      <td>436.0</td>\n",
       "      <td>1068354.0</td>\n",
       "      <td>318793.0</td>\n",
       "    </tr>\n",
       "    <tr>\n",
       "      <th>Bus</th>\n",
       "      <td>783420.0</td>\n",
       "      <td>133763.0</td>\n",
       "      <td>697723.0</td>\n",
       "    </tr>\n",
       "    <tr>\n",
       "      <th>CommuterRail</th>\n",
       "      <td>430532.0</td>\n",
       "      <td>161196.0</td>\n",
       "      <td>430003.0</td>\n",
       "    </tr>\n",
       "    <tr>\n",
       "      <th>Ferry</th>\n",
       "      <td>96618.0</td>\n",
       "      <td>17098.0</td>\n",
       "      <td>90777.0</td>\n",
       "    </tr>\n",
       "    <tr>\n",
       "      <th>Other</th>\n",
       "      <td>1875.0</td>\n",
       "      <td>3183.0</td>\n",
       "      <td>2068.0</td>\n",
       "    </tr>\n",
       "    <tr>\n",
       "      <th>Subway</th>\n",
       "      <td>1143271.0</td>\n",
       "      <td>168409.0</td>\n",
       "      <td>934088.0</td>\n",
       "    </tr>\n",
       "    <tr>\n",
       "      <th>WFH</th>\n",
       "      <td>292528.0</td>\n",
       "      <td>461511.0</td>\n",
       "      <td>136241.0</td>\n",
       "    </tr>\n",
       "    <tr>\n",
       "      <th>Walk</th>\n",
       "      <td>4294.0</td>\n",
       "      <td>80427.0</td>\n",
       "      <td>59142.0</td>\n",
       "    </tr>\n",
       "    <tr>\n",
       "      <th>Escooter</th>\n",
       "      <td>NaN</td>\n",
       "      <td>519824.0</td>\n",
       "      <td>10673.0</td>\n",
       "    </tr>\n",
       "    <tr>\n",
       "      <th>Motorcycle</th>\n",
       "      <td>NaN</td>\n",
       "      <td>NaN</td>\n",
       "      <td>1301.0</td>\n",
       "    </tr>\n",
       "    <tr>\n",
       "      <th>Taxicab</th>\n",
       "      <td>NaN</td>\n",
       "      <td>NaN</td>\n",
       "      <td>9280.0</td>\n",
       "    </tr>\n",
       "  </tbody>\n",
       "</table>\n",
       "</div>"
      ],
      "text/plain": [
       "               all_transit_count  all_micro_count  mix_count\n",
       "AutoOccupants            48356.0         187565.0   111241.0\n",
       "Bicycle                    436.0        1068354.0   318793.0\n",
       "Bus                     783420.0         133763.0   697723.0\n",
       "CommuterRail            430532.0         161196.0   430003.0\n",
       "Ferry                    96618.0          17098.0    90777.0\n",
       "Other                     1875.0           3183.0     2068.0\n",
       "Subway                 1143271.0         168409.0   934088.0\n",
       "WFH                     292528.0         461511.0   136241.0\n",
       "Walk                      4294.0          80427.0    59142.0\n",
       "Escooter                     NaN         519824.0    10673.0\n",
       "Motorcycle                   NaN              NaN     1301.0\n",
       "Taxicab                      NaN              NaN     9280.0"
      ]
     },
     "execution_count": 20,
     "metadata": {},
     "output_type": "execute_result"
    }
   ],
   "source": [
    "master_df = pd.DataFrame()\n",
    "for x in [commuter_model_alltransit,commuter_model_allmicro,commuter_model_mix]:\n",
    "    master_df = pd.concat([master_df,x.ipums_df.groupby(by=[\"TransMode\"])['PERWT'].sum()],axis=1)\n",
    "master_df.columns=[\"all_transit_count\",\"all_micro_count\",\"mix_count\"]\n",
    "master_df"
   ]
  },
  {
   "cell_type": "code",
   "execution_count": null,
   "id": "0a45f6aa-6e8e-49e5-9191-82656587aff4",
   "metadata": {},
   "outputs": [],
   "source": []
  },
  {
   "cell_type": "code",
   "execution_count": null,
   "id": "352c48b1-800c-4f83-b1ba-cf93b5d58a28",
   "metadata": {},
   "outputs": [],
   "source": []
  },
  {
   "cell_type": "code",
   "execution_count": 23,
   "id": "716c4855-d645-4668-8e06-fd16ce162f5b",
   "metadata": {},
   "outputs": [],
   "source": [
    "save_dir = \"../06_Dashboard_Visualization/commuter_model_outputs\"\n",
    "os.makedirs(save_dir,exist_ok=True)\n",
    "commuter_model_alltransit.ipums_df.to_pickle(f\"{save_dir}/commuter_model_alltransit_dfaggregate.pkl\")\n",
    "commuter_model_allmicro.ipums_df.to_pickle(f\"{save_dir}/commuter_model_allmicro_dfaggregate.pkl\")\n",
    "commuter_model_mix.ipums_df.to_pickle(f\"{save_dir}/commuter_model_mix_dfaggregate.pkl\")"
   ]
  },
  {
   "cell_type": "code",
   "execution_count": 26,
   "id": "73fa2831-6e10-498e-969c-7d0f44e4c6ca",
   "metadata": {},
   "outputs": [
    {
     "data": {
      "text/html": [
       "<div>\n",
       "<style scoped>\n",
       "    .dataframe tbody tr th:only-of-type {\n",
       "        vertical-align: middle;\n",
       "    }\n",
       "\n",
       "    .dataframe tbody tr th {\n",
       "        vertical-align: top;\n",
       "    }\n",
       "\n",
       "    .dataframe thead th {\n",
       "        text-align: right;\n",
       "    }\n",
       "</style>\n",
       "<table border=\"1\" class=\"dataframe\">\n",
       "  <thead>\n",
       "    <tr style=\"text-align: right;\">\n",
       "      <th></th>\n",
       "      <th>Unnamed: 0</th>\n",
       "      <th>PUMAKEY_HOME</th>\n",
       "      <th>Subregion</th>\n",
       "    </tr>\n",
       "  </thead>\n",
       "  <tbody>\n",
       "    <tr>\n",
       "      <th>0</th>\n",
       "      <td>0</td>\n",
       "      <td>09_00102</td>\n",
       "      <td>CT</td>\n",
       "    </tr>\n",
       "    <tr>\n",
       "      <th>1</th>\n",
       "      <td>1</td>\n",
       "      <td>09_00101</td>\n",
       "      <td>CT</td>\n",
       "    </tr>\n",
       "    <tr>\n",
       "      <th>2</th>\n",
       "      <td>2</td>\n",
       "      <td>09_00100</td>\n",
       "      <td>CT</td>\n",
       "    </tr>\n",
       "    <tr>\n",
       "      <th>3</th>\n",
       "      <td>3</td>\n",
       "      <td>09_00103</td>\n",
       "      <td>CT</td>\n",
       "    </tr>\n",
       "    <tr>\n",
       "      <th>4</th>\n",
       "      <td>4</td>\n",
       "      <td>09_00105</td>\n",
       "      <td>CT</td>\n",
       "    </tr>\n",
       "    <tr>\n",
       "      <th>...</th>\n",
       "      <td>...</td>\n",
       "      <td>...</td>\n",
       "      <td>...</td>\n",
       "    </tr>\n",
       "    <tr>\n",
       "      <th>177</th>\n",
       "      <td>177</td>\n",
       "      <td>36_04113</td>\n",
       "      <td>Non-MNY Boroughs</td>\n",
       "    </tr>\n",
       "    <tr>\n",
       "      <th>178</th>\n",
       "      <td>178</td>\n",
       "      <td>36_04105</td>\n",
       "      <td>Non-MNY Boroughs</td>\n",
       "    </tr>\n",
       "    <tr>\n",
       "      <th>179</th>\n",
       "      <td>179</td>\n",
       "      <td>36_04104</td>\n",
       "      <td>Non-MNY Boroughs</td>\n",
       "    </tr>\n",
       "    <tr>\n",
       "      <th>180</th>\n",
       "      <td>180</td>\n",
       "      <td>36_04103</td>\n",
       "      <td>Non-MNY Boroughs</td>\n",
       "    </tr>\n",
       "    <tr>\n",
       "      <th>181</th>\n",
       "      <td>181</td>\n",
       "      <td>36_04114</td>\n",
       "      <td>Non-MNY Boroughs</td>\n",
       "    </tr>\n",
       "  </tbody>\n",
       "</table>\n",
       "<p>182 rows × 3 columns</p>\n",
       "</div>"
      ],
      "text/plain": [
       "     Unnamed: 0 PUMAKEY_HOME         Subregion\n",
       "0             0     09_00102                CT\n",
       "1             1     09_00101                CT\n",
       "2             2     09_00100                CT\n",
       "3             3     09_00103                CT\n",
       "4             4     09_00105                CT\n",
       "..          ...          ...               ...\n",
       "177         177     36_04113  Non-MNY Boroughs\n",
       "178         178     36_04105  Non-MNY Boroughs\n",
       "179         179     36_04104  Non-MNY Boroughs\n",
       "180         180     36_04103  Non-MNY Boroughs\n",
       "181         181     36_04114  Non-MNY Boroughs\n",
       "\n",
       "[182 rows x 3 columns]"
      ]
     },
     "execution_count": 26,
     "metadata": {},
     "output_type": "execute_result"
    }
   ],
   "source": [
    "subregion = pd.read_csv(f\"{save_dir}/subregion_reference_table.csv\")\n",
    "# subregion = subregion.drop_duplicates().reset_index(drop=True)\\\n",
    "#                      .rename({'pumakey':'PUMAKEY_HOME','label':'Subregion'},axis=1)\n",
    "# subr_dict = {11:'CT',\n",
    "#              2:'Outer NJ',\n",
    "#              44:'Manhattan',\n",
    "#              618:'Inner NJ',\n",
    "#              5:'Mid Hud',\n",
    "#              19:'LI',\n",
    "#              4:'Non-MNY Boroughs',\n",
    "#              444:'Low Hud'\n",
    "#             }\n",
    "# subregion[\"Subregion\"] = subregion[\"Subregion\"].replace(subr_dict)\n",
    "# subregion.to_csv(f\"{save_dir}/subregion_reference_table.csv\")\n",
    "subregion"
   ]
  },
  {
   "cell_type": "code",
   "execution_count": 27,
   "id": "e4acd7e9",
   "metadata": {},
   "outputs": [
    {
     "data": {
      "text/plain": [
       "array(['CT', 'Outer NJ', 'Manhattan', 'Inner NJ', 'Mid Hud', 'LI',\n",
       "       'Non-MNY Boroughs', 'Low Hud'], dtype=object)"
      ]
     },
     "execution_count": 27,
     "metadata": {},
     "output_type": "execute_result"
    }
   ],
   "source": [
    "subregion.Subregion.unique()"
   ]
  },
  {
   "cell_type": "code",
   "execution_count": 24,
   "id": "4eef5167",
   "metadata": {},
   "outputs": [],
   "source": []
  },
  {
   "cell_type": "code",
   "execution_count": null,
   "id": "05fe23b8",
   "metadata": {},
   "outputs": [],
   "source": []
  },
  {
   "cell_type": "code",
   "execution_count": null,
   "id": "83955d7b",
   "metadata": {},
   "outputs": [],
   "source": []
  },
  {
   "cell_type": "code",
   "execution_count": null,
   "id": "fb43ae53",
   "metadata": {},
   "outputs": [],
   "source": []
  }
 ],
 "metadata": {
  "kernelspec": {
   "display_name": "Python 3 (ipykernel)",
   "language": "python",
   "name": "python3"
  },
  "language_info": {
   "codemirror_mode": {
    "name": "ipython",
    "version": 3
   },
   "file_extension": ".py",
   "mimetype": "text/x-python",
   "name": "python",
   "nbconvert_exporter": "python",
   "pygments_lexer": "ipython3",
   "version": "3.9.7"
  }
 },
 "nbformat": 4,
 "nbformat_minor": 5
}
