{
 "cells": [
  {
   "cell_type": "code",
   "execution_count": 1,
   "id": "e868bbc8",
   "metadata": {
    "ExecuteTime": {
     "end_time": "2022-06-12T14:14:43.019542Z",
     "start_time": "2022-06-12T14:14:43.015808Z"
    }
   },
   "outputs": [],
   "source": [
    "import numpy\n",
    "import pandas as pd\n",
    "import seaborn as sns\n",
    "import random\n",
    "import math\n",
    "import os\n",
    "\n",
    "from IPython import display\n",
    "\n",
    "pd.set_option('display.max_columns', None)\n",
    "\n",
    "### Import model objects from their unique directories - easier to organize\n",
    "\n",
    "from commuter_model.commuter_model import CommuterModel\n",
    "from electrical_model.electrical_model import ElectricModel"
   ]
  },
  {
   "cell_type": "code",
   "execution_count": 2,
   "id": "17e1738c",
   "metadata": {
    "ExecuteTime": {
     "end_time": "2022-06-12T14:14:43.159707Z",
     "start_time": "2022-06-12T14:14:43.020379Z"
    }
   },
   "outputs": [],
   "source": [
    "# load ipums data to local variable (ipums_df_19)\n",
    "ipums_df_19 = pd.read_csv(\"commuter_model/disaggregated_cleaned_ipums_data.csv\",index_col=0)\n",
    "ipums_df_19 = ipums_df_19[ipums_df_19['YEAR']==2019].reset_index(drop=True).copy()\n",
    "\n"
   ]
  },
  {
   "cell_type": "code",
   "execution_count": 3,
   "id": "4a6a8073",
   "metadata": {
    "ExecuteTime": {
     "end_time": "2022-06-12T14:14:43.304844Z",
     "start_time": "2022-06-12T14:14:43.161179Z"
    }
   },
   "outputs": [],
   "source": [
    "commuter_model_alltransit = CommuterModel(ipums_df=ipums_df_19.copy())\n",
    "commuter_model_allmicro = CommuterModel(ipums_df=ipums_df_19.copy())\n",
    "commuter_model_mix = CommuterModel(ipums_df=ipums_df_19.copy())"
   ]
  },
  {
   "cell_type": "code",
   "execution_count": 4,
   "id": "df5188eb",
   "metadata": {
    "ExecuteTime": {
     "end_time": "2022-06-12T14:14:44.347835Z",
     "start_time": "2022-06-12T14:14:43.305798Z"
    }
   },
   "outputs": [],
   "source": [
    "### Zeroing out non-transit\n",
    "commuter_model_alltransit.ipums_df['FLAG_AUTO'] = 0\n",
    "commuter_model_alltransit.ipums_df['FLAG_ESCOOTER'] = 0\n",
    "commuter_model_alltransit.ipums_df['FLAG_WALK'] = 0\n",
    "commuter_model_alltransit.ipums_df['FLAG_EBIKE']= 0\n",
    "commuter_model_alltransit.ipums_df['FLAG_MOTORCYCLE']= 0\n",
    "commuter_model_alltransit.ipums_df['FLAG_TAXICAB']= 0\n",
    "\n",
    "# print(commuter_model_alltransit.ipums_df[['FLAG_AUTO',\"FLAG_ESCOOTER\",\"FLAG_WALK\",\"FLAG_EBIKE\"]].sum())\n",
    "\n",
    "#### Transit\n",
    "### Bus\n",
    "commuter_model_alltransit.ipums_df['FLAG_EBUSES'] = commuter_model_alltransit.bus_flag_binary(\n",
    "                                        home_region=commuter_model_alltransit.puma_home_Bus\n",
    "                                        ,work_region=commuter_model_alltransit.puma_work_Bus\n",
    "                                        ,schedule=commuter_model_alltransit.time_Bus\n",
    "                                        ,affordability=100\n",
    "                                        ,fixgaps=False\n",
    "                                         )\n",
    "\n",
    "## Subway\n",
    "commuter_model_alltransit.ipums_df['FLAG_SUBWAY'] = commuter_model_alltransit.subway_flag_binary(\n",
    "                                            home_region=commuter_model_alltransit.puma_home_Subway\n",
    "                                            ,work_region=commuter_model_alltransit.puma_work_Subway\n",
    "                                            ,schedule=commuter_model_alltransit.time_Subway\n",
    "                                            ,affordability=100\n",
    "                                            ,fixgaps=False\n",
    "                                            )\n",
    "\n",
    "\n",
    "## Commuter Rail\n",
    "commuter_model_alltransit.ipums_df['FLAG_COMMUTERRAIL'] = commuter_model_alltransit.commuterRail_flag_binary(\n",
    "                                             home_region=commuter_model_alltransit.puma_home_CommuterRail\n",
    "                                            ,work_region=commuter_model_alltransit.puma_work_CommuterRail\n",
    "                                            ,schedule=commuter_model_alltransit.time_CommuterRail\n",
    "                                            ,affordability=100\n",
    "                                            ,fixgaps=False\n",
    "                                            )\n",
    "\n",
    "## Ferry\n",
    "commuter_model_alltransit.ipums_df['FLAG_FERRY'] = commuter_model_alltransit.ferry_flag_binary(\n",
    "                                            home_region=commuter_model_alltransit.puma_home_Ferry\n",
    "                                           ,work_region=commuter_model_alltransit.puma_work_Ferry\n",
    "                                           ,schedule=commuter_model_alltransit.time_Ferry\n",
    "                                           ,affordability=100\n",
    "                                           ,fixgaps=False\n",
    "                                          )\n",
    "## Work From Home\n",
    "commuter_model_alltransit.ipums_df[\"FLAG_WFH\"] = commuter_model_alltransit.wfh_flag_binary(\n",
    "                                            wfh_dampener=1\n",
    "                                                )\n",
    "\n",
    "# print(commuter_model_alltransit.ipums_df[flag_cols].sum())\n",
    "\n",
    "\n",
    "commuter_model_alltransit.ipums_df['First_Assignment'] = commuter_model_alltransit.RandAssignNoOption(\n",
    "                                                                commuter_model_alltransit.ipums_df['FLAG_AUTO'], \n",
    "                                                                commuter_model_alltransit.ipums_df['FLAG_MOTORCYCLE'],\n",
    "                                                                commuter_model_alltransit.ipums_df['FLAG_TAXICAB'], \n",
    "                                                                commuter_model_alltransit.ipums_df['FLAG_EBUSES'],\n",
    "                                                                commuter_model_alltransit.ipums_df['FLAG_SUBWAY'], \n",
    "                                                                commuter_model_alltransit.ipums_df['FLAG_COMMUTERRAIL'],\n",
    "                                                                commuter_model_alltransit.ipums_df['FLAG_FERRY'], \n",
    "                                                                commuter_model_alltransit.ipums_df['FLAG_ESCOOTER'],\n",
    "                                                                commuter_model_alltransit.ipums_df['FLAG_WALK'], \n",
    "                                                                commuter_model_alltransit.ipums_df['FLAG_EBIKE'],\n",
    "                                                                commuter_model_alltransit.ipums_df['FLAG_WFH'])\n",
    "commuter_model_alltransit.ipums_df['TransMode'] = commuter_model_alltransit.RandAssignChosenOption(\n",
    "                                                                commuter_model_alltransit.ipums_df['First_Assignment'], \n",
    "                                                                commuter_model_alltransit.ipums_df['MODE_TRANSP_TO_WORK_HBDMATCH'],\n",
    "                                                                \"Current\")"
   ]
  },
  {
   "cell_type": "code",
   "execution_count": 5,
   "id": "6d0a6a43",
   "metadata": {
    "ExecuteTime": {
     "end_time": "2022-06-12T14:14:44.350835Z",
     "start_time": "2022-06-12T14:14:44.348776Z"
    }
   },
   "outputs": [],
   "source": [
    "flag_cols = [x for x in commuter_model_alltransit.ipums_df if \"FLAG\" in x]\n"
   ]
  },
  {
   "cell_type": "code",
   "execution_count": 6,
   "id": "d5ea51b1",
   "metadata": {
    "ExecuteTime": {
     "end_time": "2022-06-12T14:14:44.359421Z",
     "start_time": "2022-06-12T14:14:44.351498Z"
    },
    "scrolled": false
   },
   "outputs": [
    {
     "data": {
      "text/plain": [
       "FLAG_AUTO                0\n",
       "FLAG_ESCOOTER            0\n",
       "FLAG_WALK                0\n",
       "FLAG_EBIKE               0\n",
       "FLAG_MOTORCYCLE          0\n",
       "FLAG_TAXICAB             0\n",
       "FLAG_EBUSES          13958\n",
       "FLAG_SUBWAY          17010\n",
       "FLAG_COMMUTERRAIL     7484\n",
       "FLAG_FERRY            2516\n",
       "FLAG_WFH              6539\n",
       "dtype: int64"
      ]
     },
     "execution_count": 6,
     "metadata": {},
     "output_type": "execute_result"
    }
   ],
   "source": [
    "commuter_model_alltransit.ipums_df[flag_cols].sum()"
   ]
  },
  {
   "cell_type": "code",
   "execution_count": 7,
   "id": "ab4702fd",
   "metadata": {
    "ExecuteTime": {
     "end_time": "2022-06-12T14:14:44.364441Z",
     "start_time": "2022-06-12T14:14:44.360226Z"
    }
   },
   "outputs": [
    {
     "data": {
      "text/plain": [
       "Subway          9090\n",
       "Bus             6101\n",
       "CommuterRail    3871\n",
       "WFH             2761\n",
       "No option       1253\n",
       "Ferry            902\n",
       "Name: First_Assignment, dtype: int64"
      ]
     },
     "execution_count": 7,
     "metadata": {},
     "output_type": "execute_result"
    }
   ],
   "source": [
    "commuter_model_alltransit.ipums_df[\"First_Assignment\"].value_counts()"
   ]
  },
  {
   "cell_type": "code",
   "execution_count": 8,
   "id": "64fd071c",
   "metadata": {
    "ExecuteTime": {
     "end_time": "2022-06-12T14:14:44.369710Z",
     "start_time": "2022-06-12T14:14:44.365372Z"
    },
    "scrolled": false
   },
   "outputs": [
    {
     "data": {
      "text/plain": [
       "Subway           9280\n",
       "Bus              6335\n",
       "CommuterRail     4139\n",
       "WFH              2766\n",
       "Ferry             936\n",
       "AutoOccupants     469\n",
       "Walk               31\n",
       "Other              15\n",
       "Bicycle             7\n",
       "Name: TransMode, dtype: int64"
      ]
     },
     "execution_count": 8,
     "metadata": {},
     "output_type": "execute_result"
    }
   ],
   "source": [
    "commuter_model_alltransit.ipums_df[\"TransMode\"].value_counts()"
   ]
  },
  {
   "cell_type": "code",
   "execution_count": 9,
   "id": "5ea12471",
   "metadata": {
    "ExecuteTime": {
     "end_time": "2022-06-12T14:14:44.376808Z",
     "start_time": "2022-06-12T14:14:44.372869Z"
    }
   },
   "outputs": [
    {
     "data": {
      "text/plain": [
       "FLAG_AUTO                0\n",
       "FLAG_ESCOOTER            0\n",
       "FLAG_WALK                0\n",
       "FLAG_EBIKE               0\n",
       "FLAG_MOTORCYCLE          0\n",
       "FLAG_TAXICAB             0\n",
       "FLAG_EBUSES          13958\n",
       "FLAG_SUBWAY          17010\n",
       "FLAG_COMMUTERRAIL     7484\n",
       "FLAG_FERRY            2516\n",
       "FLAG_WFH              6539\n",
       "dtype: int64"
      ]
     },
     "execution_count": 9,
     "metadata": {},
     "output_type": "execute_result"
    }
   ],
   "source": [
    "commuter_model_alltransit.ipums_df[flag_cols].sum()"
   ]
  },
  {
   "cell_type": "code",
   "execution_count": null,
   "id": "fb382991",
   "metadata": {},
   "outputs": [],
   "source": []
  },
  {
   "cell_type": "code",
   "execution_count": 10,
   "id": "ed43c358",
   "metadata": {
    "ExecuteTime": {
     "end_time": "2022-06-12T14:14:45.413108Z",
     "start_time": "2022-06-12T14:14:44.377764Z"
    }
   },
   "outputs": [],
   "source": [
    "#### All Micro-Mobility\n",
    "commuter_model_allmicro.ipums_df['FLAG_AUTO'] = 0\n",
    "## Motorcycle\n",
    "commuter_model_allmicro.ipums_df['FLAG_MOTORCYCLE'] = 0\n",
    "## Taxicab\n",
    "commuter_model_allmicro.ipums_df['FLAG_TAXICAB'] = 0\n",
    "## Bus\n",
    "commuter_model_allmicro.ipums_df['FLAG_EBUSES'] = 0\n",
    "## Subway\n",
    "commuter_model_allmicro.ipums_df['FLAG_SUBWAY'] = 0\n",
    "## Commuter Rail\n",
    "commuter_model_allmicro.ipums_df['FLAG_COMMUTERRAIL'] = 0\n",
    "## Ferry\n",
    "commuter_model_allmicro.ipums_df['FLAG_FERRY'] = 0\n",
    "\n",
    "\n",
    "## E-Scooter - bump up distance\n",
    "commuter_model_allmicro.ipums_df['FLAG_ESCOOTER'] = commuter_model_allmicro.escooter_flag_binary(\n",
    "                                            max_age=60\n",
    "                                            ,max_distance=15\n",
    "                                            ,scooter_friendly_origins=commuter_model_allmicro.bike_friendly_origins\n",
    "                                            ,male_pct=100\n",
    "                                            ,female_pct=100\n",
    "                                            )\n",
    "\n",
    "\n",
    "## Walking\n",
    "commuter_model_allmicro.ipums_df['FLAG_WALK'] = commuter_model_allmicro.walking_flag_binary(\n",
    "                                            max_age=100\n",
    "                                            ,max_distance=2\n",
    "                                            ,male_pct=100\n",
    "                                            ,female_pct=100\n",
    "                                            )\n",
    "\n",
    "## E-Bike\n",
    "commuter_model_allmicro.ipums_df['FLAG_EBIKE']=commuter_model_allmicro.ebike_flag_binary(\n",
    "                                        max_age=70\n",
    "                                        ,max_distance = 24\n",
    "                                        ,male_pct = 100\n",
    "                                        ,female_pct = 100\n",
    "                                        ,age_dist = None\n",
    "                                        ,bike_friendly_origins=commuter_model_allmicro.bike_friendly_origins\n",
    "                                        )\n",
    "\n",
    "\n",
    "## Work From Home\n",
    "commuter_model_allmicro.ipums_df[\"FLAG_WFH\"] = commuter_model_allmicro.wfh_flag_binary(\n",
    "                                            wfh_dampener=1\n",
    "                                                )\n",
    "\n",
    "commuter_model_allmicro.ipums_df['First_Assignment'] = commuter_model_allmicro.RandAssignNoOption(\n",
    "                                                                commuter_model_allmicro.ipums_df['FLAG_AUTO'], \n",
    "                                                                commuter_model_allmicro.ipums_df['FLAG_MOTORCYCLE'],\n",
    "                                                                commuter_model_allmicro.ipums_df['FLAG_TAXICAB'], \n",
    "                                                                commuter_model_allmicro.ipums_df['FLAG_EBUSES'],\n",
    "                                                                commuter_model_allmicro.ipums_df['FLAG_SUBWAY'], \n",
    "                                                                commuter_model_allmicro.ipums_df['FLAG_COMMUTERRAIL'],\n",
    "                                                                commuter_model_allmicro.ipums_df['FLAG_FERRY'], \n",
    "                                                                commuter_model_allmicro.ipums_df['FLAG_ESCOOTER'],\n",
    "                                                                commuter_model_allmicro.ipums_df['FLAG_WALK'], \n",
    "                                                                commuter_model_allmicro.ipums_df['FLAG_EBIKE'],\n",
    "                                                                commuter_model_allmicro.ipums_df['FLAG_WFH'])\n",
    "commuter_model_allmicro.ipums_df['TransMode'] = commuter_model_allmicro.RandAssignChosenOption(\n",
    "                                                                commuter_model_allmicro.ipums_df['First_Assignment'], \n",
    "                                                                commuter_model_allmicro.ipums_df['MODE_TRANSP_TO_WORK_HBDMATCH'],\n",
    "                                                                \"Current\")"
   ]
  },
  {
   "cell_type": "code",
   "execution_count": 11,
   "id": "19e8093d",
   "metadata": {
    "ExecuteTime": {
     "end_time": "2022-06-12T14:14:45.420709Z",
     "start_time": "2022-06-12T14:14:45.413863Z"
    },
    "scrolled": false
   },
   "outputs": [
    {
     "data": {
      "text/plain": [
       "FLAG_AUTO                0\n",
       "FLAG_ESCOOTER         8649\n",
       "FLAG_WALK             1082\n",
       "FLAG_EBIKE           14140\n",
       "FLAG_MOTORCYCLE          0\n",
       "FLAG_TAXICAB             0\n",
       "FLAG_EBUSES              0\n",
       "FLAG_SUBWAY              0\n",
       "FLAG_COMMUTERRAIL        0\n",
       "FLAG_FERRY               0\n",
       "FLAG_WFH              6501\n",
       "dtype: int64"
      ]
     },
     "execution_count": 11,
     "metadata": {},
     "output_type": "execute_result"
    }
   ],
   "source": [
    "commuter_model_allmicro.ipums_df[flag_cols].sum()"
   ]
  },
  {
   "cell_type": "code",
   "execution_count": 12,
   "id": "303a322f",
   "metadata": {
    "ExecuteTime": {
     "end_time": "2022-06-12T14:14:45.425219Z",
     "start_time": "2022-06-12T14:14:45.421480Z"
    }
   },
   "outputs": [
    {
     "data": {
      "text/plain": [
       "Bicycle      8498\n",
       "No option    6872\n",
       "WFH          4337\n",
       "Escooter     3860\n",
       "Walk          411\n",
       "Name: First_Assignment, dtype: int64"
      ]
     },
     "execution_count": 12,
     "metadata": {},
     "output_type": "execute_result"
    }
   ],
   "source": [
    "commuter_model_allmicro.ipums_df[\"First_Assignment\"].value_counts(dropna=False)"
   ]
  },
  {
   "cell_type": "code",
   "execution_count": 13,
   "id": "b212f2c5",
   "metadata": {
    "ExecuteTime": {
     "end_time": "2022-06-12T14:14:45.429917Z",
     "start_time": "2022-06-12T14:14:45.425948Z"
    },
    "scrolled": false
   },
   "outputs": [
    {
     "data": {
      "text/plain": [
       "Bicycle          8518\n",
       "WFH              4361\n",
       "Escooter         3860\n",
       "AutoOccupants    1789\n",
       "Subway           1778\n",
       "CommuterRail     1698\n",
       "Bus              1226\n",
       "Walk              519\n",
       "Ferry             199\n",
       "Other              30\n",
       "Name: TransMode, dtype: int64"
      ]
     },
     "execution_count": 13,
     "metadata": {},
     "output_type": "execute_result"
    }
   ],
   "source": [
    "commuter_model_allmicro.ipums_df[\"TransMode\"].value_counts()"
   ]
  },
  {
   "cell_type": "code",
   "execution_count": 14,
   "id": "ce5784d8",
   "metadata": {
    "ExecuteTime": {
     "end_time": "2022-06-12T14:14:46.536193Z",
     "start_time": "2022-06-12T14:14:45.430759Z"
    }
   },
   "outputs": [],
   "source": [
    "#### Standard\n",
    "\n",
    "commuter_model_mix.ipums_df['FLAG_AUTO'] = commuter_model_mix.auto_flag_binary(\n",
    "                                        max_age=70\n",
    "                                       ,min_distance = 2\n",
    "                                       ,min_income = 32626\n",
    "                                       ,male_pct = 15\n",
    "                                       ,female_pct = 15\n",
    "                                       ,age_dist = None\n",
    "                                       )\n",
    "## Motorcycle\n",
    "commuter_model_mix.ipums_df['FLAG_MOTORCYCLE'] = commuter_model_mix.motorcycle_flag_binary(\n",
    "                                        max_age=35\n",
    "                                       ,max_distance = 300\n",
    "                                       ,min_income = 50000\n",
    "                                       ,male_pct = 1\n",
    "                                       ,female_pct = 0\n",
    "                                       ,age_dist = None\n",
    "                                        )\n",
    "\n",
    "\n",
    "## Taxicab\n",
    "commuter_model_mix.ipums_df['FLAG_TAXICAB'] = commuter_model_mix.taxicab_flag_binary(\n",
    "                                        max_distance = 15\n",
    "                                       ,min_income = 32626\n",
    "                                       ,male_pct = 5\n",
    "                                       ,female_pct = 2\n",
    "                                       ,age_dist = None\n",
    "                                        )\n",
    "\n",
    "## Bus\n",
    "commuter_model_mix.ipums_df['FLAG_EBUSES'] = commuter_model_mix.bus_flag_binary(\n",
    "                                        home_region=commuter_model_mix.puma_home_Bus\n",
    "                                        ,work_region=commuter_model_mix.puma_work_Bus\n",
    "                                        ,schedule=commuter_model_mix.time_Bus\n",
    "                                        ,affordability=50\n",
    "                                        ,fixgaps=False\n",
    "                                         )\n",
    "\n",
    "\n",
    "## Subway\n",
    "commuter_model_mix.ipums_df['FLAG_SUBWAY'] = commuter_model_mix.subway_flag_binary(\n",
    "                                            home_region=commuter_model_mix.puma_home_Subway\n",
    "                                            ,work_region=commuter_model_mix.puma_work_Subway\n",
    "                                            ,schedule=commuter_model_mix.time_Subway\n",
    "                                            ,affordability=100\n",
    "                                            ,fixgaps=False\n",
    "                                            )\n",
    "\n",
    "\n",
    "\n",
    "## Commuter Rail\n",
    "commuter_model_mix.ipums_df['FLAG_COMMUTERRAIL'] = commuter_model_mix.commuterRail_flag_binary(\n",
    "                                             home_region=commuter_model_mix.puma_home_CommuterRail\n",
    "                                            ,work_region=commuter_model_mix.puma_work_CommuterRail\n",
    "                                            ,schedule=commuter_model_mix.time_CommuterRail\n",
    "                                            ,affordability=100\n",
    "                                            ,fixgaps=False\n",
    "                                            )\n",
    "\n",
    "## Ferry\n",
    "commuter_model_mix.ipums_df['FLAG_FERRY'] = commuter_model_mix.ferry_flag_binary(\n",
    "                                            home_region=commuter_model_mix.puma_home_Ferry\n",
    "                                           ,work_region=commuter_model_mix.puma_work_Ferry\n",
    "                                           ,schedule=commuter_model_mix.time_Ferry\n",
    "                                           ,affordability=100\n",
    "                                           ,fixgaps=False\n",
    "                                          )\n",
    "\n",
    "\n",
    "\n",
    "## E-Scooter\n",
    "commuter_model_mix.ipums_df['FLAG_ESCOOTER'] = commuter_model_mix.escooter_flag_binary(\n",
    "                                            max_age=60\n",
    "                                            ,max_distance=4\n",
    "                                            ,scooter_friendly_origins=commuter_model_mix.bike_friendly_origins\n",
    "                                            ,male_pct=25\n",
    "                                            ,female_pct=25\n",
    "                                            )\n",
    "\n",
    "\n",
    "## Walking\n",
    "commuter_model_mix.ipums_df['FLAG_WALK'] = commuter_model_mix.walking_flag_binary(\n",
    "                                            max_age=100\n",
    "                                            ,max_distance=2\n",
    "                                            ,male_pct=100\n",
    "                                            ,female_pct=100\n",
    "                                            )\n",
    "\n",
    "## E-Bike\n",
    "commuter_model_mix.ipums_df['FLAG_EBIKE']=commuter_model_mix.ebike_flag_binary(\n",
    "                                        max_age=70\n",
    "                                        ,max_distance = 35\n",
    "                                        ,male_pct = 50\n",
    "                                        ,female_pct = 40\n",
    "                                        ,age_dist = None\n",
    "                                        ,bike_friendly_origins=commuter_model_mix.bike_friendly_origins\n",
    "                                        )\n",
    "\n",
    "\n",
    "## Work From Home\n",
    "commuter_model_mix.ipums_df[\"FLAG_WFH\"] = commuter_model_mix.wfh_flag_binary(\n",
    "                                            wfh_dampener=.5\n",
    "                                                )\n",
    "\n",
    "\n",
    "commuter_model_mix.ipums_df['First_Assignment'] = commuter_model_mix.RandAssignNoOption(\n",
    "                                                                commuter_model_mix.ipums_df['FLAG_AUTO'], \n",
    "                                                                commuter_model_mix.ipums_df['FLAG_MOTORCYCLE'],\n",
    "                                                                commuter_model_mix.ipums_df['FLAG_TAXICAB'], \n",
    "                                                                commuter_model_mix.ipums_df['FLAG_EBUSES'],\n",
    "                                                                commuter_model_mix.ipums_df['FLAG_SUBWAY'], \n",
    "                                                                commuter_model_mix.ipums_df['FLAG_COMMUTERRAIL'],\n",
    "                                                                commuter_model_mix.ipums_df['FLAG_FERRY'], \n",
    "                                                                commuter_model_mix.ipums_df['FLAG_ESCOOTER'],\n",
    "                                                                commuter_model_mix.ipums_df['FLAG_WALK'], \n",
    "                                                                commuter_model_mix.ipums_df['FLAG_EBIKE'],\n",
    "                                                                commuter_model_mix.ipums_df['FLAG_WFH'])\n",
    "commuter_model_mix.ipums_df['TransMode'] = commuter_model_mix.RandAssignChosenOption(\n",
    "                                                                commuter_model_mix.ipums_df['First_Assignment'], \n",
    "                                                                commuter_model_mix.ipums_df['MODE_TRANSP_TO_WORK_HBDMATCH'],\n",
    "                                                                \"Current\")"
   ]
  },
  {
   "cell_type": "code",
   "execution_count": 15,
   "id": "ca915b6e",
   "metadata": {
    "ExecuteTime": {
     "end_time": "2022-06-12T14:14:46.543628Z",
     "start_time": "2022-06-12T14:14:46.536999Z"
    }
   },
   "outputs": [
    {
     "data": {
      "text/plain": [
       "FLAG_AUTO             1688\n",
       "FLAG_ESCOOTER          244\n",
       "FLAG_WALK             1082\n",
       "FLAG_EBIKE            7188\n",
       "FLAG_MOTORCYCLE         34\n",
       "FLAG_TAXICAB           315\n",
       "FLAG_EBUSES          13866\n",
       "FLAG_SUBWAY          17010\n",
       "FLAG_COMMUTERRAIL     7484\n",
       "FLAG_FERRY            2516\n",
       "FLAG_WFH              3322\n",
       "dtype: int64"
      ]
     },
     "execution_count": 15,
     "metadata": {},
     "output_type": "execute_result"
    }
   ],
   "source": [
    "commuter_model_mix.ipums_df[flag_cols].sum()"
   ]
  },
  {
   "cell_type": "code",
   "execution_count": 16,
   "id": "d44abdf3",
   "metadata": {
    "ExecuteTime": {
     "end_time": "2022-06-12T14:14:46.549473Z",
     "start_time": "2022-06-12T14:14:46.544431Z"
    }
   },
   "outputs": [
    {
     "data": {
      "text/plain": [
       "Subway           7666\n",
       "Bus              5406\n",
       "CommuterRail     3870\n",
       "Bicycle          2490\n",
       "WFH              1253\n",
       "No option        1251\n",
       "Ferry             921\n",
       "AutoOccupants     663\n",
       "Walk              295\n",
       "Taxicab            86\n",
       "Escooter           67\n",
       "Motorcycle         10\n",
       "Name: First_Assignment, dtype: int64"
      ]
     },
     "execution_count": 16,
     "metadata": {},
     "output_type": "execute_result"
    }
   ],
   "source": [
    "commuter_model_mix.ipums_df[\"First_Assignment\"].value_counts()"
   ]
  },
  {
   "cell_type": "code",
   "execution_count": 17,
   "id": "0e25522c",
   "metadata": {
    "ExecuteTime": {
     "end_time": "2022-06-12T14:14:46.554882Z",
     "start_time": "2022-06-12T14:14:46.550636Z"
    }
   },
   "outputs": [
    {
     "data": {
      "text/plain": [
       "Subway           7837\n",
       "Bus              5629\n",
       "CommuterRail     4210\n",
       "Bicycle          2496\n",
       "WFH              1256\n",
       "AutoOccupants    1093\n",
       "Ferry             950\n",
       "Walk              327\n",
       "Taxicab            86\n",
       "Escooter           67\n",
       "Other              17\n",
       "Motorcycle         10\n",
       "Name: TransMode, dtype: int64"
      ]
     },
     "execution_count": 17,
     "metadata": {},
     "output_type": "execute_result"
    }
   ],
   "source": [
    "commuter_model_mix.ipums_df[\"TransMode\"].value_counts()"
   ]
  },
  {
   "cell_type": "code",
   "execution_count": 18,
   "id": "01f390e2",
   "metadata": {
    "ExecuteTime": {
     "end_time": "2022-06-12T14:14:46.569965Z",
     "start_time": "2022-06-12T14:14:46.556025Z"
    }
   },
   "outputs": [
    {
     "data": {
      "text/html": [
       "<div>\n",
       "<style scoped>\n",
       "    .dataframe tbody tr th:only-of-type {\n",
       "        vertical-align: middle;\n",
       "    }\n",
       "\n",
       "    .dataframe tbody tr th {\n",
       "        vertical-align: top;\n",
       "    }\n",
       "\n",
       "    .dataframe thead th {\n",
       "        text-align: right;\n",
       "    }\n",
       "</style>\n",
       "<table border=\"1\" class=\"dataframe\">\n",
       "  <thead>\n",
       "    <tr style=\"text-align: right;\">\n",
       "      <th></th>\n",
       "      <th>First_Assignment_x</th>\n",
       "      <th>First_Assignment_y</th>\n",
       "      <th>First_Assignment</th>\n",
       "    </tr>\n",
       "  </thead>\n",
       "  <tbody>\n",
       "    <tr>\n",
       "      <th>AutoOccupants</th>\n",
       "      <td>NaN</td>\n",
       "      <td>NaN</td>\n",
       "      <td>663</td>\n",
       "    </tr>\n",
       "    <tr>\n",
       "      <th>Bicycle</th>\n",
       "      <td>8498.0</td>\n",
       "      <td>NaN</td>\n",
       "      <td>2490</td>\n",
       "    </tr>\n",
       "    <tr>\n",
       "      <th>Bus</th>\n",
       "      <td>NaN</td>\n",
       "      <td>6101.0</td>\n",
       "      <td>5406</td>\n",
       "    </tr>\n",
       "    <tr>\n",
       "      <th>CommuterRail</th>\n",
       "      <td>NaN</td>\n",
       "      <td>3871.0</td>\n",
       "      <td>3870</td>\n",
       "    </tr>\n",
       "    <tr>\n",
       "      <th>Escooter</th>\n",
       "      <td>3860.0</td>\n",
       "      <td>NaN</td>\n",
       "      <td>67</td>\n",
       "    </tr>\n",
       "    <tr>\n",
       "      <th>Ferry</th>\n",
       "      <td>NaN</td>\n",
       "      <td>902.0</td>\n",
       "      <td>921</td>\n",
       "    </tr>\n",
       "    <tr>\n",
       "      <th>Motorcycle</th>\n",
       "      <td>NaN</td>\n",
       "      <td>NaN</td>\n",
       "      <td>10</td>\n",
       "    </tr>\n",
       "    <tr>\n",
       "      <th>No option</th>\n",
       "      <td>6872.0</td>\n",
       "      <td>1253.0</td>\n",
       "      <td>1251</td>\n",
       "    </tr>\n",
       "    <tr>\n",
       "      <th>Subway</th>\n",
       "      <td>NaN</td>\n",
       "      <td>9090.0</td>\n",
       "      <td>7666</td>\n",
       "    </tr>\n",
       "    <tr>\n",
       "      <th>Taxicab</th>\n",
       "      <td>NaN</td>\n",
       "      <td>NaN</td>\n",
       "      <td>86</td>\n",
       "    </tr>\n",
       "    <tr>\n",
       "      <th>WFH</th>\n",
       "      <td>4337.0</td>\n",
       "      <td>2761.0</td>\n",
       "      <td>1253</td>\n",
       "    </tr>\n",
       "    <tr>\n",
       "      <th>Walk</th>\n",
       "      <td>411.0</td>\n",
       "      <td>NaN</td>\n",
       "      <td>295</td>\n",
       "    </tr>\n",
       "  </tbody>\n",
       "</table>\n",
       "</div>"
      ],
      "text/plain": [
       "               First_Assignment_x  First_Assignment_y  First_Assignment\n",
       "AutoOccupants                 NaN                 NaN               663\n",
       "Bicycle                    8498.0                 NaN              2490\n",
       "Bus                           NaN              6101.0              5406\n",
       "CommuterRail                  NaN              3871.0              3870\n",
       "Escooter                   3860.0                 NaN                67\n",
       "Ferry                         NaN               902.0               921\n",
       "Motorcycle                    NaN                 NaN                10\n",
       "No option                  6872.0              1253.0              1251\n",
       "Subway                        NaN              9090.0              7666\n",
       "Taxicab                       NaN                 NaN                86\n",
       "WFH                        4337.0              2761.0              1253\n",
       "Walk                        411.0                 NaN               295"
      ]
     },
     "execution_count": 18,
     "metadata": {},
     "output_type": "execute_result"
    }
   ],
   "source": [
    "#### Compare Counts of Flags\n",
    "# commuter_model_alltransit.ipums_df['FLAG_AUTO'].sum()\n",
    "ct_1 = commuter_model_allmicro.ipums_df['First_Assignment'].value_counts()\n",
    "\n",
    "# commuter_model_alltransit.ipums_df['FLAG_AUTO'].sum()\n",
    "ct_2 = commuter_model_alltransit.ipums_df['First_Assignment'].value_counts()\n",
    "\n",
    "# commuter_model_mix.ipums_df['FLAG_AUTO'].sum()\n",
    "ct_3 =commuter_model_mix.ipums_df['First_Assignment'].value_counts()\n",
    "\n",
    "pd.merge(left=ct_1,right=ct_2,left_index=True,right_index=True,how='outer')\\\n",
    ".merge(right=ct_3,left_index=True,right_index=True,how='outer')"
   ]
  },
  {
   "cell_type": "code",
   "execution_count": null,
   "id": "87abe22c",
   "metadata": {},
   "outputs": [],
   "source": []
  },
  {
   "cell_type": "code",
   "execution_count": null,
   "id": "8df7a00f",
   "metadata": {},
   "outputs": [],
   "source": []
  },
  {
   "cell_type": "code",
   "execution_count": null,
   "id": "d89fa68b",
   "metadata": {},
   "outputs": [],
   "source": []
  },
  {
   "cell_type": "code",
   "execution_count": 19,
   "id": "4d9b516f",
   "metadata": {
    "ExecuteTime": {
     "end_time": "2022-06-12T14:14:46.578960Z",
     "start_time": "2022-06-12T14:14:46.571050Z"
    }
   },
   "outputs": [
    {
     "data": {
      "text/plain": [
       "Subway          9090\n",
       "Bus             6101\n",
       "CommuterRail    3871\n",
       "WFH             2761\n",
       "No option       1253\n",
       "Ferry            902\n",
       "Name: First_Assignment, dtype: int64"
      ]
     },
     "execution_count": 19,
     "metadata": {},
     "output_type": "execute_result"
    }
   ],
   "source": [
    "commuter_model_alltransit.ipums_df.groupby(by=[\"YEAR\"])[flag_cols].sum()\n",
    "commuter_model_alltransit.ipums_df['First_Assignment'].value_counts()"
   ]
  },
  {
   "cell_type": "code",
   "execution_count": 21,
   "id": "9b822ce8",
   "metadata": {
    "ExecuteTime": {
     "end_time": "2022-06-12T14:15:00.137637Z",
     "start_time": "2022-06-12T14:15:00.101327Z"
    }
   },
   "outputs": [
    {
     "data": {
      "text/html": [
       "<div>\n",
       "<style scoped>\n",
       "    .dataframe tbody tr th:only-of-type {\n",
       "        vertical-align: middle;\n",
       "    }\n",
       "\n",
       "    .dataframe tbody tr th {\n",
       "        vertical-align: top;\n",
       "    }\n",
       "\n",
       "    .dataframe thead th {\n",
       "        text-align: right;\n",
       "    }\n",
       "</style>\n",
       "<table border=\"1\" class=\"dataframe\">\n",
       "  <thead>\n",
       "    <tr style=\"text-align: right;\">\n",
       "      <th></th>\n",
       "      <th>all_transit_count</th>\n",
       "      <th>all_micro_count</th>\n",
       "      <th>mix_count</th>\n",
       "    </tr>\n",
       "  </thead>\n",
       "  <tbody>\n",
       "    <tr>\n",
       "      <th>AutoOccupants</th>\n",
       "      <td>48155.0</td>\n",
       "      <td>187782.0</td>\n",
       "      <td>108085.0</td>\n",
       "    </tr>\n",
       "    <tr>\n",
       "      <th>Bicycle</th>\n",
       "      <td>540.0</td>\n",
       "      <td>1060871.0</td>\n",
       "      <td>312136.0</td>\n",
       "    </tr>\n",
       "    <tr>\n",
       "      <th>Bus</th>\n",
       "      <td>779793.0</td>\n",
       "      <td>134606.0</td>\n",
       "      <td>704357.0</td>\n",
       "    </tr>\n",
       "    <tr>\n",
       "      <th>CommuterRail</th>\n",
       "      <td>423551.0</td>\n",
       "      <td>169623.0</td>\n",
       "      <td>429519.0</td>\n",
       "    </tr>\n",
       "    <tr>\n",
       "      <th>Ferry</th>\n",
       "      <td>94750.0</td>\n",
       "      <td>19462.0</td>\n",
       "      <td>96118.0</td>\n",
       "    </tr>\n",
       "    <tr>\n",
       "      <th>Other</th>\n",
       "      <td>1831.0</td>\n",
       "      <td>3063.0</td>\n",
       "      <td>1959.0</td>\n",
       "    </tr>\n",
       "    <tr>\n",
       "      <th>Subway</th>\n",
       "      <td>1148144.0</td>\n",
       "      <td>169788.0</td>\n",
       "      <td>933858.0</td>\n",
       "    </tr>\n",
       "    <tr>\n",
       "      <th>WFH</th>\n",
       "      <td>301444.0</td>\n",
       "      <td>445954.0</td>\n",
       "      <td>138217.0</td>\n",
       "    </tr>\n",
       "    <tr>\n",
       "      <th>Walk</th>\n",
       "      <td>3122.0</td>\n",
       "      <td>85510.0</td>\n",
       "      <td>52078.0</td>\n",
       "    </tr>\n",
       "    <tr>\n",
       "      <th>Escooter</th>\n",
       "      <td>NaN</td>\n",
       "      <td>524671.0</td>\n",
       "      <td>10684.0</td>\n",
       "    </tr>\n",
       "    <tr>\n",
       "      <th>Motorcycle</th>\n",
       "      <td>NaN</td>\n",
       "      <td>NaN</td>\n",
       "      <td>1818.0</td>\n",
       "    </tr>\n",
       "    <tr>\n",
       "      <th>Taxicab</th>\n",
       "      <td>NaN</td>\n",
       "      <td>NaN</td>\n",
       "      <td>12501.0</td>\n",
       "    </tr>\n",
       "  </tbody>\n",
       "</table>\n",
       "</div>"
      ],
      "text/plain": [
       "               all_transit_count  all_micro_count  mix_count\n",
       "AutoOccupants            48155.0         187782.0   108085.0\n",
       "Bicycle                    540.0        1060871.0   312136.0\n",
       "Bus                     779793.0         134606.0   704357.0\n",
       "CommuterRail            423551.0         169623.0   429519.0\n",
       "Ferry                    94750.0          19462.0    96118.0\n",
       "Other                     1831.0           3063.0     1959.0\n",
       "Subway                 1148144.0         169788.0   933858.0\n",
       "WFH                     301444.0         445954.0   138217.0\n",
       "Walk                      3122.0          85510.0    52078.0\n",
       "Escooter                     NaN         524671.0    10684.0\n",
       "Motorcycle                   NaN              NaN     1818.0\n",
       "Taxicab                      NaN              NaN    12501.0"
      ]
     },
     "execution_count": 21,
     "metadata": {},
     "output_type": "execute_result"
    }
   ],
   "source": [
    "master_df = pd.DataFrame()\n",
    "for x in [commuter_model_alltransit,commuter_model_allmicro,commuter_model_mix]:\n",
    "    master_df = pd.concat([master_df,x.ipums_df.groupby(by=[\"TransMode\"])['PERWT'].sum()],axis=1)\n",
    "master_df.columns=[\"all_transit_count\",\"all_micro_count\",\"mix_count\"]\n",
    "master_df"
   ]
  },
  {
   "cell_type": "code",
   "execution_count": 22,
   "id": "f32522ce",
   "metadata": {
    "ExecuteTime": {
     "end_time": "2022-06-12T14:15:04.147933Z",
     "start_time": "2022-06-12T14:15:04.142269Z"
    }
   },
   "outputs": [],
   "source": [
    "### Electric Model\n",
    "### read in commuter_df. feed that and the ev file location to class\n",
    "em_1 = ElectricModel(commuter_model_alltransit.ipums_df\n",
    "                     ,ev_reference_table_loc=\"electrical_model/EV_reference_table.csv\"\\\n",
    "                    ,PEV_delay_hr=3,bus_ferry_cab_delay=6)\n",
    "em_2 = ElectricModel(commuter_model_allmicro.ipums_df\n",
    "                     ,ev_reference_table_loc=\"electrical_model/EV_reference_table.csv\"\\\n",
    "                    ,PEV_delay_hr=3,bus_ferry_cab_delay=6)\n",
    "em_3 = ElectricModel(commuter_model_mix.ipums_df\n",
    "                     ,ev_reference_table_loc=\"electrical_model/EV_reference_table.csv\"\\\n",
    "                    ,PEV_delay_hr=3,bus_ferry_cab_delay=6)"
   ]
  },
  {
   "cell_type": "code",
   "execution_count": 23,
   "id": "ff65844b",
   "metadata": {
    "ExecuteTime": {
     "end_time": "2022-06-12T14:16:25.307012Z",
     "start_time": "2022-06-12T14:15:04.625219Z"
    }
   },
   "outputs": [
    {
     "name": "stdout",
     "output_type": "stream",
     "text": [
      "electric model done for em 1\n",
      "electric model done for em 2\n",
      "electric model done for em 3\n"
     ]
    }
   ],
   "source": [
    "ct= 0 \n",
    "for e_m in [em_1,em_2,em_3]:\n",
    "    ct+=1\n",
    "    ## Run methods in order to read in, clean, and aggregate data\n",
    "    e_m.read_electric_info_in()\n",
    "\n",
    "    e_m.clean_commuter_df()\n",
    "\n",
    "    e_m.create_in_out_flow_dfs()\n",
    "\n",
    "    e_m.aggregate_data()\n",
    "    print(f\"electric model done for em {ct}\")"
   ]
  },
  {
   "cell_type": "code",
   "execution_count": 24,
   "id": "f675da23",
   "metadata": {
    "ExecuteTime": {
     "end_time": "2022-06-12T14:16:25.312750Z",
     "start_time": "2022-06-12T14:16:25.308157Z"
    }
   },
   "outputs": [],
   "source": [
    "save_dir = \"../06_Dashboard_Visualization/electric_model_outputs\"\n",
    "os.makedirs(save_dir,exist_ok=True)\n",
    "em_1.df_aggregate.to_pickle(f\"{save_dir}/electric_model_alltransit_dfaggregate.pkl\")\n",
    "em_2.df_aggregate.to_pickle(f\"{save_dir}/electric_model_allmicro_dfaggregate.pkl\")\n",
    "em_3.df_aggregate.to_pickle(f\"{save_dir}/electric_model_mix_dfaggregate.pkl\")"
   ]
  },
  {
   "cell_type": "code",
   "execution_count": 25,
   "id": "1d76e187",
   "metadata": {
    "ExecuteTime": {
     "end_time": "2022-06-12T14:16:25.316229Z",
     "start_time": "2022-06-12T14:16:25.313573Z"
    }
   },
   "outputs": [
    {
     "data": {
      "text/plain": [
       "['Custom', 'Earliest', 'Latest', 'Random']"
      ]
     },
     "execution_count": 25,
     "metadata": {},
     "output_type": "execute_result"
    }
   ],
   "source": [
    "sorted(em_1.df_aggregate.PEV_DELAY.dropna().unique())"
   ]
  },
  {
   "cell_type": "code",
   "execution_count": 26,
   "id": "409bed9b",
   "metadata": {
    "ExecuteTime": {
     "end_time": "2022-06-12T14:16:25.320782Z",
     "start_time": "2022-06-12T14:16:25.317368Z"
    }
   },
   "outputs": [
    {
     "data": {
      "text/plain": [
       "['AutoOccupants', 'Bicycle', 'Bus', 'CommuterRail', 'Ferry', 'Subway']"
      ]
     },
     "execution_count": 26,
     "metadata": {},
     "output_type": "execute_result"
    }
   ],
   "source": [
    "sorted(em_1.df_aggregate.TransMode.dropna().unique())"
   ]
  },
  {
   "cell_type": "code",
   "execution_count": null,
   "id": "ffde089c",
   "metadata": {
    "ExecuteTime": {
     "end_time": "2022-06-12T14:14:46.663906Z",
     "start_time": "2022-06-12T14:14:46.663898Z"
    }
   },
   "outputs": [],
   "source": [
    "# # test_df = em_1.df_aggregate.copy()\n",
    "# test_df[(test_df['Charge_Hour']==0)\\\n",
    "#        ]\n",
    "# #        &(test_df['TransMode']==\"Bus\")]"
   ]
  },
  {
   "cell_type": "code",
   "execution_count": null,
   "id": "efab475f",
   "metadata": {},
   "outputs": [],
   "source": []
  }
 ],
 "metadata": {
  "kernelspec": {
   "display_name": "Python 3 (ipykernel)",
   "language": "python",
   "name": "python3"
  },
  "language_info": {
   "codemirror_mode": {
    "name": "ipython",
    "version": 3
   },
   "file_extension": ".py",
   "mimetype": "text/x-python",
   "name": "python",
   "nbconvert_exporter": "python",
   "pygments_lexer": "ipython3",
   "version": "3.9.7"
  }
 },
 "nbformat": 4,
 "nbformat_minor": 5
}
