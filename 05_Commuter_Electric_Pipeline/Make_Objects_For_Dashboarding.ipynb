{
 "cells": [
  {
   "cell_type": "code",
   "execution_count": 1,
   "id": "83dd34c1",
   "metadata": {
    "ExecuteTime": {
     "end_time": "2022-06-29T23:57:35.467177Z",
     "start_time": "2022-06-29T23:57:35.426500Z"
    }
   },
   "outputs": [],
   "source": [
    "%load_ext autoreload\n",
    "\n",
    "%autoreload 2\n"
   ]
  },
  {
   "cell_type": "code",
   "execution_count": 2,
   "id": "e868bbc8",
   "metadata": {
    "ExecuteTime": {
     "end_time": "2022-06-29T23:57:35.491466Z",
     "start_time": "2022-06-29T23:57:35.468846Z"
    }
   },
   "outputs": [],
   "source": [
    "import numpy\n",
    "import pandas as pd\n",
    "import seaborn as sns\n",
    "import random\n",
    "import math\n",
    "import os\n",
    "\n",
    "from IPython import display\n",
    "\n",
    "pd.set_option('display.max_columns', None)\n",
    "\n",
    "### Import model objects from their unique directories - easier to organize\n",
    "\n",
    "from commuter_model.commuter_model import CommuterModel\n",
    "from electrical_model.electrical_model import ElectricModel"
   ]
  },
  {
   "cell_type": "code",
   "execution_count": 3,
   "id": "17e1738c",
   "metadata": {
    "ExecuteTime": {
     "end_time": "2022-06-29T23:57:35.649672Z",
     "start_time": "2022-06-29T23:57:35.492445Z"
    }
   },
   "outputs": [],
   "source": [
    "# load ipums data to local variable (ipums_df_19)\n",
    "ipums_df_19 = pd.read_csv(\"commuter_model/disaggregated_cleaned_ipums_data.csv\",index_col=0)\n",
    "ipums_df_19 = ipums_df_19[ipums_df_19['YEAR']==2019].reset_index(drop=True).copy()\n",
    "\n"
   ]
  },
  {
   "cell_type": "code",
   "execution_count": 36,
   "id": "48fa7bf2",
   "metadata": {
    "ExecuteTime": {
     "end_time": "2022-06-30T00:03:29.680946Z",
     "start_time": "2022-06-30T00:03:29.628838Z"
    }
   },
   "outputs": [
    {
     "name": "stdout",
     "output_type": "stream",
     "text": [
      "YEAR\n",
      "PERWT\n",
      "HOME_STATEFIP\n",
      "HOME_PUMA\n",
      "PUMA_NAME\n",
      "SEX\n",
      "AGE\n",
      "HRS_WK_DAILY\n",
      "TOTAL_PERSONAL_INCOME\n",
      "MODE_TRANSP_TO_WORK\n",
      "MODE_TRANSP_TO_WORK_HBDMATCH\n",
      "HOMEOWNER_LABEL\n",
      "RACE_LABEL\n",
      "EDUC_LABEL\n",
      "DEPARTS_FOR_WORK_HOUR\n",
      "ARRIVES_AT_WORK_HOUR\n",
      "COMMUTE_DIRECTION_MANHATTAN\n",
      "VEHICLE_AVAILABLE\n",
      "OCC_DESCRIPTION\n",
      "IND_CAT\n",
      "IND_DESCRIPTION\n",
      "PUMAKEY_HOME\n",
      "PUMAKEY_WORK\n",
      "DISTANCE_KM\n",
      "COGNITIVE_DIFFICULTY\n",
      "AMBULATORY_DIFFICULTY\n",
      "IND_LIVING_DIFFICULTY\n",
      "SELFCARE_DIFFICULTY\n",
      "VISION_OR_HEARING_DIFFICULTY\n",
      "VISION_DIFFICULTY\n",
      "HEARING_DIFFICULTY\n"
     ]
    }
   ],
   "source": [
    "for x in ipums_df_19.columns:\n",
    "    print(x)"
   ]
  },
  {
   "cell_type": "code",
   "execution_count": 4,
   "id": "4a6a8073",
   "metadata": {
    "ExecuteTime": {
     "end_time": "2022-06-29T23:57:35.857111Z",
     "start_time": "2022-06-29T23:57:35.651390Z"
    }
   },
   "outputs": [],
   "source": [
    "commuter_model_alltransit_no_wfh = CommuterModel(ipums_df=ipums_df_19.copy())\n",
    "commuter_model_alltransit_heavy_wfh = CommuterModel(ipums_df=ipums_df_19.copy())\n",
    "\n",
    "\n",
    "commuter_model_allmicro = CommuterModel(ipums_df=ipums_df_19.copy())\n",
    "commuter_model_mix = CommuterModel(ipums_df=ipums_df_19.copy())"
   ]
  },
  {
   "cell_type": "code",
   "execution_count": 5,
   "id": "df5188eb",
   "metadata": {
    "ExecuteTime": {
     "end_time": "2022-06-29T23:57:36.574518Z",
     "start_time": "2022-06-29T23:57:35.858126Z"
    }
   },
   "outputs": [],
   "source": [
    "## All Transit - no WFH\n",
    "commuter_model_alltransit_no_wfh.ipums_df['FLAG_AUTO'] = 0\n",
    "commuter_model_alltransit_no_wfh.ipums_df['FLAG_ESCOOTER'] = 0\n",
    "commuter_model_alltransit_no_wfh.ipums_df['FLAG_WALK'] = 0\n",
    "commuter_model_alltransit_no_wfh.ipums_df['FLAG_EBIKE']= 0\n",
    "commuter_model_alltransit_no_wfh.ipums_df['FLAG_MOTORCYCLE']= 0\n",
    "commuter_model_alltransit_no_wfh.ipums_df['FLAG_TAXICAB']= 0\n",
    "\n",
    "# print(commuter_model_alltransit.ipums_df[['FLAG_AUTO',\"FLAG_ESCOOTER\",\"FLAG_WALK\",\"FLAG_EBIKE\"]].sum())\n",
    "\n",
    "#### Transit\n",
    "### Bus\n",
    "commuter_model_alltransit_no_wfh.ipums_df['FLAG_EBUSES'] = commuter_model_alltransit_no_wfh.bus_flag_binary(\n",
    "                                        home_region=commuter_model_alltransit_no_wfh.puma_home_Bus\n",
    "                                        ,work_region=commuter_model_alltransit_no_wfh.puma_work_Bus\n",
    "                                        ,schedule=commuter_model_alltransit_no_wfh.time_Bus\n",
    "                                        ,affordability=100\n",
    "                                        ,fixgaps=False\n",
    "                                         )\n",
    "\n",
    "## Subway\n",
    "commuter_model_alltransit_no_wfh.ipums_df['FLAG_SUBWAY'] = commuter_model_alltransit_no_wfh.subway_flag_binary(\n",
    "                                            home_region=commuter_model_alltransit_no_wfh.puma_home_Subway\n",
    "                                            ,work_region=commuter_model_alltransit_no_wfh.puma_work_Subway\n",
    "                                            ,schedule=commuter_model_alltransit_no_wfh.time_Subway\n",
    "                                            ,affordability=100\n",
    "                                            ,fixgaps=False\n",
    "                                            )\n",
    "\n",
    "\n",
    "## Commuter Rail\n",
    "commuter_model_alltransit_no_wfh.ipums_df['FLAG_COMMUTERRAIL'] = commuter_model_alltransit_no_wfh.commuterRail_flag_binary(\n",
    "                                             home_region=commuter_model_alltransit_no_wfh.puma_home_CommuterRail\n",
    "                                            ,work_region=commuter_model_alltransit_no_wfh.puma_work_CommuterRail\n",
    "                                            ,schedule=commuter_model_alltransit_no_wfh.time_CommuterRail\n",
    "                                            ,affordability=100\n",
    "                                            ,fixgaps=False\n",
    "                                            )\n",
    "\n",
    "## Ferry\n",
    "commuter_model_alltransit_no_wfh.ipums_df['FLAG_FERRY'] = commuter_model_alltransit_no_wfh.ferry_flag_binary(\n",
    "                                            home_region=commuter_model_alltransit_no_wfh.puma_home_Ferry\n",
    "                                           ,work_region=commuter_model_alltransit_no_wfh.puma_work_Ferry\n",
    "                                           ,schedule=commuter_model_alltransit_no_wfh.time_Ferry\n",
    "                                           ,affordability=100\n",
    "                                           ,fixgaps=False\n",
    "                                          )\n",
    "## Work From Home\n",
    "commuter_model_alltransit_no_wfh.ipums_df[\"FLAG_WFH\"] = 0\n",
    "\n",
    "### Assign transit mode hierarchically\n",
    "commuter_model_alltransit_no_wfh.ipums_df['First_Assignment'] = commuter_model_alltransit_no_wfh\\\n",
    "            .AssignTransModesWaterfall([\"FLAG_SUBWAY\",\"FLAG_EBUSES\",\"FLAG_COMMUTERRAIL\",\"FLAG_FERRY\"])\n",
    "\n",
    "commuter_model_alltransit_no_wfh.ipums_df['TransMode'] = commuter_model_alltransit_no_wfh.RandAssignChosenOption(\n",
    "                                                                commuter_model_alltransit_no_wfh.ipums_df['First_Assignment'], \n",
    "                                                                commuter_model_alltransit_no_wfh.ipums_df['MODE_TRANSP_TO_WORK_HBDMATCH'],\n",
    "                                                                \"Current\")"
   ]
  },
  {
   "cell_type": "code",
   "execution_count": 6,
   "id": "6d0a6a43",
   "metadata": {
    "ExecuteTime": {
     "end_time": "2022-06-29T23:57:36.590277Z",
     "start_time": "2022-06-29T23:57:36.575305Z"
    }
   },
   "outputs": [],
   "source": [
    "flag_cols = [x for x in commuter_model_alltransit_no_wfh.ipums_df if \"FLAG\" in x]\n"
   ]
  },
  {
   "cell_type": "code",
   "execution_count": 7,
   "id": "d5ea51b1",
   "metadata": {
    "ExecuteTime": {
     "end_time": "2022-06-29T23:57:36.612213Z",
     "start_time": "2022-06-29T23:57:36.591243Z"
    },
    "scrolled": false
   },
   "outputs": [
    {
     "data": {
      "text/plain": [
       "FLAG_AUTO                0\n",
       "FLAG_ESCOOTER            0\n",
       "FLAG_WALK                0\n",
       "FLAG_EBIKE               0\n",
       "FLAG_MOTORCYCLE          0\n",
       "FLAG_TAXICAB             0\n",
       "FLAG_EBUSES          13958\n",
       "FLAG_SUBWAY          17010\n",
       "FLAG_COMMUTERRAIL     7484\n",
       "FLAG_FERRY            2516\n",
       "FLAG_WFH                 0\n",
       "dtype: int64"
      ]
     },
     "execution_count": 7,
     "metadata": {},
     "output_type": "execute_result"
    }
   ],
   "source": [
    "commuter_model_alltransit_no_wfh.ipums_df[flag_cols].sum()"
   ]
  },
  {
   "cell_type": "code",
   "execution_count": 8,
   "id": "ab4702fd",
   "metadata": {
    "ExecuteTime": {
     "end_time": "2022-06-29T23:57:36.631636Z",
     "start_time": "2022-06-29T23:57:36.613143Z"
    }
   },
   "outputs": [
    {
     "data": {
      "text/plain": [
       "Subway          17010\n",
       "CommuterRail     2745\n",
       "Bus              2511\n",
       "No Option        1674\n",
       "Ferry              38\n",
       "Name: First_Assignment, dtype: int64"
      ]
     },
     "execution_count": 8,
     "metadata": {},
     "output_type": "execute_result"
    }
   ],
   "source": [
    "commuter_model_alltransit_no_wfh.ipums_df[\"First_Assignment\"].value_counts()"
   ]
  },
  {
   "cell_type": "code",
   "execution_count": 9,
   "id": "64fd071c",
   "metadata": {
    "ExecuteTime": {
     "end_time": "2022-06-29T23:57:36.650011Z",
     "start_time": "2022-06-29T23:57:36.632628Z"
    },
    "scrolled": false
   },
   "outputs": [
    {
     "data": {
      "text/plain": [
       "Subway           17261\n",
       "CommuterRail      3239\n",
       "Bus               2804\n",
       "AutoOccupants      521\n",
       "Ferry               74\n",
       "Walk                46\n",
       "Other               21\n",
       "Bicycle              7\n",
       "WFH                  5\n",
       "Name: TransMode, dtype: int64"
      ]
     },
     "execution_count": 9,
     "metadata": {},
     "output_type": "execute_result"
    }
   ],
   "source": [
    "commuter_model_alltransit_no_wfh.ipums_df[\"TransMode\"].value_counts()"
   ]
  },
  {
   "cell_type": "code",
   "execution_count": 10,
   "id": "5ea12471",
   "metadata": {
    "ExecuteTime": {
     "end_time": "2022-06-29T23:57:36.669690Z",
     "start_time": "2022-06-29T23:57:36.652662Z"
    },
    "scrolled": false
   },
   "outputs": [
    {
     "data": {
      "text/plain": [
       "FLAG_AUTO                0\n",
       "FLAG_ESCOOTER            0\n",
       "FLAG_WALK                0\n",
       "FLAG_EBIKE               0\n",
       "FLAG_MOTORCYCLE          0\n",
       "FLAG_TAXICAB             0\n",
       "FLAG_EBUSES          13958\n",
       "FLAG_SUBWAY          17010\n",
       "FLAG_COMMUTERRAIL     7484\n",
       "FLAG_FERRY            2516\n",
       "FLAG_WFH                 0\n",
       "dtype: int64"
      ]
     },
     "execution_count": 10,
     "metadata": {},
     "output_type": "execute_result"
    }
   ],
   "source": [
    "commuter_model_alltransit_no_wfh.ipums_df[flag_cols].sum()"
   ]
  },
  {
   "cell_type": "code",
   "execution_count": null,
   "id": "385e7540",
   "metadata": {
    "ExecuteTime": {
     "end_time": "2022-06-18T17:29:01.715208Z",
     "start_time": "2022-06-18T17:29:01.494798Z"
    }
   },
   "outputs": [],
   "source": []
  },
  {
   "cell_type": "code",
   "execution_count": 11,
   "id": "49792c9f",
   "metadata": {
    "ExecuteTime": {
     "end_time": "2022-06-29T23:57:37.501573Z",
     "start_time": "2022-06-29T23:57:36.670741Z"
    }
   },
   "outputs": [],
   "source": [
    "### All Transit - Higher WFH\n",
    "commuter_model_alltransit_heavy_wfh.ipums_df['FLAG_AUTO'] = 0\n",
    "commuter_model_alltransit_heavy_wfh.ipums_df['FLAG_ESCOOTER'] = 0\n",
    "commuter_model_alltransit_heavy_wfh.ipums_df['FLAG_WALK'] = 0\n",
    "commuter_model_alltransit_heavy_wfh.ipums_df['FLAG_EBIKE']= 0\n",
    "commuter_model_alltransit_heavy_wfh.ipums_df['FLAG_MOTORCYCLE']= 0\n",
    "commuter_model_alltransit_heavy_wfh.ipums_df['FLAG_TAXICAB']= 0\n",
    "\n",
    "# print(commuter_model_alltransit.ipums_df[['FLAG_AUTO',\"FLAG_ESCOOTER\",\"FLAG_WALK\",\"FLAG_EBIKE\"]].sum())\n",
    "\n",
    "#### Transit\n",
    "### Bus\n",
    "commuter_model_alltransit_heavy_wfh.ipums_df['FLAG_EBUSES'] = commuter_model_alltransit_heavy_wfh.bus_flag_binary(\n",
    "                                        home_region=commuter_model_alltransit_heavy_wfh.puma_home_Bus\n",
    "                                        ,work_region=commuter_model_alltransit_heavy_wfh.puma_work_Bus\n",
    "                                        ,schedule=commuter_model_alltransit_heavy_wfh.time_Bus\n",
    "                                        ,affordability=100\n",
    "                                        ,fixgaps=False\n",
    "                                         )\n",
    "\n",
    "## Subway\n",
    "commuter_model_alltransit_heavy_wfh.ipums_df['FLAG_SUBWAY'] = commuter_model_alltransit_heavy_wfh.subway_flag_binary(\n",
    "                                            home_region=commuter_model_alltransit_heavy_wfh.puma_home_Subway\n",
    "                                            ,work_region=commuter_model_alltransit_heavy_wfh.puma_work_Subway\n",
    "                                            ,schedule=commuter_model_alltransit_heavy_wfh.time_Subway\n",
    "                                            ,affordability=100\n",
    "                                            ,fixgaps=False\n",
    "                                            )\n",
    "\n",
    "\n",
    "## Commuter Rail\n",
    "commuter_model_alltransit_heavy_wfh.ipums_df['FLAG_COMMUTERRAIL'] = commuter_model_alltransit_heavy_wfh.commuterRail_flag_binary(\n",
    "                                             home_region=commuter_model_alltransit_heavy_wfh.puma_home_CommuterRail\n",
    "                                            ,work_region=commuter_model_alltransit_heavy_wfh.puma_work_CommuterRail\n",
    "                                            ,schedule=commuter_model_alltransit_heavy_wfh.time_CommuterRail\n",
    "                                            ,affordability=100\n",
    "                                            ,fixgaps=False\n",
    "                                            )\n",
    "\n",
    "## Ferry\n",
    "commuter_model_alltransit_heavy_wfh.ipums_df['FLAG_FERRY'] = commuter_model_alltransit_heavy_wfh.ferry_flag_binary(\n",
    "                                            home_region=commuter_model_alltransit_heavy_wfh.puma_home_Ferry\n",
    "                                           ,work_region=commuter_model_alltransit_heavy_wfh.puma_work_Ferry\n",
    "                                           ,schedule=commuter_model_alltransit_heavy_wfh.time_Ferry\n",
    "                                           ,affordability=100\n",
    "                                           ,fixgaps=False\n",
    "                                          )\n",
    "## Work From Home\n",
    "commuter_model_alltransit_heavy_wfh.ipums_df[\"FLAG_WFH\"] = commuter_model_alltransit_heavy_wfh.wfh_flag_binary(\n",
    "                                            wfh_dampener=1)\n",
    "\n",
    "# print(commuter_model_alltransit.ipums_df[flag_cols].sum())\n",
    "\n",
    "### Assign transit mode hierarchically\n",
    "commuter_model_alltransit_heavy_wfh.ipums_df['First_Assignment'] = commuter_model_alltransit_heavy_wfh\\\n",
    "            .AssignTransModesWaterfall([\"FLAG_WFH\",\"FLAG_SUBWAY\",\"FLAG_EBUSES\",\"FLAG_COMMUTERRAIL\",\"FLAG_FERRY\"])\n",
    "\n",
    "commuter_model_alltransit_heavy_wfh.ipums_df['TransMode'] = commuter_model_alltransit_heavy_wfh.RandAssignChosenOption(\n",
    "                                                                commuter_model_alltransit_heavy_wfh.ipums_df['First_Assignment'], \n",
    "                                                                commuter_model_alltransit_heavy_wfh.ipums_df['MODE_TRANSP_TO_WORK_HBDMATCH'],\n",
    "                                                                \"Current\")"
   ]
  },
  {
   "cell_type": "code",
   "execution_count": 12,
   "id": "bad71060",
   "metadata": {
    "ExecuteTime": {
     "end_time": "2022-06-29T23:57:37.523491Z",
     "start_time": "2022-06-29T23:57:37.502333Z"
    }
   },
   "outputs": [
    {
     "data": {
      "text/plain": [
       "FLAG_AUTO                0\n",
       "FLAG_ESCOOTER            0\n",
       "FLAG_WALK                0\n",
       "FLAG_EBIKE               0\n",
       "FLAG_MOTORCYCLE          0\n",
       "FLAG_TAXICAB             0\n",
       "FLAG_EBUSES          13958\n",
       "FLAG_SUBWAY          17010\n",
       "FLAG_COMMUTERRAIL     7484\n",
       "FLAG_FERRY            2516\n",
       "FLAG_WFH              6526\n",
       "dtype: int64"
      ]
     },
     "execution_count": 12,
     "metadata": {},
     "output_type": "execute_result"
    }
   ],
   "source": [
    "commuter_model_alltransit_heavy_wfh.ipums_df[flag_cols].sum()"
   ]
  },
  {
   "cell_type": "code",
   "execution_count": 13,
   "id": "8d6356d8",
   "metadata": {
    "ExecuteTime": {
     "end_time": "2022-06-29T23:57:37.541564Z",
     "start_time": "2022-06-29T23:57:37.524360Z"
    }
   },
   "outputs": [
    {
     "data": {
      "text/plain": [
       "Subway          12697\n",
       "WFH              6526\n",
       "Bus              1845\n",
       "CommuterRail     1587\n",
       "No Option        1293\n",
       "Ferry              30\n",
       "Name: First_Assignment, dtype: int64"
      ]
     },
     "execution_count": 13,
     "metadata": {},
     "output_type": "execute_result"
    }
   ],
   "source": [
    "commuter_model_alltransit_heavy_wfh.ipums_df[\"First_Assignment\"].value_counts()"
   ]
  },
  {
   "cell_type": "code",
   "execution_count": 14,
   "id": "75f385e6",
   "metadata": {
    "ExecuteTime": {
     "end_time": "2022-06-29T23:57:37.560432Z",
     "start_time": "2022-06-29T23:57:37.542942Z"
    }
   },
   "outputs": [
    {
     "data": {
      "text/plain": [
       "Subway           12890\n",
       "WFH               6531\n",
       "Bus               2084\n",
       "CommuterRail      1869\n",
       "AutoOccupants      474\n",
       "Ferry               66\n",
       "Walk                40\n",
       "Other               17\n",
       "Bicycle              7\n",
       "Name: TransMode, dtype: int64"
      ]
     },
     "execution_count": 14,
     "metadata": {},
     "output_type": "execute_result"
    }
   ],
   "source": [
    "commuter_model_alltransit_heavy_wfh.ipums_df[\"TransMode\"].value_counts()"
   ]
  },
  {
   "cell_type": "code",
   "execution_count": 15,
   "id": "58899023",
   "metadata": {
    "ExecuteTime": {
     "end_time": "2022-06-29T23:57:37.578310Z",
     "start_time": "2022-06-29T23:57:37.561316Z"
    }
   },
   "outputs": [
    {
     "data": {
      "text/plain": [
       "FLAG_AUTO                0\n",
       "FLAG_ESCOOTER            0\n",
       "FLAG_WALK                0\n",
       "FLAG_EBIKE               0\n",
       "FLAG_MOTORCYCLE          0\n",
       "FLAG_TAXICAB             0\n",
       "FLAG_EBUSES          13958\n",
       "FLAG_SUBWAY          17010\n",
       "FLAG_COMMUTERRAIL     7484\n",
       "FLAG_FERRY            2516\n",
       "FLAG_WFH              6526\n",
       "dtype: int64"
      ]
     },
     "execution_count": 15,
     "metadata": {},
     "output_type": "execute_result"
    }
   ],
   "source": [
    "commuter_model_alltransit_heavy_wfh.ipums_df[flag_cols].sum()"
   ]
  },
  {
   "cell_type": "code",
   "execution_count": null,
   "id": "5ce748a2",
   "metadata": {},
   "outputs": [],
   "source": []
  },
  {
   "cell_type": "code",
   "execution_count": 16,
   "id": "ed43c358",
   "metadata": {
    "ExecuteTime": {
     "end_time": "2022-06-29T23:57:38.347924Z",
     "start_time": "2022-06-29T23:57:37.579283Z"
    }
   },
   "outputs": [],
   "source": [
    "#### All Micro-Mobility\n",
    "commuter_model_allmicro.ipums_df['FLAG_AUTO'] = 0\n",
    "## Motorcycle\n",
    "commuter_model_allmicro.ipums_df['FLAG_MOTORCYCLE'] = 0\n",
    "## Taxicab\n",
    "commuter_model_allmicro.ipums_df['FLAG_TAXICAB'] = 0\n",
    "## Bus\n",
    "commuter_model_allmicro.ipums_df['FLAG_EBUSES'] = 0\n",
    "## Subway\n",
    "commuter_model_allmicro.ipums_df['FLAG_SUBWAY'] = 0\n",
    "## Commuter Rail\n",
    "commuter_model_allmicro.ipums_df['FLAG_COMMUTERRAIL'] = 0\n",
    "## Ferry\n",
    "commuter_model_allmicro.ipums_df['FLAG_FERRY'] = 0\n",
    "\n",
    "\n",
    "## E-Scooter - bump up distance\n",
    "commuter_model_allmicro.ipums_df['FLAG_ESCOOTER'] = commuter_model_allmicro.escooter_flag_binary(\n",
    "                                            max_age=60\n",
    "                                            ,max_distance=15\n",
    "                                            ,scooter_friendly_origins=commuter_model_allmicro.bike_friendly_origins\n",
    "                                            ,male_pct=100\n",
    "                                            ,female_pct=100\n",
    "                                            )\n",
    "\n",
    "\n",
    "## Walking\n",
    "commuter_model_allmicro.ipums_df['FLAG_WALK'] = commuter_model_allmicro.walking_flag_binary(\n",
    "                                            max_age=100\n",
    "                                            ,max_distance=2\n",
    "                                            ,male_pct=100\n",
    "                                            ,female_pct=100\n",
    "                                            )\n",
    "\n",
    "## E-Bike\n",
    "commuter_model_allmicro.ipums_df['FLAG_EBIKE']=commuter_model_allmicro.ebike_flag_binary(\n",
    "                                        max_age=100\n",
    "                                        ,max_distance = 24\n",
    "                                        ,male_pct = 100\n",
    "                                        ,female_pct = 100\n",
    "                                        ,age_dist = None\n",
    "                                        ,bike_friendly_origins=commuter_model_allmicro.bike_friendly_origins\n",
    "                                        )\n",
    "\n",
    "\n",
    "## Work From Home\n",
    "commuter_model_allmicro.ipums_df[\"FLAG_WFH\"] = commuter_model_allmicro.wfh_flag_binary(\n",
    "                                            wfh_dampener=1\n",
    "                                                )\n",
    "### Assign transit mode hierarchically\n",
    "commuter_model_allmicro.ipums_df['First_Assignment'] = commuter_model_allmicro.AssignTransModesWaterfall(\n",
    "                                                    [\"FLAG_EBIKE\",\"FLAG_ESCOOTER\",\"FLAG_WALK\",\"FLAG_WFH\"]\n",
    "                                                                                )\n",
    "\n",
    "commuter_model_allmicro.ipums_df['TransMode'] = commuter_model_allmicro.RandAssignChosenOption(\n",
    "                                                                commuter_model_allmicro.ipums_df['First_Assignment'], \n",
    "                                                                commuter_model_allmicro.ipums_df['MODE_TRANSP_TO_WORK_HBDMATCH'],\n",
    "                                                                \"Current\")"
   ]
  },
  {
   "cell_type": "code",
   "execution_count": 17,
   "id": "19e8093d",
   "metadata": {
    "ExecuteTime": {
     "end_time": "2022-06-29T23:57:38.369461Z",
     "start_time": "2022-06-29T23:57:38.348704Z"
    },
    "scrolled": false
   },
   "outputs": [
    {
     "data": {
      "text/plain": [
       "FLAG_AUTO                0\n",
       "FLAG_ESCOOTER         8649\n",
       "FLAG_WALK             1082\n",
       "FLAG_EBIKE           14406\n",
       "FLAG_MOTORCYCLE          0\n",
       "FLAG_TAXICAB             0\n",
       "FLAG_EBUSES              0\n",
       "FLAG_SUBWAY              0\n",
       "FLAG_COMMUTERRAIL        0\n",
       "FLAG_FERRY               0\n",
       "FLAG_WFH              6524\n",
       "dtype: int64"
      ]
     },
     "execution_count": 17,
     "metadata": {},
     "output_type": "execute_result"
    }
   ],
   "source": [
    "commuter_model_allmicro.ipums_df[flag_cols].sum()"
   ]
  },
  {
   "cell_type": "code",
   "execution_count": 18,
   "id": "303a322f",
   "metadata": {
    "ExecuteTime": {
     "end_time": "2022-06-29T23:57:38.386977Z",
     "start_time": "2022-06-29T23:57:38.370211Z"
    }
   },
   "outputs": [
    {
     "data": {
      "text/plain": [
       "Bicycle      14406\n",
       "No Option     6650\n",
       "WFH           2922\n",
       "Name: First_Assignment, dtype: int64"
      ]
     },
     "execution_count": 18,
     "metadata": {},
     "output_type": "execute_result"
    }
   ],
   "source": [
    "commuter_model_allmicro.ipums_df[\"First_Assignment\"].value_counts(dropna=False)"
   ]
  },
  {
   "cell_type": "code",
   "execution_count": 19,
   "id": "b212f2c5",
   "metadata": {
    "ExecuteTime": {
     "end_time": "2022-06-29T23:57:38.405591Z",
     "start_time": "2022-06-29T23:57:38.387859Z"
    },
    "scrolled": false
   },
   "outputs": [
    {
     "data": {
      "text/plain": [
       "Bicycle          14424\n",
       "WFH               2922\n",
       "AutoOccupants     1747\n",
       "Subway            1724\n",
       "CommuterRail      1662\n",
       "Bus               1213\n",
       "Ferry              189\n",
       "Walk                69\n",
       "Other               28\n",
       "Name: TransMode, dtype: int64"
      ]
     },
     "execution_count": 19,
     "metadata": {},
     "output_type": "execute_result"
    }
   ],
   "source": [
    "commuter_model_allmicro.ipums_df[\"TransMode\"].value_counts()"
   ]
  },
  {
   "cell_type": "code",
   "execution_count": 20,
   "id": "ce5784d8",
   "metadata": {
    "ExecuteTime": {
     "end_time": "2022-06-29T23:57:39.511328Z",
     "start_time": "2022-06-29T23:57:38.406849Z"
    }
   },
   "outputs": [],
   "source": [
    "#### Standard\n",
    "\n",
    "commuter_model_mix.ipums_df['FLAG_AUTO'] = commuter_model_mix.auto_flag_binary(\n",
    "                                        max_age=70\n",
    "                                       ,min_distance = 2\n",
    "                                       ,min_income = 32626\n",
    "                                       ,male_pct = 15\n",
    "                                       ,female_pct = 15\n",
    "                                       ,age_dist = None\n",
    "                                       )\n",
    "## Motorcycle\n",
    "commuter_model_mix.ipums_df['FLAG_MOTORCYCLE'] = commuter_model_mix.motorcycle_flag_binary(\n",
    "                                        max_age=35\n",
    "                                       ,max_distance = 300\n",
    "                                       ,min_income = 50000\n",
    "                                       ,male_pct = 1\n",
    "                                       ,female_pct = 0\n",
    "                                       ,age_dist = None\n",
    "                                        )\n",
    "\n",
    "\n",
    "## Taxicab\n",
    "commuter_model_mix.ipums_df['FLAG_TAXICAB'] = commuter_model_mix.taxicab_flag_binary(\n",
    "                                        max_distance = 15\n",
    "                                       ,min_income = 32626\n",
    "                                       ,male_pct = 5\n",
    "                                       ,female_pct = 2\n",
    "                                       ,age_dist = None\n",
    "                                        )\n",
    "\n",
    "## Bus\n",
    "commuter_model_mix.ipums_df['FLAG_EBUSES'] = commuter_model_mix.bus_flag_binary(\n",
    "                                        home_region=commuter_model_mix.puma_home_Bus\n",
    "                                        ,work_region=commuter_model_mix.puma_work_Bus\n",
    "                                        ,schedule=commuter_model_mix.time_Bus\n",
    "                                        ,affordability=50\n",
    "                                        ,fixgaps=False\n",
    "                                         )\n",
    "\n",
    "\n",
    "## Subway\n",
    "commuter_model_mix.ipums_df['FLAG_SUBWAY'] = commuter_model_mix.subway_flag_binary(\n",
    "                                            home_region=commuter_model_mix.puma_home_Subway\n",
    "                                            ,work_region=commuter_model_mix.puma_work_Subway\n",
    "                                            ,schedule=commuter_model_mix.time_Subway\n",
    "                                            ,affordability=100\n",
    "                                            ,fixgaps=False\n",
    "                                            )\n",
    "\n",
    "\n",
    "\n",
    "## Commuter Rail\n",
    "commuter_model_mix.ipums_df['FLAG_COMMUTERRAIL'] = commuter_model_mix.commuterRail_flag_binary(\n",
    "                                             home_region=commuter_model_mix.puma_home_CommuterRail\n",
    "                                            ,work_region=commuter_model_mix.puma_work_CommuterRail\n",
    "                                            ,schedule=commuter_model_mix.time_CommuterRail\n",
    "                                            ,affordability=100\n",
    "                                            ,fixgaps=False\n",
    "                                            )\n",
    "\n",
    "## Ferry\n",
    "commuter_model_mix.ipums_df['FLAG_FERRY'] = commuter_model_mix.ferry_flag_binary(\n",
    "                                            home_region=commuter_model_mix.puma_home_Ferry\n",
    "                                           ,work_region=commuter_model_mix.puma_work_Ferry\n",
    "                                           ,schedule=commuter_model_mix.time_Ferry\n",
    "                                           ,affordability=100\n",
    "                                           ,fixgaps=False\n",
    "                                          )\n",
    "\n",
    "\n",
    "\n",
    "## E-Scooter\n",
    "commuter_model_mix.ipums_df['FLAG_ESCOOTER'] = commuter_model_mix.escooter_flag_binary(\n",
    "                                            max_age=60\n",
    "                                            ,max_distance=4\n",
    "                                            ,scooter_friendly_origins=commuter_model_mix.bike_friendly_origins\n",
    "                                            ,male_pct=25\n",
    "                                            ,female_pct=25\n",
    "                                            )\n",
    "\n",
    "\n",
    "## Walking\n",
    "commuter_model_mix.ipums_df['FLAG_WALK'] = commuter_model_mix.walking_flag_binary(\n",
    "                                            max_age=100\n",
    "                                            ,max_distance=2\n",
    "                                            ,male_pct=100\n",
    "                                            ,female_pct=100\n",
    "                                            )\n",
    "\n",
    "## E-Bike\n",
    "commuter_model_mix.ipums_df['FLAG_EBIKE']=commuter_model_mix.ebike_flag_binary(\n",
    "                                        max_age=70\n",
    "                                        ,max_distance = 35\n",
    "                                        ,male_pct = 50\n",
    "                                        ,female_pct = 40\n",
    "                                        ,age_dist = None\n",
    "                                        ,bike_friendly_origins=commuter_model_mix.bike_friendly_origins\n",
    "                                        )\n",
    "\n",
    "\n",
    "## Work From Home\n",
    "commuter_model_mix.ipums_df[\"FLAG_WFH\"] = commuter_model_mix.wfh_flag_binary(\n",
    "                                            wfh_dampener=.5\n",
    "                                                )\n",
    "\n",
    "## Keep random assignment for mixed transit option\n",
    "commuter_model_mix.ipums_df['First_Assignment'] = commuter_model_mix.RandAssignNoOption(\n",
    "                                                                commuter_model_mix.ipums_df['FLAG_AUTO'], \n",
    "                                                                commuter_model_mix.ipums_df['FLAG_MOTORCYCLE'],\n",
    "                                                                commuter_model_mix.ipums_df['FLAG_TAXICAB'], \n",
    "                                                                commuter_model_mix.ipums_df['FLAG_EBUSES'],\n",
    "                                                                commuter_model_mix.ipums_df['FLAG_SUBWAY'], \n",
    "                                                                commuter_model_mix.ipums_df['FLAG_COMMUTERRAIL'],\n",
    "                                                                commuter_model_mix.ipums_df['FLAG_FERRY'], \n",
    "                                                                commuter_model_mix.ipums_df['FLAG_ESCOOTER'],\n",
    "                                                                commuter_model_mix.ipums_df['FLAG_WALK'], \n",
    "                                                                commuter_model_mix.ipums_df['FLAG_EBIKE'],\n",
    "                                                                commuter_model_mix.ipums_df['FLAG_WFH'])\n",
    "commuter_model_mix.ipums_df['TransMode'] = commuter_model_mix.RandAssignChosenOption(\n",
    "                                                                commuter_model_mix.ipums_df['First_Assignment'], \n",
    "                                                                commuter_model_mix.ipums_df['MODE_TRANSP_TO_WORK_HBDMATCH'],\n",
    "                                                                \"Current\")"
   ]
  },
  {
   "cell_type": "code",
   "execution_count": 21,
   "id": "ca915b6e",
   "metadata": {
    "ExecuteTime": {
     "end_time": "2022-06-29T23:57:39.532179Z",
     "start_time": "2022-06-29T23:57:39.512186Z"
    }
   },
   "outputs": [
    {
     "data": {
      "text/plain": [
       "FLAG_AUTO             1680\n",
       "FLAG_ESCOOTER          232\n",
       "FLAG_WALK             1082\n",
       "FLAG_EBIKE            7315\n",
       "FLAG_MOTORCYCLE         35\n",
       "FLAG_TAXICAB           279\n",
       "FLAG_EBUSES          13866\n",
       "FLAG_SUBWAY          17010\n",
       "FLAG_COMMUTERRAIL     7484\n",
       "FLAG_FERRY            2516\n",
       "FLAG_WFH              3223\n",
       "dtype: int64"
      ]
     },
     "execution_count": 21,
     "metadata": {},
     "output_type": "execute_result"
    }
   ],
   "source": [
    "commuter_model_mix.ipums_df[flag_cols].sum()"
   ]
  },
  {
   "cell_type": "code",
   "execution_count": 22,
   "id": "d44abdf3",
   "metadata": {
    "ExecuteTime": {
     "end_time": "2022-06-29T23:57:39.550480Z",
     "start_time": "2022-06-29T23:57:39.533070Z"
    }
   },
   "outputs": [
    {
     "data": {
      "text/plain": [
       "Subway           7650\n",
       "Bus              5331\n",
       "CommuterRail     3915\n",
       "Bicycle          2599\n",
       "WFH              1260\n",
       "No Option        1225\n",
       "Ferry             869\n",
       "AutoOccupants     694\n",
       "Walk              301\n",
       "Taxicab            77\n",
       "Escooter           48\n",
       "Motorcycle          9\n",
       "Name: First_Assignment, dtype: int64"
      ]
     },
     "execution_count": 22,
     "metadata": {},
     "output_type": "execute_result"
    }
   ],
   "source": [
    "commuter_model_mix.ipums_df[\"First_Assignment\"].value_counts()"
   ]
  },
  {
   "cell_type": "code",
   "execution_count": 23,
   "id": "0e25522c",
   "metadata": {
    "ExecuteTime": {
     "end_time": "2022-06-29T23:57:39.569061Z",
     "start_time": "2022-06-29T23:57:39.551498Z"
    }
   },
   "outputs": [
    {
     "data": {
      "text/plain": [
       "Subway           7814\n",
       "Bus              5560\n",
       "CommuterRail     4244\n",
       "Bicycle          2605\n",
       "WFH              1260\n",
       "AutoOccupants    1113\n",
       "Ferry             899\n",
       "Walk              333\n",
       "Taxicab            77\n",
       "Escooter           48\n",
       "Other              16\n",
       "Motorcycle          9\n",
       "Name: TransMode, dtype: int64"
      ]
     },
     "execution_count": 23,
     "metadata": {},
     "output_type": "execute_result"
    }
   ],
   "source": [
    "commuter_model_mix.ipums_df[\"TransMode\"].value_counts()"
   ]
  },
  {
   "cell_type": "code",
   "execution_count": 24,
   "id": "01f390e2",
   "metadata": {
    "ExecuteTime": {
     "end_time": "2022-06-29T23:57:39.602613Z",
     "start_time": "2022-06-29T23:57:39.569902Z"
    }
   },
   "outputs": [
    {
     "name": "stderr",
     "output_type": "stream",
     "text": [
      "/opt/anaconda3/lib/python3.9/site-packages/pandas/core/frame.py:9190: FutureWarning: Passing 'suffixes' which cause duplicate columns {'First_Assignment_x'} in the result is deprecated and will raise a MergeError in a future version.\n",
      "  return merge(\n"
     ]
    },
    {
     "data": {
      "text/html": [
       "<div>\n",
       "<style scoped>\n",
       "    .dataframe tbody tr th:only-of-type {\n",
       "        vertical-align: middle;\n",
       "    }\n",
       "\n",
       "    .dataframe tbody tr th {\n",
       "        vertical-align: top;\n",
       "    }\n",
       "\n",
       "    .dataframe thead th {\n",
       "        text-align: right;\n",
       "    }\n",
       "</style>\n",
       "<table border=\"1\" class=\"dataframe\">\n",
       "  <thead>\n",
       "    <tr style=\"text-align: right;\">\n",
       "      <th></th>\n",
       "      <th>All Micromobility</th>\n",
       "      <th>All Transit - Heavy WFH</th>\n",
       "      <th>All Transit - No WFH</th>\n",
       "      <th>Mixed All</th>\n",
       "    </tr>\n",
       "  </thead>\n",
       "  <tbody>\n",
       "    <tr>\n",
       "      <th>AutoOccupants</th>\n",
       "      <td>0.0</td>\n",
       "      <td>0.0</td>\n",
       "      <td>694</td>\n",
       "      <td>0.0</td>\n",
       "    </tr>\n",
       "    <tr>\n",
       "      <th>Bicycle</th>\n",
       "      <td>14406.0</td>\n",
       "      <td>0.0</td>\n",
       "      <td>2599</td>\n",
       "      <td>0.0</td>\n",
       "    </tr>\n",
       "    <tr>\n",
       "      <th>Bus</th>\n",
       "      <td>0.0</td>\n",
       "      <td>1845.0</td>\n",
       "      <td>5331</td>\n",
       "      <td>2511.0</td>\n",
       "    </tr>\n",
       "    <tr>\n",
       "      <th>CommuterRail</th>\n",
       "      <td>0.0</td>\n",
       "      <td>1587.0</td>\n",
       "      <td>3915</td>\n",
       "      <td>2745.0</td>\n",
       "    </tr>\n",
       "    <tr>\n",
       "      <th>Escooter</th>\n",
       "      <td>0.0</td>\n",
       "      <td>0.0</td>\n",
       "      <td>48</td>\n",
       "      <td>0.0</td>\n",
       "    </tr>\n",
       "    <tr>\n",
       "      <th>Ferry</th>\n",
       "      <td>0.0</td>\n",
       "      <td>30.0</td>\n",
       "      <td>869</td>\n",
       "      <td>38.0</td>\n",
       "    </tr>\n",
       "    <tr>\n",
       "      <th>Motorcycle</th>\n",
       "      <td>0.0</td>\n",
       "      <td>0.0</td>\n",
       "      <td>9</td>\n",
       "      <td>0.0</td>\n",
       "    </tr>\n",
       "    <tr>\n",
       "      <th>No Option</th>\n",
       "      <td>6650.0</td>\n",
       "      <td>1293.0</td>\n",
       "      <td>1225</td>\n",
       "      <td>1674.0</td>\n",
       "    </tr>\n",
       "    <tr>\n",
       "      <th>Subway</th>\n",
       "      <td>0.0</td>\n",
       "      <td>12697.0</td>\n",
       "      <td>7650</td>\n",
       "      <td>17010.0</td>\n",
       "    </tr>\n",
       "    <tr>\n",
       "      <th>Taxicab</th>\n",
       "      <td>0.0</td>\n",
       "      <td>0.0</td>\n",
       "      <td>77</td>\n",
       "      <td>0.0</td>\n",
       "    </tr>\n",
       "    <tr>\n",
       "      <th>WFH</th>\n",
       "      <td>2922.0</td>\n",
       "      <td>6526.0</td>\n",
       "      <td>1260</td>\n",
       "      <td>0.0</td>\n",
       "    </tr>\n",
       "    <tr>\n",
       "      <th>Walk</th>\n",
       "      <td>0.0</td>\n",
       "      <td>0.0</td>\n",
       "      <td>301</td>\n",
       "      <td>0.0</td>\n",
       "    </tr>\n",
       "  </tbody>\n",
       "</table>\n",
       "</div>"
      ],
      "text/plain": [
       "               All Micromobility  All Transit - Heavy WFH  \\\n",
       "AutoOccupants                0.0                      0.0   \n",
       "Bicycle                  14406.0                      0.0   \n",
       "Bus                          0.0                   1845.0   \n",
       "CommuterRail                 0.0                   1587.0   \n",
       "Escooter                     0.0                      0.0   \n",
       "Ferry                        0.0                     30.0   \n",
       "Motorcycle                   0.0                      0.0   \n",
       "No Option                 6650.0                   1293.0   \n",
       "Subway                       0.0                  12697.0   \n",
       "Taxicab                      0.0                      0.0   \n",
       "WFH                       2922.0                   6526.0   \n",
       "Walk                         0.0                      0.0   \n",
       "\n",
       "               All Transit - No WFH  Mixed All  \n",
       "AutoOccupants                   694        0.0  \n",
       "Bicycle                        2599        0.0  \n",
       "Bus                            5331     2511.0  \n",
       "CommuterRail                   3915     2745.0  \n",
       "Escooter                         48        0.0  \n",
       "Ferry                           869       38.0  \n",
       "Motorcycle                        9        0.0  \n",
       "No Option                      1225     1674.0  \n",
       "Subway                         7650    17010.0  \n",
       "Taxicab                          77        0.0  \n",
       "WFH                            1260        0.0  \n",
       "Walk                            301        0.0  "
      ]
     },
     "execution_count": 24,
     "metadata": {},
     "output_type": "execute_result"
    }
   ],
   "source": [
    "#### Compare Counts of Flags\n",
    "# commuter_model_alltransit.ipums_df['FLAG_AUTO'].sum()\n",
    "ct_1 = commuter_model_allmicro.ipums_df['First_Assignment'].value_counts(dropna=False)\n",
    "\n",
    "# commuter_model_alltransit.ipums_df['FLAG_AUTO'].sum()\n",
    "ct_2 = commuter_model_alltransit_heavy_wfh.ipums_df['First_Assignment'].value_counts(dropna=False)\n",
    "\n",
    "# commuter_model_alltransit.ipums_df['FLAG_AUTO'].sum()\n",
    "ct_4 = commuter_model_alltransit_no_wfh.ipums_df['First_Assignment'].value_counts(dropna=False)\n",
    "\n",
    "# commuter_model_mix.ipums_df['FLAG_AUTO'].sum()\n",
    "ct_3 =commuter_model_mix.ipums_df['First_Assignment'].value_counts(dropna=False)\n",
    "\n",
    "compare_cts = pd.merge(left=ct_1,right=ct_2,left_index=True,right_index=True,how='outer')\\\n",
    ".merge(right=ct_3,left_index=True,right_index=True,how='outer')\\\n",
    ".merge(right=ct_4,left_index=True,right_index=True,how='outer').fillna(0)\n",
    "\n",
    "compare_cts.columns = [\"All Micromobility\",\"All Transit - Heavy WFH\",\"All Transit - No WFH\",\"Mixed All\"]\n",
    "compare_cts\n",
    "# commuter_model_allmicro.ipums_df['First_Assignment'].value_counts(dropna=False)"
   ]
  },
  {
   "cell_type": "code",
   "execution_count": 35,
   "id": "b4fab88e",
   "metadata": {
    "ExecuteTime": {
     "end_time": "2022-06-30T00:03:07.710386Z",
     "start_time": "2022-06-30T00:03:07.638903Z"
    }
   },
   "outputs": [
    {
     "name": "stdout",
     "output_type": "stream",
     "text": [
      "YEAR\n",
      "PERWT\n",
      "HOME_STATEFIP\n",
      "HOME_PUMA\n",
      "PUMA_NAME\n",
      "SEX\n",
      "AGE\n",
      "HRS_WK_DAILY\n",
      "TOTAL_PERSONAL_INCOME\n",
      "MODE_TRANSP_TO_WORK\n",
      "MODE_TRANSP_TO_WORK_HBDMATCH\n",
      "HOMEOWNER_LABEL\n",
      "RACE_LABEL\n",
      "EDUC_LABEL\n",
      "DEPARTS_FOR_WORK_HOUR\n",
      "ARRIVES_AT_WORK_HOUR\n",
      "COMMUTE_DIRECTION_MANHATTAN\n",
      "VEHICLE_AVAILABLE\n",
      "OCC_DESCRIPTION\n",
      "IND_CAT\n",
      "IND_DESCRIPTION\n",
      "PUMAKEY_HOME\n",
      "PUMAKEY_WORK\n",
      "DISTANCE_KM\n",
      "COGNITIVE_DIFFICULTY\n",
      "AMBULATORY_DIFFICULTY\n",
      "IND_LIVING_DIFFICULTY\n",
      "SELFCARE_DIFFICULTY\n",
      "VISION_OR_HEARING_DIFFICULTY\n",
      "VISION_DIFFICULTY\n",
      "HEARING_DIFFICULTY\n",
      "FLAG_AUTO\n",
      "FLAG_MOTORCYCLE\n",
      "FLAG_TAXICAB\n",
      "FLAG_EBUSES\n",
      "FLAG_SUBWAY\n",
      "FLAG_COMMUTERRAIL\n",
      "FLAG_FERRY\n",
      "FLAG_ESCOOTER\n",
      "FLAG_WALK\n",
      "FLAG_EBIKE\n",
      "FLAG_WFH\n",
      "First_Assignment\n",
      "TransMode\n",
      "MNY_RES\n"
     ]
    },
    {
     "data": {
      "text/html": [
       "<div>\n",
       "<style scoped>\n",
       "    .dataframe tbody tr th:only-of-type {\n",
       "        vertical-align: middle;\n",
       "    }\n",
       "\n",
       "    .dataframe tbody tr th {\n",
       "        vertical-align: top;\n",
       "    }\n",
       "\n",
       "    .dataframe thead th {\n",
       "        text-align: right;\n",
       "    }\n",
       "</style>\n",
       "<table border=\"1\" class=\"dataframe\">\n",
       "  <thead>\n",
       "    <tr style=\"text-align: right;\">\n",
       "      <th></th>\n",
       "      <th>YEAR</th>\n",
       "      <th>PERWT</th>\n",
       "      <th>HOME_STATEFIP</th>\n",
       "      <th>HOME_PUMA</th>\n",
       "      <th>PUMA_NAME</th>\n",
       "      <th>SEX</th>\n",
       "      <th>AGE</th>\n",
       "      <th>HRS_WK_DAILY</th>\n",
       "      <th>TOTAL_PERSONAL_INCOME</th>\n",
       "      <th>MODE_TRANSP_TO_WORK</th>\n",
       "      <th>MODE_TRANSP_TO_WORK_HBDMATCH</th>\n",
       "      <th>HOMEOWNER_LABEL</th>\n",
       "      <th>RACE_LABEL</th>\n",
       "      <th>EDUC_LABEL</th>\n",
       "      <th>DEPARTS_FOR_WORK_HOUR</th>\n",
       "      <th>ARRIVES_AT_WORK_HOUR</th>\n",
       "      <th>COMMUTE_DIRECTION_MANHATTAN</th>\n",
       "      <th>VEHICLE_AVAILABLE</th>\n",
       "      <th>OCC_DESCRIPTION</th>\n",
       "      <th>IND_CAT</th>\n",
       "      <th>IND_DESCRIPTION</th>\n",
       "      <th>PUMAKEY_HOME</th>\n",
       "      <th>PUMAKEY_WORK</th>\n",
       "      <th>DISTANCE_KM</th>\n",
       "      <th>COGNITIVE_DIFFICULTY</th>\n",
       "      <th>AMBULATORY_DIFFICULTY</th>\n",
       "      <th>IND_LIVING_DIFFICULTY</th>\n",
       "      <th>SELFCARE_DIFFICULTY</th>\n",
       "      <th>VISION_OR_HEARING_DIFFICULTY</th>\n",
       "      <th>VISION_DIFFICULTY</th>\n",
       "      <th>HEARING_DIFFICULTY</th>\n",
       "      <th>FLAG_AUTO</th>\n",
       "      <th>FLAG_MOTORCYCLE</th>\n",
       "      <th>FLAG_TAXICAB</th>\n",
       "      <th>FLAG_EBUSES</th>\n",
       "      <th>FLAG_SUBWAY</th>\n",
       "      <th>FLAG_COMMUTERRAIL</th>\n",
       "      <th>FLAG_FERRY</th>\n",
       "      <th>FLAG_ESCOOTER</th>\n",
       "      <th>FLAG_WALK</th>\n",
       "      <th>FLAG_EBIKE</th>\n",
       "      <th>FLAG_WFH</th>\n",
       "      <th>First_Assignment</th>\n",
       "      <th>TransMode</th>\n",
       "      <th>MNY_RES</th>\n",
       "    </tr>\n",
       "  </thead>\n",
       "  <tbody>\n",
       "    <tr>\n",
       "      <th>0</th>\n",
       "      <td>2019</td>\n",
       "      <td>23.0</td>\n",
       "      <td>9</td>\n",
       "      <td>500</td>\n",
       "      <td>Litchfield County</td>\n",
       "      <td>F</td>\n",
       "      <td>46</td>\n",
       "      <td>7.4</td>\n",
       "      <td>3800</td>\n",
       "      <td>Auto, truck, or van</td>\n",
       "      <td>AutoOccupants</td>\n",
       "      <td>Rent</td>\n",
       "      <td>White</td>\n",
       "      <td>Grades12</td>\n",
       "      <td>8</td>\n",
       "      <td>9</td>\n",
       "      <td>in</td>\n",
       "      <td>1</td>\n",
       "      <td>Personal care aides</td>\n",
       "      <td>Educational Services, and Health Care and Soci...</td>\n",
       "      <td>Home health care services</td>\n",
       "      <td>09_00500</td>\n",
       "      <td>36_03800</td>\n",
       "      <td>170.50491</td>\n",
       "      <td>0</td>\n",
       "      <td>0</td>\n",
       "      <td>0</td>\n",
       "      <td>0</td>\n",
       "      <td>0</td>\n",
       "      <td>0</td>\n",
       "      <td>0</td>\n",
       "      <td>0</td>\n",
       "      <td>0</td>\n",
       "      <td>0</td>\n",
       "      <td>0</td>\n",
       "      <td>0</td>\n",
       "      <td>0</td>\n",
       "      <td>0</td>\n",
       "      <td>0</td>\n",
       "      <td>0</td>\n",
       "      <td>0</td>\n",
       "      <td>0</td>\n",
       "      <td>No Option</td>\n",
       "      <td>AutoOccupants</td>\n",
       "      <td>0</td>\n",
       "    </tr>\n",
       "    <tr>\n",
       "      <th>1</th>\n",
       "      <td>2019</td>\n",
       "      <td>48.0</td>\n",
       "      <td>9</td>\n",
       "      <td>500</td>\n",
       "      <td>Litchfield County</td>\n",
       "      <td>M</td>\n",
       "      <td>51</td>\n",
       "      <td>11.0</td>\n",
       "      <td>488000</td>\n",
       "      <td>Auto, truck, or van</td>\n",
       "      <td>AutoOccupants</td>\n",
       "      <td>Rent</td>\n",
       "      <td>White</td>\n",
       "      <td>College_5PlusYears</td>\n",
       "      <td>8</td>\n",
       "      <td>8</td>\n",
       "      <td>in</td>\n",
       "      <td>1</td>\n",
       "      <td>Lawyers, and judges, magistrates, and other ju...</td>\n",
       "      <td>Professional, Scientific, and Management, and ...</td>\n",
       "      <td>Legal services</td>\n",
       "      <td>09_00500</td>\n",
       "      <td>36_03800</td>\n",
       "      <td>170.50491</td>\n",
       "      <td>0</td>\n",
       "      <td>0</td>\n",
       "      <td>0</td>\n",
       "      <td>0</td>\n",
       "      <td>0</td>\n",
       "      <td>0</td>\n",
       "      <td>0</td>\n",
       "      <td>0</td>\n",
       "      <td>0</td>\n",
       "      <td>0</td>\n",
       "      <td>0</td>\n",
       "      <td>0</td>\n",
       "      <td>0</td>\n",
       "      <td>0</td>\n",
       "      <td>0</td>\n",
       "      <td>0</td>\n",
       "      <td>0</td>\n",
       "      <td>0</td>\n",
       "      <td>No Option</td>\n",
       "      <td>AutoOccupants</td>\n",
       "      <td>0</td>\n",
       "    </tr>\n",
       "  </tbody>\n",
       "</table>\n",
       "</div>"
      ],
      "text/plain": [
       "   YEAR  PERWT  HOME_STATEFIP  HOME_PUMA          PUMA_NAME SEX  AGE  \\\n",
       "0  2019   23.0              9        500  Litchfield County   F   46   \n",
       "1  2019   48.0              9        500  Litchfield County   M   51   \n",
       "\n",
       "   HRS_WK_DAILY  TOTAL_PERSONAL_INCOME  MODE_TRANSP_TO_WORK  \\\n",
       "0           7.4                   3800  Auto, truck, or van   \n",
       "1          11.0                 488000  Auto, truck, or van   \n",
       "\n",
       "  MODE_TRANSP_TO_WORK_HBDMATCH HOMEOWNER_LABEL RACE_LABEL          EDUC_LABEL  \\\n",
       "0                AutoOccupants            Rent      White            Grades12   \n",
       "1                AutoOccupants            Rent      White  College_5PlusYears   \n",
       "\n",
       "   DEPARTS_FOR_WORK_HOUR  ARRIVES_AT_WORK_HOUR COMMUTE_DIRECTION_MANHATTAN  \\\n",
       "0                      8                     9                          in   \n",
       "1                      8                     8                          in   \n",
       "\n",
       "   VEHICLE_AVAILABLE                                    OCC_DESCRIPTION  \\\n",
       "0                  1                                Personal care aides   \n",
       "1                  1  Lawyers, and judges, magistrates, and other ju...   \n",
       "\n",
       "                                             IND_CAT  \\\n",
       "0  Educational Services, and Health Care and Soci...   \n",
       "1  Professional, Scientific, and Management, and ...   \n",
       "\n",
       "              IND_DESCRIPTION PUMAKEY_HOME PUMAKEY_WORK  DISTANCE_KM  \\\n",
       "0  Home health care services      09_00500     36_03800    170.50491   \n",
       "1             Legal services      09_00500     36_03800    170.50491   \n",
       "\n",
       "   COGNITIVE_DIFFICULTY  AMBULATORY_DIFFICULTY  IND_LIVING_DIFFICULTY  \\\n",
       "0                     0                      0                      0   \n",
       "1                     0                      0                      0   \n",
       "\n",
       "   SELFCARE_DIFFICULTY  VISION_OR_HEARING_DIFFICULTY  VISION_DIFFICULTY  \\\n",
       "0                    0                             0                  0   \n",
       "1                    0                             0                  0   \n",
       "\n",
       "   HEARING_DIFFICULTY  FLAG_AUTO  FLAG_MOTORCYCLE  FLAG_TAXICAB  FLAG_EBUSES  \\\n",
       "0                   0          0                0             0            0   \n",
       "1                   0          0                0             0            0   \n",
       "\n",
       "   FLAG_SUBWAY  FLAG_COMMUTERRAIL  FLAG_FERRY  FLAG_ESCOOTER  FLAG_WALK  \\\n",
       "0            0                  0           0              0          0   \n",
       "1            0                  0           0              0          0   \n",
       "\n",
       "   FLAG_EBIKE  FLAG_WFH First_Assignment      TransMode  MNY_RES  \n",
       "0           0         0        No Option  AutoOccupants        0  \n",
       "1           0         0        No Option  AutoOccupants        0  "
      ]
     },
     "execution_count": 35,
     "metadata": {},
     "output_type": "execute_result"
    }
   ],
   "source": [
    "for x in commuter_model_mix.ipums_df.columns:\n",
    "    print(x)\n",
    "commuter_model_mix.ipums_df.head(2)"
   ]
  },
  {
   "cell_type": "code",
   "execution_count": null,
   "id": "8df7a00f",
   "metadata": {},
   "outputs": [],
   "source": []
  },
  {
   "cell_type": "code",
   "execution_count": null,
   "id": "d89fa68b",
   "metadata": {},
   "outputs": [],
   "source": []
  },
  {
   "cell_type": "code",
   "execution_count": 25,
   "id": "9b822ce8",
   "metadata": {
    "ExecuteTime": {
     "end_time": "2022-06-29T23:57:39.632643Z",
     "start_time": "2022-06-29T23:57:39.603636Z"
    }
   },
   "outputs": [
    {
     "data": {
      "text/html": [
       "<div>\n",
       "<style scoped>\n",
       "    .dataframe tbody tr th:only-of-type {\n",
       "        vertical-align: middle;\n",
       "    }\n",
       "\n",
       "    .dataframe tbody tr th {\n",
       "        vertical-align: top;\n",
       "    }\n",
       "\n",
       "    .dataframe thead th {\n",
       "        text-align: right;\n",
       "    }\n",
       "</style>\n",
       "<table border=\"1\" class=\"dataframe\">\n",
       "  <thead>\n",
       "    <tr style=\"text-align: right;\">\n",
       "      <th></th>\n",
       "      <th>all_micro_count</th>\n",
       "      <th>all_transit_heavyWFH_count</th>\n",
       "      <th>all_transit_noWFH_count</th>\n",
       "      <th>mix_count</th>\n",
       "    </tr>\n",
       "  </thead>\n",
       "  <tbody>\n",
       "    <tr>\n",
       "      <th>AutoOccupants</th>\n",
       "      <td>185968.0</td>\n",
       "      <td>49330.0</td>\n",
       "      <td>54010.0</td>\n",
       "      <td>113936.0</td>\n",
       "    </tr>\n",
       "    <tr>\n",
       "      <th>Bicycle</th>\n",
       "      <td>1852839.0</td>\n",
       "      <td>540.0</td>\n",
       "      <td>540.0</td>\n",
       "      <td>319204.0</td>\n",
       "    </tr>\n",
       "    <tr>\n",
       "      <th>Bus</th>\n",
       "      <td>134656.0</td>\n",
       "      <td>224174.0</td>\n",
       "      <td>291568.0</td>\n",
       "      <td>689463.0</td>\n",
       "    </tr>\n",
       "    <tr>\n",
       "      <th>CommuterRail</th>\n",
       "      <td>165053.0</td>\n",
       "      <td>181721.0</td>\n",
       "      <td>304901.0</td>\n",
       "      <td>429190.0</td>\n",
       "    </tr>\n",
       "    <tr>\n",
       "      <th>Ferry</th>\n",
       "      <td>19307.0</td>\n",
       "      <td>5592.0</td>\n",
       "      <td>6068.0</td>\n",
       "      <td>92284.0</td>\n",
       "    </tr>\n",
       "    <tr>\n",
       "      <th>Other</th>\n",
       "      <td>2802.0</td>\n",
       "      <td>1995.0</td>\n",
       "      <td>2422.0</td>\n",
       "      <td>1879.0</td>\n",
       "    </tr>\n",
       "    <tr>\n",
       "      <th>Subway</th>\n",
       "      <td>161061.0</td>\n",
       "      <td>1625328.0</td>\n",
       "      <td>2136579.0</td>\n",
       "      <td>947691.0</td>\n",
       "    </tr>\n",
       "    <tr>\n",
       "      <th>WFH</th>\n",
       "      <td>273082.0</td>\n",
       "      <td>708253.0</td>\n",
       "      <td>463.0</td>\n",
       "      <td>131779.0</td>\n",
       "    </tr>\n",
       "    <tr>\n",
       "      <th>Walk</th>\n",
       "      <td>6562.0</td>\n",
       "      <td>4397.0</td>\n",
       "      <td>4779.0</td>\n",
       "      <td>54945.0</td>\n",
       "    </tr>\n",
       "    <tr>\n",
       "      <th>Escooter</th>\n",
       "      <td>NaN</td>\n",
       "      <td>NaN</td>\n",
       "      <td>NaN</td>\n",
       "      <td>8071.0</td>\n",
       "    </tr>\n",
       "    <tr>\n",
       "      <th>Motorcycle</th>\n",
       "      <td>NaN</td>\n",
       "      <td>NaN</td>\n",
       "      <td>NaN</td>\n",
       "      <td>1165.0</td>\n",
       "    </tr>\n",
       "    <tr>\n",
       "      <th>Taxicab</th>\n",
       "      <td>NaN</td>\n",
       "      <td>NaN</td>\n",
       "      <td>NaN</td>\n",
       "      <td>11723.0</td>\n",
       "    </tr>\n",
       "  </tbody>\n",
       "</table>\n",
       "</div>"
      ],
      "text/plain": [
       "               all_micro_count  all_transit_heavyWFH_count  \\\n",
       "AutoOccupants         185968.0                     49330.0   \n",
       "Bicycle              1852839.0                       540.0   \n",
       "Bus                   134656.0                    224174.0   \n",
       "CommuterRail          165053.0                    181721.0   \n",
       "Ferry                  19307.0                      5592.0   \n",
       "Other                   2802.0                      1995.0   \n",
       "Subway                161061.0                   1625328.0   \n",
       "WFH                   273082.0                    708253.0   \n",
       "Walk                    6562.0                      4397.0   \n",
       "Escooter                   NaN                         NaN   \n",
       "Motorcycle                 NaN                         NaN   \n",
       "Taxicab                    NaN                         NaN   \n",
       "\n",
       "               all_transit_noWFH_count  mix_count  \n",
       "AutoOccupants                  54010.0   113936.0  \n",
       "Bicycle                          540.0   319204.0  \n",
       "Bus                           291568.0   689463.0  \n",
       "CommuterRail                  304901.0   429190.0  \n",
       "Ferry                           6068.0    92284.0  \n",
       "Other                           2422.0     1879.0  \n",
       "Subway                       2136579.0   947691.0  \n",
       "WFH                              463.0   131779.0  \n",
       "Walk                            4779.0    54945.0  \n",
       "Escooter                           NaN     8071.0  \n",
       "Motorcycle                         NaN     1165.0  \n",
       "Taxicab                            NaN    11723.0  "
      ]
     },
     "execution_count": 25,
     "metadata": {},
     "output_type": "execute_result"
    }
   ],
   "source": [
    "master_df = pd.DataFrame()\n",
    "for x in [commuter_model_allmicro\n",
    "        ,commuter_model_alltransit_heavy_wfh\n",
    "        ,commuter_model_alltransit_no_wfh\n",
    "        ,commuter_model_mix]:\n",
    "    master_df = pd.concat([master_df,x.ipums_df.groupby(by=[\"TransMode\"])['PERWT'].sum()],axis=1)\n",
    "master_df.columns=[\"all_micro_count\",\"all_transit_heavyWFH_count\",\"all_transit_noWFH_count\",\"mix_count\"]\n",
    "master_df"
   ]
  },
  {
   "cell_type": "code",
   "execution_count": 26,
   "id": "f32522ce",
   "metadata": {
    "ExecuteTime": {
     "end_time": "2022-06-29T23:57:39.649598Z",
     "start_time": "2022-06-29T23:57:39.633521Z"
    }
   },
   "outputs": [],
   "source": [
    "### Electric Model\n",
    "### read in commuter_df. feed that and the ev file location to class\n",
    "em_1 = ElectricModel(commuter_model_alltransit_heavy_wfh.ipums_df\n",
    "                     ,ev_reference_table_loc=\"electrical_model/EV_reference_table.csv\"\\\n",
    "                    ,PEV_delay_hr=3\n",
    "                     ,bus_ferry_cab_delay=6\n",
    "                    ,model_name = 'alltransit_heavywfh')\n",
    "em_2 = ElectricModel(commuter_model_allmicro.ipums_df\n",
    "                     ,ev_reference_table_loc=\"electrical_model/EV_reference_table.csv\"\\\n",
    "                    ,PEV_delay_hr=3\n",
    "                     ,bus_ferry_cab_delay=6\n",
    "                    ,model_name = 'allmicro')\n",
    "em_3 = ElectricModel(commuter_model_mix.ipums_df\n",
    "                     ,ev_reference_table_loc=\"electrical_model/EV_reference_table.csv\"\\\n",
    "                    ,PEV_delay_hr=3\n",
    "                     ,bus_ferry_cab_delay=6\n",
    "                    ,model_name = 'allmodes')\n",
    "em_4 = ElectricModel(commuter_model_alltransit_no_wfh.ipums_df\n",
    "                     ,ev_reference_table_loc=\"electrical_model/EV_reference_table.csv\"\\\n",
    "                    ,PEV_delay_hr=3\n",
    "                     ,bus_ferry_cab_delay=6\n",
    "                     ,model_name = 'alltransit_nowfh')\n"
   ]
  },
  {
   "cell_type": "code",
   "execution_count": 27,
   "id": "ff65844b",
   "metadata": {
    "ExecuteTime": {
     "end_time": "2022-06-29T23:59:41.966265Z",
     "start_time": "2022-06-29T23:57:39.650408Z"
    }
   },
   "outputs": [
    {
     "name": "stdout",
     "output_type": "stream",
     "text": [
      "ev reference table read in. subway floor and commuter rail floor extracted from table\n",
      "electric model done for em 1: alltransit_heavywfh\n",
      "ev reference table read in. subway floor and commuter rail floor extracted from table\n",
      "electric model done for em 2: allmicro\n",
      "ev reference table read in. subway floor and commuter rail floor extracted from table\n",
      "electric model done for em 3: allmodes\n",
      "ev reference table read in. subway floor and commuter rail floor extracted from table\n",
      "electric model done for em 4: alltransit_nowfh\n"
     ]
    }
   ],
   "source": [
    "ct= 0 \n",
    "for e_m in [em_1,em_2,em_3,em_4]:\n",
    "    ct+=1\n",
    "    ## Run methods in order to read in, clean, and aggregate data\n",
    "    e_m.read_electric_info_in()\n",
    "\n",
    "    e_m.clean_commuter_df()\n",
    "\n",
    "    e_m.create_in_out_flow_dfs()\n",
    "\n",
    "    e_m.aggregate_data()\n",
    "    print(f\"electric model done for em {ct}: {e_m.model_name}\")"
   ]
  },
  {
   "cell_type": "code",
   "execution_count": 30,
   "id": "27555883",
   "metadata": {
    "ExecuteTime": {
     "end_time": "2022-06-30T00:00:19.931983Z",
     "start_time": "2022-06-30T00:00:19.882329Z"
    }
   },
   "outputs": [
    {
     "name": "stdout",
     "output_type": "stream",
     "text": [
      "Index(['Charge_Hour', 'TransMode', 'PEV_DELAY', 'FLOW_DIR', 'Energy'], dtype='object')\n"
     ]
    },
    {
     "data": {
      "text/html": [
       "<div>\n",
       "<style scoped>\n",
       "    .dataframe tbody tr th:only-of-type {\n",
       "        vertical-align: middle;\n",
       "    }\n",
       "\n",
       "    .dataframe tbody tr th {\n",
       "        vertical-align: top;\n",
       "    }\n",
       "\n",
       "    .dataframe thead th {\n",
       "        text-align: right;\n",
       "    }\n",
       "</style>\n",
       "<table border=\"1\" class=\"dataframe\">\n",
       "  <thead>\n",
       "    <tr style=\"text-align: right;\">\n",
       "      <th></th>\n",
       "      <th>Charge_Hour</th>\n",
       "      <th>TransMode</th>\n",
       "      <th>PEV_DELAY</th>\n",
       "      <th>FLOW_DIR</th>\n",
       "      <th>Energy</th>\n",
       "    </tr>\n",
       "  </thead>\n",
       "  <tbody>\n",
       "    <tr>\n",
       "      <th>0</th>\n",
       "      <td>0</td>\n",
       "      <td>AutoOccupants</td>\n",
       "      <td>Custom</td>\n",
       "      <td>IN</td>\n",
       "      <td>3421.942918</td>\n",
       "    </tr>\n",
       "    <tr>\n",
       "      <th>1</th>\n",
       "      <td>0</td>\n",
       "      <td>AutoOccupants</td>\n",
       "      <td>Earliest</td>\n",
       "      <td>IN</td>\n",
       "      <td>11530.679025</td>\n",
       "    </tr>\n",
       "    <tr>\n",
       "      <th>2</th>\n",
       "      <td>0</td>\n",
       "      <td>AutoOccupants</td>\n",
       "      <td>Latest</td>\n",
       "      <td>IN</td>\n",
       "      <td>2438.541304</td>\n",
       "    </tr>\n",
       "    <tr>\n",
       "      <th>3</th>\n",
       "      <td>0</td>\n",
       "      <td>AutoOccupants</td>\n",
       "      <td>Random</td>\n",
       "      <td>IN</td>\n",
       "      <td>7434.963423</td>\n",
       "    </tr>\n",
       "    <tr>\n",
       "      <th>4</th>\n",
       "      <td>0</td>\n",
       "      <td>CommuterRail</td>\n",
       "      <td>Custom</td>\n",
       "      <td>IN</td>\n",
       "      <td>9171.480000</td>\n",
       "    </tr>\n",
       "    <tr>\n",
       "      <th>5</th>\n",
       "      <td>0</td>\n",
       "      <td>CommuterRail</td>\n",
       "      <td>Custom</td>\n",
       "      <td>OUT</td>\n",
       "      <td>9633.720000</td>\n",
       "    </tr>\n",
       "    <tr>\n",
       "      <th>6</th>\n",
       "      <td>0</td>\n",
       "      <td>CommuterRail</td>\n",
       "      <td>Earliest</td>\n",
       "      <td>IN</td>\n",
       "      <td>9171.480000</td>\n",
       "    </tr>\n",
       "    <tr>\n",
       "      <th>7</th>\n",
       "      <td>0</td>\n",
       "      <td>CommuterRail</td>\n",
       "      <td>Earliest</td>\n",
       "      <td>OUT</td>\n",
       "      <td>9633.720000</td>\n",
       "    </tr>\n",
       "    <tr>\n",
       "      <th>8</th>\n",
       "      <td>0</td>\n",
       "      <td>CommuterRail</td>\n",
       "      <td>Latest</td>\n",
       "      <td>IN</td>\n",
       "      <td>9171.480000</td>\n",
       "    </tr>\n",
       "    <tr>\n",
       "      <th>9</th>\n",
       "      <td>0</td>\n",
       "      <td>CommuterRail</td>\n",
       "      <td>Latest</td>\n",
       "      <td>OUT</td>\n",
       "      <td>9633.720000</td>\n",
       "    </tr>\n",
       "  </tbody>\n",
       "</table>\n",
       "</div>"
      ],
      "text/plain": [
       "   Charge_Hour      TransMode PEV_DELAY FLOW_DIR        Energy\n",
       "0            0  AutoOccupants    Custom       IN   3421.942918\n",
       "1            0  AutoOccupants  Earliest       IN  11530.679025\n",
       "2            0  AutoOccupants    Latest       IN   2438.541304\n",
       "3            0  AutoOccupants    Random       IN   7434.963423\n",
       "4            0   CommuterRail    Custom       IN   9171.480000\n",
       "5            0   CommuterRail    Custom      OUT   9633.720000\n",
       "6            0   CommuterRail  Earliest       IN   9171.480000\n",
       "7            0   CommuterRail  Earliest      OUT   9633.720000\n",
       "8            0   CommuterRail    Latest       IN   9171.480000\n",
       "9            0   CommuterRail    Latest      OUT   9633.720000"
      ]
     },
     "execution_count": 30,
     "metadata": {},
     "output_type": "execute_result"
    }
   ],
   "source": [
    "print(em_1.df_aggregate.columns)\n",
    "em_1.df_aggregate.head(10)"
   ]
  },
  {
   "cell_type": "code",
   "execution_count": 28,
   "id": "4e248541",
   "metadata": {
    "ExecuteTime": {
     "end_time": "2022-06-29T23:59:41.993036Z",
     "start_time": "2022-06-29T23:59:41.970009Z"
    }
   },
   "outputs": [
    {
     "ename": "SyntaxError",
     "evalue": "invalid syntax (576900331.py, line 1)",
     "output_type": "error",
     "traceback": [
      "\u001b[0;36m  File \u001b[0;32m\"/var/folders/19/p4qfz4hx08v34206x9tr10000000gn/T/ipykernel_76584/576900331.py\"\u001b[0;36m, line \u001b[0;32m1\u001b[0m\n\u001b[0;31m    breakp =\u001b[0m\n\u001b[0m             ^\u001b[0m\n\u001b[0;31mSyntaxError\u001b[0m\u001b[0;31m:\u001b[0m invalid syntax\n"
     ]
    }
   ],
   "source": [
    "breakp = "
   ]
  },
  {
   "cell_type": "code",
   "execution_count": null,
   "id": "f675da23",
   "metadata": {
    "ExecuteTime": {
     "end_time": "2022-06-29T23:59:41.993854Z",
     "start_time": "2022-06-29T23:59:41.993847Z"
    }
   },
   "outputs": [],
   "source": [
    "save_dir = \"../06_Dashboard_Visualization/electric_model_outputs\"\n",
    "os.makedirs(save_dir,exist_ok=True)\n",
    "for e_m in [em_1,em_2,em_3,em_4]:\n",
    "    # Save in save_dir\n",
    "    e_m.df_aggregate.to_pickle(f\"{save_dir}/electric_model_{e_m.model_name}_dfaggregate.pkl\")"
   ]
  },
  {
   "cell_type": "code",
   "execution_count": null,
   "id": "efab475f",
   "metadata": {},
   "outputs": [],
   "source": []
  }
 ],
 "metadata": {
  "kernelspec": {
   "display_name": "Python 3 (ipykernel)",
   "language": "python",
   "name": "python3"
  },
  "language_info": {
   "codemirror_mode": {
    "name": "ipython",
    "version": 3
   },
   "file_extension": ".py",
   "mimetype": "text/x-python",
   "name": "python",
   "nbconvert_exporter": "python",
   "pygments_lexer": "ipython3",
   "version": "3.9.7"
  }
 },
 "nbformat": 4,
 "nbformat_minor": 5
}
