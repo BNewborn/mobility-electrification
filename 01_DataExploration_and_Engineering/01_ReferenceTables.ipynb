{
 "cells": [
  {
   "cell_type": "code",
   "execution_count": 1,
   "id": "722cd41e",
   "metadata": {
    "ExecuteTime": {
     "end_time": "2022-06-20T12:40:22.331893Z",
     "start_time": "2022-06-20T12:40:22.330130Z"
    }
   },
   "outputs": [],
   "source": [
    "import pandas as pd"
   ]
  },
  {
   "cell_type": "code",
   "execution_count": 2,
   "id": "18762489",
   "metadata": {
    "ExecuteTime": {
     "end_time": "2022-06-20T12:40:22.344252Z",
     "start_time": "2022-06-20T12:40:22.332600Z"
    }
   },
   "outputs": [
    {
     "data": {
      "text/html": [
       "<div>\n",
       "<style scoped>\n",
       "    .dataframe tbody tr th:only-of-type {\n",
       "        vertical-align: middle;\n",
       "    }\n",
       "\n",
       "    .dataframe tbody tr th {\n",
       "        vertical-align: top;\n",
       "    }\n",
       "\n",
       "    .dataframe thead th {\n",
       "        text-align: right;\n",
       "    }\n",
       "</style>\n",
       "<table border=\"1\" class=\"dataframe\">\n",
       "  <thead>\n",
       "    <tr style=\"text-align: right;\">\n",
       "      <th></th>\n",
       "      <th>TRANWORK</th>\n",
       "      <th>TRANWORK_DESC</th>\n",
       "    </tr>\n",
       "  </thead>\n",
       "  <tbody>\n",
       "    <tr>\n",
       "      <th>2</th>\n",
       "      <td>11</td>\n",
       "      <td>Auto</td>\n",
       "    </tr>\n",
       "    <tr>\n",
       "      <th>3</th>\n",
       "      <td>12</td>\n",
       "      <td>Driver</td>\n",
       "    </tr>\n",
       "    <tr>\n",
       "      <th>14</th>\n",
       "      <td>37</td>\n",
       "      <td>Long-distance train or commuter train</td>\n",
       "    </tr>\n",
       "    <tr>\n",
       "      <th>15</th>\n",
       "      <td>38</td>\n",
       "      <td>Taxicab</td>\n",
       "    </tr>\n",
       "    <tr>\n",
       "      <th>16</th>\n",
       "      <td>39</td>\n",
       "      <td>Ferryboat</td>\n",
       "    </tr>\n",
       "  </tbody>\n",
       "</table>\n",
       "</div>"
      ],
      "text/plain": [
       "    TRANWORK                          TRANWORK_DESC\n",
       "2         11                                   Auto\n",
       "3         12                                 Driver\n",
       "14        37  Long-distance train or commuter train\n",
       "15        38                                Taxicab\n",
       "16        39                              Ferryboat"
      ]
     },
     "execution_count": 2,
     "metadata": {},
     "output_type": "execute_result"
    }
   ],
   "source": [
    "##### Create TranWork reference table - values taken from IPUMS codebook\n",
    "tranwork_key = [(0,\"N/A\")\n",
    " ,(10,\"Auto, truck, or van\")\n",
    " ,(11,\"Auto\")\n",
    " ,(12,\"Driver\")\n",
    " ,(13,\"Passenger\")\n",
    " ,(14,\"Truck\")\n",
    " ,(15,\"Van\")\n",
    " ,(20,\"Motorcycle\")\n",
    " ,(31,\"Bus\")\n",
    " ,(32,\"Bus or trolley bus\")\n",
    " ,(33,\"Bus or streetcar\")\n",
    " ,(34,\"Light rail, streetcar, or trolley (Carro público in PR)\")\n",
    " ,(35,\"Streetcar or trolley car (publico in Puerto Rico, 2000)\")\n",
    " ,(36,\"Subway or elevated\")\n",
    " ,(37,\"Long-distance train or commuter train\")\n",
    " ,(38,\"Taxicab\")\n",
    " ,(39,\"Ferryboat\")\n",
    " ,(50,\"Bicycle\")\n",
    " ,(60,\"Walked only\")\n",
    " ,(70,\"Other\")\n",
    " ,(80,\"Worked at home\")\n",
    " ]\n",
    "trandf = pd.DataFrame(tranwork_key,columns=['TRANWORK',\"TRANWORK_DESC\"])\n",
    "trandf.to_csv(\"./ipums_data/ipums_tranwork_reference.csv\")\n",
    "trandf.iloc[[2,3,14,15,16]]"
   ]
  },
  {
   "cell_type": "code",
   "execution_count": 3,
   "id": "00de2b08",
   "metadata": {
    "ExecuteTime": {
     "end_time": "2022-06-20T12:40:22.459198Z",
     "start_time": "2022-06-20T12:40:22.346079Z"
    }
   },
   "outputs": [],
   "source": [
    "##### Create geography table - raw table from here\n",
    "# https://www.census.gov/geographies/reference-files/2019/demo/popest/2019-fips.html\n",
    "geo_df = pd.read_csv(\"./ipums_data/census_data_geocodes_us_2019.csv\",skiprows=4)\n",
    "geo_df.rename({\"Summary Level\":\"SUMMARY_LEVEL\",\"State Code (FIPS)\":\"STATEFIP\"\\\n",
    "              ,\"County Code (FIPS)\":\"COUNTYFIP\"\\\n",
    "               ,\"County Subdivision Code (FIPS)\":\"COUNTY_SUBDIV_FIP\"\\\n",
    "              ,\"Place Code (FIPS)\":\"PLACE_FIP\"\n",
    "              ,\"Consolidtated City Code (FIPS)\":\"CONSOL_CITY_FIP\"\\\n",
    "              ,\"Area Name (including legal/statistical area description)\":\"AREA_NAME\"},axis=1,inplace=True)\n",
    "geo_df.to_csv(\"./ipums_data/geocodes_us_2019_clean.csv\")"
   ]
  },
  {
   "cell_type": "code",
   "execution_count": 4,
   "id": "15b90c64",
   "metadata": {
    "ExecuteTime": {
     "end_time": "2022-06-20T12:40:22.469689Z",
     "start_time": "2022-06-20T12:40:22.460018Z"
    }
   },
   "outputs": [],
   "source": [
    "##### Create PUMA name table - raw table from \n",
    "# https://www2.census.gov/geo/docs/reference/puma/2010_PUMA_Names.txt\n",
    "puma_df = pd.read_csv(\"./ipums_data/census_puma_names_2019.txt\",encoding = \"ISO-8859-1\")\n",
    "puma_df.rename({\"STATEFP\":\"STATEFIP\",\"PUMA5CE\":\"PUMA\",\"PUMA NAME\":\"PUMA_NAME\"},axis=1,inplace=True)\n",
    "puma_df.to_csv(\"./ipums_data/pumanames_us_2019_clean.csv\")"
   ]
  },
  {
   "cell_type": "code",
   "execution_count": null,
   "id": "e69238cb",
   "metadata": {},
   "outputs": [],
   "source": []
  }
 ],
 "metadata": {
  "kernelspec": {
   "display_name": "Python 3 (ipykernel)",
   "language": "python",
   "name": "python3"
  },
  "language_info": {
   "codemirror_mode": {
    "name": "ipython",
    "version": 3
   },
   "file_extension": ".py",
   "mimetype": "text/x-python",
   "name": "python",
   "nbconvert_exporter": "python",
   "pygments_lexer": "ipython3",
   "version": "3.9.7"
  }
 },
 "nbformat": 4,
 "nbformat_minor": 5
}
