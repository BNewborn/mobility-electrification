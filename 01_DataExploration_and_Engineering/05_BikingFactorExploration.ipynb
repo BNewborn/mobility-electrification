{
 "cells": [
  {
   "cell_type": "code",
   "execution_count": 1,
   "id": "146d8698",
   "metadata": {
    "ExecuteTime": {
     "end_time": "2022-04-13T01:56:40.161394Z",
     "start_time": "2022-04-13T01:56:39.110048Z"
    }
   },
   "outputs": [],
   "source": [
    "import pandas as pd\n",
    "import os"
   ]
  },
  {
   "cell_type": "code",
   "execution_count": 2,
   "id": "4665559d",
   "metadata": {
    "ExecuteTime": {
     "end_time": "2022-04-13T01:56:40.166799Z",
     "start_time": "2022-04-13T01:56:40.162182Z"
    }
   },
   "outputs": [
    {
     "name": "stdout",
     "output_type": "stream",
     "text": [
      "./ipums_data_drop/commuter_sex_counts.csv\n",
      "./ipums_data_drop/commuter_commute_time_buckets_counts.csv\n",
      "./ipums_data_drop/commuter_race_counts.csv\n",
      "./ipums_data_drop/commuter_age_counts.csv\n",
      "./ipums_data_drop/commuter_home_ownership_counts.csv\n",
      "./ipums_data_drop/commuter_income_buckets_counts.csv\n",
      "./ipums_data_drop/commuter_educ_counts.csv\n",
      "./ipums_data_drop/commuter_health_disabilities_counts.csv\n",
      "./ipums_data_drop/commuter_origin_counts.csv\n"
     ]
    }
   ],
   "source": [
    "for root, dirs, files in os.walk(\".\", topdown=False):\n",
    "    if 'ipums_data_drop' in root:\n",
    "        for name in files:\n",
    "            print(os.path.join(root, name))\n",
    "        for name in dirs:\n",
    "            print(os.path.join(root, name))\n",
    "\n"
   ]
  },
  {
   "cell_type": "code",
   "execution_count": 3,
   "id": "0e356b3b",
   "metadata": {
    "ExecuteTime": {
     "end_time": "2022-04-13T01:56:40.177970Z",
     "start_time": "2022-04-13T01:56:40.168087Z"
    }
   },
   "outputs": [
    {
     "data": {
      "text/plain": [
       "2671634.0"
      ]
     },
     "execution_count": 3,
     "metadata": {},
     "output_type": "execute_result"
    }
   ],
   "source": [
    "## How many commuters total?\n",
    "\n",
    "commuter_time_df = pd.read_csv(\"./ipums_data_drop/commuter_commute_time_buckets_counts.csv\",index_col=0)\n",
    "commuter_time_df = commuter_time_df[commuter_time_df['YEAR']==2019]\n",
    "commuter_time_df[[x for x in commuter_time_df.columns if \"Minutes\" in x]].sum().sum()"
   ]
  },
  {
   "cell_type": "markdown",
   "id": "81e1cfaa",
   "metadata": {},
   "source": [
    "2,671,634 total commuters into Manhattan"
   ]
  },
  {
   "cell_type": "code",
   "execution_count": 4,
   "id": "f493e6c4",
   "metadata": {
    "ExecuteTime": {
     "end_time": "2022-04-13T01:56:40.188203Z",
     "start_time": "2022-04-13T01:56:40.178883Z"
    }
   },
   "outputs": [
    {
     "data": {
      "text/html": [
       "<div>\n",
       "<style scoped>\n",
       "    .dataframe tbody tr th:only-of-type {\n",
       "        vertical-align: middle;\n",
       "    }\n",
       "\n",
       "    .dataframe tbody tr th {\n",
       "        vertical-align: top;\n",
       "    }\n",
       "\n",
       "    .dataframe thead th {\n",
       "        text-align: right;\n",
       "    }\n",
       "</style>\n",
       "<table border=\"1\" class=\"dataframe\">\n",
       "  <thead>\n",
       "    <tr style=\"text-align: right;\">\n",
       "      <th></th>\n",
       "      <th>STATEFIP</th>\n",
       "      <th>state</th>\n",
       "      <th>PUMA</th>\n",
       "      <th>PUMA_NAME</th>\n",
       "      <th>lat</th>\n",
       "      <th>lon</th>\n",
       "      <th>distance_km</th>\n",
       "    </tr>\n",
       "  </thead>\n",
       "  <tbody>\n",
       "    <tr>\n",
       "      <th>0</th>\n",
       "      <td>9</td>\n",
       "      <td>Connecticut</td>\n",
       "      <td>100</td>\n",
       "      <td>Danbury, Ridgefield, Bethel, Brookfield, New F...</td>\n",
       "      <td>41.405858</td>\n",
       "      <td>-73.454362</td>\n",
       "      <td>115.529906</td>\n",
       "    </tr>\n",
       "    <tr>\n",
       "      <th>1</th>\n",
       "      <td>9</td>\n",
       "      <td>Connecticut</td>\n",
       "      <td>101</td>\n",
       "      <td>Fairfield, New Canaan, Wilton, Weston &amp; Easton...</td>\n",
       "      <td>41.208068</td>\n",
       "      <td>-73.369418</td>\n",
       "      <td>98.147659</td>\n",
       "    </tr>\n",
       "  </tbody>\n",
       "</table>\n",
       "</div>"
      ],
      "text/plain": [
       "   STATEFIP        state  PUMA  \\\n",
       "0         9  Connecticut   100   \n",
       "1         9  Connecticut   101   \n",
       "\n",
       "                                           PUMA_NAME        lat        lon  \\\n",
       "0  Danbury, Ridgefield, Bethel, Brookfield, New F...  41.405858 -73.454362   \n",
       "1  Fairfield, New Canaan, Wilton, Weston & Easton...  41.208068 -73.369418   \n",
       "\n",
       "   distance_km  \n",
       "0   115.529906  \n",
       "1    98.147659  "
      ]
     },
     "execution_count": 4,
     "metadata": {},
     "output_type": "execute_result"
    }
   ],
   "source": [
    "distances_to_cbd = pd.read_csv(\"puma_distance_centroid.csv\")\n",
    "distances_to_cbd.rename({\"distance\":\"distance_km\"},axis=1,inplace=True)\n",
    "\n",
    "distances_to_cbd.head(2)"
   ]
  },
  {
   "cell_type": "code",
   "execution_count": 5,
   "id": "609e847a",
   "metadata": {
    "ExecuteTime": {
     "end_time": "2022-04-13T01:56:40.216195Z",
     "start_time": "2022-04-13T01:56:40.189354Z"
    }
   },
   "outputs": [
    {
     "data": {
      "text/html": [
       "<div>\n",
       "<style scoped>\n",
       "    .dataframe tbody tr th:only-of-type {\n",
       "        vertical-align: middle;\n",
       "    }\n",
       "\n",
       "    .dataframe tbody tr th {\n",
       "        vertical-align: top;\n",
       "    }\n",
       "\n",
       "    .dataframe thead th {\n",
       "        text-align: right;\n",
       "    }\n",
       "</style>\n",
       "<table border=\"1\" class=\"dataframe\">\n",
       "  <thead>\n",
       "    <tr style=\"text-align: right;\">\n",
       "      <th></th>\n",
       "      <th>YEAR</th>\n",
       "      <th>TransMode</th>\n",
       "      <th>Hour</th>\n",
       "      <th>PUMA</th>\n",
       "      <th>STATEFIP</th>\n",
       "      <th>PUMA_NAME</th>\n",
       "      <th>Estimated_Commuters</th>\n",
       "      <th>distance_km</th>\n",
       "    </tr>\n",
       "  </thead>\n",
       "  <tbody>\n",
       "    <tr>\n",
       "      <th>0</th>\n",
       "      <td>2019</td>\n",
       "      <td>AutoOccupants</td>\n",
       "      <td>0</td>\n",
       "      <td>100</td>\n",
       "      <td>9</td>\n",
       "      <td>Danbury, Ridgefield, Bethel, Brookfield, New F...</td>\n",
       "      <td>69.0</td>\n",
       "      <td>115.529906</td>\n",
       "    </tr>\n",
       "  </tbody>\n",
       "</table>\n",
       "</div>"
      ],
      "text/plain": [
       "   YEAR      TransMode  Hour  PUMA  STATEFIP  \\\n",
       "0  2019  AutoOccupants     0   100         9   \n",
       "\n",
       "                                           PUMA_NAME  Estimated_Commuters  \\\n",
       "0  Danbury, Ridgefield, Bethel, Brookfield, New F...                 69.0   \n",
       "\n",
       "   distance_km  \n",
       "0   115.529906  "
      ]
     },
     "execution_count": 5,
     "metadata": {},
     "output_type": "execute_result"
    }
   ],
   "source": [
    "origin_df = pd.read_csv(\"./ipums_data_drop/commuter_origin_counts.csv\",index_col=0)\n",
    "origin_df=origin_df[origin_df['YEAR']==2019]\n",
    "origin_df=origin_df.merge(right=distances_to_cbd[['STATEFIP',\"PUMA\",\"distance_km\"]],on=[\"STATEFIP\",\"PUMA\"]\\\n",
    "                         ,how='left')\n",
    "origin_df[origin_df['distance_km'].isna()] #good, they all join \n",
    "origin_df.head(1)"
   ]
  },
  {
   "cell_type": "code",
   "execution_count": 6,
   "id": "bfc771f1",
   "metadata": {
    "ExecuteTime": {
     "end_time": "2022-04-13T01:56:40.221796Z",
     "start_time": "2022-04-13T01:56:40.217158Z"
    }
   },
   "outputs": [
    {
     "name": "stdout",
     "output_type": "stream",
     "text": [
      "1995372.0\n",
      "out of\n",
      "2671634.0\n",
      "\n",
      "74.69 %\n"
     ]
    }
   ],
   "source": [
    "### How many live within 25 km?\n",
    "print(origin_df[origin_df['distance_km']<=25]['Estimated_Commuters'].sum())\n",
    "print(\"out of\")\n",
    "print(origin_df['Estimated_Commuters'].sum())\n",
    "print()\n",
    "print(100*round(origin_df[origin_df['distance_km']<=25]['Estimated_Commuters'].sum()/origin_df['Estimated_Commuters'].sum(),4),\"%\")"
   ]
  },
  {
   "cell_type": "code",
   "execution_count": 7,
   "id": "db2937a5",
   "metadata": {
    "ExecuteTime": {
     "end_time": "2022-04-13T01:56:40.229004Z",
     "start_time": "2022-04-13T01:56:40.222816Z"
    }
   },
   "outputs": [
    {
     "data": {
      "text/plain": [
       "Sex_F    1247558.0\n",
       "Sex_M    1424076.0\n",
       "dtype: float64"
      ]
     },
     "execution_count": 7,
     "metadata": {},
     "output_type": "execute_result"
    }
   ],
   "source": [
    "### Gender Breakdown\n",
    "gender_df = pd.read_csv(\"./ipums_data_drop/commuter_sex_counts.csv\",index_col=0)\n",
    "gender_df=gender_df[gender_df['YEAR']==2019]\n",
    "gender_df[[\"Sex_F\",\"Sex_M\"]].sum()"
   ]
  },
  {
   "cell_type": "code",
   "execution_count": 8,
   "id": "e4cd6a45",
   "metadata": {
    "ExecuteTime": {
     "end_time": "2022-04-13T01:56:40.264471Z",
     "start_time": "2022-04-13T01:56:40.229936Z"
    }
   },
   "outputs": [
    {
     "data": {
      "text/plain": [
       "income_decile_0        360.0\n",
       "income_decile_1     270095.0\n",
       "income_decile_10    267110.0\n",
       "income_decile_2     265330.0\n",
       "income_decile_3     315911.0\n",
       "income_decile_4     228616.0\n",
       "income_decile_5     255897.0\n",
       "income_decile_6     269133.0\n",
       "income_decile_7     268197.0\n",
       "income_decile_8     272761.0\n",
       "income_decile_9     258224.0\n",
       "dtype: float64"
      ]
     },
     "execution_count": 8,
     "metadata": {},
     "output_type": "execute_result"
    }
   ],
   "source": [
    "### Income Breakdown\n",
    "income_df = pd.read_csv(\"./ipums_data_drop/commuter_income_buckets_counts.csv\",index_col=0)\n",
    "income_df = income_df[income_df['YEAR']==2019]\n",
    "income_df[[x for x in income_df.columns if \"income\" in x] ].sum().to_clipboard() #pasted to google sheet\n",
    "income_df[[x for x in income_df.columns if \"income\" in x] ].sum()"
   ]
  },
  {
   "cell_type": "code",
   "execution_count": 9,
   "id": "a0fbd321",
   "metadata": {
    "ExecuteTime": {
     "end_time": "2022-04-13T01:56:40.276621Z",
     "start_time": "2022-04-13T01:56:40.266872Z"
    }
   },
   "outputs": [
    {
     "data": {
      "text/plain": [
       "1010495.0"
      ]
     },
     "execution_count": 9,
     "metadata": {},
     "output_type": "execute_result"
    }
   ],
   "source": [
    "### Direction - how many people could use bridges that realistically could have bike infra.?\n",
    "origin_df[((origin_df['PUMA_NAME'].str.contains(\"NYC-Brook\"))|\n",
    "          (origin_df['PUMA_NAME'].str.contains(\"NYC-Bronx\"))|\n",
    "         (origin_df['PUMA_NAME'].str.contains(\"NYC-Q\")))\\\n",
    "         &(origin_df['distance_km']<=25)]['Estimated_Commuters'].sum()"
   ]
  },
  {
   "cell_type": "code",
   "execution_count": 10,
   "id": "31e63c0a",
   "metadata": {
    "ExecuteTime": {
     "end_time": "2022-04-13T01:56:40.291711Z",
     "start_time": "2022-04-13T01:56:40.277822Z"
    }
   },
   "outputs": [
    {
     "name": "stdout",
     "output_type": "stream",
     "text": [
      "age 16-30 622754.0\n",
      "age 30-40 730600.0\n",
      "age 40-50 561571.0\n",
      "age 50-60 462113.0\n",
      "age 60-70 242140.0\n",
      "age 70+ 52456.0\n"
     ]
    }
   ],
   "source": [
    "### Age - counts by bracket\n",
    "age_df = pd.read_csv(\"./ipums_data_drop/commuter_age_counts.csv\",index_col=0)\n",
    "age_df = age_df[age_df['YEAR']==2019]\n",
    "\n",
    "print(\"age 16-30\",(age_df[[x for x in age_df.columns if \"Age_1\" in x or \"Age_2\" in x]].sum().sum()))\n",
    "print(\"age 30-40\",(age_df[[x for x in age_df.columns if \"Age_3\" in x]].sum().sum()))\n",
    "print(\"age 40-50\",(age_df[[x for x in age_df.columns if \"Age_4\" in x]].sum().sum()))\n",
    "print(\"age 50-60\",(age_df[[x for x in age_df.columns if \"Age_5\" in x]].sum().sum()))\n",
    "print(\"age 60-70\",(age_df[[x for x in age_df.columns if \"Age_6\" in x]].sum().sum()))\n",
    "print(\"age 70+\",(age_df[[x for x in age_df.columns if \"Age_7\" in x or \"Age_8\" in x or \"Age_9\" in x]].sum().sum()))\n",
    "      \n",
    "# [x for x in age_df.columns if \"Age_1\" in x or \"Age_2\" in x]"
   ]
  },
  {
   "cell_type": "code",
   "execution_count": 11,
   "id": "38593a8d",
   "metadata": {
    "ExecuteTime": {
     "end_time": "2022-04-13T01:56:40.297830Z",
     "start_time": "2022-04-13T01:56:40.292537Z"
    }
   },
   "outputs": [
    {
     "data": {
      "text/plain": [
       "1497410.0"
      ]
     },
     "execution_count": 11,
     "metadata": {},
     "output_type": "execute_result"
    }
   ],
   "source": [
    "### Access to other transit - do they take transit now and are within 25km?\n",
    "origin_df[(origin_df['TransMode'].isin([\"Bus\",\"CommuterRail\",\"Subway\"]))\\\n",
    "         &(origin_df['distance_km']<=25)][\"Estimated_Commuters\"].sum()\n"
   ]
  },
  {
   "cell_type": "code",
   "execution_count": 12,
   "id": "0e93cdd6",
   "metadata": {
    "ExecuteTime": {
     "end_time": "2022-04-13T01:56:40.302161Z",
     "start_time": "2022-04-13T01:56:40.298834Z"
    }
   },
   "outputs": [
    {
     "data": {
      "text/plain": [
       "260623.0"
      ]
     },
     "execution_count": 12,
     "metadata": {},
     "output_type": "execute_result"
    }
   ],
   "source": [
    "### Walking possibility - less than 3km\n",
    "origin_df[(origin_df['distance_km']<=3)][\"Estimated_Commuters\"].sum()"
   ]
  },
  {
   "cell_type": "code",
   "execution_count": null,
   "id": "d730ae1e",
   "metadata": {},
   "outputs": [],
   "source": []
  }
 ],
 "metadata": {
  "kernelspec": {
   "display_name": "Python 3 (ipykernel)",
   "language": "python",
   "name": "python3"
  },
  "language_info": {
   "codemirror_mode": {
    "name": "ipython",
    "version": 3
   },
   "file_extension": ".py",
   "mimetype": "text/x-python",
   "name": "python",
   "nbconvert_exporter": "python",
   "pygments_lexer": "ipython3",
   "version": "3.9.7"
  }
 },
 "nbformat": 4,
 "nbformat_minor": 5
}
